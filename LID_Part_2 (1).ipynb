{
  "nbformat": 4,
  "nbformat_minor": 0,
  "metadata": {
    "colab": {
      "name": "LID Part 2.ipynb",
      "provenance": []
    },
    "kernelspec": {
      "name": "python3",
      "display_name": "Python 3"
    },
    "language_info": {
      "name": "python"
    }
  },
  "cells": [
    {
      "cell_type": "markdown",
      "source": [
        "# Course Project Part 2\n",
        "#### Nikhil Pereira (nmp54) and Julia Hoffman (jh2334)\n",
        "#### March 16th, 2022"
      ],
      "metadata": {
        "id": "l0EGP7YStApN"
      }
    },
    {
      "cell_type": "markdown",
      "source": [
        "## Loading in Clean Data from Part 1"
      ],
      "metadata": {
        "id": "vRuB3eYyyoDv"
      }
    },
    {
      "cell_type": "code",
      "execution_count": null,
      "metadata": {
        "colab": {
          "base_uri": "https://localhost:8080/"
        },
        "id": "rpHrNvrQs6gh",
        "outputId": "fd7c118c-d591-4bae-8488-d4289458c499"
      },
      "outputs": [
        {
          "output_type": "stream",
          "name": "stdout",
          "text": [
            "Mounted at /content/drive\n",
            "Drive already mounted at /content/drive; to attempt to forcibly remount, call drive.mount(\"/content/drive\", force_remount=True).\n"
          ]
        }
      ],
      "source": [
        "from google.colab import drive\n",
        "import pandas as pd\n",
        "import warnings\n",
        "warnings.filterwarnings('ignore')\n",
        "drive.mount('/content/drive')\n",
        "\n",
        "# julia file path\n",
        "#colab_path = '/content/drive/MyDrive/LID/CS_subset.csv'\n",
        "\n",
        "# nikhil file path\n",
        "colab_path = '/content/drive/MyDrive/Code Shared/LID Project/cleaned.csv'\n",
        "#names_path = '/content/drive/MyDrive/Code Shared/LID Project/CS_subset_dict.csv'\n",
        "#pd.read_csv('u.item', sep='|', names=m_cols, encoding='latin-1')\n",
        "cleaned = pd.read_csv(colab_path, encoding='latin-1')\n",
        "drive.mount('/content/drive')"
      ]
    },
    {
      "cell_type": "code",
      "source": [
        "cleaned"
      ],
      "metadata": {
        "colab": {
          "base_uri": "https://localhost:8080/",
          "height": 956
        },
        "id": "s75VNmM2uULw",
        "outputId": "5a572a66-1149-4978-e7d7-28622ceb5755"
      },
      "execution_count": null,
      "outputs": [
        {
          "output_type": "execute_result",
          "data": {
            "text/plain": [
              "      Unnamed: 0                                     INSTNM         CITY  \\\n",
              "0              0                   Alabama A & M University       Normal   \n",
              "1              1        University of Alabama at Birmingham   Birmingham   \n",
              "2              2        University of Alabama in Huntsville   Huntsville   \n",
              "3              3                   Alabama State University   Montgomery   \n",
              "4              4                  The University of Alabama   Tuscaloosa   \n",
              "...          ...                                        ...          ...   \n",
              "1722        1722       University of Phoenix-Augusta Campus      Augusta   \n",
              "1723        1723   University of Phoenix-Chattanooga Campus  Chattanooga   \n",
              "1724        1724  Argosy University-Phoenix Online Division      Phoenix   \n",
              "1725        1725        New Hope Christian College-Honolulu     Honolulu   \n",
              "1726        1726           Strayer University-Global Region   Washington   \n",
              "\n",
              "     STABBR  PREDDEG  CONTROL  SAT_AVG     UGDS  UGDS_WHITE  UGDS_BLACK  ...  \\\n",
              "0        AL        3        1    823.0   4051.0      0.0279      0.9501  ...   \n",
              "1        AL        3        1   1146.0  11200.0      0.5987      0.2590  ...   \n",
              "2        AL        3        1   1180.0   5525.0      0.7012      0.1310  ...   \n",
              "3        AL        3        1    830.0   5354.0      0.0161      0.9285  ...   \n",
              "4        AL        3        1   1171.0  28692.0      0.7865      0.1140  ...   \n",
              "...     ...      ...      ...      ...      ...         ...         ...  ...   \n",
              "1722     GA        3        3   1050.0    735.0      0.1456      0.4830  ...   \n",
              "1723     TN        3        3   1050.0    408.0      0.3971      0.2426  ...   \n",
              "1724     AZ        3        3   1050.0   8917.0      0.5140      0.3068  ...   \n",
              "1725     HI        3        2   1005.0    126.0      0.2143      0.0159  ...   \n",
              "1726     DC        3        3   1050.0   1429.0      0.4269      0.3751  ...   \n",
              "\n",
              "      NPT4_PRIV  PCTPELL  RET_FT4  PCTFLOAN  GRAD_DEBT_MDN10YR_SUPP  \\\n",
              "0           NaN   0.7115   0.6314    0.8204              373.156554   \n",
              "1           NaN   0.3505   0.8016    0.5397              256.646090   \n",
              "2           NaN   0.3281   0.8098    0.4728              274.642513   \n",
              "3           NaN   0.8265   0.6219    0.8735              371.385777   \n",
              "4           NaN   0.2107   0.8700    0.4148              266.449200   \n",
              "...         ...      ...      ...       ...                     ...   \n",
              "1722    17728.0   0.7212   0.3846    0.6674              394.122775   \n",
              "1723    18896.0   0.7737   0.4375    0.7596              394.122775   \n",
              "1724    31831.0   0.7090   0.2901    0.6546              159.014662   \n",
              "1725    14601.0   0.4472   0.8500    0.4309              274.342758   \n",
              "1726    30704.0   0.6201   0.0000    0.7025              438.525424   \n",
              "\n",
              "      Graduation Rate Over 50%  Median Salary 1+  STABBR_CONTROL  \\\n",
              "0                            0           31400.0             AL1   \n",
              "1                            1           40300.0             AL1   \n",
              "2                            0           46600.0             AL1   \n",
              "3                            0           27800.0             AL1   \n",
              "4                            1           42400.0             AL1   \n",
              "...                        ...               ...             ...   \n",
              "1722                         0           53400.0             GA3   \n",
              "1723                         0           53400.0             TN3   \n",
              "1724                         0           38200.0             AZ3   \n",
              "1725                         0           23200.0             HI2   \n",
              "1726                         0           51700.0             DC3   \n",
              "\n",
              "      SAT_AVG_COMP  Tuition  \n",
              "0           1036.0  13415.0  \n",
              "1           1036.0  14805.0  \n",
              "2           1036.0  17520.0  \n",
              "3           1036.0  11936.0  \n",
              "4           1036.0  20916.0  \n",
              "...            ...      ...  \n",
              "1722           NaN  17728.0  \n",
              "1723           NaN  18896.0  \n",
              "1724           NaN  31831.0  \n",
              "1725        1005.0  14601.0  \n",
              "1726           NaN  30704.0  \n",
              "\n",
              "[1727 rows x 27 columns]"
            ],
            "text/html": [
              "\n",
              "  <div id=\"df-ba9a8030-be9f-4971-ba8f-08a06ac89af1\">\n",
              "    <div class=\"colab-df-container\">\n",
              "      <div>\n",
              "<style scoped>\n",
              "    .dataframe tbody tr th:only-of-type {\n",
              "        vertical-align: middle;\n",
              "    }\n",
              "\n",
              "    .dataframe tbody tr th {\n",
              "        vertical-align: top;\n",
              "    }\n",
              "\n",
              "    .dataframe thead th {\n",
              "        text-align: right;\n",
              "    }\n",
              "</style>\n",
              "<table border=\"1\" class=\"dataframe\">\n",
              "  <thead>\n",
              "    <tr style=\"text-align: right;\">\n",
              "      <th></th>\n",
              "      <th>Unnamed: 0</th>\n",
              "      <th>INSTNM</th>\n",
              "      <th>CITY</th>\n",
              "      <th>STABBR</th>\n",
              "      <th>PREDDEG</th>\n",
              "      <th>CONTROL</th>\n",
              "      <th>SAT_AVG</th>\n",
              "      <th>UGDS</th>\n",
              "      <th>UGDS_WHITE</th>\n",
              "      <th>UGDS_BLACK</th>\n",
              "      <th>...</th>\n",
              "      <th>NPT4_PRIV</th>\n",
              "      <th>PCTPELL</th>\n",
              "      <th>RET_FT4</th>\n",
              "      <th>PCTFLOAN</th>\n",
              "      <th>GRAD_DEBT_MDN10YR_SUPP</th>\n",
              "      <th>Graduation Rate Over 50%</th>\n",
              "      <th>Median Salary 1+</th>\n",
              "      <th>STABBR_CONTROL</th>\n",
              "      <th>SAT_AVG_COMP</th>\n",
              "      <th>Tuition</th>\n",
              "    </tr>\n",
              "  </thead>\n",
              "  <tbody>\n",
              "    <tr>\n",
              "      <th>0</th>\n",
              "      <td>0</td>\n",
              "      <td>Alabama A &amp; M University</td>\n",
              "      <td>Normal</td>\n",
              "      <td>AL</td>\n",
              "      <td>3</td>\n",
              "      <td>1</td>\n",
              "      <td>823.0</td>\n",
              "      <td>4051.0</td>\n",
              "      <td>0.0279</td>\n",
              "      <td>0.9501</td>\n",
              "      <td>...</td>\n",
              "      <td>NaN</td>\n",
              "      <td>0.7115</td>\n",
              "      <td>0.6314</td>\n",
              "      <td>0.8204</td>\n",
              "      <td>373.156554</td>\n",
              "      <td>0</td>\n",
              "      <td>31400.0</td>\n",
              "      <td>AL1</td>\n",
              "      <td>1036.0</td>\n",
              "      <td>13415.0</td>\n",
              "    </tr>\n",
              "    <tr>\n",
              "      <th>1</th>\n",
              "      <td>1</td>\n",
              "      <td>University of Alabama at Birmingham</td>\n",
              "      <td>Birmingham</td>\n",
              "      <td>AL</td>\n",
              "      <td>3</td>\n",
              "      <td>1</td>\n",
              "      <td>1146.0</td>\n",
              "      <td>11200.0</td>\n",
              "      <td>0.5987</td>\n",
              "      <td>0.2590</td>\n",
              "      <td>...</td>\n",
              "      <td>NaN</td>\n",
              "      <td>0.3505</td>\n",
              "      <td>0.8016</td>\n",
              "      <td>0.5397</td>\n",
              "      <td>256.646090</td>\n",
              "      <td>1</td>\n",
              "      <td>40300.0</td>\n",
              "      <td>AL1</td>\n",
              "      <td>1036.0</td>\n",
              "      <td>14805.0</td>\n",
              "    </tr>\n",
              "    <tr>\n",
              "      <th>2</th>\n",
              "      <td>2</td>\n",
              "      <td>University of Alabama in Huntsville</td>\n",
              "      <td>Huntsville</td>\n",
              "      <td>AL</td>\n",
              "      <td>3</td>\n",
              "      <td>1</td>\n",
              "      <td>1180.0</td>\n",
              "      <td>5525.0</td>\n",
              "      <td>0.7012</td>\n",
              "      <td>0.1310</td>\n",
              "      <td>...</td>\n",
              "      <td>NaN</td>\n",
              "      <td>0.3281</td>\n",
              "      <td>0.8098</td>\n",
              "      <td>0.4728</td>\n",
              "      <td>274.642513</td>\n",
              "      <td>0</td>\n",
              "      <td>46600.0</td>\n",
              "      <td>AL1</td>\n",
              "      <td>1036.0</td>\n",
              "      <td>17520.0</td>\n",
              "    </tr>\n",
              "    <tr>\n",
              "      <th>3</th>\n",
              "      <td>3</td>\n",
              "      <td>Alabama State University</td>\n",
              "      <td>Montgomery</td>\n",
              "      <td>AL</td>\n",
              "      <td>3</td>\n",
              "      <td>1</td>\n",
              "      <td>830.0</td>\n",
              "      <td>5354.0</td>\n",
              "      <td>0.0161</td>\n",
              "      <td>0.9285</td>\n",
              "      <td>...</td>\n",
              "      <td>NaN</td>\n",
              "      <td>0.8265</td>\n",
              "      <td>0.6219</td>\n",
              "      <td>0.8735</td>\n",
              "      <td>371.385777</td>\n",
              "      <td>0</td>\n",
              "      <td>27800.0</td>\n",
              "      <td>AL1</td>\n",
              "      <td>1036.0</td>\n",
              "      <td>11936.0</td>\n",
              "    </tr>\n",
              "    <tr>\n",
              "      <th>4</th>\n",
              "      <td>4</td>\n",
              "      <td>The University of Alabama</td>\n",
              "      <td>Tuscaloosa</td>\n",
              "      <td>AL</td>\n",
              "      <td>3</td>\n",
              "      <td>1</td>\n",
              "      <td>1171.0</td>\n",
              "      <td>28692.0</td>\n",
              "      <td>0.7865</td>\n",
              "      <td>0.1140</td>\n",
              "      <td>...</td>\n",
              "      <td>NaN</td>\n",
              "      <td>0.2107</td>\n",
              "      <td>0.8700</td>\n",
              "      <td>0.4148</td>\n",
              "      <td>266.449200</td>\n",
              "      <td>1</td>\n",
              "      <td>42400.0</td>\n",
              "      <td>AL1</td>\n",
              "      <td>1036.0</td>\n",
              "      <td>20916.0</td>\n",
              "    </tr>\n",
              "    <tr>\n",
              "      <th>...</th>\n",
              "      <td>...</td>\n",
              "      <td>...</td>\n",
              "      <td>...</td>\n",
              "      <td>...</td>\n",
              "      <td>...</td>\n",
              "      <td>...</td>\n",
              "      <td>...</td>\n",
              "      <td>...</td>\n",
              "      <td>...</td>\n",
              "      <td>...</td>\n",
              "      <td>...</td>\n",
              "      <td>...</td>\n",
              "      <td>...</td>\n",
              "      <td>...</td>\n",
              "      <td>...</td>\n",
              "      <td>...</td>\n",
              "      <td>...</td>\n",
              "      <td>...</td>\n",
              "      <td>...</td>\n",
              "      <td>...</td>\n",
              "      <td>...</td>\n",
              "    </tr>\n",
              "    <tr>\n",
              "      <th>1722</th>\n",
              "      <td>1722</td>\n",
              "      <td>University of Phoenix-Augusta Campus</td>\n",
              "      <td>Augusta</td>\n",
              "      <td>GA</td>\n",
              "      <td>3</td>\n",
              "      <td>3</td>\n",
              "      <td>1050.0</td>\n",
              "      <td>735.0</td>\n",
              "      <td>0.1456</td>\n",
              "      <td>0.4830</td>\n",
              "      <td>...</td>\n",
              "      <td>17728.0</td>\n",
              "      <td>0.7212</td>\n",
              "      <td>0.3846</td>\n",
              "      <td>0.6674</td>\n",
              "      <td>394.122775</td>\n",
              "      <td>0</td>\n",
              "      <td>53400.0</td>\n",
              "      <td>GA3</td>\n",
              "      <td>NaN</td>\n",
              "      <td>17728.0</td>\n",
              "    </tr>\n",
              "    <tr>\n",
              "      <th>1723</th>\n",
              "      <td>1723</td>\n",
              "      <td>University of Phoenix-Chattanooga Campus</td>\n",
              "      <td>Chattanooga</td>\n",
              "      <td>TN</td>\n",
              "      <td>3</td>\n",
              "      <td>3</td>\n",
              "      <td>1050.0</td>\n",
              "      <td>408.0</td>\n",
              "      <td>0.3971</td>\n",
              "      <td>0.2426</td>\n",
              "      <td>...</td>\n",
              "      <td>18896.0</td>\n",
              "      <td>0.7737</td>\n",
              "      <td>0.4375</td>\n",
              "      <td>0.7596</td>\n",
              "      <td>394.122775</td>\n",
              "      <td>0</td>\n",
              "      <td>53400.0</td>\n",
              "      <td>TN3</td>\n",
              "      <td>NaN</td>\n",
              "      <td>18896.0</td>\n",
              "    </tr>\n",
              "    <tr>\n",
              "      <th>1724</th>\n",
              "      <td>1724</td>\n",
              "      <td>Argosy University-Phoenix Online Division</td>\n",
              "      <td>Phoenix</td>\n",
              "      <td>AZ</td>\n",
              "      <td>3</td>\n",
              "      <td>3</td>\n",
              "      <td>1050.0</td>\n",
              "      <td>8917.0</td>\n",
              "      <td>0.5140</td>\n",
              "      <td>0.3068</td>\n",
              "      <td>...</td>\n",
              "      <td>31831.0</td>\n",
              "      <td>0.7090</td>\n",
              "      <td>0.2901</td>\n",
              "      <td>0.6546</td>\n",
              "      <td>159.014662</td>\n",
              "      <td>0</td>\n",
              "      <td>38200.0</td>\n",
              "      <td>AZ3</td>\n",
              "      <td>NaN</td>\n",
              "      <td>31831.0</td>\n",
              "    </tr>\n",
              "    <tr>\n",
              "      <th>1725</th>\n",
              "      <td>1725</td>\n",
              "      <td>New Hope Christian College-Honolulu</td>\n",
              "      <td>Honolulu</td>\n",
              "      <td>HI</td>\n",
              "      <td>3</td>\n",
              "      <td>2</td>\n",
              "      <td>1005.0</td>\n",
              "      <td>126.0</td>\n",
              "      <td>0.2143</td>\n",
              "      <td>0.0159</td>\n",
              "      <td>...</td>\n",
              "      <td>14601.0</td>\n",
              "      <td>0.4472</td>\n",
              "      <td>0.8500</td>\n",
              "      <td>0.4309</td>\n",
              "      <td>274.342758</td>\n",
              "      <td>0</td>\n",
              "      <td>23200.0</td>\n",
              "      <td>HI2</td>\n",
              "      <td>1005.0</td>\n",
              "      <td>14601.0</td>\n",
              "    </tr>\n",
              "    <tr>\n",
              "      <th>1726</th>\n",
              "      <td>1726</td>\n",
              "      <td>Strayer University-Global Region</td>\n",
              "      <td>Washington</td>\n",
              "      <td>DC</td>\n",
              "      <td>3</td>\n",
              "      <td>3</td>\n",
              "      <td>1050.0</td>\n",
              "      <td>1429.0</td>\n",
              "      <td>0.4269</td>\n",
              "      <td>0.3751</td>\n",
              "      <td>...</td>\n",
              "      <td>30704.0</td>\n",
              "      <td>0.6201</td>\n",
              "      <td>0.0000</td>\n",
              "      <td>0.7025</td>\n",
              "      <td>438.525424</td>\n",
              "      <td>0</td>\n",
              "      <td>51700.0</td>\n",
              "      <td>DC3</td>\n",
              "      <td>NaN</td>\n",
              "      <td>30704.0</td>\n",
              "    </tr>\n",
              "  </tbody>\n",
              "</table>\n",
              "<p>1727 rows × 27 columns</p>\n",
              "</div>\n",
              "      <button class=\"colab-df-convert\" onclick=\"convertToInteractive('df-ba9a8030-be9f-4971-ba8f-08a06ac89af1')\"\n",
              "              title=\"Convert this dataframe to an interactive table.\"\n",
              "              style=\"display:none;\">\n",
              "        \n",
              "  <svg xmlns=\"http://www.w3.org/2000/svg\" height=\"24px\"viewBox=\"0 0 24 24\"\n",
              "       width=\"24px\">\n",
              "    <path d=\"M0 0h24v24H0V0z\" fill=\"none\"/>\n",
              "    <path d=\"M18.56 5.44l.94 2.06.94-2.06 2.06-.94-2.06-.94-.94-2.06-.94 2.06-2.06.94zm-11 1L8.5 8.5l.94-2.06 2.06-.94-2.06-.94L8.5 2.5l-.94 2.06-2.06.94zm10 10l.94 2.06.94-2.06 2.06-.94-2.06-.94-.94-2.06-.94 2.06-2.06.94z\"/><path d=\"M17.41 7.96l-1.37-1.37c-.4-.4-.92-.59-1.43-.59-.52 0-1.04.2-1.43.59L10.3 9.45l-7.72 7.72c-.78.78-.78 2.05 0 2.83L4 21.41c.39.39.9.59 1.41.59.51 0 1.02-.2 1.41-.59l7.78-7.78 2.81-2.81c.8-.78.8-2.07 0-2.86zM5.41 20L4 18.59l7.72-7.72 1.47 1.35L5.41 20z\"/>\n",
              "  </svg>\n",
              "      </button>\n",
              "      \n",
              "  <style>\n",
              "    .colab-df-container {\n",
              "      display:flex;\n",
              "      flex-wrap:wrap;\n",
              "      gap: 12px;\n",
              "    }\n",
              "\n",
              "    .colab-df-convert {\n",
              "      background-color: #E8F0FE;\n",
              "      border: none;\n",
              "      border-radius: 50%;\n",
              "      cursor: pointer;\n",
              "      display: none;\n",
              "      fill: #1967D2;\n",
              "      height: 32px;\n",
              "      padding: 0 0 0 0;\n",
              "      width: 32px;\n",
              "    }\n",
              "\n",
              "    .colab-df-convert:hover {\n",
              "      background-color: #E2EBFA;\n",
              "      box-shadow: 0px 1px 2px rgba(60, 64, 67, 0.3), 0px 1px 3px 1px rgba(60, 64, 67, 0.15);\n",
              "      fill: #174EA6;\n",
              "    }\n",
              "\n",
              "    [theme=dark] .colab-df-convert {\n",
              "      background-color: #3B4455;\n",
              "      fill: #D2E3FC;\n",
              "    }\n",
              "\n",
              "    [theme=dark] .colab-df-convert:hover {\n",
              "      background-color: #434B5C;\n",
              "      box-shadow: 0px 1px 3px 1px rgba(0, 0, 0, 0.15);\n",
              "      filter: drop-shadow(0px 1px 2px rgba(0, 0, 0, 0.3));\n",
              "      fill: #FFFFFF;\n",
              "    }\n",
              "  </style>\n",
              "\n",
              "      <script>\n",
              "        const buttonEl =\n",
              "          document.querySelector('#df-ba9a8030-be9f-4971-ba8f-08a06ac89af1 button.colab-df-convert');\n",
              "        buttonEl.style.display =\n",
              "          google.colab.kernel.accessAllowed ? 'block' : 'none';\n",
              "\n",
              "        async function convertToInteractive(key) {\n",
              "          const element = document.querySelector('#df-ba9a8030-be9f-4971-ba8f-08a06ac89af1');\n",
              "          const dataTable =\n",
              "            await google.colab.kernel.invokeFunction('convertToInteractive',\n",
              "                                                     [key], {});\n",
              "          if (!dataTable) return;\n",
              "\n",
              "          const docLinkHtml = 'Like what you see? Visit the ' +\n",
              "            '<a target=\"_blank\" href=https://colab.research.google.com/notebooks/data_table.ipynb>data table notebook</a>'\n",
              "            + ' to learn more about interactive tables.';\n",
              "          element.innerHTML = '';\n",
              "          dataTable['output_type'] = 'display_data';\n",
              "          await google.colab.output.renderOutput(dataTable, element);\n",
              "          const docLink = document.createElement('div');\n",
              "          docLink.innerHTML = docLinkHtml;\n",
              "          element.appendChild(docLink);\n",
              "        }\n",
              "      </script>\n",
              "    </div>\n",
              "  </div>\n",
              "  "
            ]
          },
          "metadata": {},
          "execution_count": 2
        }
      ]
    },
    {
      "cell_type": "code",
      "source": [
        "# Splitting into train test split\n",
        "import numpy as np\n",
        "from sklearn.model_selection import train_test_split\n",
        "\n",
        "# Establishing design matrix and potential responses \n",
        "X = cleaned.drop(columns = ['Graduation Rate Over 50%', 'Median Salary 1+', 'STABBR_CONTROL', 'SAT_AVG_COMP','UGDS_NRA', 'NPT4_PUB', 'NPT4_PRIV', 'SAT_AVG_COMP', 'INSTNM','CITY'])\n",
        "\n",
        "# Making dummy variables for the states\n",
        "encoded_states = pd.get_dummies(X.STABBR, prefix='STATE')\n",
        "X = pd.concat([X, encoded_states], axis = 1).drop(columns = ['STABBR'])\n",
        "\n",
        "y = cleaned[['Graduation Rate Over 50%', 'Median Salary 1+']]\n",
        "\n",
        "# Splitting the data into a test and train set\n",
        "X_train, X_test, y_train, y_test = train_test_split(X, y, test_size=0.2, random_state=0)"
      ],
      "metadata": {
        "id": "Kl0daISQugCV"
      },
      "execution_count": null,
      "outputs": []
    },
    {
      "cell_type": "markdown",
      "source": [
        "### 1 Inference on the outcome variables\n"
      ],
      "metadata": {
        "id": "inOOE3C7uiwC"
      }
    },
    {
      "cell_type": "markdown",
      "source": [
        "#### (a) Estimate the mean of your continuous outcome variable. Estimate the mean of your binary outcome variable (i.e., the fraction of rows for which this variable is 1)."
      ],
      "metadata": {
        "id": "dE354oYluqmg"
      }
    },
    {
      "cell_type": "code",
      "source": [
        "means = y_train.describe().loc['mean',:].to_frame()\n",
        "variances = y_train.var().to_frame()\n",
        "stat=pd.concat([means,variances],axis=1).rename(columns = {0:'variance'})\n",
        "stat['variance'] = stat['variance']\n",
        "stat"
      ],
      "metadata": {
        "colab": {
          "base_uri": "https://localhost:8080/",
          "height": 112
        },
        "id": "Rvn83dumuhun",
        "outputId": "8b818632-4da6-4997-ff57-d6ec0cd1c07b"
      },
      "execution_count": null,
      "outputs": [
        {
          "output_type": "execute_result",
          "data": {
            "text/html": [
              "\n",
              "  <div id=\"df-800234f4-35be-4325-88de-c09cdd75a672\">\n",
              "    <div class=\"colab-df-container\">\n",
              "      <div>\n",
              "<style scoped>\n",
              "    .dataframe tbody tr th:only-of-type {\n",
              "        vertical-align: middle;\n",
              "    }\n",
              "\n",
              "    .dataframe tbody tr th {\n",
              "        vertical-align: top;\n",
              "    }\n",
              "\n",
              "    .dataframe thead th {\n",
              "        text-align: right;\n",
              "    }\n",
              "</style>\n",
              "<table border=\"1\" class=\"dataframe\">\n",
              "  <thead>\n",
              "    <tr style=\"text-align: right;\">\n",
              "      <th></th>\n",
              "      <th>mean</th>\n",
              "      <th>variance</th>\n",
              "    </tr>\n",
              "  </thead>\n",
              "  <tbody>\n",
              "    <tr>\n",
              "      <th>Graduation Rate Over 50%</th>\n",
              "      <td>0.498914</td>\n",
              "      <td>2.501800e-01</td>\n",
              "    </tr>\n",
              "    <tr>\n",
              "      <th>Median Salary 1+</th>\n",
              "      <td>41477.914555</td>\n",
              "      <td>1.122361e+08</td>\n",
              "    </tr>\n",
              "  </tbody>\n",
              "</table>\n",
              "</div>\n",
              "      <button class=\"colab-df-convert\" onclick=\"convertToInteractive('df-800234f4-35be-4325-88de-c09cdd75a672')\"\n",
              "              title=\"Convert this dataframe to an interactive table.\"\n",
              "              style=\"display:none;\">\n",
              "        \n",
              "  <svg xmlns=\"http://www.w3.org/2000/svg\" height=\"24px\"viewBox=\"0 0 24 24\"\n",
              "       width=\"24px\">\n",
              "    <path d=\"M0 0h24v24H0V0z\" fill=\"none\"/>\n",
              "    <path d=\"M18.56 5.44l.94 2.06.94-2.06 2.06-.94-2.06-.94-.94-2.06-.94 2.06-2.06.94zm-11 1L8.5 8.5l.94-2.06 2.06-.94-2.06-.94L8.5 2.5l-.94 2.06-2.06.94zm10 10l.94 2.06.94-2.06 2.06-.94-2.06-.94-.94-2.06-.94 2.06-2.06.94z\"/><path d=\"M17.41 7.96l-1.37-1.37c-.4-.4-.92-.59-1.43-.59-.52 0-1.04.2-1.43.59L10.3 9.45l-7.72 7.72c-.78.78-.78 2.05 0 2.83L4 21.41c.39.39.9.59 1.41.59.51 0 1.02-.2 1.41-.59l7.78-7.78 2.81-2.81c.8-.78.8-2.07 0-2.86zM5.41 20L4 18.59l7.72-7.72 1.47 1.35L5.41 20z\"/>\n",
              "  </svg>\n",
              "      </button>\n",
              "      \n",
              "  <style>\n",
              "    .colab-df-container {\n",
              "      display:flex;\n",
              "      flex-wrap:wrap;\n",
              "      gap: 12px;\n",
              "    }\n",
              "\n",
              "    .colab-df-convert {\n",
              "      background-color: #E8F0FE;\n",
              "      border: none;\n",
              "      border-radius: 50%;\n",
              "      cursor: pointer;\n",
              "      display: none;\n",
              "      fill: #1967D2;\n",
              "      height: 32px;\n",
              "      padding: 0 0 0 0;\n",
              "      width: 32px;\n",
              "    }\n",
              "\n",
              "    .colab-df-convert:hover {\n",
              "      background-color: #E2EBFA;\n",
              "      box-shadow: 0px 1px 2px rgba(60, 64, 67, 0.3), 0px 1px 3px 1px rgba(60, 64, 67, 0.15);\n",
              "      fill: #174EA6;\n",
              "    }\n",
              "\n",
              "    [theme=dark] .colab-df-convert {\n",
              "      background-color: #3B4455;\n",
              "      fill: #D2E3FC;\n",
              "    }\n",
              "\n",
              "    [theme=dark] .colab-df-convert:hover {\n",
              "      background-color: #434B5C;\n",
              "      box-shadow: 0px 1px 3px 1px rgba(0, 0, 0, 0.15);\n",
              "      filter: drop-shadow(0px 1px 2px rgba(0, 0, 0, 0.3));\n",
              "      fill: #FFFFFF;\n",
              "    }\n",
              "  </style>\n",
              "\n",
              "      <script>\n",
              "        const buttonEl =\n",
              "          document.querySelector('#df-800234f4-35be-4325-88de-c09cdd75a672 button.colab-df-convert');\n",
              "        buttonEl.style.display =\n",
              "          google.colab.kernel.accessAllowed ? 'block' : 'none';\n",
              "\n",
              "        async function convertToInteractive(key) {\n",
              "          const element = document.querySelector('#df-800234f4-35be-4325-88de-c09cdd75a672');\n",
              "          const dataTable =\n",
              "            await google.colab.kernel.invokeFunction('convertToInteractive',\n",
              "                                                     [key], {});\n",
              "          if (!dataTable) return;\n",
              "\n",
              "          const docLinkHtml = 'Like what you see? Visit the ' +\n",
              "            '<a target=\"_blank\" href=https://colab.research.google.com/notebooks/data_table.ipynb>data table notebook</a>'\n",
              "            + ' to learn more about interactive tables.';\n",
              "          element.innerHTML = '';\n",
              "          dataTable['output_type'] = 'display_data';\n",
              "          await google.colab.output.renderOutput(dataTable, element);\n",
              "          const docLink = document.createElement('div');\n",
              "          docLink.innerHTML = docLinkHtml;\n",
              "          element.appendChild(docLink);\n",
              "        }\n",
              "      </script>\n",
              "    </div>\n",
              "  </div>\n",
              "  "
            ],
            "text/plain": [
              "                                  mean      variance\n",
              "Graduation Rate Over 50%      0.498914  2.501800e-01\n",
              "Median Salary 1+          41477.914555  1.122361e+08"
            ]
          },
          "metadata": {},
          "execution_count": 4
        }
      ]
    },
    {
      "cell_type": "code",
      "source": [
        "grad_mean = stat.loc['Graduation Rate Over 50%'][0]\n",
        "salary_mean = stat.loc['Median Salary 1+'][0]\n",
        "grad_std = np.sqrt(stat.loc['Graduation Rate Over 50%'][1])\n",
        "salary_std = np.sqrt(stat.loc['Median Salary 1+'][1])\n",
        "n = len(y_train)"
      ],
      "metadata": {
        "id": "4tyVqnf7vyuZ"
      },
      "execution_count": null,
      "outputs": []
    },
    {
      "cell_type": "markdown",
      "source": [
        "#### (b) For both your continuous outcome variable and your binary outcome variable, construct a confidence interval around the mean. Explain any assumptions you made in constructing these intervals."
      ],
      "metadata": {
        "id": "wmFqijQVu5Zp"
      }
    },
    {
      "cell_type": "markdown",
      "source": [
        "###### Confidence Interval for Binary Variable 'Graduation Rate over 50%'"
      ],
      "metadata": {
        "id": "yU-i3peh1nIi"
      }
    },
    {
      "cell_type": "code",
      "source": [
        "p = grad_mean\n",
        "upper = p + 1.96 * np.sqrt((p*(1-p))/n)\n",
        "lower = p - 1.96 * np.sqrt((p*(1-p))/n)\n",
        "print('confidence interval: [%f, %f]'%(lower, upper))"
      ],
      "metadata": {
        "colab": {
          "base_uri": "https://localhost:8080/"
        },
        "id": "UIWAo4-OyUyT",
        "outputId": "754440ec-be3b-4c94-8666-35c8c45fad4d"
      },
      "execution_count": null,
      "outputs": [
        {
          "output_type": "stream",
          "name": "stdout",
          "text": [
            "confidence interval: [0.472543, 0.525285]\n"
          ]
        }
      ]
    },
    {
      "cell_type": "markdown",
      "source": [
        "###### Distribution of Median Salary from Sample"
      ],
      "metadata": {
        "id": "nOYxAxlx1ts_"
      }
    },
    {
      "cell_type": "code",
      "source": [
        "%pylab\n",
        "%matplotlib inline\n",
        "%config InlineBackend.figure_format = 'svg'\n",
        "import seaborn as sns\n",
        "sns.set()\n",
        "hist(y_train['Median Salary 1+'])"
      ],
      "metadata": {
        "colab": {
          "base_uri": "https://localhost:8080/",
          "height": 461
        },
        "id": "wWmZnFPpz_ph",
        "outputId": "fbfa491e-7ec4-4539-bb15-e790a9635b8f"
      },
      "execution_count": null,
      "outputs": [
        {
          "output_type": "stream",
          "name": "stdout",
          "text": [
            "Using matplotlib backend: agg\n",
            "Populating the interactive namespace from numpy and matplotlib\n"
          ]
        },
        {
          "output_type": "execute_result",
          "data": {
            "text/plain": [
              "(array([ 36., 157., 549., 416., 177.,  23.,  15.,   6.,   1.,   1.]),\n",
              " array([ 11800.,  21680.,  31560.,  41440.,  51320.,  61200.,  71080.,\n",
              "         80960.,  90840., 100720., 110600.]),\n",
              " <a list of 10 Patch objects>)"
            ]
          },
          "metadata": {},
          "execution_count": 7
        },
        {
          "output_type": "display_data",
          "data": {
            "text/plain": [
              "<Figure size 432x288 with 1 Axes>"
            ],
            "image/svg+xml": "<?xml version=\"1.0\" encoding=\"utf-8\" standalone=\"no\"?>\n<!DOCTYPE svg PUBLIC \"-//W3C//DTD SVG 1.1//EN\"\n  \"http://www.w3.org/Graphics/SVG/1.1/DTD/svg11.dtd\">\n<!-- Created with matplotlib (https://matplotlib.org/) -->\n<svg height=\"251.985937pt\" version=\"1.1\" viewBox=\"0 0 379.69625 251.985937\" width=\"379.69625pt\" xmlns=\"http://www.w3.org/2000/svg\" xmlns:xlink=\"http://www.w3.org/1999/xlink\">\n <defs>\n  <style type=\"text/css\">\n*{stroke-linecap:butt;stroke-linejoin:round;}\n  </style>\n </defs>\n <g id=\"figure_1\">\n  <g id=\"patch_1\">\n   <path d=\"M 0 251.985937 \nL 379.69625 251.985937 \nL 379.69625 0 \nL 0 0 \nz\n\" style=\"fill:#ffffff;\"/>\n  </g>\n  <g id=\"axes_1\">\n   <g id=\"patch_2\">\n    <path d=\"M 37.69625 224.64 \nL 372.49625 224.64 \nL 372.49625 7.2 \nL 37.69625 7.2 \nz\n\" style=\"fill:#eaeaf2;\"/>\n   </g>\n   <g id=\"matplotlib.axis_1\">\n    <g id=\"xtick_1\">\n     <g id=\"line2d_1\">\n      <path clip-path=\"url(#pe48cfb2a68)\" d=\"M 78.175381 224.64 \nL 78.175381 7.2 \n\" style=\"fill:none;stroke:#ffffff;stroke-linecap:round;\"/>\n     </g>\n     <g id=\"text_1\">\n      <!-- 20000 -->\n      <defs>\n       <path d=\"M 19.1875 8.296875 \nL 53.609375 8.296875 \nL 53.609375 0 \nL 7.328125 0 \nL 7.328125 8.296875 \nQ 12.9375 14.109375 22.625 23.890625 \nQ 32.328125 33.6875 34.8125 36.53125 \nQ 39.546875 41.84375 41.421875 45.53125 \nQ 43.3125 49.21875 43.3125 52.78125 \nQ 43.3125 58.59375 39.234375 62.25 \nQ 35.15625 65.921875 28.609375 65.921875 \nQ 23.96875 65.921875 18.8125 64.3125 \nQ 13.671875 62.703125 7.8125 59.421875 \nL 7.8125 69.390625 \nQ 13.765625 71.78125 18.9375 73 \nQ 24.125 74.21875 28.421875 74.21875 \nQ 39.75 74.21875 46.484375 68.546875 \nQ 53.21875 62.890625 53.21875 53.421875 \nQ 53.21875 48.921875 51.53125 44.890625 \nQ 49.859375 40.875 45.40625 35.40625 \nQ 44.1875 33.984375 37.640625 27.21875 \nQ 31.109375 20.453125 19.1875 8.296875 \nz\n\" id=\"DejaVuSans-50\"/>\n       <path d=\"M 31.78125 66.40625 \nQ 24.171875 66.40625 20.328125 58.90625 \nQ 16.5 51.421875 16.5 36.375 \nQ 16.5 21.390625 20.328125 13.890625 \nQ 24.171875 6.390625 31.78125 6.390625 \nQ 39.453125 6.390625 43.28125 13.890625 \nQ 47.125 21.390625 47.125 36.375 \nQ 47.125 51.421875 43.28125 58.90625 \nQ 39.453125 66.40625 31.78125 66.40625 \nz\nM 31.78125 74.21875 \nQ 44.046875 74.21875 50.515625 64.515625 \nQ 56.984375 54.828125 56.984375 36.375 \nQ 56.984375 17.96875 50.515625 8.265625 \nQ 44.046875 -1.421875 31.78125 -1.421875 \nQ 19.53125 -1.421875 13.0625 8.265625 \nQ 6.59375 17.96875 6.59375 36.375 \nQ 6.59375 54.828125 13.0625 64.515625 \nQ 19.53125 74.21875 31.78125 74.21875 \nz\n\" id=\"DejaVuSans-48\"/>\n      </defs>\n      <g style=\"fill:#262626;\" transform=\"translate(60.678506 242.498281)scale(0.11 -0.11)\">\n       <use xlink:href=\"#DejaVuSans-50\"/>\n       <use x=\"63.623047\" xlink:href=\"#DejaVuSans-48\"/>\n       <use x=\"127.246094\" xlink:href=\"#DejaVuSans-48\"/>\n       <use x=\"190.869141\" xlink:href=\"#DejaVuSans-48\"/>\n       <use x=\"254.492188\" xlink:href=\"#DejaVuSans-48\"/>\n      </g>\n     </g>\n    </g>\n    <g id=\"xtick_2\">\n     <g id=\"line2d_2\">\n      <path clip-path=\"url(#pe48cfb2a68)\" d=\"M 139.787454 224.64 \nL 139.787454 7.2 \n\" style=\"fill:none;stroke:#ffffff;stroke-linecap:round;\"/>\n     </g>\n     <g id=\"text_2\">\n      <!-- 40000 -->\n      <defs>\n       <path d=\"M 37.796875 64.3125 \nL 12.890625 25.390625 \nL 37.796875 25.390625 \nz\nM 35.203125 72.90625 \nL 47.609375 72.90625 \nL 47.609375 25.390625 \nL 58.015625 25.390625 \nL 58.015625 17.1875 \nL 47.609375 17.1875 \nL 47.609375 0 \nL 37.796875 0 \nL 37.796875 17.1875 \nL 4.890625 17.1875 \nL 4.890625 26.703125 \nz\n\" id=\"DejaVuSans-52\"/>\n      </defs>\n      <g style=\"fill:#262626;\" transform=\"translate(122.290579 242.498281)scale(0.11 -0.11)\">\n       <use xlink:href=\"#DejaVuSans-52\"/>\n       <use x=\"63.623047\" xlink:href=\"#DejaVuSans-48\"/>\n       <use x=\"127.246094\" xlink:href=\"#DejaVuSans-48\"/>\n       <use x=\"190.869141\" xlink:href=\"#DejaVuSans-48\"/>\n       <use x=\"254.492188\" xlink:href=\"#DejaVuSans-48\"/>\n      </g>\n     </g>\n    </g>\n    <g id=\"xtick_3\">\n     <g id=\"line2d_3\">\n      <path clip-path=\"url(#pe48cfb2a68)\" d=\"M 201.399526 224.64 \nL 201.399526 7.2 \n\" style=\"fill:none;stroke:#ffffff;stroke-linecap:round;\"/>\n     </g>\n     <g id=\"text_3\">\n      <!-- 60000 -->\n      <defs>\n       <path d=\"M 33.015625 40.375 \nQ 26.375 40.375 22.484375 35.828125 \nQ 18.609375 31.296875 18.609375 23.390625 \nQ 18.609375 15.53125 22.484375 10.953125 \nQ 26.375 6.390625 33.015625 6.390625 \nQ 39.65625 6.390625 43.53125 10.953125 \nQ 47.40625 15.53125 47.40625 23.390625 \nQ 47.40625 31.296875 43.53125 35.828125 \nQ 39.65625 40.375 33.015625 40.375 \nz\nM 52.59375 71.296875 \nL 52.59375 62.3125 \nQ 48.875 64.0625 45.09375 64.984375 \nQ 41.3125 65.921875 37.59375 65.921875 \nQ 27.828125 65.921875 22.671875 59.328125 \nQ 17.53125 52.734375 16.796875 39.40625 \nQ 19.671875 43.65625 24.015625 45.921875 \nQ 28.375 48.1875 33.59375 48.1875 \nQ 44.578125 48.1875 50.953125 41.515625 \nQ 57.328125 34.859375 57.328125 23.390625 \nQ 57.328125 12.15625 50.6875 5.359375 \nQ 44.046875 -1.421875 33.015625 -1.421875 \nQ 20.359375 -1.421875 13.671875 8.265625 \nQ 6.984375 17.96875 6.984375 36.375 \nQ 6.984375 53.65625 15.1875 63.9375 \nQ 23.390625 74.21875 37.203125 74.21875 \nQ 40.921875 74.21875 44.703125 73.484375 \nQ 48.484375 72.75 52.59375 71.296875 \nz\n\" id=\"DejaVuSans-54\"/>\n      </defs>\n      <g style=\"fill:#262626;\" transform=\"translate(183.902651 242.498281)scale(0.11 -0.11)\">\n       <use xlink:href=\"#DejaVuSans-54\"/>\n       <use x=\"63.623047\" xlink:href=\"#DejaVuSans-48\"/>\n       <use x=\"127.246094\" xlink:href=\"#DejaVuSans-48\"/>\n       <use x=\"190.869141\" xlink:href=\"#DejaVuSans-48\"/>\n       <use x=\"254.492188\" xlink:href=\"#DejaVuSans-48\"/>\n      </g>\n     </g>\n    </g>\n    <g id=\"xtick_4\">\n     <g id=\"line2d_4\">\n      <path clip-path=\"url(#pe48cfb2a68)\" d=\"M 263.011598 224.64 \nL 263.011598 7.2 \n\" style=\"fill:none;stroke:#ffffff;stroke-linecap:round;\"/>\n     </g>\n     <g id=\"text_4\">\n      <!-- 80000 -->\n      <defs>\n       <path d=\"M 31.78125 34.625 \nQ 24.75 34.625 20.71875 30.859375 \nQ 16.703125 27.09375 16.703125 20.515625 \nQ 16.703125 13.921875 20.71875 10.15625 \nQ 24.75 6.390625 31.78125 6.390625 \nQ 38.8125 6.390625 42.859375 10.171875 \nQ 46.921875 13.96875 46.921875 20.515625 \nQ 46.921875 27.09375 42.890625 30.859375 \nQ 38.875 34.625 31.78125 34.625 \nz\nM 21.921875 38.8125 \nQ 15.578125 40.375 12.03125 44.71875 \nQ 8.5 49.078125 8.5 55.328125 \nQ 8.5 64.0625 14.71875 69.140625 \nQ 20.953125 74.21875 31.78125 74.21875 \nQ 42.671875 74.21875 48.875 69.140625 \nQ 55.078125 64.0625 55.078125 55.328125 \nQ 55.078125 49.078125 51.53125 44.71875 \nQ 48 40.375 41.703125 38.8125 \nQ 48.828125 37.15625 52.796875 32.3125 \nQ 56.78125 27.484375 56.78125 20.515625 \nQ 56.78125 9.90625 50.3125 4.234375 \nQ 43.84375 -1.421875 31.78125 -1.421875 \nQ 19.734375 -1.421875 13.25 4.234375 \nQ 6.78125 9.90625 6.78125 20.515625 \nQ 6.78125 27.484375 10.78125 32.3125 \nQ 14.796875 37.15625 21.921875 38.8125 \nz\nM 18.3125 54.390625 \nQ 18.3125 48.734375 21.84375 45.5625 \nQ 25.390625 42.390625 31.78125 42.390625 \nQ 38.140625 42.390625 41.71875 45.5625 \nQ 45.3125 48.734375 45.3125 54.390625 \nQ 45.3125 60.0625 41.71875 63.234375 \nQ 38.140625 66.40625 31.78125 66.40625 \nQ 25.390625 66.40625 21.84375 63.234375 \nQ 18.3125 60.0625 18.3125 54.390625 \nz\n\" id=\"DejaVuSans-56\"/>\n      </defs>\n      <g style=\"fill:#262626;\" transform=\"translate(245.514723 242.498281)scale(0.11 -0.11)\">\n       <use xlink:href=\"#DejaVuSans-56\"/>\n       <use x=\"63.623047\" xlink:href=\"#DejaVuSans-48\"/>\n       <use x=\"127.246094\" xlink:href=\"#DejaVuSans-48\"/>\n       <use x=\"190.869141\" xlink:href=\"#DejaVuSans-48\"/>\n       <use x=\"254.492188\" xlink:href=\"#DejaVuSans-48\"/>\n      </g>\n     </g>\n    </g>\n    <g id=\"xtick_5\">\n     <g id=\"line2d_5\">\n      <path clip-path=\"url(#pe48cfb2a68)\" d=\"M 324.62367 224.64 \nL 324.62367 7.2 \n\" style=\"fill:none;stroke:#ffffff;stroke-linecap:round;\"/>\n     </g>\n     <g id=\"text_5\">\n      <!-- 100000 -->\n      <defs>\n       <path d=\"M 12.40625 8.296875 \nL 28.515625 8.296875 \nL 28.515625 63.921875 \nL 10.984375 60.40625 \nL 10.984375 69.390625 \nL 28.421875 72.90625 \nL 38.28125 72.90625 \nL 38.28125 8.296875 \nL 54.390625 8.296875 \nL 54.390625 0 \nL 12.40625 0 \nz\n\" id=\"DejaVuSans-49\"/>\n      </defs>\n      <g style=\"fill:#262626;\" transform=\"translate(303.62742 242.498281)scale(0.11 -0.11)\">\n       <use xlink:href=\"#DejaVuSans-49\"/>\n       <use x=\"63.623047\" xlink:href=\"#DejaVuSans-48\"/>\n       <use x=\"127.246094\" xlink:href=\"#DejaVuSans-48\"/>\n       <use x=\"190.869141\" xlink:href=\"#DejaVuSans-48\"/>\n       <use x=\"254.492188\" xlink:href=\"#DejaVuSans-48\"/>\n       <use x=\"318.115234\" xlink:href=\"#DejaVuSans-48\"/>\n      </g>\n     </g>\n    </g>\n   </g>\n   <g id=\"matplotlib.axis_2\">\n    <g id=\"ytick_1\">\n     <g id=\"line2d_6\">\n      <path clip-path=\"url(#pe48cfb2a68)\" d=\"M 37.69625 224.64 \nL 372.49625 224.64 \n\" style=\"fill:none;stroke:#ffffff;stroke-linecap:round;\"/>\n     </g>\n     <g id=\"text_6\">\n      <!-- 0 -->\n      <g style=\"fill:#262626;\" transform=\"translate(21.1975 228.819141)scale(0.11 -0.11)\">\n       <use xlink:href=\"#DejaVuSans-48\"/>\n      </g>\n     </g>\n    </g>\n    <g id=\"ytick_2\">\n     <g id=\"line2d_7\">\n      <path clip-path=\"url(#pe48cfb2a68)\" d=\"M 37.69625 186.919469 \nL 372.49625 186.919469 \n\" style=\"fill:none;stroke:#ffffff;stroke-linecap:round;\"/>\n     </g>\n     <g id=\"text_7\">\n      <!-- 100 -->\n      <g style=\"fill:#262626;\" transform=\"translate(7.2 191.09861)scale(0.11 -0.11)\">\n       <use xlink:href=\"#DejaVuSans-49\"/>\n       <use x=\"63.623047\" xlink:href=\"#DejaVuSans-48\"/>\n       <use x=\"127.246094\" xlink:href=\"#DejaVuSans-48\"/>\n      </g>\n     </g>\n    </g>\n    <g id=\"ytick_3\">\n     <g id=\"line2d_8\">\n      <path clip-path=\"url(#pe48cfb2a68)\" d=\"M 37.69625 149.198938 \nL 372.49625 149.198938 \n\" style=\"fill:none;stroke:#ffffff;stroke-linecap:round;\"/>\n     </g>\n     <g id=\"text_8\">\n      <!-- 200 -->\n      <g style=\"fill:#262626;\" transform=\"translate(7.2 153.378079)scale(0.11 -0.11)\">\n       <use xlink:href=\"#DejaVuSans-50\"/>\n       <use x=\"63.623047\" xlink:href=\"#DejaVuSans-48\"/>\n       <use x=\"127.246094\" xlink:href=\"#DejaVuSans-48\"/>\n      </g>\n     </g>\n    </g>\n    <g id=\"ytick_4\">\n     <g id=\"line2d_9\">\n      <path clip-path=\"url(#pe48cfb2a68)\" d=\"M 37.69625 111.478407 \nL 372.49625 111.478407 \n\" style=\"fill:none;stroke:#ffffff;stroke-linecap:round;\"/>\n     </g>\n     <g id=\"text_9\">\n      <!-- 300 -->\n      <defs>\n       <path d=\"M 40.578125 39.3125 \nQ 47.65625 37.796875 51.625 33 \nQ 55.609375 28.21875 55.609375 21.1875 \nQ 55.609375 10.40625 48.1875 4.484375 \nQ 40.765625 -1.421875 27.09375 -1.421875 \nQ 22.515625 -1.421875 17.65625 -0.515625 \nQ 12.796875 0.390625 7.625 2.203125 \nL 7.625 11.71875 \nQ 11.71875 9.328125 16.59375 8.109375 \nQ 21.484375 6.890625 26.8125 6.890625 \nQ 36.078125 6.890625 40.9375 10.546875 \nQ 45.796875 14.203125 45.796875 21.1875 \nQ 45.796875 27.640625 41.28125 31.265625 \nQ 36.765625 34.90625 28.71875 34.90625 \nL 20.21875 34.90625 \nL 20.21875 43.015625 \nL 29.109375 43.015625 \nQ 36.375 43.015625 40.234375 45.921875 \nQ 44.09375 48.828125 44.09375 54.296875 \nQ 44.09375 59.90625 40.109375 62.90625 \nQ 36.140625 65.921875 28.71875 65.921875 \nQ 24.65625 65.921875 20.015625 65.03125 \nQ 15.375 64.15625 9.8125 62.3125 \nL 9.8125 71.09375 \nQ 15.4375 72.65625 20.34375 73.4375 \nQ 25.25 74.21875 29.59375 74.21875 \nQ 40.828125 74.21875 47.359375 69.109375 \nQ 53.90625 64.015625 53.90625 55.328125 \nQ 53.90625 49.265625 50.4375 45.09375 \nQ 46.96875 40.921875 40.578125 39.3125 \nz\n\" id=\"DejaVuSans-51\"/>\n      </defs>\n      <g style=\"fill:#262626;\" transform=\"translate(7.2 115.657548)scale(0.11 -0.11)\">\n       <use xlink:href=\"#DejaVuSans-51\"/>\n       <use x=\"63.623047\" xlink:href=\"#DejaVuSans-48\"/>\n       <use x=\"127.246094\" xlink:href=\"#DejaVuSans-48\"/>\n      </g>\n     </g>\n    </g>\n    <g id=\"ytick_5\">\n     <g id=\"line2d_10\">\n      <path clip-path=\"url(#pe48cfb2a68)\" d=\"M 37.69625 73.757877 \nL 372.49625 73.757877 \n\" style=\"fill:none;stroke:#ffffff;stroke-linecap:round;\"/>\n     </g>\n     <g id=\"text_10\">\n      <!-- 400 -->\n      <g style=\"fill:#262626;\" transform=\"translate(7.2 77.937017)scale(0.11 -0.11)\">\n       <use xlink:href=\"#DejaVuSans-52\"/>\n       <use x=\"63.623047\" xlink:href=\"#DejaVuSans-48\"/>\n       <use x=\"127.246094\" xlink:href=\"#DejaVuSans-48\"/>\n      </g>\n     </g>\n    </g>\n    <g id=\"ytick_6\">\n     <g id=\"line2d_11\">\n      <path clip-path=\"url(#pe48cfb2a68)\" d=\"M 37.69625 36.037346 \nL 372.49625 36.037346 \n\" style=\"fill:none;stroke:#ffffff;stroke-linecap:round;\"/>\n     </g>\n     <g id=\"text_11\">\n      <!-- 500 -->\n      <defs>\n       <path d=\"M 10.796875 72.90625 \nL 49.515625 72.90625 \nL 49.515625 64.59375 \nL 19.828125 64.59375 \nL 19.828125 46.734375 \nQ 21.96875 47.46875 24.109375 47.828125 \nQ 26.265625 48.1875 28.421875 48.1875 \nQ 40.625 48.1875 47.75 41.5 \nQ 54.890625 34.8125 54.890625 23.390625 \nQ 54.890625 11.625 47.5625 5.09375 \nQ 40.234375 -1.421875 26.90625 -1.421875 \nQ 22.3125 -1.421875 17.546875 -0.640625 \nQ 12.796875 0.140625 7.71875 1.703125 \nL 7.71875 11.625 \nQ 12.109375 9.234375 16.796875 8.0625 \nQ 21.484375 6.890625 26.703125 6.890625 \nQ 35.15625 6.890625 40.078125 11.328125 \nQ 45.015625 15.765625 45.015625 23.390625 \nQ 45.015625 31 40.078125 35.4375 \nQ 35.15625 39.890625 26.703125 39.890625 \nQ 22.75 39.890625 18.8125 39.015625 \nQ 14.890625 38.140625 10.796875 36.28125 \nz\n\" id=\"DejaVuSans-53\"/>\n      </defs>\n      <g style=\"fill:#262626;\" transform=\"translate(7.2 40.216486)scale(0.11 -0.11)\">\n       <use xlink:href=\"#DejaVuSans-53\"/>\n       <use x=\"63.623047\" xlink:href=\"#DejaVuSans-48\"/>\n       <use x=\"127.246094\" xlink:href=\"#DejaVuSans-48\"/>\n      </g>\n     </g>\n    </g>\n   </g>\n   <g id=\"patch_3\">\n    <path clip-path=\"url(#pe48cfb2a68)\" d=\"M 52.914432 224.64 \nL 83.350795 224.64 \nL 83.350795 211.060609 \nL 52.914432 211.060609 \nz\n\" style=\"fill:#4c72b0;stroke:#ffffff;stroke-linejoin:miter;\"/>\n   </g>\n   <g id=\"patch_4\">\n    <path clip-path=\"url(#pe48cfb2a68)\" d=\"M 83.350795 224.64 \nL 113.787159 224.64 \nL 113.787159 165.418767 \nL 83.350795 165.418767 \nz\n\" style=\"fill:#4c72b0;stroke:#ffffff;stroke-linejoin:miter;\"/>\n   </g>\n   <g id=\"patch_5\">\n    <path clip-path=\"url(#pe48cfb2a68)\" d=\"M 113.787159 224.64 \nL 144.223523 224.64 \nL 144.223523 17.554286 \nL 113.787159 17.554286 \nz\n\" style=\"fill:#4c72b0;stroke:#ffffff;stroke-linejoin:miter;\"/>\n   </g>\n   <g id=\"patch_6\">\n    <path clip-path=\"url(#pe48cfb2a68)\" d=\"M 144.223523 224.64 \nL 174.659886 224.64 \nL 174.659886 67.722592 \nL 144.223523 67.722592 \nz\n\" style=\"fill:#4c72b0;stroke:#ffffff;stroke-linejoin:miter;\"/>\n   </g>\n   <g id=\"patch_7\">\n    <path clip-path=\"url(#pe48cfb2a68)\" d=\"M 174.659886 224.64 \nL 205.09625 224.64 \nL 205.09625 157.87466 \nL 174.659886 157.87466 \nz\n\" style=\"fill:#4c72b0;stroke:#ffffff;stroke-linejoin:miter;\"/>\n   </g>\n   <g id=\"patch_8\">\n    <path clip-path=\"url(#pe48cfb2a68)\" d=\"M 205.09625 224.64 \nL 235.532614 224.64 \nL 235.532614 215.964278 \nL 205.09625 215.964278 \nz\n\" style=\"fill:#4c72b0;stroke:#ffffff;stroke-linejoin:miter;\"/>\n   </g>\n   <g id=\"patch_9\">\n    <path clip-path=\"url(#pe48cfb2a68)\" d=\"M 235.532614 224.64 \nL 265.968977 224.64 \nL 265.968977 218.98192 \nL 235.532614 218.98192 \nz\n\" style=\"fill:#4c72b0;stroke:#ffffff;stroke-linejoin:miter;\"/>\n   </g>\n   <g id=\"patch_10\">\n    <path clip-path=\"url(#pe48cfb2a68)\" d=\"M 265.968977 224.64 \nL 296.405341 224.64 \nL 296.405341 222.376768 \nL 265.968977 222.376768 \nz\n\" style=\"fill:#4c72b0;stroke:#ffffff;stroke-linejoin:miter;\"/>\n   </g>\n   <g id=\"patch_11\">\n    <path clip-path=\"url(#pe48cfb2a68)\" d=\"M 296.405341 224.64 \nL 326.841705 224.64 \nL 326.841705 224.262795 \nL 296.405341 224.262795 \nz\n\" style=\"fill:#4c72b0;stroke:#ffffff;stroke-linejoin:miter;\"/>\n   </g>\n   <g id=\"patch_12\">\n    <path clip-path=\"url(#pe48cfb2a68)\" d=\"M 326.841705 224.64 \nL 357.278068 224.64 \nL 357.278068 224.262795 \nL 326.841705 224.262795 \nz\n\" style=\"fill:#4c72b0;stroke:#ffffff;stroke-linejoin:miter;\"/>\n   </g>\n   <g id=\"patch_13\">\n    <path d=\"M 37.69625 224.64 \nL 37.69625 7.2 \n\" style=\"fill:none;stroke:#ffffff;stroke-linecap:square;stroke-linejoin:miter;stroke-width:1.25;\"/>\n   </g>\n   <g id=\"patch_14\">\n    <path d=\"M 372.49625 224.64 \nL 372.49625 7.2 \n\" style=\"fill:none;stroke:#ffffff;stroke-linecap:square;stroke-linejoin:miter;stroke-width:1.25;\"/>\n   </g>\n   <g id=\"patch_15\">\n    <path d=\"M 37.69625 224.64 \nL 372.49625 224.64 \n\" style=\"fill:none;stroke:#ffffff;stroke-linecap:square;stroke-linejoin:miter;stroke-width:1.25;\"/>\n   </g>\n   <g id=\"patch_16\">\n    <path d=\"M 37.69625 7.2 \nL 372.49625 7.2 \n\" style=\"fill:none;stroke:#ffffff;stroke-linecap:square;stroke-linejoin:miter;stroke-width:1.25;\"/>\n   </g>\n  </g>\n </g>\n <defs>\n  <clipPath id=\"pe48cfb2a68\">\n   <rect height=\"217.44\" width=\"334.8\" x=\"37.69625\" y=\"7.2\"/>\n  </clipPath>\n </defs>\n</svg>\n"
          },
          "metadata": {}
        }
      ]
    },
    {
      "cell_type": "markdown",
      "source": [
        "###### 95% Confidence Interval for Median Salary 1+ based on Student t-test"
      ],
      "metadata": {
        "id": "R_Rd4cw31-g5"
      }
    },
    {
      "cell_type": "code",
      "source": [
        "import scipy as sp\n",
        "import scipy.stats\n",
        "mu0 = 55260 # average salary out of college in 2020\n",
        "dataset = y_train['Median Salary 1+']\n",
        "tn  = (dataset.mean()-mu0)*np.sqrt(n)/dataset.std(ddof=1)\n",
        "p   = 2*(1-scipy.stats.t.cdf(abs(tn),n-1))\n",
        "print('p-val for mu0=%f is %f'%(mu0,p))\n",
        "## t confidence intervals\n",
        "Q = sp.stats.t.ppf(1-.05/2,n-1)\n",
        "print('confidence interval: [%f, %f]'%(dataset.mean()-Q*dataset.std(ddof=1)/np.sqrt(n),dataset.mean()+Q*dataset.std(ddof=1)/np.sqrt(n)))"
      ],
      "metadata": {
        "colab": {
          "base_uri": "https://localhost:8080/"
        },
        "id": "PZKIegeju1yq",
        "outputId": "61fbb2b1-b858-4da5-867f-9117af70a151"
      },
      "execution_count": null,
      "outputs": [
        {
          "output_type": "stream",
          "name": "stdout",
          "text": [
            "p-val for mu0=55260.000000 is 0.000000\n",
            "confidence interval: [40918.674178, 42037.154931]\n"
          ]
        }
      ]
    },
    {
      "cell_type": "markdown",
      "source": [
        "##### Explain Assumptions \n",
        "\n",
        "For the binary variable 'Graduating Rate over 50%' we are assuming comes from a Bernoulli distribution and used the bernoulli CI formula to get an interval from [0.473, 0.525]. \n",
        "\n",
        "For the continous variable 'Median Salary 1+ After Graduation' we are assuming comes from a normal distribution and this is a safe assumption given our n is moderately large (1300+) by CLT. Therefore we can use the student t-test to quantify uncertainty in the mean. Our null hypothesis was that the median earnings is 55,260 from data in 2020. Under these assumptions this sample outputted a CI of [40918.67, 42037.15] median earnings."
      ],
      "metadata": {
        "id": "-kvJ8J-h1jiA"
      }
    },
    {
      "cell_type": "markdown",
      "source": [
        "#### (c) Do you believe your confidence intervals are valid? Why or why not?\n"
      ],
      "metadata": {
        "id": "j9hI90_x3458"
      }
    },
    {
      "cell_type": "markdown",
      "source": [
        "##### Our null hypothesis for the binary variable 'Graduating Rate over 50%' was that 50% of colleges have a graduating rate over 50%. Since our CI contains 0.5, this suggests that 95% of the time our CI will contain the true proportion of colleges with 'Graduating Rate over 50%'. This means our CI is valid and significant.\n",
        "\n",
        "##### Our null hypothesis for the continous variable 'Median Salary 1+ After Graduation' is that the median earnings is 55,260 from data in 2020. Since our CI does not contain 55,260, this suggest that our data underestimates the true median earnings of US graduates 95% of the time.\n",
        "\n"
      ],
      "metadata": {
        "id": "rg17KRiH4AA_"
      }
    },
    {
      "cell_type": "markdown",
      "source": [
        "#### (d) For your continuous outcome variable, test for normality in two ways: (1) QQ plots, and (2) the K-S test. What can you conclude?\n"
      ],
      "metadata": {
        "id": "kl_gMIvs5LxE"
      }
    },
    {
      "cell_type": "code",
      "source": [
        "## qq plot\n",
        "import statsmodels.api as sm\n",
        "fig = sm.graphics.qqplot(dataset, sp.stats.norm, fit=True, line='45')"
      ],
      "metadata": {
        "colab": {
          "base_uri": "https://localhost:8080/",
          "height": 378
        },
        "id": "_IpqF00E0xMY",
        "outputId": "da1b8e6f-6841-4d24-c6bd-1df25fa97d4a"
      },
      "execution_count": null,
      "outputs": [
        {
          "output_type": "display_data",
          "data": {
            "text/plain": [
              "<Figure size 432x288 with 1 Axes>"
            ],
            "image/svg+xml": "<?xml version=\"1.0\" encoding=\"utf-8\" standalone=\"no\"?>\n<!DOCTYPE svg PUBLIC \"-//W3C//DTD SVG 1.1//EN\"\n  \"http://www.w3.org/Graphics/SVG/1.1/DTD/svg11.dtd\">\n<!-- Created with matplotlib (https://matplotlib.org/) -->\n<svg height=\"267.599687pt\" version=\"1.1\" viewBox=\"0 0 390.530156 267.599687\" width=\"390.530156pt\" xmlns=\"http://www.w3.org/2000/svg\" xmlns:xlink=\"http://www.w3.org/1999/xlink\">\n <defs>\n  <style type=\"text/css\">\n*{stroke-linecap:butt;stroke-linejoin:round;}\n  </style>\n </defs>\n <g id=\"figure_1\">\n  <g id=\"patch_1\">\n   <path d=\"M 0 267.599687 \nL 390.530156 267.599687 \nL 390.530156 0 \nL 0 0 \nz\n\" style=\"fill:#ffffff;\"/>\n  </g>\n  <g id=\"axes_1\">\n   <g id=\"patch_2\">\n    <path d=\"M 48.530156 224.64 \nL 383.330156 224.64 \nL 383.330156 7.2 \nL 48.530156 7.2 \nz\n\" style=\"fill:#eaeaf2;\"/>\n   </g>\n   <g id=\"matplotlib.axis_1\">\n    <g id=\"xtick_1\">\n     <g id=\"line2d_1\">\n      <path clip-path=\"url(#p858c0417aa)\" d=\"M 91.167742 224.64 \nL 91.167742 7.2 \n\" style=\"fill:none;stroke:#ffffff;stroke-linecap:round;\"/>\n     </g>\n     <g id=\"text_1\">\n      <!-- −2 -->\n      <defs>\n       <path d=\"M 10.59375 35.5 \nL 73.1875 35.5 \nL 73.1875 27.203125 \nL 10.59375 27.203125 \nz\n\" id=\"DejaVuSans-8722\"/>\n       <path d=\"M 19.1875 8.296875 \nL 53.609375 8.296875 \nL 53.609375 0 \nL 7.328125 0 \nL 7.328125 8.296875 \nQ 12.9375 14.109375 22.625 23.890625 \nQ 32.328125 33.6875 34.8125 36.53125 \nQ 39.546875 41.84375 41.421875 45.53125 \nQ 43.3125 49.21875 43.3125 52.78125 \nQ 43.3125 58.59375 39.234375 62.25 \nQ 35.15625 65.921875 28.609375 65.921875 \nQ 23.96875 65.921875 18.8125 64.3125 \nQ 13.671875 62.703125 7.8125 59.421875 \nL 7.8125 69.390625 \nQ 13.765625 71.78125 18.9375 73 \nQ 24.125 74.21875 28.421875 74.21875 \nQ 39.75 74.21875 46.484375 68.546875 \nQ 53.21875 62.890625 53.21875 53.421875 \nQ 53.21875 48.921875 51.53125 44.890625 \nQ 49.859375 40.875 45.40625 35.40625 \nQ 44.1875 33.984375 37.640625 27.21875 \nQ 31.109375 20.453125 19.1875 8.296875 \nz\n\" id=\"DejaVuSans-50\"/>\n      </defs>\n      <g style=\"fill:#262626;\" transform=\"translate(83.059539 242.498281)scale(0.11 -0.11)\">\n       <use xlink:href=\"#DejaVuSans-8722\"/>\n       <use x=\"83.789062\" xlink:href=\"#DejaVuSans-50\"/>\n      </g>\n     </g>\n    </g>\n    <g id=\"xtick_2\">\n     <g id=\"line2d_2\">\n      <path clip-path=\"url(#p858c0417aa)\" d=\"M 156.140525 224.64 \nL 156.140525 7.2 \n\" style=\"fill:none;stroke:#ffffff;stroke-linecap:round;\"/>\n     </g>\n     <g id=\"text_2\">\n      <!-- 0 -->\n      <defs>\n       <path d=\"M 31.78125 66.40625 \nQ 24.171875 66.40625 20.328125 58.90625 \nQ 16.5 51.421875 16.5 36.375 \nQ 16.5 21.390625 20.328125 13.890625 \nQ 24.171875 6.390625 31.78125 6.390625 \nQ 39.453125 6.390625 43.28125 13.890625 \nQ 47.125 21.390625 47.125 36.375 \nQ 47.125 51.421875 43.28125 58.90625 \nQ 39.453125 66.40625 31.78125 66.40625 \nz\nM 31.78125 74.21875 \nQ 44.046875 74.21875 50.515625 64.515625 \nQ 56.984375 54.828125 56.984375 36.375 \nQ 56.984375 17.96875 50.515625 8.265625 \nQ 44.046875 -1.421875 31.78125 -1.421875 \nQ 19.53125 -1.421875 13.0625 8.265625 \nQ 6.59375 17.96875 6.59375 36.375 \nQ 6.59375 54.828125 13.0625 64.515625 \nQ 19.53125 74.21875 31.78125 74.21875 \nz\n\" id=\"DejaVuSans-48\"/>\n      </defs>\n      <g style=\"fill:#262626;\" transform=\"translate(152.64115 242.498281)scale(0.11 -0.11)\">\n       <use xlink:href=\"#DejaVuSans-48\"/>\n      </g>\n     </g>\n    </g>\n    <g id=\"xtick_3\">\n     <g id=\"line2d_3\">\n      <path clip-path=\"url(#p858c0417aa)\" d=\"M 221.113307 224.64 \nL 221.113307 7.2 \n\" style=\"fill:none;stroke:#ffffff;stroke-linecap:round;\"/>\n     </g>\n     <g id=\"text_3\">\n      <!-- 2 -->\n      <g style=\"fill:#262626;\" transform=\"translate(217.613932 242.498281)scale(0.11 -0.11)\">\n       <use xlink:href=\"#DejaVuSans-50\"/>\n      </g>\n     </g>\n    </g>\n    <g id=\"xtick_4\">\n     <g id=\"line2d_4\">\n      <path clip-path=\"url(#p858c0417aa)\" d=\"M 286.08609 224.64 \nL 286.08609 7.2 \n\" style=\"fill:none;stroke:#ffffff;stroke-linecap:round;\"/>\n     </g>\n     <g id=\"text_4\">\n      <!-- 4 -->\n      <defs>\n       <path d=\"M 37.796875 64.3125 \nL 12.890625 25.390625 \nL 37.796875 25.390625 \nz\nM 35.203125 72.90625 \nL 47.609375 72.90625 \nL 47.609375 25.390625 \nL 58.015625 25.390625 \nL 58.015625 17.1875 \nL 47.609375 17.1875 \nL 47.609375 0 \nL 37.796875 0 \nL 37.796875 17.1875 \nL 4.890625 17.1875 \nL 4.890625 26.703125 \nz\n\" id=\"DejaVuSans-52\"/>\n      </defs>\n      <g style=\"fill:#262626;\" transform=\"translate(282.586715 242.498281)scale(0.11 -0.11)\">\n       <use xlink:href=\"#DejaVuSans-52\"/>\n      </g>\n     </g>\n    </g>\n    <g id=\"xtick_5\">\n     <g id=\"line2d_5\">\n      <path clip-path=\"url(#p858c0417aa)\" d=\"M 351.058873 224.64 \nL 351.058873 7.2 \n\" style=\"fill:none;stroke:#ffffff;stroke-linecap:round;\"/>\n     </g>\n     <g id=\"text_5\">\n      <!-- 6 -->\n      <defs>\n       <path d=\"M 33.015625 40.375 \nQ 26.375 40.375 22.484375 35.828125 \nQ 18.609375 31.296875 18.609375 23.390625 \nQ 18.609375 15.53125 22.484375 10.953125 \nQ 26.375 6.390625 33.015625 6.390625 \nQ 39.65625 6.390625 43.53125 10.953125 \nQ 47.40625 15.53125 47.40625 23.390625 \nQ 47.40625 31.296875 43.53125 35.828125 \nQ 39.65625 40.375 33.015625 40.375 \nz\nM 52.59375 71.296875 \nL 52.59375 62.3125 \nQ 48.875 64.0625 45.09375 64.984375 \nQ 41.3125 65.921875 37.59375 65.921875 \nQ 27.828125 65.921875 22.671875 59.328125 \nQ 17.53125 52.734375 16.796875 39.40625 \nQ 19.671875 43.65625 24.015625 45.921875 \nQ 28.375 48.1875 33.59375 48.1875 \nQ 44.578125 48.1875 50.953125 41.515625 \nQ 57.328125 34.859375 57.328125 23.390625 \nQ 57.328125 12.15625 50.6875 5.359375 \nQ 44.046875 -1.421875 33.015625 -1.421875 \nQ 20.359375 -1.421875 13.671875 8.265625 \nQ 6.984375 17.96875 6.984375 36.375 \nQ 6.984375 53.65625 15.1875 63.9375 \nQ 23.390625 74.21875 37.203125 74.21875 \nQ 40.921875 74.21875 44.703125 73.484375 \nQ 48.484375 72.75 52.59375 71.296875 \nz\n\" id=\"DejaVuSans-54\"/>\n      </defs>\n      <g style=\"fill:#262626;\" transform=\"translate(347.559498 242.498281)scale(0.11 -0.11)\">\n       <use xlink:href=\"#DejaVuSans-54\"/>\n      </g>\n     </g>\n    </g>\n    <g id=\"text_6\">\n     <!-- Theoretical Quantiles -->\n     <defs>\n      <path d=\"M -0.296875 72.90625 \nL 61.375 72.90625 \nL 61.375 64.59375 \nL 35.5 64.59375 \nL 35.5 0 \nL 25.59375 0 \nL 25.59375 64.59375 \nL -0.296875 64.59375 \nz\n\" id=\"DejaVuSans-84\"/>\n      <path d=\"M 54.890625 33.015625 \nL 54.890625 0 \nL 45.90625 0 \nL 45.90625 32.71875 \nQ 45.90625 40.484375 42.875 44.328125 \nQ 39.84375 48.1875 33.796875 48.1875 \nQ 26.515625 48.1875 22.3125 43.546875 \nQ 18.109375 38.921875 18.109375 30.90625 \nL 18.109375 0 \nL 9.078125 0 \nL 9.078125 75.984375 \nL 18.109375 75.984375 \nL 18.109375 46.1875 \nQ 21.34375 51.125 25.703125 53.5625 \nQ 30.078125 56 35.796875 56 \nQ 45.21875 56 50.046875 50.171875 \nQ 54.890625 44.34375 54.890625 33.015625 \nz\n\" id=\"DejaVuSans-104\"/>\n      <path d=\"M 56.203125 29.59375 \nL 56.203125 25.203125 \nL 14.890625 25.203125 \nQ 15.484375 15.921875 20.484375 11.0625 \nQ 25.484375 6.203125 34.421875 6.203125 \nQ 39.59375 6.203125 44.453125 7.46875 \nQ 49.3125 8.734375 54.109375 11.28125 \nL 54.109375 2.78125 \nQ 49.265625 0.734375 44.1875 -0.34375 \nQ 39.109375 -1.421875 33.890625 -1.421875 \nQ 20.796875 -1.421875 13.15625 6.1875 \nQ 5.515625 13.8125 5.515625 26.8125 \nQ 5.515625 40.234375 12.765625 48.109375 \nQ 20.015625 56 32.328125 56 \nQ 43.359375 56 49.78125 48.890625 \nQ 56.203125 41.796875 56.203125 29.59375 \nz\nM 47.21875 32.234375 \nQ 47.125 39.59375 43.09375 43.984375 \nQ 39.0625 48.390625 32.421875 48.390625 \nQ 24.90625 48.390625 20.390625 44.140625 \nQ 15.875 39.890625 15.1875 32.171875 \nz\n\" id=\"DejaVuSans-101\"/>\n      <path d=\"M 30.609375 48.390625 \nQ 23.390625 48.390625 19.1875 42.75 \nQ 14.984375 37.109375 14.984375 27.296875 \nQ 14.984375 17.484375 19.15625 11.84375 \nQ 23.34375 6.203125 30.609375 6.203125 \nQ 37.796875 6.203125 41.984375 11.859375 \nQ 46.1875 17.53125 46.1875 27.296875 \nQ 46.1875 37.015625 41.984375 42.703125 \nQ 37.796875 48.390625 30.609375 48.390625 \nz\nM 30.609375 56 \nQ 42.328125 56 49.015625 48.375 \nQ 55.71875 40.765625 55.71875 27.296875 \nQ 55.71875 13.875 49.015625 6.21875 \nQ 42.328125 -1.421875 30.609375 -1.421875 \nQ 18.84375 -1.421875 12.171875 6.21875 \nQ 5.515625 13.875 5.515625 27.296875 \nQ 5.515625 40.765625 12.171875 48.375 \nQ 18.84375 56 30.609375 56 \nz\n\" id=\"DejaVuSans-111\"/>\n      <path d=\"M 41.109375 46.296875 \nQ 39.59375 47.171875 37.8125 47.578125 \nQ 36.03125 48 33.890625 48 \nQ 26.265625 48 22.1875 43.046875 \nQ 18.109375 38.09375 18.109375 28.8125 \nL 18.109375 0 \nL 9.078125 0 \nL 9.078125 54.6875 \nL 18.109375 54.6875 \nL 18.109375 46.1875 \nQ 20.953125 51.171875 25.484375 53.578125 \nQ 30.03125 56 36.53125 56 \nQ 37.453125 56 38.578125 55.875 \nQ 39.703125 55.765625 41.0625 55.515625 \nz\n\" id=\"DejaVuSans-114\"/>\n      <path d=\"M 18.3125 70.21875 \nL 18.3125 54.6875 \nL 36.8125 54.6875 \nL 36.8125 47.703125 \nL 18.3125 47.703125 \nL 18.3125 18.015625 \nQ 18.3125 11.328125 20.140625 9.421875 \nQ 21.96875 7.515625 27.59375 7.515625 \nL 36.8125 7.515625 \nL 36.8125 0 \nL 27.59375 0 \nQ 17.1875 0 13.234375 3.875 \nQ 9.28125 7.765625 9.28125 18.015625 \nL 9.28125 47.703125 \nL 2.6875 47.703125 \nL 2.6875 54.6875 \nL 9.28125 54.6875 \nL 9.28125 70.21875 \nz\n\" id=\"DejaVuSans-116\"/>\n      <path d=\"M 9.421875 54.6875 \nL 18.40625 54.6875 \nL 18.40625 0 \nL 9.421875 0 \nz\nM 9.421875 75.984375 \nL 18.40625 75.984375 \nL 18.40625 64.59375 \nL 9.421875 64.59375 \nz\n\" id=\"DejaVuSans-105\"/>\n      <path d=\"M 48.78125 52.59375 \nL 48.78125 44.1875 \nQ 44.96875 46.296875 41.140625 47.34375 \nQ 37.3125 48.390625 33.40625 48.390625 \nQ 24.65625 48.390625 19.8125 42.84375 \nQ 14.984375 37.3125 14.984375 27.296875 \nQ 14.984375 17.28125 19.8125 11.734375 \nQ 24.65625 6.203125 33.40625 6.203125 \nQ 37.3125 6.203125 41.140625 7.25 \nQ 44.96875 8.296875 48.78125 10.40625 \nL 48.78125 2.09375 \nQ 45.015625 0.34375 40.984375 -0.53125 \nQ 36.96875 -1.421875 32.421875 -1.421875 \nQ 20.0625 -1.421875 12.78125 6.34375 \nQ 5.515625 14.109375 5.515625 27.296875 \nQ 5.515625 40.671875 12.859375 48.328125 \nQ 20.21875 56 33.015625 56 \nQ 37.15625 56 41.109375 55.140625 \nQ 45.0625 54.296875 48.78125 52.59375 \nz\n\" id=\"DejaVuSans-99\"/>\n      <path d=\"M 34.28125 27.484375 \nQ 23.390625 27.484375 19.1875 25 \nQ 14.984375 22.515625 14.984375 16.5 \nQ 14.984375 11.71875 18.140625 8.90625 \nQ 21.296875 6.109375 26.703125 6.109375 \nQ 34.1875 6.109375 38.703125 11.40625 \nQ 43.21875 16.703125 43.21875 25.484375 \nL 43.21875 27.484375 \nz\nM 52.203125 31.203125 \nL 52.203125 0 \nL 43.21875 0 \nL 43.21875 8.296875 \nQ 40.140625 3.328125 35.546875 0.953125 \nQ 30.953125 -1.421875 24.3125 -1.421875 \nQ 15.921875 -1.421875 10.953125 3.296875 \nQ 6 8.015625 6 15.921875 \nQ 6 25.140625 12.171875 29.828125 \nQ 18.359375 34.515625 30.609375 34.515625 \nL 43.21875 34.515625 \nL 43.21875 35.40625 \nQ 43.21875 41.609375 39.140625 45 \nQ 35.0625 48.390625 27.6875 48.390625 \nQ 23 48.390625 18.546875 47.265625 \nQ 14.109375 46.140625 10.015625 43.890625 \nL 10.015625 52.203125 \nQ 14.9375 54.109375 19.578125 55.046875 \nQ 24.21875 56 28.609375 56 \nQ 40.484375 56 46.34375 49.84375 \nQ 52.203125 43.703125 52.203125 31.203125 \nz\n\" id=\"DejaVuSans-97\"/>\n      <path d=\"M 9.421875 75.984375 \nL 18.40625 75.984375 \nL 18.40625 0 \nL 9.421875 0 \nz\n\" id=\"DejaVuSans-108\"/>\n      <path id=\"DejaVuSans-32\"/>\n      <path d=\"M 39.40625 66.21875 \nQ 28.65625 66.21875 22.328125 58.203125 \nQ 16.015625 50.203125 16.015625 36.375 \nQ 16.015625 22.609375 22.328125 14.59375 \nQ 28.65625 6.59375 39.40625 6.59375 \nQ 50.140625 6.59375 56.421875 14.59375 \nQ 62.703125 22.609375 62.703125 36.375 \nQ 62.703125 50.203125 56.421875 58.203125 \nQ 50.140625 66.21875 39.40625 66.21875 \nz\nM 53.21875 1.3125 \nL 66.21875 -12.890625 \nL 54.296875 -12.890625 \nL 43.5 -1.21875 \nQ 41.890625 -1.3125 41.03125 -1.359375 \nQ 40.1875 -1.421875 39.40625 -1.421875 \nQ 24.03125 -1.421875 14.8125 8.859375 \nQ 5.609375 19.140625 5.609375 36.375 \nQ 5.609375 53.65625 14.8125 63.9375 \nQ 24.03125 74.21875 39.40625 74.21875 \nQ 54.734375 74.21875 63.90625 63.9375 \nQ 73.09375 53.65625 73.09375 36.375 \nQ 73.09375 23.6875 67.984375 14.640625 \nQ 62.890625 5.609375 53.21875 1.3125 \nz\n\" id=\"DejaVuSans-81\"/>\n      <path d=\"M 8.5 21.578125 \nL 8.5 54.6875 \nL 17.484375 54.6875 \nL 17.484375 21.921875 \nQ 17.484375 14.15625 20.5 10.265625 \nQ 23.53125 6.390625 29.59375 6.390625 \nQ 36.859375 6.390625 41.078125 11.03125 \nQ 45.3125 15.671875 45.3125 23.6875 \nL 45.3125 54.6875 \nL 54.296875 54.6875 \nL 54.296875 0 \nL 45.3125 0 \nL 45.3125 8.40625 \nQ 42.046875 3.421875 37.71875 1 \nQ 33.40625 -1.421875 27.6875 -1.421875 \nQ 18.265625 -1.421875 13.375 4.4375 \nQ 8.5 10.296875 8.5 21.578125 \nz\nM 31.109375 56 \nz\n\" id=\"DejaVuSans-117\"/>\n      <path d=\"M 54.890625 33.015625 \nL 54.890625 0 \nL 45.90625 0 \nL 45.90625 32.71875 \nQ 45.90625 40.484375 42.875 44.328125 \nQ 39.84375 48.1875 33.796875 48.1875 \nQ 26.515625 48.1875 22.3125 43.546875 \nQ 18.109375 38.921875 18.109375 30.90625 \nL 18.109375 0 \nL 9.078125 0 \nL 9.078125 54.6875 \nL 18.109375 54.6875 \nL 18.109375 46.1875 \nQ 21.34375 51.125 25.703125 53.5625 \nQ 30.078125 56 35.796875 56 \nQ 45.21875 56 50.046875 50.171875 \nQ 54.890625 44.34375 54.890625 33.015625 \nz\n\" id=\"DejaVuSans-110\"/>\n      <path d=\"M 44.28125 53.078125 \nL 44.28125 44.578125 \nQ 40.484375 46.53125 36.375 47.5 \nQ 32.28125 48.484375 27.875 48.484375 \nQ 21.1875 48.484375 17.84375 46.4375 \nQ 14.5 44.390625 14.5 40.28125 \nQ 14.5 37.15625 16.890625 35.375 \nQ 19.28125 33.59375 26.515625 31.984375 \nL 29.59375 31.296875 \nQ 39.15625 29.25 43.1875 25.515625 \nQ 47.21875 21.78125 47.21875 15.09375 \nQ 47.21875 7.46875 41.1875 3.015625 \nQ 35.15625 -1.421875 24.609375 -1.421875 \nQ 20.21875 -1.421875 15.453125 -0.5625 \nQ 10.6875 0.296875 5.421875 2 \nL 5.421875 11.28125 \nQ 10.40625 8.6875 15.234375 7.390625 \nQ 20.0625 6.109375 24.8125 6.109375 \nQ 31.15625 6.109375 34.5625 8.28125 \nQ 37.984375 10.453125 37.984375 14.40625 \nQ 37.984375 18.0625 35.515625 20.015625 \nQ 33.0625 21.96875 24.703125 23.78125 \nL 21.578125 24.515625 \nQ 13.234375 26.265625 9.515625 29.90625 \nQ 5.8125 33.546875 5.8125 39.890625 \nQ 5.8125 47.609375 11.28125 51.796875 \nQ 16.75 56 26.8125 56 \nQ 31.78125 56 36.171875 55.265625 \nQ 40.578125 54.546875 44.28125 53.078125 \nz\n\" id=\"DejaVuSans-115\"/>\n     </defs>\n     <g style=\"fill:#262626;\" transform=\"translate(151.999219 257.904062)scale(0.12 -0.12)\">\n      <use xlink:href=\"#DejaVuSans-84\"/>\n      <use x=\"61.083984\" xlink:href=\"#DejaVuSans-104\"/>\n      <use x=\"124.462891\" xlink:href=\"#DejaVuSans-101\"/>\n      <use x=\"185.986328\" xlink:href=\"#DejaVuSans-111\"/>\n      <use x=\"247.167969\" xlink:href=\"#DejaVuSans-114\"/>\n      <use x=\"286.03125\" xlink:href=\"#DejaVuSans-101\"/>\n      <use x=\"347.554688\" xlink:href=\"#DejaVuSans-116\"/>\n      <use x=\"386.763672\" xlink:href=\"#DejaVuSans-105\"/>\n      <use x=\"414.546875\" xlink:href=\"#DejaVuSans-99\"/>\n      <use x=\"469.527344\" xlink:href=\"#DejaVuSans-97\"/>\n      <use x=\"530.806641\" xlink:href=\"#DejaVuSans-108\"/>\n      <use x=\"558.589844\" xlink:href=\"#DejaVuSans-32\"/>\n      <use x=\"590.376953\" xlink:href=\"#DejaVuSans-81\"/>\n      <use x=\"669.087891\" xlink:href=\"#DejaVuSans-117\"/>\n      <use x=\"732.466797\" xlink:href=\"#DejaVuSans-97\"/>\n      <use x=\"793.746094\" xlink:href=\"#DejaVuSans-110\"/>\n      <use x=\"857.125\" xlink:href=\"#DejaVuSans-116\"/>\n      <use x=\"896.333984\" xlink:href=\"#DejaVuSans-105\"/>\n      <use x=\"924.117188\" xlink:href=\"#DejaVuSans-108\"/>\n      <use x=\"951.900391\" xlink:href=\"#DejaVuSans-101\"/>\n      <use x=\"1013.423828\" xlink:href=\"#DejaVuSans-115\"/>\n     </g>\n    </g>\n   </g>\n   <g id=\"matplotlib.axis_2\">\n    <g id=\"ytick_1\">\n     <g id=\"line2d_6\">\n      <path clip-path=\"url(#p858c0417aa)\" d=\"M 48.530156 196.948493 \nL 383.330156 196.948493 \n\" style=\"fill:none;stroke:#ffffff;stroke-linecap:round;\"/>\n     </g>\n     <g id=\"text_7\">\n      <!-- −2 -->\n      <g style=\"fill:#262626;\" transform=\"translate(22.81375 201.127633)scale(0.11 -0.11)\">\n       <use xlink:href=\"#DejaVuSans-8722\"/>\n       <use x=\"83.789062\" xlink:href=\"#DejaVuSans-50\"/>\n      </g>\n     </g>\n    </g>\n    <g id=\"ytick_2\">\n     <g id=\"line2d_7\">\n      <path clip-path=\"url(#p858c0417aa)\" d=\"M 48.530156 154.751115 \nL 383.330156 154.751115 \n\" style=\"fill:none;stroke:#ffffff;stroke-linecap:round;\"/>\n     </g>\n     <g id=\"text_8\">\n      <!-- 0 -->\n      <g style=\"fill:#262626;\" transform=\"translate(32.031406 158.930256)scale(0.11 -0.11)\">\n       <use xlink:href=\"#DejaVuSans-48\"/>\n      </g>\n     </g>\n    </g>\n    <g id=\"ytick_3\">\n     <g id=\"line2d_8\">\n      <path clip-path=\"url(#p858c0417aa)\" d=\"M 48.530156 112.553738 \nL 383.330156 112.553738 \n\" style=\"fill:none;stroke:#ffffff;stroke-linecap:round;\"/>\n     </g>\n     <g id=\"text_9\">\n      <!-- 2 -->\n      <g style=\"fill:#262626;\" transform=\"translate(32.031406 116.732879)scale(0.11 -0.11)\">\n       <use xlink:href=\"#DejaVuSans-50\"/>\n      </g>\n     </g>\n    </g>\n    <g id=\"ytick_4\">\n     <g id=\"line2d_9\">\n      <path clip-path=\"url(#p858c0417aa)\" d=\"M 48.530156 70.356361 \nL 383.330156 70.356361 \n\" style=\"fill:none;stroke:#ffffff;stroke-linecap:round;\"/>\n     </g>\n     <g id=\"text_10\">\n      <!-- 4 -->\n      <g style=\"fill:#262626;\" transform=\"translate(32.031406 74.535502)scale(0.11 -0.11)\">\n       <use xlink:href=\"#DejaVuSans-52\"/>\n      </g>\n     </g>\n    </g>\n    <g id=\"ytick_5\">\n     <g id=\"line2d_10\">\n      <path clip-path=\"url(#p858c0417aa)\" d=\"M 48.530156 28.158984 \nL 383.330156 28.158984 \n\" style=\"fill:none;stroke:#ffffff;stroke-linecap:round;\"/>\n     </g>\n     <g id=\"text_11\">\n      <!-- 6 -->\n      <g style=\"fill:#262626;\" transform=\"translate(32.031406 32.338125)scale(0.11 -0.11)\">\n       <use xlink:href=\"#DejaVuSans-54\"/>\n      </g>\n     </g>\n    </g>\n    <g id=\"text_12\">\n     <!-- Sample Quantiles -->\n     <defs>\n      <path d=\"M 53.515625 70.515625 \nL 53.515625 60.890625 \nQ 47.90625 63.578125 42.921875 64.890625 \nQ 37.9375 66.21875 33.296875 66.21875 \nQ 25.25 66.21875 20.875 63.09375 \nQ 16.5 59.96875 16.5 54.203125 \nQ 16.5 49.359375 19.40625 46.890625 \nQ 22.3125 44.4375 30.421875 42.921875 \nL 36.375 41.703125 \nQ 47.40625 39.59375 52.65625 34.296875 \nQ 57.90625 29 57.90625 20.125 \nQ 57.90625 9.515625 50.796875 4.046875 \nQ 43.703125 -1.421875 29.984375 -1.421875 \nQ 24.8125 -1.421875 18.96875 -0.25 \nQ 13.140625 0.921875 6.890625 3.21875 \nL 6.890625 13.375 \nQ 12.890625 10.015625 18.65625 8.296875 \nQ 24.421875 6.59375 29.984375 6.59375 \nQ 38.421875 6.59375 43.015625 9.90625 \nQ 47.609375 13.234375 47.609375 19.390625 \nQ 47.609375 24.75 44.3125 27.78125 \nQ 41.015625 30.8125 33.5 32.328125 \nL 27.484375 33.5 \nQ 16.453125 35.6875 11.515625 40.375 \nQ 6.59375 45.0625 6.59375 53.421875 \nQ 6.59375 63.09375 13.40625 68.65625 \nQ 20.21875 74.21875 32.171875 74.21875 \nQ 37.3125 74.21875 42.625 73.28125 \nQ 47.953125 72.359375 53.515625 70.515625 \nz\n\" id=\"DejaVuSans-83\"/>\n      <path d=\"M 52 44.1875 \nQ 55.375 50.25 60.0625 53.125 \nQ 64.75 56 71.09375 56 \nQ 79.640625 56 84.28125 50.015625 \nQ 88.921875 44.046875 88.921875 33.015625 \nL 88.921875 0 \nL 79.890625 0 \nL 79.890625 32.71875 \nQ 79.890625 40.578125 77.09375 44.375 \nQ 74.3125 48.1875 68.609375 48.1875 \nQ 61.625 48.1875 57.5625 43.546875 \nQ 53.515625 38.921875 53.515625 30.90625 \nL 53.515625 0 \nL 44.484375 0 \nL 44.484375 32.71875 \nQ 44.484375 40.625 41.703125 44.40625 \nQ 38.921875 48.1875 33.109375 48.1875 \nQ 26.21875 48.1875 22.15625 43.53125 \nQ 18.109375 38.875 18.109375 30.90625 \nL 18.109375 0 \nL 9.078125 0 \nL 9.078125 54.6875 \nL 18.109375 54.6875 \nL 18.109375 46.1875 \nQ 21.1875 51.21875 25.484375 53.609375 \nQ 29.78125 56 35.6875 56 \nQ 41.65625 56 45.828125 52.96875 \nQ 50 49.953125 52 44.1875 \nz\n\" id=\"DejaVuSans-109\"/>\n      <path d=\"M 18.109375 8.203125 \nL 18.109375 -20.796875 \nL 9.078125 -20.796875 \nL 9.078125 54.6875 \nL 18.109375 54.6875 \nL 18.109375 46.390625 \nQ 20.953125 51.265625 25.265625 53.625 \nQ 29.59375 56 35.59375 56 \nQ 45.5625 56 51.78125 48.09375 \nQ 58.015625 40.1875 58.015625 27.296875 \nQ 58.015625 14.40625 51.78125 6.484375 \nQ 45.5625 -1.421875 35.59375 -1.421875 \nQ 29.59375 -1.421875 25.265625 0.953125 \nQ 20.953125 3.328125 18.109375 8.203125 \nz\nM 48.6875 27.296875 \nQ 48.6875 37.203125 44.609375 42.84375 \nQ 40.53125 48.484375 33.40625 48.484375 \nQ 26.265625 48.484375 22.1875 42.84375 \nQ 18.109375 37.203125 18.109375 27.296875 \nQ 18.109375 17.390625 22.1875 11.75 \nQ 26.265625 6.109375 33.40625 6.109375 \nQ 40.53125 6.109375 44.609375 11.75 \nQ 48.6875 17.390625 48.6875 27.296875 \nz\n\" id=\"DejaVuSans-112\"/>\n     </defs>\n     <g style=\"fill:#262626;\" transform=\"translate(16.318125 168.833437)rotate(-90)scale(0.12 -0.12)\">\n      <use xlink:href=\"#DejaVuSans-83\"/>\n      <use x=\"63.476562\" xlink:href=\"#DejaVuSans-97\"/>\n      <use x=\"124.755859\" xlink:href=\"#DejaVuSans-109\"/>\n      <use x=\"222.167969\" xlink:href=\"#DejaVuSans-112\"/>\n      <use x=\"285.644531\" xlink:href=\"#DejaVuSans-108\"/>\n      <use x=\"313.427734\" xlink:href=\"#DejaVuSans-101\"/>\n      <use x=\"374.951172\" xlink:href=\"#DejaVuSans-32\"/>\n      <use x=\"406.738281\" xlink:href=\"#DejaVuSans-81\"/>\n      <use x=\"485.449219\" xlink:href=\"#DejaVuSans-117\"/>\n      <use x=\"548.828125\" xlink:href=\"#DejaVuSans-97\"/>\n      <use x=\"610.107422\" xlink:href=\"#DejaVuSans-110\"/>\n      <use x=\"673.486328\" xlink:href=\"#DejaVuSans-116\"/>\n      <use x=\"712.695312\" xlink:href=\"#DejaVuSans-105\"/>\n      <use x=\"740.478516\" xlink:href=\"#DejaVuSans-108\"/>\n      <use x=\"768.261719\" xlink:href=\"#DejaVuSans-101\"/>\n      <use x=\"829.785156\" xlink:href=\"#DejaVuSans-115\"/>\n     </g>\n    </g>\n   </g>\n   <g id=\"line2d_11\">\n    <defs>\n     <path d=\"M 0 3 \nC 0.795609 3 1.55874 2.683901 2.12132 2.12132 \nC 2.683901 1.55874 3 0.795609 3 0 \nC 3 -0.795609 2.683901 -1.55874 2.12132 -2.12132 \nC 1.55874 -2.683901 0.795609 -3 0 -3 \nC -0.795609 -3 -1.55874 -2.683901 -2.12132 -2.12132 \nC -2.683901 -1.55874 -3 -0.795609 -3 0 \nC -3 0.795609 -2.683901 1.55874 -2.12132 2.12132 \nC -1.55874 2.683901 -0.795609 3 0 3 \nz\n\" id=\"m3c5fdccf07\" style=\"stroke:#4c72b0;\"/>\n    </defs>\n    <g clip-path=\"url(#p858c0417aa)\">\n     <use style=\"fill:#4c72b0;stroke:#4c72b0;\" x=\"52.669017\" xlink:href=\"#m3c5fdccf07\" y=\"213.877312\"/>\n     <use style=\"fill:#4c72b0;stroke:#4c72b0;\" x=\"59.371989\" xlink:href=\"#m3c5fdccf07\" y=\"210.689692\"/>\n     <use style=\"fill:#4c72b0;stroke:#4c72b0;\" x=\"63.482261\" xlink:href=\"#m3c5fdccf07\" y=\"210.490465\"/>\n     <use style=\"fill:#4c72b0;stroke:#4c72b0;\" x=\"66.493821\" xlink:href=\"#m3c5fdccf07\" y=\"210.092013\"/>\n     <use style=\"fill:#4c72b0;stroke:#4c72b0;\" x=\"68.888952\" xlink:href=\"#m3c5fdccf07\" y=\"209.295108\"/>\n     <use style=\"fill:#4c72b0;stroke:#4c72b0;\" x=\"70.886923\" xlink:href=\"#m3c5fdccf07\" y=\"208.498203\"/>\n     <use style=\"fill:#4c72b0;stroke:#4c72b0;\" x=\"72.606595\" xlink:href=\"#m3c5fdccf07\" y=\"208.298977\"/>\n     <use style=\"fill:#4c72b0;stroke:#4c72b0;\" x=\"74.119879\" xlink:href=\"#m3c5fdccf07\" y=\"204.115225\"/>\n     <use style=\"fill:#4c72b0;stroke:#4c72b0;\" x=\"75.4737\" xlink:href=\"#m3c5fdccf07\" y=\"202.322189\"/>\n     <use style=\"fill:#4c72b0;stroke:#4c72b0;\" x=\"76.700427\" xlink:href=\"#m3c5fdccf07\" y=\"202.322189\"/>\n     <use style=\"fill:#4c72b0;stroke:#4c72b0;\" x=\"77.823362\" xlink:href=\"#m3c5fdccf07\" y=\"202.322189\"/>\n     <use style=\"fill:#4c72b0;stroke:#4c72b0;\" x=\"78.859855\" xlink:href=\"#m3c5fdccf07\" y=\"200.728379\"/>\n     <use style=\"fill:#4c72b0;stroke:#4c72b0;\" x=\"79.823183\" xlink:href=\"#m3c5fdccf07\" y=\"200.329927\"/>\n     <use style=\"fill:#4c72b0;stroke:#4c72b0;\" x=\"80.72374\" xlink:href=\"#m3c5fdccf07\" y=\"200.329927\"/>\n     <use style=\"fill:#4c72b0;stroke:#4c72b0;\" x=\"81.56982\" xlink:href=\"#m3c5fdccf07\" y=\"200.329927\"/>\n     <use style=\"fill:#4c72b0;stroke:#4c72b0;\" x=\"82.368153\" xlink:href=\"#m3c5fdccf07\" y=\"200.329927\"/>\n     <use style=\"fill:#4c72b0;stroke:#4c72b0;\" x=\"83.124274\" xlink:href=\"#m3c5fdccf07\" y=\"199.732248\"/>\n     <use style=\"fill:#4c72b0;stroke:#4c72b0;\" x=\"83.842794\" xlink:href=\"#m3c5fdccf07\" y=\"199.134569\"/>\n     <use style=\"fill:#4c72b0;stroke:#4c72b0;\" x=\"84.527596\" xlink:href=\"#m3c5fdccf07\" y=\"198.935343\"/>\n     <use style=\"fill:#4c72b0;stroke:#4c72b0;\" x=\"85.181982\" xlink:href=\"#m3c5fdccf07\" y=\"198.736117\"/>\n     <use style=\"fill:#4c72b0;stroke:#4c72b0;\" x=\"85.808783\" xlink:href=\"#m3c5fdccf07\" y=\"197.540759\"/>\n     <use style=\"fill:#4c72b0;stroke:#4c72b0;\" x=\"86.410445\" xlink:href=\"#m3c5fdccf07\" y=\"197.540759\"/>\n     <use style=\"fill:#4c72b0;stroke:#4c72b0;\" x=\"86.9891\" xlink:href=\"#m3c5fdccf07\" y=\"197.540759\"/>\n     <use style=\"fill:#4c72b0;stroke:#4c72b0;\" x=\"87.546612\" xlink:href=\"#m3c5fdccf07\" y=\"197.540759\"/>\n     <use style=\"fill:#4c72b0;stroke:#4c72b0;\" x=\"88.084625\" xlink:href=\"#m3c5fdccf07\" y=\"197.540759\"/>\n     <use style=\"fill:#4c72b0;stroke:#4c72b0;\" x=\"88.604596\" xlink:href=\"#m3c5fdccf07\" y=\"197.540759\"/>\n     <use style=\"fill:#4c72b0;stroke:#4c72b0;\" x=\"89.10782\" xlink:href=\"#m3c5fdccf07\" y=\"197.540759\"/>\n     <use style=\"fill:#4c72b0;stroke:#4c72b0;\" x=\"89.595455\" xlink:href=\"#m3c5fdccf07\" y=\"197.540759\"/>\n     <use style=\"fill:#4c72b0;stroke:#4c72b0;\" x=\"90.068542\" xlink:href=\"#m3c5fdccf07\" y=\"197.341533\"/>\n     <use style=\"fill:#4c72b0;stroke:#4c72b0;\" x=\"90.528018\" xlink:href=\"#m3c5fdccf07\" y=\"196.94308\"/>\n     <use style=\"fill:#4c72b0;stroke:#4c72b0;\" x=\"90.974733\" xlink:href=\"#m3c5fdccf07\" y=\"195.747723\"/>\n     <use style=\"fill:#4c72b0;stroke:#4c72b0;\" x=\"91.409455\" xlink:href=\"#m3c5fdccf07\" y=\"195.34927\"/>\n     <use style=\"fill:#4c72b0;stroke:#4c72b0;\" x=\"91.832885\" xlink:href=\"#m3c5fdccf07\" y=\"194.950818\"/>\n     <use style=\"fill:#4c72b0;stroke:#4c72b0;\" x=\"92.245665\" xlink:href=\"#m3c5fdccf07\" y=\"194.950818\"/>\n     <use style=\"fill:#4c72b0;stroke:#4c72b0;\" x=\"92.648379\" xlink:href=\"#m3c5fdccf07\" y=\"194.751592\"/>\n     <use style=\"fill:#4c72b0;stroke:#4c72b0;\" x=\"93.041567\" xlink:href=\"#m3c5fdccf07\" y=\"194.353139\"/>\n     <use style=\"fill:#4c72b0;stroke:#4c72b0;\" x=\"93.425722\" xlink:href=\"#m3c5fdccf07\" y=\"193.157782\"/>\n     <use style=\"fill:#4c72b0;stroke:#4c72b0;\" x=\"93.801304\" xlink:href=\"#m3c5fdccf07\" y=\"192.958555\"/>\n     <use style=\"fill:#4c72b0;stroke:#4c72b0;\" x=\"94.168733\" xlink:href=\"#m3c5fdccf07\" y=\"192.958555\"/>\n     <use style=\"fill:#4c72b0;stroke:#4c72b0;\" x=\"94.528402\" xlink:href=\"#m3c5fdccf07\" y=\"192.759329\"/>\n     <use style=\"fill:#4c72b0;stroke:#4c72b0;\" x=\"94.880673\" xlink:href=\"#m3c5fdccf07\" y=\"192.360877\"/>\n     <use style=\"fill:#4c72b0;stroke:#4c72b0;\" x=\"95.225885\" xlink:href=\"#m3c5fdccf07\" y=\"192.16165\"/>\n     <use style=\"fill:#4c72b0;stroke:#4c72b0;\" x=\"95.564352\" xlink:href=\"#m3c5fdccf07\" y=\"191.763198\"/>\n     <use style=\"fill:#4c72b0;stroke:#4c72b0;\" x=\"95.896369\" xlink:href=\"#m3c5fdccf07\" y=\"191.165519\"/>\n     <use style=\"fill:#4c72b0;stroke:#4c72b0;\" x=\"96.22221\" xlink:href=\"#m3c5fdccf07\" y=\"191.165519\"/>\n     <use style=\"fill:#4c72b0;stroke:#4c72b0;\" x=\"96.542133\" xlink:href=\"#m3c5fdccf07\" y=\"191.165519\"/>\n     <use style=\"fill:#4c72b0;stroke:#4c72b0;\" x=\"96.856377\" xlink:href=\"#m3c5fdccf07\" y=\"190.966293\"/>\n     <use style=\"fill:#4c72b0;stroke:#4c72b0;\" x=\"97.165171\" xlink:href=\"#m3c5fdccf07\" y=\"188.177125\"/>\n     <use style=\"fill:#4c72b0;stroke:#4c72b0;\" x=\"97.468726\" xlink:href=\"#m3c5fdccf07\" y=\"187.778673\"/>\n     <use style=\"fill:#4c72b0;stroke:#4c72b0;\" x=\"97.767243\" xlink:href=\"#m3c5fdccf07\" y=\"187.778673\"/>\n     <use style=\"fill:#4c72b0;stroke:#4c72b0;\" x=\"98.060911\" xlink:href=\"#m3c5fdccf07\" y=\"187.579447\"/>\n     <use style=\"fill:#4c72b0;stroke:#4c72b0;\" x=\"98.349908\" xlink:href=\"#m3c5fdccf07\" y=\"187.579447\"/>\n     <use style=\"fill:#4c72b0;stroke:#4c72b0;\" x=\"98.634403\" xlink:href=\"#m3c5fdccf07\" y=\"187.38022\"/>\n     <use style=\"fill:#4c72b0;stroke:#4c72b0;\" x=\"98.914555\" xlink:href=\"#m3c5fdccf07\" y=\"187.180994\"/>\n     <use style=\"fill:#4c72b0;stroke:#4c72b0;\" x=\"99.190515\" xlink:href=\"#m3c5fdccf07\" y=\"187.180994\"/>\n     <use style=\"fill:#4c72b0;stroke:#4c72b0;\" x=\"99.462425\" xlink:href=\"#m3c5fdccf07\" y=\"187.180994\"/>\n     <use style=\"fill:#4c72b0;stroke:#4c72b0;\" x=\"99.730422\" xlink:href=\"#m3c5fdccf07\" y=\"187.180994\"/>\n     <use style=\"fill:#4c72b0;stroke:#4c72b0;\" x=\"99.994634\" xlink:href=\"#m3c5fdccf07\" y=\"186.583315\"/>\n     <use style=\"fill:#4c72b0;stroke:#4c72b0;\" x=\"100.255183\" xlink:href=\"#m3c5fdccf07\" y=\"186.583315\"/>\n     <use style=\"fill:#4c72b0;stroke:#4c72b0;\" x=\"100.512187\" xlink:href=\"#m3c5fdccf07\" y=\"186.384089\"/>\n     <use style=\"fill:#4c72b0;stroke:#4c72b0;\" x=\"100.765755\" xlink:href=\"#m3c5fdccf07\" y=\"186.384089\"/>\n     <use style=\"fill:#4c72b0;stroke:#4c72b0;\" x=\"101.015994\" xlink:href=\"#m3c5fdccf07\" y=\"185.985637\"/>\n     <use style=\"fill:#4c72b0;stroke:#4c72b0;\" x=\"101.263004\" xlink:href=\"#m3c5fdccf07\" y=\"185.985637\"/>\n     <use style=\"fill:#4c72b0;stroke:#4c72b0;\" x=\"101.506882\" xlink:href=\"#m3c5fdccf07\" y=\"185.985637\"/>\n     <use style=\"fill:#4c72b0;stroke:#4c72b0;\" x=\"101.747719\" xlink:href=\"#m3c5fdccf07\" y=\"185.985637\"/>\n     <use style=\"fill:#4c72b0;stroke:#4c72b0;\" x=\"101.985603\" xlink:href=\"#m3c5fdccf07\" y=\"185.78641\"/>\n     <use style=\"fill:#4c72b0;stroke:#4c72b0;\" x=\"102.220619\" xlink:href=\"#m3c5fdccf07\" y=\"185.78641\"/>\n     <use style=\"fill:#4c72b0;stroke:#4c72b0;\" x=\"102.452845\" xlink:href=\"#m3c5fdccf07\" y=\"185.188732\"/>\n     <use style=\"fill:#4c72b0;stroke:#4c72b0;\" x=\"102.682361\" xlink:href=\"#m3c5fdccf07\" y=\"184.989505\"/>\n     <use style=\"fill:#4c72b0;stroke:#4c72b0;\" x=\"102.909239\" xlink:href=\"#m3c5fdccf07\" y=\"184.790279\"/>\n     <use style=\"fill:#4c72b0;stroke:#4c72b0;\" x=\"103.133549\" xlink:href=\"#m3c5fdccf07\" y=\"184.790279\"/>\n     <use style=\"fill:#4c72b0;stroke:#4c72b0;\" x=\"103.355361\" xlink:href=\"#m3c5fdccf07\" y=\"184.790279\"/>\n     <use style=\"fill:#4c72b0;stroke:#4c72b0;\" x=\"103.574739\" xlink:href=\"#m3c5fdccf07\" y=\"184.591053\"/>\n     <use style=\"fill:#4c72b0;stroke:#4c72b0;\" x=\"103.791746\" xlink:href=\"#m3c5fdccf07\" y=\"184.591053\"/>\n     <use style=\"fill:#4c72b0;stroke:#4c72b0;\" x=\"104.006441\" xlink:href=\"#m3c5fdccf07\" y=\"184.391827\"/>\n     <use style=\"fill:#4c72b0;stroke:#4c72b0;\" x=\"104.218884\" xlink:href=\"#m3c5fdccf07\" y=\"184.1926\"/>\n     <use style=\"fill:#4c72b0;stroke:#4c72b0;\" x=\"104.429129\" xlink:href=\"#m3c5fdccf07\" y=\"184.1926\"/>\n     <use style=\"fill:#4c72b0;stroke:#4c72b0;\" x=\"104.63723\" xlink:href=\"#m3c5fdccf07\" y=\"184.1926\"/>\n     <use style=\"fill:#4c72b0;stroke:#4c72b0;\" x=\"104.843239\" xlink:href=\"#m3c5fdccf07\" y=\"183.993374\"/>\n     <use style=\"fill:#4c72b0;stroke:#4c72b0;\" x=\"105.047205\" xlink:href=\"#m3c5fdccf07\" y=\"183.993374\"/>\n     <use style=\"fill:#4c72b0;stroke:#4c72b0;\" x=\"105.249178\" xlink:href=\"#m3c5fdccf07\" y=\"183.993374\"/>\n     <use style=\"fill:#4c72b0;stroke:#4c72b0;\" x=\"105.449202\" xlink:href=\"#m3c5fdccf07\" y=\"183.993374\"/>\n     <use style=\"fill:#4c72b0;stroke:#4c72b0;\" x=\"105.647322\" xlink:href=\"#m3c5fdccf07\" y=\"183.594922\"/>\n     <use style=\"fill:#4c72b0;stroke:#4c72b0;\" x=\"105.843582\" xlink:href=\"#m3c5fdccf07\" y=\"183.594922\"/>\n     <use style=\"fill:#4c72b0;stroke:#4c72b0;\" x=\"106.038023\" xlink:href=\"#m3c5fdccf07\" y=\"183.594922\"/>\n     <use style=\"fill:#4c72b0;stroke:#4c72b0;\" x=\"106.230686\" xlink:href=\"#m3c5fdccf07\" y=\"183.196469\"/>\n     <use style=\"fill:#4c72b0;stroke:#4c72b0;\" x=\"106.42161\" xlink:href=\"#m3c5fdccf07\" y=\"183.196469\"/>\n     <use style=\"fill:#4c72b0;stroke:#4c72b0;\" x=\"106.610831\" xlink:href=\"#m3c5fdccf07\" y=\"182.997243\"/>\n     <use style=\"fill:#4c72b0;stroke:#4c72b0;\" x=\"106.798387\" xlink:href=\"#m3c5fdccf07\" y=\"182.798017\"/>\n     <use style=\"fill:#4c72b0;stroke:#4c72b0;\" x=\"106.984312\" xlink:href=\"#m3c5fdccf07\" y=\"182.798017\"/>\n     <use style=\"fill:#4c72b0;stroke:#4c72b0;\" x=\"107.168641\" xlink:href=\"#m3c5fdccf07\" y=\"182.59879\"/>\n     <use style=\"fill:#4c72b0;stroke:#4c72b0;\" x=\"107.351407\" xlink:href=\"#m3c5fdccf07\" y=\"182.59879\"/>\n     <use style=\"fill:#4c72b0;stroke:#4c72b0;\" x=\"107.532641\" xlink:href=\"#m3c5fdccf07\" y=\"182.59879\"/>\n     <use style=\"fill:#4c72b0;stroke:#4c72b0;\" x=\"107.712376\" xlink:href=\"#m3c5fdccf07\" y=\"182.59879\"/>\n     <use style=\"fill:#4c72b0;stroke:#4c72b0;\" x=\"107.890639\" xlink:href=\"#m3c5fdccf07\" y=\"182.399564\"/>\n     <use style=\"fill:#4c72b0;stroke:#4c72b0;\" x=\"108.067462\" xlink:href=\"#m3c5fdccf07\" y=\"182.200338\"/>\n     <use style=\"fill:#4c72b0;stroke:#4c72b0;\" x=\"108.242872\" xlink:href=\"#m3c5fdccf07\" y=\"182.001112\"/>\n     <use style=\"fill:#4c72b0;stroke:#4c72b0;\" x=\"108.416897\" xlink:href=\"#m3c5fdccf07\" y=\"182.001112\"/>\n     <use style=\"fill:#4c72b0;stroke:#4c72b0;\" x=\"108.589562\" xlink:href=\"#m3c5fdccf07\" y=\"182.001112\"/>\n     <use style=\"fill:#4c72b0;stroke:#4c72b0;\" x=\"108.760895\" xlink:href=\"#m3c5fdccf07\" y=\"182.001112\"/>\n     <use style=\"fill:#4c72b0;stroke:#4c72b0;\" x=\"108.93092\" xlink:href=\"#m3c5fdccf07\" y=\"182.001112\"/>\n     <use style=\"fill:#4c72b0;stroke:#4c72b0;\" x=\"109.099662\" xlink:href=\"#m3c5fdccf07\" y=\"182.001112\"/>\n     <use style=\"fill:#4c72b0;stroke:#4c72b0;\" x=\"109.267143\" xlink:href=\"#m3c5fdccf07\" y=\"182.001112\"/>\n     <use style=\"fill:#4c72b0;stroke:#4c72b0;\" x=\"109.433389\" xlink:href=\"#m3c5fdccf07\" y=\"181.801885\"/>\n     <use style=\"fill:#4c72b0;stroke:#4c72b0;\" x=\"109.59842\" xlink:href=\"#m3c5fdccf07\" y=\"181.801885\"/>\n     <use style=\"fill:#4c72b0;stroke:#4c72b0;\" x=\"109.762258\" xlink:href=\"#m3c5fdccf07\" y=\"181.801885\"/>\n     <use style=\"fill:#4c72b0;stroke:#4c72b0;\" x=\"109.924926\" xlink:href=\"#m3c5fdccf07\" y=\"181.602659\"/>\n     <use style=\"fill:#4c72b0;stroke:#4c72b0;\" x=\"110.086442\" xlink:href=\"#m3c5fdccf07\" y=\"181.403433\"/>\n     <use style=\"fill:#4c72b0;stroke:#4c72b0;\" x=\"110.246829\" xlink:href=\"#m3c5fdccf07\" y=\"181.403433\"/>\n     <use style=\"fill:#4c72b0;stroke:#4c72b0;\" x=\"110.406104\" xlink:href=\"#m3c5fdccf07\" y=\"181.403433\"/>\n     <use style=\"fill:#4c72b0;stroke:#4c72b0;\" x=\"110.564288\" xlink:href=\"#m3c5fdccf07\" y=\"181.204207\"/>\n     <use style=\"fill:#4c72b0;stroke:#4c72b0;\" x=\"110.721398\" xlink:href=\"#m3c5fdccf07\" y=\"181.204207\"/>\n     <use style=\"fill:#4c72b0;stroke:#4c72b0;\" x=\"110.877453\" xlink:href=\"#m3c5fdccf07\" y=\"181.204207\"/>\n     <use style=\"fill:#4c72b0;stroke:#4c72b0;\" x=\"111.032471\" xlink:href=\"#m3c5fdccf07\" y=\"181.00498\"/>\n     <use style=\"fill:#4c72b0;stroke:#4c72b0;\" x=\"111.186468\" xlink:href=\"#m3c5fdccf07\" y=\"181.00498\"/>\n     <use style=\"fill:#4c72b0;stroke:#4c72b0;\" x=\"111.339462\" xlink:href=\"#m3c5fdccf07\" y=\"180.208075\"/>\n     <use style=\"fill:#4c72b0;stroke:#4c72b0;\" x=\"111.491468\" xlink:href=\"#m3c5fdccf07\" y=\"180.008849\"/>\n     <use style=\"fill:#4c72b0;stroke:#4c72b0;\" x=\"111.642503\" xlink:href=\"#m3c5fdccf07\" y=\"180.008849\"/>\n     <use style=\"fill:#4c72b0;stroke:#4c72b0;\" x=\"111.792583\" xlink:href=\"#m3c5fdccf07\" y=\"180.008849\"/>\n     <use style=\"fill:#4c72b0;stroke:#4c72b0;\" x=\"111.941722\" xlink:href=\"#m3c5fdccf07\" y=\"179.809623\"/>\n     <use style=\"fill:#4c72b0;stroke:#4c72b0;\" x=\"112.089935\" xlink:href=\"#m3c5fdccf07\" y=\"179.809623\"/>\n     <use style=\"fill:#4c72b0;stroke:#4c72b0;\" x=\"112.237237\" xlink:href=\"#m3c5fdccf07\" y=\"179.610397\"/>\n     <use style=\"fill:#4c72b0;stroke:#4c72b0;\" x=\"112.383641\" xlink:href=\"#m3c5fdccf07\" y=\"179.41117\"/>\n     <use style=\"fill:#4c72b0;stroke:#4c72b0;\" x=\"112.529163\" xlink:href=\"#m3c5fdccf07\" y=\"179.41117\"/>\n     <use style=\"fill:#4c72b0;stroke:#4c72b0;\" x=\"112.673814\" xlink:href=\"#m3c5fdccf07\" y=\"179.41117\"/>\n     <use style=\"fill:#4c72b0;stroke:#4c72b0;\" x=\"112.817609\" xlink:href=\"#m3c5fdccf07\" y=\"179.012718\"/>\n     <use style=\"fill:#4c72b0;stroke:#4c72b0;\" x=\"112.96056\" xlink:href=\"#m3c5fdccf07\" y=\"179.012718\"/>\n     <use style=\"fill:#4c72b0;stroke:#4c72b0;\" x=\"113.10268\" xlink:href=\"#m3c5fdccf07\" y=\"178.813492\"/>\n     <use style=\"fill:#4c72b0;stroke:#4c72b0;\" x=\"113.243981\" xlink:href=\"#m3c5fdccf07\" y=\"178.813492\"/>\n     <use style=\"fill:#4c72b0;stroke:#4c72b0;\" x=\"113.384475\" xlink:href=\"#m3c5fdccf07\" y=\"178.813492\"/>\n     <use style=\"fill:#4c72b0;stroke:#4c72b0;\" x=\"113.524173\" xlink:href=\"#m3c5fdccf07\" y=\"178.813492\"/>\n     <use style=\"fill:#4c72b0;stroke:#4c72b0;\" x=\"113.663088\" xlink:href=\"#m3c5fdccf07\" y=\"178.614265\"/>\n     <use style=\"fill:#4c72b0;stroke:#4c72b0;\" x=\"113.801231\" xlink:href=\"#m3c5fdccf07\" y=\"178.614265\"/>\n     <use style=\"fill:#4c72b0;stroke:#4c72b0;\" x=\"113.938613\" xlink:href=\"#m3c5fdccf07\" y=\"178.614265\"/>\n     <use style=\"fill:#4c72b0;stroke:#4c72b0;\" x=\"114.075243\" xlink:href=\"#m3c5fdccf07\" y=\"178.614265\"/>\n     <use style=\"fill:#4c72b0;stroke:#4c72b0;\" x=\"114.211134\" xlink:href=\"#m3c5fdccf07\" y=\"178.614265\"/>\n     <use style=\"fill:#4c72b0;stroke:#4c72b0;\" x=\"114.346295\" xlink:href=\"#m3c5fdccf07\" y=\"178.614265\"/>\n     <use style=\"fill:#4c72b0;stroke:#4c72b0;\" x=\"114.480736\" xlink:href=\"#m3c5fdccf07\" y=\"178.415039\"/>\n     <use style=\"fill:#4c72b0;stroke:#4c72b0;\" x=\"114.614468\" xlink:href=\"#m3c5fdccf07\" y=\"178.215813\"/>\n     <use style=\"fill:#4c72b0;stroke:#4c72b0;\" x=\"114.7475\" xlink:href=\"#m3c5fdccf07\" y=\"178.215813\"/>\n     <use style=\"fill:#4c72b0;stroke:#4c72b0;\" x=\"114.879841\" xlink:href=\"#m3c5fdccf07\" y=\"178.016587\"/>\n     <use style=\"fill:#4c72b0;stroke:#4c72b0;\" x=\"115.011501\" xlink:href=\"#m3c5fdccf07\" y=\"178.016587\"/>\n     <use style=\"fill:#4c72b0;stroke:#4c72b0;\" x=\"115.142488\" xlink:href=\"#m3c5fdccf07\" y=\"178.016587\"/>\n     <use style=\"fill:#4c72b0;stroke:#4c72b0;\" x=\"115.272813\" xlink:href=\"#m3c5fdccf07\" y=\"178.016587\"/>\n     <use style=\"fill:#4c72b0;stroke:#4c72b0;\" x=\"115.402483\" xlink:href=\"#m3c5fdccf07\" y=\"178.016587\"/>\n     <use style=\"fill:#4c72b0;stroke:#4c72b0;\" x=\"115.531508\" xlink:href=\"#m3c5fdccf07\" y=\"178.016587\"/>\n     <use style=\"fill:#4c72b0;stroke:#4c72b0;\" x=\"115.659895\" xlink:href=\"#m3c5fdccf07\" y=\"177.81736\"/>\n     <use style=\"fill:#4c72b0;stroke:#4c72b0;\" x=\"115.787653\" xlink:href=\"#m3c5fdccf07\" y=\"177.81736\"/>\n     <use style=\"fill:#4c72b0;stroke:#4c72b0;\" x=\"115.914789\" xlink:href=\"#m3c5fdccf07\" y=\"177.81736\"/>\n     <use style=\"fill:#4c72b0;stroke:#4c72b0;\" x=\"116.041313\" xlink:href=\"#m3c5fdccf07\" y=\"177.81736\"/>\n     <use style=\"fill:#4c72b0;stroke:#4c72b0;\" x=\"116.167231\" xlink:href=\"#m3c5fdccf07\" y=\"177.618134\"/>\n     <use style=\"fill:#4c72b0;stroke:#4c72b0;\" x=\"116.292552\" xlink:href=\"#m3c5fdccf07\" y=\"177.418908\"/>\n     <use style=\"fill:#4c72b0;stroke:#4c72b0;\" x=\"116.417282\" xlink:href=\"#m3c5fdccf07\" y=\"177.418908\"/>\n     <use style=\"fill:#4c72b0;stroke:#4c72b0;\" x=\"116.54143\" xlink:href=\"#m3c5fdccf07\" y=\"177.418908\"/>\n     <use style=\"fill:#4c72b0;stroke:#4c72b0;\" x=\"116.665002\" xlink:href=\"#m3c5fdccf07\" y=\"177.219682\"/>\n     <use style=\"fill:#4c72b0;stroke:#4c72b0;\" x=\"116.788005\" xlink:href=\"#m3c5fdccf07\" y=\"177.219682\"/>\n     <use style=\"fill:#4c72b0;stroke:#4c72b0;\" x=\"116.910447\" xlink:href=\"#m3c5fdccf07\" y=\"177.020455\"/>\n     <use style=\"fill:#4c72b0;stroke:#4c72b0;\" x=\"117.032334\" xlink:href=\"#m3c5fdccf07\" y=\"177.020455\"/>\n     <use style=\"fill:#4c72b0;stroke:#4c72b0;\" x=\"117.153673\" xlink:href=\"#m3c5fdccf07\" y=\"176.821229\"/>\n     <use style=\"fill:#4c72b0;stroke:#4c72b0;\" x=\"117.274471\" xlink:href=\"#m3c5fdccf07\" y=\"176.622003\"/>\n     <use style=\"fill:#4c72b0;stroke:#4c72b0;\" x=\"117.394733\" xlink:href=\"#m3c5fdccf07\" y=\"176.622003\"/>\n     <use style=\"fill:#4c72b0;stroke:#4c72b0;\" x=\"117.514467\" xlink:href=\"#m3c5fdccf07\" y=\"176.622003\"/>\n     <use style=\"fill:#4c72b0;stroke:#4c72b0;\" x=\"117.633679\" xlink:href=\"#m3c5fdccf07\" y=\"176.622003\"/>\n     <use style=\"fill:#4c72b0;stroke:#4c72b0;\" x=\"117.752374\" xlink:href=\"#m3c5fdccf07\" y=\"176.422777\"/>\n     <use style=\"fill:#4c72b0;stroke:#4c72b0;\" x=\"117.870559\" xlink:href=\"#m3c5fdccf07\" y=\"176.422777\"/>\n     <use style=\"fill:#4c72b0;stroke:#4c72b0;\" x=\"117.988239\" xlink:href=\"#m3c5fdccf07\" y=\"176.422777\"/>\n     <use style=\"fill:#4c72b0;stroke:#4c72b0;\" x=\"118.105421\" xlink:href=\"#m3c5fdccf07\" y=\"176.422777\"/>\n     <use style=\"fill:#4c72b0;stroke:#4c72b0;\" x=\"118.222111\" xlink:href=\"#m3c5fdccf07\" y=\"176.422777\"/>\n     <use style=\"fill:#4c72b0;stroke:#4c72b0;\" x=\"118.338313\" xlink:href=\"#m3c5fdccf07\" y=\"176.22355\"/>\n     <use style=\"fill:#4c72b0;stroke:#4c72b0;\" x=\"118.454033\" xlink:href=\"#m3c5fdccf07\" y=\"176.22355\"/>\n     <use style=\"fill:#4c72b0;stroke:#4c72b0;\" x=\"118.569277\" xlink:href=\"#m3c5fdccf07\" y=\"176.024324\"/>\n     <use style=\"fill:#4c72b0;stroke:#4c72b0;\" x=\"118.684051\" xlink:href=\"#m3c5fdccf07\" y=\"176.024324\"/>\n     <use style=\"fill:#4c72b0;stroke:#4c72b0;\" x=\"118.798358\" xlink:href=\"#m3c5fdccf07\" y=\"175.625872\"/>\n     <use style=\"fill:#4c72b0;stroke:#4c72b0;\" x=\"118.912205\" xlink:href=\"#m3c5fdccf07\" y=\"175.625872\"/>\n     <use style=\"fill:#4c72b0;stroke:#4c72b0;\" x=\"119.025597\" xlink:href=\"#m3c5fdccf07\" y=\"175.625872\"/>\n     <use style=\"fill:#4c72b0;stroke:#4c72b0;\" x=\"119.138539\" xlink:href=\"#m3c5fdccf07\" y=\"175.426645\"/>\n     <use style=\"fill:#4c72b0;stroke:#4c72b0;\" x=\"119.251035\" xlink:href=\"#m3c5fdccf07\" y=\"175.426645\"/>\n     <use style=\"fill:#4c72b0;stroke:#4c72b0;\" x=\"119.36309\" xlink:href=\"#m3c5fdccf07\" y=\"175.426645\"/>\n     <use style=\"fill:#4c72b0;stroke:#4c72b0;\" x=\"119.474709\" xlink:href=\"#m3c5fdccf07\" y=\"175.426645\"/>\n     <use style=\"fill:#4c72b0;stroke:#4c72b0;\" x=\"119.585898\" xlink:href=\"#m3c5fdccf07\" y=\"175.227419\"/>\n     <use style=\"fill:#4c72b0;stroke:#4c72b0;\" x=\"119.696659\" xlink:href=\"#m3c5fdccf07\" y=\"175.227419\"/>\n     <use style=\"fill:#4c72b0;stroke:#4c72b0;\" x=\"119.806999\" xlink:href=\"#m3c5fdccf07\" y=\"175.227419\"/>\n     <use style=\"fill:#4c72b0;stroke:#4c72b0;\" x=\"119.916921\" xlink:href=\"#m3c5fdccf07\" y=\"175.028193\"/>\n     <use style=\"fill:#4c72b0;stroke:#4c72b0;\" x=\"120.02643\" xlink:href=\"#m3c5fdccf07\" y=\"175.028193\"/>\n     <use style=\"fill:#4c72b0;stroke:#4c72b0;\" x=\"120.13553\" xlink:href=\"#m3c5fdccf07\" y=\"175.028193\"/>\n     <use style=\"fill:#4c72b0;stroke:#4c72b0;\" x=\"120.244226\" xlink:href=\"#m3c5fdccf07\" y=\"175.028193\"/>\n     <use style=\"fill:#4c72b0;stroke:#4c72b0;\" x=\"120.352521\" xlink:href=\"#m3c5fdccf07\" y=\"175.028193\"/>\n     <use style=\"fill:#4c72b0;stroke:#4c72b0;\" x=\"120.46042\" xlink:href=\"#m3c5fdccf07\" y=\"174.828967\"/>\n     <use style=\"fill:#4c72b0;stroke:#4c72b0;\" x=\"120.567927\" xlink:href=\"#m3c5fdccf07\" y=\"174.828967\"/>\n     <use style=\"fill:#4c72b0;stroke:#4c72b0;\" x=\"120.675045\" xlink:href=\"#m3c5fdccf07\" y=\"174.828967\"/>\n     <use style=\"fill:#4c72b0;stroke:#4c72b0;\" x=\"120.78178\" xlink:href=\"#m3c5fdccf07\" y=\"174.828967\"/>\n     <use style=\"fill:#4c72b0;stroke:#4c72b0;\" x=\"120.888134\" xlink:href=\"#m3c5fdccf07\" y=\"174.828967\"/>\n     <use style=\"fill:#4c72b0;stroke:#4c72b0;\" x=\"120.994111\" xlink:href=\"#m3c5fdccf07\" y=\"174.828967\"/>\n     <use style=\"fill:#4c72b0;stroke:#4c72b0;\" x=\"121.099716\" xlink:href=\"#m3c5fdccf07\" y=\"174.430514\"/>\n     <use style=\"fill:#4c72b0;stroke:#4c72b0;\" x=\"121.204952\" xlink:href=\"#m3c5fdccf07\" y=\"174.430514\"/>\n     <use style=\"fill:#4c72b0;stroke:#4c72b0;\" x=\"121.309823\" xlink:href=\"#m3c5fdccf07\" y=\"174.430514\"/>\n     <use style=\"fill:#4c72b0;stroke:#4c72b0;\" x=\"121.414331\" xlink:href=\"#m3c5fdccf07\" y=\"174.430514\"/>\n     <use style=\"fill:#4c72b0;stroke:#4c72b0;\" x=\"121.518482\" xlink:href=\"#m3c5fdccf07\" y=\"174.430514\"/>\n     <use style=\"fill:#4c72b0;stroke:#4c72b0;\" x=\"121.622278\" xlink:href=\"#m3c5fdccf07\" y=\"174.430514\"/>\n     <use style=\"fill:#4c72b0;stroke:#4c72b0;\" x=\"121.725723\" xlink:href=\"#m3c5fdccf07\" y=\"174.430514\"/>\n     <use style=\"fill:#4c72b0;stroke:#4c72b0;\" x=\"121.82882\" xlink:href=\"#m3c5fdccf07\" y=\"174.231288\"/>\n     <use style=\"fill:#4c72b0;stroke:#4c72b0;\" x=\"121.931572\" xlink:href=\"#m3c5fdccf07\" y=\"174.231288\"/>\n     <use style=\"fill:#4c72b0;stroke:#4c72b0;\" x=\"122.033984\" xlink:href=\"#m3c5fdccf07\" y=\"174.231288\"/>\n     <use style=\"fill:#4c72b0;stroke:#4c72b0;\" x=\"122.136058\" xlink:href=\"#m3c5fdccf07\" y=\"174.231288\"/>\n     <use style=\"fill:#4c72b0;stroke:#4c72b0;\" x=\"122.237797\" xlink:href=\"#m3c5fdccf07\" y=\"174.032062\"/>\n     <use style=\"fill:#4c72b0;stroke:#4c72b0;\" x=\"122.339204\" xlink:href=\"#m3c5fdccf07\" y=\"174.032062\"/>\n     <use style=\"fill:#4c72b0;stroke:#4c72b0;\" x=\"122.440284\" xlink:href=\"#m3c5fdccf07\" y=\"174.032062\"/>\n     <use style=\"fill:#4c72b0;stroke:#4c72b0;\" x=\"122.541038\" xlink:href=\"#m3c5fdccf07\" y=\"173.832835\"/>\n     <use style=\"fill:#4c72b0;stroke:#4c72b0;\" x=\"122.64147\" xlink:href=\"#m3c5fdccf07\" y=\"173.832835\"/>\n     <use style=\"fill:#4c72b0;stroke:#4c72b0;\" x=\"122.741583\" xlink:href=\"#m3c5fdccf07\" y=\"173.633609\"/>\n     <use style=\"fill:#4c72b0;stroke:#4c72b0;\" x=\"122.84138\" xlink:href=\"#m3c5fdccf07\" y=\"173.434383\"/>\n     <use style=\"fill:#4c72b0;stroke:#4c72b0;\" x=\"122.940863\" xlink:href=\"#m3c5fdccf07\" y=\"173.434383\"/>\n     <use style=\"fill:#4c72b0;stroke:#4c72b0;\" x=\"123.040036\" xlink:href=\"#m3c5fdccf07\" y=\"173.434383\"/>\n     <use style=\"fill:#4c72b0;stroke:#4c72b0;\" x=\"123.138902\" xlink:href=\"#m3c5fdccf07\" y=\"173.235157\"/>\n     <use style=\"fill:#4c72b0;stroke:#4c72b0;\" x=\"123.237462\" xlink:href=\"#m3c5fdccf07\" y=\"173.235157\"/>\n     <use style=\"fill:#4c72b0;stroke:#4c72b0;\" x=\"123.335721\" xlink:href=\"#m3c5fdccf07\" y=\"173.235157\"/>\n     <use style=\"fill:#4c72b0;stroke:#4c72b0;\" x=\"123.433681\" xlink:href=\"#m3c5fdccf07\" y=\"173.235157\"/>\n     <use style=\"fill:#4c72b0;stroke:#4c72b0;\" x=\"123.531344\" xlink:href=\"#m3c5fdccf07\" y=\"173.235157\"/>\n     <use style=\"fill:#4c72b0;stroke:#4c72b0;\" x=\"123.628714\" xlink:href=\"#m3c5fdccf07\" y=\"173.235157\"/>\n     <use style=\"fill:#4c72b0;stroke:#4c72b0;\" x=\"123.725792\" xlink:href=\"#m3c5fdccf07\" y=\"173.235157\"/>\n     <use style=\"fill:#4c72b0;stroke:#4c72b0;\" x=\"123.822581\" xlink:href=\"#m3c5fdccf07\" y=\"173.235157\"/>\n     <use style=\"fill:#4c72b0;stroke:#4c72b0;\" x=\"123.919085\" xlink:href=\"#m3c5fdccf07\" y=\"173.03593\"/>\n     <use style=\"fill:#4c72b0;stroke:#4c72b0;\" x=\"124.015305\" xlink:href=\"#m3c5fdccf07\" y=\"173.03593\"/>\n     <use style=\"fill:#4c72b0;stroke:#4c72b0;\" x=\"124.111244\" xlink:href=\"#m3c5fdccf07\" y=\"173.03593\"/>\n     <use style=\"fill:#4c72b0;stroke:#4c72b0;\" x=\"124.206905\" xlink:href=\"#m3c5fdccf07\" y=\"173.03593\"/>\n     <use style=\"fill:#4c72b0;stroke:#4c72b0;\" x=\"124.302289\" xlink:href=\"#m3c5fdccf07\" y=\"172.836704\"/>\n     <use style=\"fill:#4c72b0;stroke:#4c72b0;\" x=\"124.3974\" xlink:href=\"#m3c5fdccf07\" y=\"172.836704\"/>\n     <use style=\"fill:#4c72b0;stroke:#4c72b0;\" x=\"124.492239\" xlink:href=\"#m3c5fdccf07\" y=\"172.836704\"/>\n     <use style=\"fill:#4c72b0;stroke:#4c72b0;\" x=\"124.58681\" xlink:href=\"#m3c5fdccf07\" y=\"172.836704\"/>\n     <use style=\"fill:#4c72b0;stroke:#4c72b0;\" x=\"124.681113\" xlink:href=\"#m3c5fdccf07\" y=\"172.637478\"/>\n     <use style=\"fill:#4c72b0;stroke:#4c72b0;\" x=\"124.775153\" xlink:href=\"#m3c5fdccf07\" y=\"172.637478\"/>\n     <use style=\"fill:#4c72b0;stroke:#4c72b0;\" x=\"124.86893\" xlink:href=\"#m3c5fdccf07\" y=\"172.438252\"/>\n     <use style=\"fill:#4c72b0;stroke:#4c72b0;\" x=\"124.962448\" xlink:href=\"#m3c5fdccf07\" y=\"172.438252\"/>\n     <use style=\"fill:#4c72b0;stroke:#4c72b0;\" x=\"125.055708\" xlink:href=\"#m3c5fdccf07\" y=\"172.438252\"/>\n     <use style=\"fill:#4c72b0;stroke:#4c72b0;\" x=\"125.148712\" xlink:href=\"#m3c5fdccf07\" y=\"172.438252\"/>\n     <use style=\"fill:#4c72b0;stroke:#4c72b0;\" x=\"125.241463\" xlink:href=\"#m3c5fdccf07\" y=\"172.438252\"/>\n     <use style=\"fill:#4c72b0;stroke:#4c72b0;\" x=\"125.333963\" xlink:href=\"#m3c5fdccf07\" y=\"172.239025\"/>\n     <use style=\"fill:#4c72b0;stroke:#4c72b0;\" x=\"125.426214\" xlink:href=\"#m3c5fdccf07\" y=\"172.239025\"/>\n     <use style=\"fill:#4c72b0;stroke:#4c72b0;\" x=\"125.518218\" xlink:href=\"#m3c5fdccf07\" y=\"172.239025\"/>\n     <use style=\"fill:#4c72b0;stroke:#4c72b0;\" x=\"125.609976\" xlink:href=\"#m3c5fdccf07\" y=\"172.039799\"/>\n     <use style=\"fill:#4c72b0;stroke:#4c72b0;\" x=\"125.701492\" xlink:href=\"#m3c5fdccf07\" y=\"172.039799\"/>\n     <use style=\"fill:#4c72b0;stroke:#4c72b0;\" x=\"125.792767\" xlink:href=\"#m3c5fdccf07\" y=\"172.039799\"/>\n     <use style=\"fill:#4c72b0;stroke:#4c72b0;\" x=\"125.883803\" xlink:href=\"#m3c5fdccf07\" y=\"172.039799\"/>\n     <use style=\"fill:#4c72b0;stroke:#4c72b0;\" x=\"125.974602\" xlink:href=\"#m3c5fdccf07\" y=\"172.039799\"/>\n     <use style=\"fill:#4c72b0;stroke:#4c72b0;\" x=\"126.065166\" xlink:href=\"#m3c5fdccf07\" y=\"171.840573\"/>\n     <use style=\"fill:#4c72b0;stroke:#4c72b0;\" x=\"126.155497\" xlink:href=\"#m3c5fdccf07\" y=\"171.840573\"/>\n     <use style=\"fill:#4c72b0;stroke:#4c72b0;\" x=\"126.245597\" xlink:href=\"#m3c5fdccf07\" y=\"171.840573\"/>\n     <use style=\"fill:#4c72b0;stroke:#4c72b0;\" x=\"126.335467\" xlink:href=\"#m3c5fdccf07\" y=\"171.641347\"/>\n     <use style=\"fill:#4c72b0;stroke:#4c72b0;\" x=\"126.42511\" xlink:href=\"#m3c5fdccf07\" y=\"171.641347\"/>\n     <use style=\"fill:#4c72b0;stroke:#4c72b0;\" x=\"126.514527\" xlink:href=\"#m3c5fdccf07\" y=\"171.44212\"/>\n     <use style=\"fill:#4c72b0;stroke:#4c72b0;\" x=\"126.60372\" xlink:href=\"#m3c5fdccf07\" y=\"171.44212\"/>\n     <use style=\"fill:#4c72b0;stroke:#4c72b0;\" x=\"126.692691\" xlink:href=\"#m3c5fdccf07\" y=\"171.242894\"/>\n     <use style=\"fill:#4c72b0;stroke:#4c72b0;\" x=\"126.781442\" xlink:href=\"#m3c5fdccf07\" y=\"171.242894\"/>\n     <use style=\"fill:#4c72b0;stroke:#4c72b0;\" x=\"126.869974\" xlink:href=\"#m3c5fdccf07\" y=\"171.242894\"/>\n     <use style=\"fill:#4c72b0;stroke:#4c72b0;\" x=\"126.958289\" xlink:href=\"#m3c5fdccf07\" y=\"171.242894\"/>\n     <use style=\"fill:#4c72b0;stroke:#4c72b0;\" x=\"127.04639\" xlink:href=\"#m3c5fdccf07\" y=\"171.242894\"/>\n     <use style=\"fill:#4c72b0;stroke:#4c72b0;\" x=\"127.134276\" xlink:href=\"#m3c5fdccf07\" y=\"171.242894\"/>\n     <use style=\"fill:#4c72b0;stroke:#4c72b0;\" x=\"127.221951\" xlink:href=\"#m3c5fdccf07\" y=\"171.043668\"/>\n     <use style=\"fill:#4c72b0;stroke:#4c72b0;\" x=\"127.309416\" xlink:href=\"#m3c5fdccf07\" y=\"171.043668\"/>\n     <use style=\"fill:#4c72b0;stroke:#4c72b0;\" x=\"127.396672\" xlink:href=\"#m3c5fdccf07\" y=\"171.043668\"/>\n     <use style=\"fill:#4c72b0;stroke:#4c72b0;\" x=\"127.483722\" xlink:href=\"#m3c5fdccf07\" y=\"171.043668\"/>\n     <use style=\"fill:#4c72b0;stroke:#4c72b0;\" x=\"127.570566\" xlink:href=\"#m3c5fdccf07\" y=\"170.844442\"/>\n     <use style=\"fill:#4c72b0;stroke:#4c72b0;\" x=\"127.657206\" xlink:href=\"#m3c5fdccf07\" y=\"170.844442\"/>\n     <use style=\"fill:#4c72b0;stroke:#4c72b0;\" x=\"127.743645\" xlink:href=\"#m3c5fdccf07\" y=\"170.844442\"/>\n     <use style=\"fill:#4c72b0;stroke:#4c72b0;\" x=\"127.829883\" xlink:href=\"#m3c5fdccf07\" y=\"170.844442\"/>\n     <use style=\"fill:#4c72b0;stroke:#4c72b0;\" x=\"127.915921\" xlink:href=\"#m3c5fdccf07\" y=\"170.844442\"/>\n     <use style=\"fill:#4c72b0;stroke:#4c72b0;\" x=\"128.001763\" xlink:href=\"#m3c5fdccf07\" y=\"170.844442\"/>\n     <use style=\"fill:#4c72b0;stroke:#4c72b0;\" x=\"128.087408\" xlink:href=\"#m3c5fdccf07\" y=\"170.844442\"/>\n     <use style=\"fill:#4c72b0;stroke:#4c72b0;\" x=\"128.172858\" xlink:href=\"#m3c5fdccf07\" y=\"170.445989\"/>\n     <use style=\"fill:#4c72b0;stroke:#4c72b0;\" x=\"128.258116\" xlink:href=\"#m3c5fdccf07\" y=\"170.445989\"/>\n     <use style=\"fill:#4c72b0;stroke:#4c72b0;\" x=\"128.343182\" xlink:href=\"#m3c5fdccf07\" y=\"170.445989\"/>\n     <use style=\"fill:#4c72b0;stroke:#4c72b0;\" x=\"128.428058\" xlink:href=\"#m3c5fdccf07\" y=\"170.246763\"/>\n     <use style=\"fill:#4c72b0;stroke:#4c72b0;\" x=\"128.512745\" xlink:href=\"#m3c5fdccf07\" y=\"170.246763\"/>\n     <use style=\"fill:#4c72b0;stroke:#4c72b0;\" x=\"128.597245\" xlink:href=\"#m3c5fdccf07\" y=\"170.246763\"/>\n     <use style=\"fill:#4c72b0;stroke:#4c72b0;\" x=\"128.681558\" xlink:href=\"#m3c5fdccf07\" y=\"170.047537\"/>\n     <use style=\"fill:#4c72b0;stroke:#4c72b0;\" x=\"128.765688\" xlink:href=\"#m3c5fdccf07\" y=\"170.047537\"/>\n     <use style=\"fill:#4c72b0;stroke:#4c72b0;\" x=\"128.849634\" xlink:href=\"#m3c5fdccf07\" y=\"170.047537\"/>\n     <use style=\"fill:#4c72b0;stroke:#4c72b0;\" x=\"128.933398\" xlink:href=\"#m3c5fdccf07\" y=\"170.047537\"/>\n     <use style=\"fill:#4c72b0;stroke:#4c72b0;\" x=\"129.016982\" xlink:href=\"#m3c5fdccf07\" y=\"170.047537\"/>\n     <use style=\"fill:#4c72b0;stroke:#4c72b0;\" x=\"129.100386\" xlink:href=\"#m3c5fdccf07\" y=\"169.84831\"/>\n     <use style=\"fill:#4c72b0;stroke:#4c72b0;\" x=\"129.183613\" xlink:href=\"#m3c5fdccf07\" y=\"169.84831\"/>\n     <use style=\"fill:#4c72b0;stroke:#4c72b0;\" x=\"129.266663\" xlink:href=\"#m3c5fdccf07\" y=\"169.84831\"/>\n     <use style=\"fill:#4c72b0;stroke:#4c72b0;\" x=\"129.349538\" xlink:href=\"#m3c5fdccf07\" y=\"169.84831\"/>\n     <use style=\"fill:#4c72b0;stroke:#4c72b0;\" x=\"129.432239\" xlink:href=\"#m3c5fdccf07\" y=\"169.84831\"/>\n     <use style=\"fill:#4c72b0;stroke:#4c72b0;\" x=\"129.514767\" xlink:href=\"#m3c5fdccf07\" y=\"169.649084\"/>\n     <use style=\"fill:#4c72b0;stroke:#4c72b0;\" x=\"129.597124\" xlink:href=\"#m3c5fdccf07\" y=\"169.649084\"/>\n     <use style=\"fill:#4c72b0;stroke:#4c72b0;\" x=\"129.67931\" xlink:href=\"#m3c5fdccf07\" y=\"169.649084\"/>\n     <use style=\"fill:#4c72b0;stroke:#4c72b0;\" x=\"129.761328\" xlink:href=\"#m3c5fdccf07\" y=\"169.649084\"/>\n     <use style=\"fill:#4c72b0;stroke:#4c72b0;\" x=\"129.843177\" xlink:href=\"#m3c5fdccf07\" y=\"169.649084\"/>\n     <use style=\"fill:#4c72b0;stroke:#4c72b0;\" x=\"129.924861\" xlink:href=\"#m3c5fdccf07\" y=\"169.649084\"/>\n     <use style=\"fill:#4c72b0;stroke:#4c72b0;\" x=\"130.006378\" xlink:href=\"#m3c5fdccf07\" y=\"169.649084\"/>\n     <use style=\"fill:#4c72b0;stroke:#4c72b0;\" x=\"130.087732\" xlink:href=\"#m3c5fdccf07\" y=\"169.649084\"/>\n     <use style=\"fill:#4c72b0;stroke:#4c72b0;\" x=\"130.168922\" xlink:href=\"#m3c5fdccf07\" y=\"169.449858\"/>\n     <use style=\"fill:#4c72b0;stroke:#4c72b0;\" x=\"130.249951\" xlink:href=\"#m3c5fdccf07\" y=\"169.449858\"/>\n     <use style=\"fill:#4c72b0;stroke:#4c72b0;\" x=\"130.330818\" xlink:href=\"#m3c5fdccf07\" y=\"169.449858\"/>\n     <use style=\"fill:#4c72b0;stroke:#4c72b0;\" x=\"130.411526\" xlink:href=\"#m3c5fdccf07\" y=\"169.449858\"/>\n     <use style=\"fill:#4c72b0;stroke:#4c72b0;\" x=\"130.492076\" xlink:href=\"#m3c5fdccf07\" y=\"169.449858\"/>\n     <use style=\"fill:#4c72b0;stroke:#4c72b0;\" x=\"130.572468\" xlink:href=\"#m3c5fdccf07\" y=\"169.449858\"/>\n     <use style=\"fill:#4c72b0;stroke:#4c72b0;\" x=\"130.652704\" xlink:href=\"#m3c5fdccf07\" y=\"169.449858\"/>\n     <use style=\"fill:#4c72b0;stroke:#4c72b0;\" x=\"130.732785\" xlink:href=\"#m3c5fdccf07\" y=\"169.449858\"/>\n     <use style=\"fill:#4c72b0;stroke:#4c72b0;\" x=\"130.812712\" xlink:href=\"#m3c5fdccf07\" y=\"169.250632\"/>\n     <use style=\"fill:#4c72b0;stroke:#4c72b0;\" x=\"130.892486\" xlink:href=\"#m3c5fdccf07\" y=\"169.250632\"/>\n     <use style=\"fill:#4c72b0;stroke:#4c72b0;\" x=\"130.972107\" xlink:href=\"#m3c5fdccf07\" y=\"169.250632\"/>\n     <use style=\"fill:#4c72b0;stroke:#4c72b0;\" x=\"131.051578\" xlink:href=\"#m3c5fdccf07\" y=\"169.250632\"/>\n     <use style=\"fill:#4c72b0;stroke:#4c72b0;\" x=\"131.130899\" xlink:href=\"#m3c5fdccf07\" y=\"169.250632\"/>\n     <use style=\"fill:#4c72b0;stroke:#4c72b0;\" x=\"131.210071\" xlink:href=\"#m3c5fdccf07\" y=\"169.250632\"/>\n     <use style=\"fill:#4c72b0;stroke:#4c72b0;\" x=\"131.289096\" xlink:href=\"#m3c5fdccf07\" y=\"169.051405\"/>\n     <use style=\"fill:#4c72b0;stroke:#4c72b0;\" x=\"131.367973\" xlink:href=\"#m3c5fdccf07\" y=\"169.051405\"/>\n     <use style=\"fill:#4c72b0;stroke:#4c72b0;\" x=\"131.446705\" xlink:href=\"#m3c5fdccf07\" y=\"168.852179\"/>\n     <use style=\"fill:#4c72b0;stroke:#4c72b0;\" x=\"131.525292\" xlink:href=\"#m3c5fdccf07\" y=\"168.852179\"/>\n     <use style=\"fill:#4c72b0;stroke:#4c72b0;\" x=\"131.603735\" xlink:href=\"#m3c5fdccf07\" y=\"168.852179\"/>\n     <use style=\"fill:#4c72b0;stroke:#4c72b0;\" x=\"131.682036\" xlink:href=\"#m3c5fdccf07\" y=\"168.852179\"/>\n     <use style=\"fill:#4c72b0;stroke:#4c72b0;\" x=\"131.760194\" xlink:href=\"#m3c5fdccf07\" y=\"168.852179\"/>\n     <use style=\"fill:#4c72b0;stroke:#4c72b0;\" x=\"131.838212\" xlink:href=\"#m3c5fdccf07\" y=\"168.852179\"/>\n     <use style=\"fill:#4c72b0;stroke:#4c72b0;\" x=\"131.91609\" xlink:href=\"#m3c5fdccf07\" y=\"168.852179\"/>\n     <use style=\"fill:#4c72b0;stroke:#4c72b0;\" x=\"131.993829\" xlink:href=\"#m3c5fdccf07\" y=\"168.852179\"/>\n     <use style=\"fill:#4c72b0;stroke:#4c72b0;\" x=\"132.07143\" xlink:href=\"#m3c5fdccf07\" y=\"168.852179\"/>\n     <use style=\"fill:#4c72b0;stroke:#4c72b0;\" x=\"132.148894\" xlink:href=\"#m3c5fdccf07\" y=\"168.652953\"/>\n     <use style=\"fill:#4c72b0;stroke:#4c72b0;\" x=\"132.226221\" xlink:href=\"#m3c5fdccf07\" y=\"168.652953\"/>\n     <use style=\"fill:#4c72b0;stroke:#4c72b0;\" x=\"132.303414\" xlink:href=\"#m3c5fdccf07\" y=\"168.652953\"/>\n     <use style=\"fill:#4c72b0;stroke:#4c72b0;\" x=\"132.380472\" xlink:href=\"#m3c5fdccf07\" y=\"168.453727\"/>\n     <use style=\"fill:#4c72b0;stroke:#4c72b0;\" x=\"132.457396\" xlink:href=\"#m3c5fdccf07\" y=\"168.453727\"/>\n     <use style=\"fill:#4c72b0;stroke:#4c72b0;\" x=\"132.534188\" xlink:href=\"#m3c5fdccf07\" y=\"168.453727\"/>\n     <use style=\"fill:#4c72b0;stroke:#4c72b0;\" x=\"132.610848\" xlink:href=\"#m3c5fdccf07\" y=\"168.2545\"/>\n     <use style=\"fill:#4c72b0;stroke:#4c72b0;\" x=\"132.687378\" xlink:href=\"#m3c5fdccf07\" y=\"168.2545\"/>\n     <use style=\"fill:#4c72b0;stroke:#4c72b0;\" x=\"132.763777\" xlink:href=\"#m3c5fdccf07\" y=\"168.2545\"/>\n     <use style=\"fill:#4c72b0;stroke:#4c72b0;\" x=\"132.840048\" xlink:href=\"#m3c5fdccf07\" y=\"168.2545\"/>\n     <use style=\"fill:#4c72b0;stroke:#4c72b0;\" x=\"132.91619\" xlink:href=\"#m3c5fdccf07\" y=\"168.2545\"/>\n     <use style=\"fill:#4c72b0;stroke:#4c72b0;\" x=\"132.992205\" xlink:href=\"#m3c5fdccf07\" y=\"168.2545\"/>\n     <use style=\"fill:#4c72b0;stroke:#4c72b0;\" x=\"133.068093\" xlink:href=\"#m3c5fdccf07\" y=\"168.2545\"/>\n     <use style=\"fill:#4c72b0;stroke:#4c72b0;\" x=\"133.143856\" xlink:href=\"#m3c5fdccf07\" y=\"168.055274\"/>\n     <use style=\"fill:#4c72b0;stroke:#4c72b0;\" x=\"133.219494\" xlink:href=\"#m3c5fdccf07\" y=\"168.055274\"/>\n     <use style=\"fill:#4c72b0;stroke:#4c72b0;\" x=\"133.295008\" xlink:href=\"#m3c5fdccf07\" y=\"168.055274\"/>\n     <use style=\"fill:#4c72b0;stroke:#4c72b0;\" x=\"133.370398\" xlink:href=\"#m3c5fdccf07\" y=\"168.055274\"/>\n     <use style=\"fill:#4c72b0;stroke:#4c72b0;\" x=\"133.445666\" xlink:href=\"#m3c5fdccf07\" y=\"167.856048\"/>\n     <use style=\"fill:#4c72b0;stroke:#4c72b0;\" x=\"133.520813\" xlink:href=\"#m3c5fdccf07\" y=\"167.856048\"/>\n     <use style=\"fill:#4c72b0;stroke:#4c72b0;\" x=\"133.595838\" xlink:href=\"#m3c5fdccf07\" y=\"167.656822\"/>\n     <use style=\"fill:#4c72b0;stroke:#4c72b0;\" x=\"133.670744\" xlink:href=\"#m3c5fdccf07\" y=\"167.656822\"/>\n     <use style=\"fill:#4c72b0;stroke:#4c72b0;\" x=\"133.74553\" xlink:href=\"#m3c5fdccf07\" y=\"167.656822\"/>\n     <use style=\"fill:#4c72b0;stroke:#4c72b0;\" x=\"133.820198\" xlink:href=\"#m3c5fdccf07\" y=\"167.656822\"/>\n     <use style=\"fill:#4c72b0;stroke:#4c72b0;\" x=\"133.894748\" xlink:href=\"#m3c5fdccf07\" y=\"167.656822\"/>\n     <use style=\"fill:#4c72b0;stroke:#4c72b0;\" x=\"133.969181\" xlink:href=\"#m3c5fdccf07\" y=\"167.656822\"/>\n     <use style=\"fill:#4c72b0;stroke:#4c72b0;\" x=\"134.043498\" xlink:href=\"#m3c5fdccf07\" y=\"167.656822\"/>\n     <use style=\"fill:#4c72b0;stroke:#4c72b0;\" x=\"134.1177\" xlink:href=\"#m3c5fdccf07\" y=\"167.457595\"/>\n     <use style=\"fill:#4c72b0;stroke:#4c72b0;\" x=\"134.191786\" xlink:href=\"#m3c5fdccf07\" y=\"167.457595\"/>\n     <use style=\"fill:#4c72b0;stroke:#4c72b0;\" x=\"134.265759\" xlink:href=\"#m3c5fdccf07\" y=\"167.457595\"/>\n     <use style=\"fill:#4c72b0;stroke:#4c72b0;\" x=\"134.339618\" xlink:href=\"#m3c5fdccf07\" y=\"167.457595\"/>\n     <use style=\"fill:#4c72b0;stroke:#4c72b0;\" x=\"134.413365\" xlink:href=\"#m3c5fdccf07\" y=\"167.457595\"/>\n     <use style=\"fill:#4c72b0;stroke:#4c72b0;\" x=\"134.487001\" xlink:href=\"#m3c5fdccf07\" y=\"167.457595\"/>\n     <use style=\"fill:#4c72b0;stroke:#4c72b0;\" x=\"134.560525\" xlink:href=\"#m3c5fdccf07\" y=\"167.258369\"/>\n     <use style=\"fill:#4c72b0;stroke:#4c72b0;\" x=\"134.633938\" xlink:href=\"#m3c5fdccf07\" y=\"167.258369\"/>\n     <use style=\"fill:#4c72b0;stroke:#4c72b0;\" x=\"134.707243\" xlink:href=\"#m3c5fdccf07\" y=\"167.059143\"/>\n     <use style=\"fill:#4c72b0;stroke:#4c72b0;\" x=\"134.780438\" xlink:href=\"#m3c5fdccf07\" y=\"167.059143\"/>\n     <use style=\"fill:#4c72b0;stroke:#4c72b0;\" x=\"134.853524\" xlink:href=\"#m3c5fdccf07\" y=\"167.059143\"/>\n     <use style=\"fill:#4c72b0;stroke:#4c72b0;\" x=\"134.926504\" xlink:href=\"#m3c5fdccf07\" y=\"167.059143\"/>\n     <use style=\"fill:#4c72b0;stroke:#4c72b0;\" x=\"134.999376\" xlink:href=\"#m3c5fdccf07\" y=\"167.059143\"/>\n     <use style=\"fill:#4c72b0;stroke:#4c72b0;\" x=\"135.072142\" xlink:href=\"#m3c5fdccf07\" y=\"166.859917\"/>\n     <use style=\"fill:#4c72b0;stroke:#4c72b0;\" x=\"135.144803\" xlink:href=\"#m3c5fdccf07\" y=\"166.859917\"/>\n     <use style=\"fill:#4c72b0;stroke:#4c72b0;\" x=\"135.217358\" xlink:href=\"#m3c5fdccf07\" y=\"166.859917\"/>\n     <use style=\"fill:#4c72b0;stroke:#4c72b0;\" x=\"135.28981\" xlink:href=\"#m3c5fdccf07\" y=\"166.859917\"/>\n     <use style=\"fill:#4c72b0;stroke:#4c72b0;\" x=\"135.362158\" xlink:href=\"#m3c5fdccf07\" y=\"166.859917\"/>\n     <use style=\"fill:#4c72b0;stroke:#4c72b0;\" x=\"135.434403\" xlink:href=\"#m3c5fdccf07\" y=\"166.66069\"/>\n     <use style=\"fill:#4c72b0;stroke:#4c72b0;\" x=\"135.506546\" xlink:href=\"#m3c5fdccf07\" y=\"166.66069\"/>\n     <use style=\"fill:#4c72b0;stroke:#4c72b0;\" x=\"135.578587\" xlink:href=\"#m3c5fdccf07\" y=\"166.66069\"/>\n     <use style=\"fill:#4c72b0;stroke:#4c72b0;\" x=\"135.650527\" xlink:href=\"#m3c5fdccf07\" y=\"166.66069\"/>\n     <use style=\"fill:#4c72b0;stroke:#4c72b0;\" x=\"135.722367\" xlink:href=\"#m3c5fdccf07\" y=\"166.66069\"/>\n     <use style=\"fill:#4c72b0;stroke:#4c72b0;\" x=\"135.794107\" xlink:href=\"#m3c5fdccf07\" y=\"166.66069\"/>\n     <use style=\"fill:#4c72b0;stroke:#4c72b0;\" x=\"135.865748\" xlink:href=\"#m3c5fdccf07\" y=\"166.461464\"/>\n     <use style=\"fill:#4c72b0;stroke:#4c72b0;\" x=\"135.93729\" xlink:href=\"#m3c5fdccf07\" y=\"166.461464\"/>\n     <use style=\"fill:#4c72b0;stroke:#4c72b0;\" x=\"136.008735\" xlink:href=\"#m3c5fdccf07\" y=\"166.461464\"/>\n     <use style=\"fill:#4c72b0;stroke:#4c72b0;\" x=\"136.080082\" xlink:href=\"#m3c5fdccf07\" y=\"166.461464\"/>\n     <use style=\"fill:#4c72b0;stroke:#4c72b0;\" x=\"136.151333\" xlink:href=\"#m3c5fdccf07\" y=\"166.461464\"/>\n     <use style=\"fill:#4c72b0;stroke:#4c72b0;\" x=\"136.222488\" xlink:href=\"#m3c5fdccf07\" y=\"166.461464\"/>\n     <use style=\"fill:#4c72b0;stroke:#4c72b0;\" x=\"136.293547\" xlink:href=\"#m3c5fdccf07\" y=\"166.461464\"/>\n     <use style=\"fill:#4c72b0;stroke:#4c72b0;\" x=\"136.364512\" xlink:href=\"#m3c5fdccf07\" y=\"166.262238\"/>\n     <use style=\"fill:#4c72b0;stroke:#4c72b0;\" x=\"136.435382\" xlink:href=\"#m3c5fdccf07\" y=\"166.262238\"/>\n     <use style=\"fill:#4c72b0;stroke:#4c72b0;\" x=\"136.506159\" xlink:href=\"#m3c5fdccf07\" y=\"166.262238\"/>\n     <use style=\"fill:#4c72b0;stroke:#4c72b0;\" x=\"136.576843\" xlink:href=\"#m3c5fdccf07\" y=\"166.262238\"/>\n     <use style=\"fill:#4c72b0;stroke:#4c72b0;\" x=\"136.647434\" xlink:href=\"#m3c5fdccf07\" y=\"166.063012\"/>\n     <use style=\"fill:#4c72b0;stroke:#4c72b0;\" x=\"136.717933\" xlink:href=\"#m3c5fdccf07\" y=\"166.063012\"/>\n     <use style=\"fill:#4c72b0;stroke:#4c72b0;\" x=\"136.788341\" xlink:href=\"#m3c5fdccf07\" y=\"166.063012\"/>\n     <use style=\"fill:#4c72b0;stroke:#4c72b0;\" x=\"136.858658\" xlink:href=\"#m3c5fdccf07\" y=\"166.063012\"/>\n     <use style=\"fill:#4c72b0;stroke:#4c72b0;\" x=\"136.928885\" xlink:href=\"#m3c5fdccf07\" y=\"166.063012\"/>\n     <use style=\"fill:#4c72b0;stroke:#4c72b0;\" x=\"136.999022\" xlink:href=\"#m3c5fdccf07\" y=\"166.063012\"/>\n     <use style=\"fill:#4c72b0;stroke:#4c72b0;\" x=\"137.06907\" xlink:href=\"#m3c5fdccf07\" y=\"165.863785\"/>\n     <use style=\"fill:#4c72b0;stroke:#4c72b0;\" x=\"137.139029\" xlink:href=\"#m3c5fdccf07\" y=\"165.863785\"/>\n     <use style=\"fill:#4c72b0;stroke:#4c72b0;\" x=\"137.208901\" xlink:href=\"#m3c5fdccf07\" y=\"165.863785\"/>\n     <use style=\"fill:#4c72b0;stroke:#4c72b0;\" x=\"137.278685\" xlink:href=\"#m3c5fdccf07\" y=\"165.863785\"/>\n     <use style=\"fill:#4c72b0;stroke:#4c72b0;\" x=\"137.348382\" xlink:href=\"#m3c5fdccf07\" y=\"165.863785\"/>\n     <use style=\"fill:#4c72b0;stroke:#4c72b0;\" x=\"137.417992\" xlink:href=\"#m3c5fdccf07\" y=\"165.863785\"/>\n     <use style=\"fill:#4c72b0;stroke:#4c72b0;\" x=\"137.487517\" xlink:href=\"#m3c5fdccf07\" y=\"165.863785\"/>\n     <use style=\"fill:#4c72b0;stroke:#4c72b0;\" x=\"137.556957\" xlink:href=\"#m3c5fdccf07\" y=\"165.664559\"/>\n     <use style=\"fill:#4c72b0;stroke:#4c72b0;\" x=\"137.626312\" xlink:href=\"#m3c5fdccf07\" y=\"165.664559\"/>\n     <use style=\"fill:#4c72b0;stroke:#4c72b0;\" x=\"137.695582\" xlink:href=\"#m3c5fdccf07\" y=\"165.664559\"/>\n     <use style=\"fill:#4c72b0;stroke:#4c72b0;\" x=\"137.764769\" xlink:href=\"#m3c5fdccf07\" y=\"165.664559\"/>\n     <use style=\"fill:#4c72b0;stroke:#4c72b0;\" x=\"137.833872\" xlink:href=\"#m3c5fdccf07\" y=\"165.664559\"/>\n     <use style=\"fill:#4c72b0;stroke:#4c72b0;\" x=\"137.902893\" xlink:href=\"#m3c5fdccf07\" y=\"165.664559\"/>\n     <use style=\"fill:#4c72b0;stroke:#4c72b0;\" x=\"137.971831\" xlink:href=\"#m3c5fdccf07\" y=\"165.465333\"/>\n     <use style=\"fill:#4c72b0;stroke:#4c72b0;\" x=\"138.040688\" xlink:href=\"#m3c5fdccf07\" y=\"165.465333\"/>\n     <use style=\"fill:#4c72b0;stroke:#4c72b0;\" x=\"138.109463\" xlink:href=\"#m3c5fdccf07\" y=\"165.465333\"/>\n     <use style=\"fill:#4c72b0;stroke:#4c72b0;\" x=\"138.178158\" xlink:href=\"#m3c5fdccf07\" y=\"165.465333\"/>\n     <use style=\"fill:#4c72b0;stroke:#4c72b0;\" x=\"138.246773\" xlink:href=\"#m3c5fdccf07\" y=\"165.465333\"/>\n     <use style=\"fill:#4c72b0;stroke:#4c72b0;\" x=\"138.315308\" xlink:href=\"#m3c5fdccf07\" y=\"165.465333\"/>\n     <use style=\"fill:#4c72b0;stroke:#4c72b0;\" x=\"138.383763\" xlink:href=\"#m3c5fdccf07\" y=\"165.465333\"/>\n     <use style=\"fill:#4c72b0;stroke:#4c72b0;\" x=\"138.45214\" xlink:href=\"#m3c5fdccf07\" y=\"165.465333\"/>\n     <use style=\"fill:#4c72b0;stroke:#4c72b0;\" x=\"138.520439\" xlink:href=\"#m3c5fdccf07\" y=\"165.465333\"/>\n     <use style=\"fill:#4c72b0;stroke:#4c72b0;\" x=\"138.588659\" xlink:href=\"#m3c5fdccf07\" y=\"165.465333\"/>\n     <use style=\"fill:#4c72b0;stroke:#4c72b0;\" x=\"138.656803\" xlink:href=\"#m3c5fdccf07\" y=\"165.465333\"/>\n     <use style=\"fill:#4c72b0;stroke:#4c72b0;\" x=\"138.72487\" xlink:href=\"#m3c5fdccf07\" y=\"165.266107\"/>\n     <use style=\"fill:#4c72b0;stroke:#4c72b0;\" x=\"138.79286\" xlink:href=\"#m3c5fdccf07\" y=\"165.266107\"/>\n     <use style=\"fill:#4c72b0;stroke:#4c72b0;\" x=\"138.860774\" xlink:href=\"#m3c5fdccf07\" y=\"165.266107\"/>\n     <use style=\"fill:#4c72b0;stroke:#4c72b0;\" x=\"138.928613\" xlink:href=\"#m3c5fdccf07\" y=\"165.266107\"/>\n     <use style=\"fill:#4c72b0;stroke:#4c72b0;\" x=\"138.996377\" xlink:href=\"#m3c5fdccf07\" y=\"165.266107\"/>\n     <use style=\"fill:#4c72b0;stroke:#4c72b0;\" x=\"139.064066\" xlink:href=\"#m3c5fdccf07\" y=\"165.266107\"/>\n     <use style=\"fill:#4c72b0;stroke:#4c72b0;\" x=\"139.131682\" xlink:href=\"#m3c5fdccf07\" y=\"165.266107\"/>\n     <use style=\"fill:#4c72b0;stroke:#4c72b0;\" x=\"139.199224\" xlink:href=\"#m3c5fdccf07\" y=\"165.266107\"/>\n     <use style=\"fill:#4c72b0;stroke:#4c72b0;\" x=\"139.266692\" xlink:href=\"#m3c5fdccf07\" y=\"165.06688\"/>\n     <use style=\"fill:#4c72b0;stroke:#4c72b0;\" x=\"139.334088\" xlink:href=\"#m3c5fdccf07\" y=\"165.06688\"/>\n     <use style=\"fill:#4c72b0;stroke:#4c72b0;\" x=\"139.401412\" xlink:href=\"#m3c5fdccf07\" y=\"164.867654\"/>\n     <use style=\"fill:#4c72b0;stroke:#4c72b0;\" x=\"139.468664\" xlink:href=\"#m3c5fdccf07\" y=\"164.867654\"/>\n     <use style=\"fill:#4c72b0;stroke:#4c72b0;\" x=\"139.535844\" xlink:href=\"#m3c5fdccf07\" y=\"164.867654\"/>\n     <use style=\"fill:#4c72b0;stroke:#4c72b0;\" x=\"139.602954\" xlink:href=\"#m3c5fdccf07\" y=\"164.867654\"/>\n     <use style=\"fill:#4c72b0;stroke:#4c72b0;\" x=\"139.669993\" xlink:href=\"#m3c5fdccf07\" y=\"164.867654\"/>\n     <use style=\"fill:#4c72b0;stroke:#4c72b0;\" x=\"139.736962\" xlink:href=\"#m3c5fdccf07\" y=\"164.867654\"/>\n     <use style=\"fill:#4c72b0;stroke:#4c72b0;\" x=\"139.803861\" xlink:href=\"#m3c5fdccf07\" y=\"164.668428\"/>\n     <use style=\"fill:#4c72b0;stroke:#4c72b0;\" x=\"139.870691\" xlink:href=\"#m3c5fdccf07\" y=\"164.668428\"/>\n     <use style=\"fill:#4c72b0;stroke:#4c72b0;\" x=\"139.937453\" xlink:href=\"#m3c5fdccf07\" y=\"164.668428\"/>\n     <use style=\"fill:#4c72b0;stroke:#4c72b0;\" x=\"140.004146\" xlink:href=\"#m3c5fdccf07\" y=\"164.668428\"/>\n     <use style=\"fill:#4c72b0;stroke:#4c72b0;\" x=\"140.070771\" xlink:href=\"#m3c5fdccf07\" y=\"164.668428\"/>\n     <use style=\"fill:#4c72b0;stroke:#4c72b0;\" x=\"140.137328\" xlink:href=\"#m3c5fdccf07\" y=\"164.668428\"/>\n     <use style=\"fill:#4c72b0;stroke:#4c72b0;\" x=\"140.203819\" xlink:href=\"#m3c5fdccf07\" y=\"164.668428\"/>\n     <use style=\"fill:#4c72b0;stroke:#4c72b0;\" x=\"140.270242\" xlink:href=\"#m3c5fdccf07\" y=\"164.668428\"/>\n     <use style=\"fill:#4c72b0;stroke:#4c72b0;\" x=\"140.3366\" xlink:href=\"#m3c5fdccf07\" y=\"164.668428\"/>\n     <use style=\"fill:#4c72b0;stroke:#4c72b0;\" x=\"140.402891\" xlink:href=\"#m3c5fdccf07\" y=\"164.469202\"/>\n     <use style=\"fill:#4c72b0;stroke:#4c72b0;\" x=\"140.469118\" xlink:href=\"#m3c5fdccf07\" y=\"164.469202\"/>\n     <use style=\"fill:#4c72b0;stroke:#4c72b0;\" x=\"140.535279\" xlink:href=\"#m3c5fdccf07\" y=\"164.469202\"/>\n     <use style=\"fill:#4c72b0;stroke:#4c72b0;\" x=\"140.601375\" xlink:href=\"#m3c5fdccf07\" y=\"164.469202\"/>\n     <use style=\"fill:#4c72b0;stroke:#4c72b0;\" x=\"140.667407\" xlink:href=\"#m3c5fdccf07\" y=\"164.469202\"/>\n     <use style=\"fill:#4c72b0;stroke:#4c72b0;\" x=\"140.733375\" xlink:href=\"#m3c5fdccf07\" y=\"164.469202\"/>\n     <use style=\"fill:#4c72b0;stroke:#4c72b0;\" x=\"140.79928\" xlink:href=\"#m3c5fdccf07\" y=\"164.469202\"/>\n     <use style=\"fill:#4c72b0;stroke:#4c72b0;\" x=\"140.865122\" xlink:href=\"#m3c5fdccf07\" y=\"164.469202\"/>\n     <use style=\"fill:#4c72b0;stroke:#4c72b0;\" x=\"140.930901\" xlink:href=\"#m3c5fdccf07\" y=\"164.469202\"/>\n     <use style=\"fill:#4c72b0;stroke:#4c72b0;\" x=\"140.996618\" xlink:href=\"#m3c5fdccf07\" y=\"164.469202\"/>\n     <use style=\"fill:#4c72b0;stroke:#4c72b0;\" x=\"141.062272\" xlink:href=\"#m3c5fdccf07\" y=\"164.469202\"/>\n     <use style=\"fill:#4c72b0;stroke:#4c72b0;\" x=\"141.127866\" xlink:href=\"#m3c5fdccf07\" y=\"164.269975\"/>\n     <use style=\"fill:#4c72b0;stroke:#4c72b0;\" x=\"141.193398\" xlink:href=\"#m3c5fdccf07\" y=\"164.269975\"/>\n     <use style=\"fill:#4c72b0;stroke:#4c72b0;\" x=\"141.258869\" xlink:href=\"#m3c5fdccf07\" y=\"164.269975\"/>\n     <use style=\"fill:#4c72b0;stroke:#4c72b0;\" x=\"141.32428\" xlink:href=\"#m3c5fdccf07\" y=\"164.269975\"/>\n     <use style=\"fill:#4c72b0;stroke:#4c72b0;\" x=\"141.389631\" xlink:href=\"#m3c5fdccf07\" y=\"164.269975\"/>\n     <use style=\"fill:#4c72b0;stroke:#4c72b0;\" x=\"141.454923\" xlink:href=\"#m3c5fdccf07\" y=\"164.070749\"/>\n     <use style=\"fill:#4c72b0;stroke:#4c72b0;\" x=\"141.520155\" xlink:href=\"#m3c5fdccf07\" y=\"164.070749\"/>\n     <use style=\"fill:#4c72b0;stroke:#4c72b0;\" x=\"141.585328\" xlink:href=\"#m3c5fdccf07\" y=\"164.070749\"/>\n     <use style=\"fill:#4c72b0;stroke:#4c72b0;\" x=\"141.650442\" xlink:href=\"#m3c5fdccf07\" y=\"164.070749\"/>\n     <use style=\"fill:#4c72b0;stroke:#4c72b0;\" x=\"141.715499\" xlink:href=\"#m3c5fdccf07\" y=\"163.871523\"/>\n     <use style=\"fill:#4c72b0;stroke:#4c72b0;\" x=\"141.780498\" xlink:href=\"#m3c5fdccf07\" y=\"163.871523\"/>\n     <use style=\"fill:#4c72b0;stroke:#4c72b0;\" x=\"141.845439\" xlink:href=\"#m3c5fdccf07\" y=\"163.871523\"/>\n     <use style=\"fill:#4c72b0;stroke:#4c72b0;\" x=\"141.910323\" xlink:href=\"#m3c5fdccf07\" y=\"163.871523\"/>\n     <use style=\"fill:#4c72b0;stroke:#4c72b0;\" x=\"141.975151\" xlink:href=\"#m3c5fdccf07\" y=\"163.871523\"/>\n     <use style=\"fill:#4c72b0;stroke:#4c72b0;\" x=\"142.039922\" xlink:href=\"#m3c5fdccf07\" y=\"163.871523\"/>\n     <use style=\"fill:#4c72b0;stroke:#4c72b0;\" x=\"142.104637\" xlink:href=\"#m3c5fdccf07\" y=\"163.672297\"/>\n     <use style=\"fill:#4c72b0;stroke:#4c72b0;\" x=\"142.169296\" xlink:href=\"#m3c5fdccf07\" y=\"163.672297\"/>\n     <use style=\"fill:#4c72b0;stroke:#4c72b0;\" x=\"142.2339\" xlink:href=\"#m3c5fdccf07\" y=\"163.672297\"/>\n     <use style=\"fill:#4c72b0;stroke:#4c72b0;\" x=\"142.29845\" xlink:href=\"#m3c5fdccf07\" y=\"163.672297\"/>\n     <use style=\"fill:#4c72b0;stroke:#4c72b0;\" x=\"142.362944\" xlink:href=\"#m3c5fdccf07\" y=\"163.672297\"/>\n     <use style=\"fill:#4c72b0;stroke:#4c72b0;\" x=\"142.427384\" xlink:href=\"#m3c5fdccf07\" y=\"163.672297\"/>\n     <use style=\"fill:#4c72b0;stroke:#4c72b0;\" x=\"142.491771\" xlink:href=\"#m3c5fdccf07\" y=\"163.672297\"/>\n     <use style=\"fill:#4c72b0;stroke:#4c72b0;\" x=\"142.556104\" xlink:href=\"#m3c5fdccf07\" y=\"163.672297\"/>\n     <use style=\"fill:#4c72b0;stroke:#4c72b0;\" x=\"142.620383\" xlink:href=\"#m3c5fdccf07\" y=\"163.47307\"/>\n     <use style=\"fill:#4c72b0;stroke:#4c72b0;\" x=\"142.68461\" xlink:href=\"#m3c5fdccf07\" y=\"163.47307\"/>\n     <use style=\"fill:#4c72b0;stroke:#4c72b0;\" x=\"142.748784\" xlink:href=\"#m3c5fdccf07\" y=\"163.47307\"/>\n     <use style=\"fill:#4c72b0;stroke:#4c72b0;\" x=\"142.812906\" xlink:href=\"#m3c5fdccf07\" y=\"163.47307\"/>\n     <use style=\"fill:#4c72b0;stroke:#4c72b0;\" x=\"142.876976\" xlink:href=\"#m3c5fdccf07\" y=\"163.47307\"/>\n     <use style=\"fill:#4c72b0;stroke:#4c72b0;\" x=\"142.940995\" xlink:href=\"#m3c5fdccf07\" y=\"163.47307\"/>\n     <use style=\"fill:#4c72b0;stroke:#4c72b0;\" x=\"143.004962\" xlink:href=\"#m3c5fdccf07\" y=\"163.47307\"/>\n     <use style=\"fill:#4c72b0;stroke:#4c72b0;\" x=\"143.068879\" xlink:href=\"#m3c5fdccf07\" y=\"163.273844\"/>\n     <use style=\"fill:#4c72b0;stroke:#4c72b0;\" x=\"143.132745\" xlink:href=\"#m3c5fdccf07\" y=\"163.273844\"/>\n     <use style=\"fill:#4c72b0;stroke:#4c72b0;\" x=\"143.19656\" xlink:href=\"#m3c5fdccf07\" y=\"163.273844\"/>\n     <use style=\"fill:#4c72b0;stroke:#4c72b0;\" x=\"143.260326\" xlink:href=\"#m3c5fdccf07\" y=\"163.273844\"/>\n     <use style=\"fill:#4c72b0;stroke:#4c72b0;\" x=\"143.324042\" xlink:href=\"#m3c5fdccf07\" y=\"163.273844\"/>\n     <use style=\"fill:#4c72b0;stroke:#4c72b0;\" x=\"143.387709\" xlink:href=\"#m3c5fdccf07\" y=\"163.273844\"/>\n     <use style=\"fill:#4c72b0;stroke:#4c72b0;\" x=\"143.451327\" xlink:href=\"#m3c5fdccf07\" y=\"163.273844\"/>\n     <use style=\"fill:#4c72b0;stroke:#4c72b0;\" x=\"143.514896\" xlink:href=\"#m3c5fdccf07\" y=\"163.273844\"/>\n     <use style=\"fill:#4c72b0;stroke:#4c72b0;\" x=\"143.578417\" xlink:href=\"#m3c5fdccf07\" y=\"163.273844\"/>\n     <use style=\"fill:#4c72b0;stroke:#4c72b0;\" x=\"143.64189\" xlink:href=\"#m3c5fdccf07\" y=\"163.074618\"/>\n     <use style=\"fill:#4c72b0;stroke:#4c72b0;\" x=\"143.705316\" xlink:href=\"#m3c5fdccf07\" y=\"163.074618\"/>\n     <use style=\"fill:#4c72b0;stroke:#4c72b0;\" x=\"143.768694\" xlink:href=\"#m3c5fdccf07\" y=\"163.074618\"/>\n     <use style=\"fill:#4c72b0;stroke:#4c72b0;\" x=\"143.832024\" xlink:href=\"#m3c5fdccf07\" y=\"163.074618\"/>\n     <use style=\"fill:#4c72b0;stroke:#4c72b0;\" x=\"143.895309\" xlink:href=\"#m3c5fdccf07\" y=\"162.875392\"/>\n     <use style=\"fill:#4c72b0;stroke:#4c72b0;\" x=\"143.958546\" xlink:href=\"#m3c5fdccf07\" y=\"162.875392\"/>\n     <use style=\"fill:#4c72b0;stroke:#4c72b0;\" x=\"144.021738\" xlink:href=\"#m3c5fdccf07\" y=\"162.875392\"/>\n     <use style=\"fill:#4c72b0;stroke:#4c72b0;\" x=\"144.084884\" xlink:href=\"#m3c5fdccf07\" y=\"162.875392\"/>\n     <use style=\"fill:#4c72b0;stroke:#4c72b0;\" x=\"144.147984\" xlink:href=\"#m3c5fdccf07\" y=\"162.875392\"/>\n     <use style=\"fill:#4c72b0;stroke:#4c72b0;\" x=\"144.211039\" xlink:href=\"#m3c5fdccf07\" y=\"162.676165\"/>\n     <use style=\"fill:#4c72b0;stroke:#4c72b0;\" x=\"144.274049\" xlink:href=\"#m3c5fdccf07\" y=\"162.676165\"/>\n     <use style=\"fill:#4c72b0;stroke:#4c72b0;\" x=\"144.337015\" xlink:href=\"#m3c5fdccf07\" y=\"162.676165\"/>\n     <use style=\"fill:#4c72b0;stroke:#4c72b0;\" x=\"144.399936\" xlink:href=\"#m3c5fdccf07\" y=\"162.676165\"/>\n     <use style=\"fill:#4c72b0;stroke:#4c72b0;\" x=\"144.462813\" xlink:href=\"#m3c5fdccf07\" y=\"162.676165\"/>\n     <use style=\"fill:#4c72b0;stroke:#4c72b0;\" x=\"144.525647\" xlink:href=\"#m3c5fdccf07\" y=\"162.676165\"/>\n     <use style=\"fill:#4c72b0;stroke:#4c72b0;\" x=\"144.588437\" xlink:href=\"#m3c5fdccf07\" y=\"162.676165\"/>\n     <use style=\"fill:#4c72b0;stroke:#4c72b0;\" x=\"144.651184\" xlink:href=\"#m3c5fdccf07\" y=\"162.676165\"/>\n     <use style=\"fill:#4c72b0;stroke:#4c72b0;\" x=\"144.713888\" xlink:href=\"#m3c5fdccf07\" y=\"162.476939\"/>\n     <use style=\"fill:#4c72b0;stroke:#4c72b0;\" x=\"144.77655\" xlink:href=\"#m3c5fdccf07\" y=\"162.476939\"/>\n     <use style=\"fill:#4c72b0;stroke:#4c72b0;\" x=\"144.839169\" xlink:href=\"#m3c5fdccf07\" y=\"162.277713\"/>\n     <use style=\"fill:#4c72b0;stroke:#4c72b0;\" x=\"144.901746\" xlink:href=\"#m3c5fdccf07\" y=\"162.277713\"/>\n     <use style=\"fill:#4c72b0;stroke:#4c72b0;\" x=\"144.964282\" xlink:href=\"#m3c5fdccf07\" y=\"162.277713\"/>\n     <use style=\"fill:#4c72b0;stroke:#4c72b0;\" x=\"145.026776\" xlink:href=\"#m3c5fdccf07\" y=\"162.277713\"/>\n     <use style=\"fill:#4c72b0;stroke:#4c72b0;\" x=\"145.089229\" xlink:href=\"#m3c5fdccf07\" y=\"162.277713\"/>\n     <use style=\"fill:#4c72b0;stroke:#4c72b0;\" x=\"145.151642\" xlink:href=\"#m3c5fdccf07\" y=\"162.277713\"/>\n     <use style=\"fill:#4c72b0;stroke:#4c72b0;\" x=\"145.214014\" xlink:href=\"#m3c5fdccf07\" y=\"162.078487\"/>\n     <use style=\"fill:#4c72b0;stroke:#4c72b0;\" x=\"145.276345\" xlink:href=\"#m3c5fdccf07\" y=\"162.078487\"/>\n     <use style=\"fill:#4c72b0;stroke:#4c72b0;\" x=\"145.338637\" xlink:href=\"#m3c5fdccf07\" y=\"162.078487\"/>\n     <use style=\"fill:#4c72b0;stroke:#4c72b0;\" x=\"145.400889\" xlink:href=\"#m3c5fdccf07\" y=\"162.078487\"/>\n     <use style=\"fill:#4c72b0;stroke:#4c72b0;\" x=\"145.463102\" xlink:href=\"#m3c5fdccf07\" y=\"162.078487\"/>\n     <use style=\"fill:#4c72b0;stroke:#4c72b0;\" x=\"145.525275\" xlink:href=\"#m3c5fdccf07\" y=\"162.078487\"/>\n     <use style=\"fill:#4c72b0;stroke:#4c72b0;\" x=\"145.587409\" xlink:href=\"#m3c5fdccf07\" y=\"162.078487\"/>\n     <use style=\"fill:#4c72b0;stroke:#4c72b0;\" x=\"145.649505\" xlink:href=\"#m3c5fdccf07\" y=\"161.87926\"/>\n     <use style=\"fill:#4c72b0;stroke:#4c72b0;\" x=\"145.711563\" xlink:href=\"#m3c5fdccf07\" y=\"161.87926\"/>\n     <use style=\"fill:#4c72b0;stroke:#4c72b0;\" x=\"145.773583\" xlink:href=\"#m3c5fdccf07\" y=\"161.87926\"/>\n     <use style=\"fill:#4c72b0;stroke:#4c72b0;\" x=\"145.835565\" xlink:href=\"#m3c5fdccf07\" y=\"161.87926\"/>\n     <use style=\"fill:#4c72b0;stroke:#4c72b0;\" x=\"145.897509\" xlink:href=\"#m3c5fdccf07\" y=\"161.680034\"/>\n     <use style=\"fill:#4c72b0;stroke:#4c72b0;\" x=\"145.959416\" xlink:href=\"#m3c5fdccf07\" y=\"161.680034\"/>\n     <use style=\"fill:#4c72b0;stroke:#4c72b0;\" x=\"146.021286\" xlink:href=\"#m3c5fdccf07\" y=\"161.680034\"/>\n     <use style=\"fill:#4c72b0;stroke:#4c72b0;\" x=\"146.08312\" xlink:href=\"#m3c5fdccf07\" y=\"161.680034\"/>\n     <use style=\"fill:#4c72b0;stroke:#4c72b0;\" x=\"146.144917\" xlink:href=\"#m3c5fdccf07\" y=\"161.680034\"/>\n     <use style=\"fill:#4c72b0;stroke:#4c72b0;\" x=\"146.206678\" xlink:href=\"#m3c5fdccf07\" y=\"161.680034\"/>\n     <use style=\"fill:#4c72b0;stroke:#4c72b0;\" x=\"146.268403\" xlink:href=\"#m3c5fdccf07\" y=\"161.680034\"/>\n     <use style=\"fill:#4c72b0;stroke:#4c72b0;\" x=\"146.330092\" xlink:href=\"#m3c5fdccf07\" y=\"161.480808\"/>\n     <use style=\"fill:#4c72b0;stroke:#4c72b0;\" x=\"146.391747\" xlink:href=\"#m3c5fdccf07\" y=\"161.480808\"/>\n     <use style=\"fill:#4c72b0;stroke:#4c72b0;\" x=\"146.453366\" xlink:href=\"#m3c5fdccf07\" y=\"161.480808\"/>\n     <use style=\"fill:#4c72b0;stroke:#4c72b0;\" x=\"146.51495\" xlink:href=\"#m3c5fdccf07\" y=\"161.480808\"/>\n     <use style=\"fill:#4c72b0;stroke:#4c72b0;\" x=\"146.576499\" xlink:href=\"#m3c5fdccf07\" y=\"161.480808\"/>\n     <use style=\"fill:#4c72b0;stroke:#4c72b0;\" x=\"146.638015\" xlink:href=\"#m3c5fdccf07\" y=\"161.480808\"/>\n     <use style=\"fill:#4c72b0;stroke:#4c72b0;\" x=\"146.699496\" xlink:href=\"#m3c5fdccf07\" y=\"161.480808\"/>\n     <use style=\"fill:#4c72b0;stroke:#4c72b0;\" x=\"146.760943\" xlink:href=\"#m3c5fdccf07\" y=\"161.480808\"/>\n     <use style=\"fill:#4c72b0;stroke:#4c72b0;\" x=\"146.822357\" xlink:href=\"#m3c5fdccf07\" y=\"161.480808\"/>\n     <use style=\"fill:#4c72b0;stroke:#4c72b0;\" x=\"146.883738\" xlink:href=\"#m3c5fdccf07\" y=\"161.480808\"/>\n     <use style=\"fill:#4c72b0;stroke:#4c72b0;\" x=\"146.945086\" xlink:href=\"#m3c5fdccf07\" y=\"161.281582\"/>\n     <use style=\"fill:#4c72b0;stroke:#4c72b0;\" x=\"147.0064\" xlink:href=\"#m3c5fdccf07\" y=\"161.281582\"/>\n     <use style=\"fill:#4c72b0;stroke:#4c72b0;\" x=\"147.067683\" xlink:href=\"#m3c5fdccf07\" y=\"161.281582\"/>\n     <use style=\"fill:#4c72b0;stroke:#4c72b0;\" x=\"147.128933\" xlink:href=\"#m3c5fdccf07\" y=\"161.281582\"/>\n     <use style=\"fill:#4c72b0;stroke:#4c72b0;\" x=\"147.190151\" xlink:href=\"#m3c5fdccf07\" y=\"161.281582\"/>\n     <use style=\"fill:#4c72b0;stroke:#4c72b0;\" x=\"147.251337\" xlink:href=\"#m3c5fdccf07\" y=\"161.281582\"/>\n     <use style=\"fill:#4c72b0;stroke:#4c72b0;\" x=\"147.312492\" xlink:href=\"#m3c5fdccf07\" y=\"161.281582\"/>\n     <use style=\"fill:#4c72b0;stroke:#4c72b0;\" x=\"147.373615\" xlink:href=\"#m3c5fdccf07\" y=\"161.281582\"/>\n     <use style=\"fill:#4c72b0;stroke:#4c72b0;\" x=\"147.434708\" xlink:href=\"#m3c5fdccf07\" y=\"161.281582\"/>\n     <use style=\"fill:#4c72b0;stroke:#4c72b0;\" x=\"147.495769\" xlink:href=\"#m3c5fdccf07\" y=\"161.281582\"/>\n     <use style=\"fill:#4c72b0;stroke:#4c72b0;\" x=\"147.5568\" xlink:href=\"#m3c5fdccf07\" y=\"161.281582\"/>\n     <use style=\"fill:#4c72b0;stroke:#4c72b0;\" x=\"147.617801\" xlink:href=\"#m3c5fdccf07\" y=\"161.281582\"/>\n     <use style=\"fill:#4c72b0;stroke:#4c72b0;\" x=\"147.678772\" xlink:href=\"#m3c5fdccf07\" y=\"161.281582\"/>\n     <use style=\"fill:#4c72b0;stroke:#4c72b0;\" x=\"147.739713\" xlink:href=\"#m3c5fdccf07\" y=\"161.281582\"/>\n     <use style=\"fill:#4c72b0;stroke:#4c72b0;\" x=\"147.800625\" xlink:href=\"#m3c5fdccf07\" y=\"161.281582\"/>\n     <use style=\"fill:#4c72b0;stroke:#4c72b0;\" x=\"147.861507\" xlink:href=\"#m3c5fdccf07\" y=\"161.082355\"/>\n     <use style=\"fill:#4c72b0;stroke:#4c72b0;\" x=\"147.92236\" xlink:href=\"#m3c5fdccf07\" y=\"161.082355\"/>\n     <use style=\"fill:#4c72b0;stroke:#4c72b0;\" x=\"147.983184\" xlink:href=\"#m3c5fdccf07\" y=\"161.082355\"/>\n     <use style=\"fill:#4c72b0;stroke:#4c72b0;\" x=\"148.04398\" xlink:href=\"#m3c5fdccf07\" y=\"161.082355\"/>\n     <use style=\"fill:#4c72b0;stroke:#4c72b0;\" x=\"148.104747\" xlink:href=\"#m3c5fdccf07\" y=\"160.883129\"/>\n     <use style=\"fill:#4c72b0;stroke:#4c72b0;\" x=\"148.165487\" xlink:href=\"#m3c5fdccf07\" y=\"160.883129\"/>\n     <use style=\"fill:#4c72b0;stroke:#4c72b0;\" x=\"148.226198\" xlink:href=\"#m3c5fdccf07\" y=\"160.883129\"/>\n     <use style=\"fill:#4c72b0;stroke:#4c72b0;\" x=\"148.286882\" xlink:href=\"#m3c5fdccf07\" y=\"160.883129\"/>\n     <use style=\"fill:#4c72b0;stroke:#4c72b0;\" x=\"148.347538\" xlink:href=\"#m3c5fdccf07\" y=\"160.883129\"/>\n     <use style=\"fill:#4c72b0;stroke:#4c72b0;\" x=\"148.408167\" xlink:href=\"#m3c5fdccf07\" y=\"160.683903\"/>\n     <use style=\"fill:#4c72b0;stroke:#4c72b0;\" x=\"148.46877\" xlink:href=\"#m3c5fdccf07\" y=\"160.683903\"/>\n     <use style=\"fill:#4c72b0;stroke:#4c72b0;\" x=\"148.529345\" xlink:href=\"#m3c5fdccf07\" y=\"160.683903\"/>\n     <use style=\"fill:#4c72b0;stroke:#4c72b0;\" x=\"148.589895\" xlink:href=\"#m3c5fdccf07\" y=\"160.683903\"/>\n     <use style=\"fill:#4c72b0;stroke:#4c72b0;\" x=\"148.650417\" xlink:href=\"#m3c5fdccf07\" y=\"160.683903\"/>\n     <use style=\"fill:#4c72b0;stroke:#4c72b0;\" x=\"148.710914\" xlink:href=\"#m3c5fdccf07\" y=\"160.683903\"/>\n     <use style=\"fill:#4c72b0;stroke:#4c72b0;\" x=\"148.771386\" xlink:href=\"#m3c5fdccf07\" y=\"160.683903\"/>\n     <use style=\"fill:#4c72b0;stroke:#4c72b0;\" x=\"148.831831\" xlink:href=\"#m3c5fdccf07\" y=\"160.484677\"/>\n     <use style=\"fill:#4c72b0;stroke:#4c72b0;\" x=\"148.892252\" xlink:href=\"#m3c5fdccf07\" y=\"160.484677\"/>\n     <use style=\"fill:#4c72b0;stroke:#4c72b0;\" x=\"148.952647\" xlink:href=\"#m3c5fdccf07\" y=\"160.484677\"/>\n     <use style=\"fill:#4c72b0;stroke:#4c72b0;\" x=\"149.013018\" xlink:href=\"#m3c5fdccf07\" y=\"160.484677\"/>\n     <use style=\"fill:#4c72b0;stroke:#4c72b0;\" x=\"149.073364\" xlink:href=\"#m3c5fdccf07\" y=\"160.484677\"/>\n     <use style=\"fill:#4c72b0;stroke:#4c72b0;\" x=\"149.133685\" xlink:href=\"#m3c5fdccf07\" y=\"160.484677\"/>\n     <use style=\"fill:#4c72b0;stroke:#4c72b0;\" x=\"149.193982\" xlink:href=\"#m3c5fdccf07\" y=\"160.484677\"/>\n     <use style=\"fill:#4c72b0;stroke:#4c72b0;\" x=\"149.254256\" xlink:href=\"#m3c5fdccf07\" y=\"160.484677\"/>\n     <use style=\"fill:#4c72b0;stroke:#4c72b0;\" x=\"149.314506\" xlink:href=\"#m3c5fdccf07\" y=\"160.484677\"/>\n     <use style=\"fill:#4c72b0;stroke:#4c72b0;\" x=\"149.374732\" xlink:href=\"#m3c5fdccf07\" y=\"160.484677\"/>\n     <use style=\"fill:#4c72b0;stroke:#4c72b0;\" x=\"149.434935\" xlink:href=\"#m3c5fdccf07\" y=\"160.28545\"/>\n     <use style=\"fill:#4c72b0;stroke:#4c72b0;\" x=\"149.495115\" xlink:href=\"#m3c5fdccf07\" y=\"160.28545\"/>\n     <use style=\"fill:#4c72b0;stroke:#4c72b0;\" x=\"149.555272\" xlink:href=\"#m3c5fdccf07\" y=\"160.28545\"/>\n     <use style=\"fill:#4c72b0;stroke:#4c72b0;\" x=\"149.615407\" xlink:href=\"#m3c5fdccf07\" y=\"160.28545\"/>\n     <use style=\"fill:#4c72b0;stroke:#4c72b0;\" x=\"149.675519\" xlink:href=\"#m3c5fdccf07\" y=\"160.086224\"/>\n     <use style=\"fill:#4c72b0;stroke:#4c72b0;\" x=\"149.735609\" xlink:href=\"#m3c5fdccf07\" y=\"160.086224\"/>\n     <use style=\"fill:#4c72b0;stroke:#4c72b0;\" x=\"149.795678\" xlink:href=\"#m3c5fdccf07\" y=\"160.086224\"/>\n     <use style=\"fill:#4c72b0;stroke:#4c72b0;\" x=\"149.855724\" xlink:href=\"#m3c5fdccf07\" y=\"160.086224\"/>\n     <use style=\"fill:#4c72b0;stroke:#4c72b0;\" x=\"149.915749\" xlink:href=\"#m3c5fdccf07\" y=\"160.086224\"/>\n     <use style=\"fill:#4c72b0;stroke:#4c72b0;\" x=\"149.975753\" xlink:href=\"#m3c5fdccf07\" y=\"160.086224\"/>\n     <use style=\"fill:#4c72b0;stroke:#4c72b0;\" x=\"150.035736\" xlink:href=\"#m3c5fdccf07\" y=\"160.086224\"/>\n     <use style=\"fill:#4c72b0;stroke:#4c72b0;\" x=\"150.095698\" xlink:href=\"#m3c5fdccf07\" y=\"160.086224\"/>\n     <use style=\"fill:#4c72b0;stroke:#4c72b0;\" x=\"150.15564\" xlink:href=\"#m3c5fdccf07\" y=\"159.886998\"/>\n     <use style=\"fill:#4c72b0;stroke:#4c72b0;\" x=\"150.215561\" xlink:href=\"#m3c5fdccf07\" y=\"159.886998\"/>\n     <use style=\"fill:#4c72b0;stroke:#4c72b0;\" x=\"150.275462\" xlink:href=\"#m3c5fdccf07\" y=\"159.886998\"/>\n     <use style=\"fill:#4c72b0;stroke:#4c72b0;\" x=\"150.335343\" xlink:href=\"#m3c5fdccf07\" y=\"159.687772\"/>\n     <use style=\"fill:#4c72b0;stroke:#4c72b0;\" x=\"150.395204\" xlink:href=\"#m3c5fdccf07\" y=\"159.687772\"/>\n     <use style=\"fill:#4c72b0;stroke:#4c72b0;\" x=\"150.455046\" xlink:href=\"#m3c5fdccf07\" y=\"159.687772\"/>\n     <use style=\"fill:#4c72b0;stroke:#4c72b0;\" x=\"150.514868\" xlink:href=\"#m3c5fdccf07\" y=\"159.687772\"/>\n     <use style=\"fill:#4c72b0;stroke:#4c72b0;\" x=\"150.574672\" xlink:href=\"#m3c5fdccf07\" y=\"159.687772\"/>\n     <use style=\"fill:#4c72b0;stroke:#4c72b0;\" x=\"150.634456\" xlink:href=\"#m3c5fdccf07\" y=\"159.687772\"/>\n     <use style=\"fill:#4c72b0;stroke:#4c72b0;\" x=\"150.694222\" xlink:href=\"#m3c5fdccf07\" y=\"159.687772\"/>\n     <use style=\"fill:#4c72b0;stroke:#4c72b0;\" x=\"150.75397\" xlink:href=\"#m3c5fdccf07\" y=\"159.687772\"/>\n     <use style=\"fill:#4c72b0;stroke:#4c72b0;\" x=\"150.813699\" xlink:href=\"#m3c5fdccf07\" y=\"159.687772\"/>\n     <use style=\"fill:#4c72b0;stroke:#4c72b0;\" x=\"150.87341\" xlink:href=\"#m3c5fdccf07\" y=\"159.687772\"/>\n     <use style=\"fill:#4c72b0;stroke:#4c72b0;\" x=\"150.933104\" xlink:href=\"#m3c5fdccf07\" y=\"159.687772\"/>\n     <use style=\"fill:#4c72b0;stroke:#4c72b0;\" x=\"150.99278\" xlink:href=\"#m3c5fdccf07\" y=\"159.488545\"/>\n     <use style=\"fill:#4c72b0;stroke:#4c72b0;\" x=\"151.052438\" xlink:href=\"#m3c5fdccf07\" y=\"159.488545\"/>\n     <use style=\"fill:#4c72b0;stroke:#4c72b0;\" x=\"151.11208\" xlink:href=\"#m3c5fdccf07\" y=\"159.488545\"/>\n     <use style=\"fill:#4c72b0;stroke:#4c72b0;\" x=\"151.171704\" xlink:href=\"#m3c5fdccf07\" y=\"159.488545\"/>\n     <use style=\"fill:#4c72b0;stroke:#4c72b0;\" x=\"151.231312\" xlink:href=\"#m3c5fdccf07\" y=\"159.488545\"/>\n     <use style=\"fill:#4c72b0;stroke:#4c72b0;\" x=\"151.290903\" xlink:href=\"#m3c5fdccf07\" y=\"159.488545\"/>\n     <use style=\"fill:#4c72b0;stroke:#4c72b0;\" x=\"151.350478\" xlink:href=\"#m3c5fdccf07\" y=\"159.488545\"/>\n     <use style=\"fill:#4c72b0;stroke:#4c72b0;\" x=\"151.410037\" xlink:href=\"#m3c5fdccf07\" y=\"159.488545\"/>\n     <use style=\"fill:#4c72b0;stroke:#4c72b0;\" x=\"151.46958\" xlink:href=\"#m3c5fdccf07\" y=\"159.488545\"/>\n     <use style=\"fill:#4c72b0;stroke:#4c72b0;\" x=\"151.529107\" xlink:href=\"#m3c5fdccf07\" y=\"159.289319\"/>\n     <use style=\"fill:#4c72b0;stroke:#4c72b0;\" x=\"151.588619\" xlink:href=\"#m3c5fdccf07\" y=\"159.289319\"/>\n     <use style=\"fill:#4c72b0;stroke:#4c72b0;\" x=\"151.648115\" xlink:href=\"#m3c5fdccf07\" y=\"159.289319\"/>\n     <use style=\"fill:#4c72b0;stroke:#4c72b0;\" x=\"151.707596\" xlink:href=\"#m3c5fdccf07\" y=\"159.289319\"/>\n     <use style=\"fill:#4c72b0;stroke:#4c72b0;\" x=\"151.767063\" xlink:href=\"#m3c5fdccf07\" y=\"159.289319\"/>\n     <use style=\"fill:#4c72b0;stroke:#4c72b0;\" x=\"151.826515\" xlink:href=\"#m3c5fdccf07\" y=\"159.289319\"/>\n     <use style=\"fill:#4c72b0;stroke:#4c72b0;\" x=\"151.885952\" xlink:href=\"#m3c5fdccf07\" y=\"159.289319\"/>\n     <use style=\"fill:#4c72b0;stroke:#4c72b0;\" x=\"151.945376\" xlink:href=\"#m3c5fdccf07\" y=\"159.289319\"/>\n     <use style=\"fill:#4c72b0;stroke:#4c72b0;\" x=\"152.004785\" xlink:href=\"#m3c5fdccf07\" y=\"159.090093\"/>\n     <use style=\"fill:#4c72b0;stroke:#4c72b0;\" x=\"152.06418\" xlink:href=\"#m3c5fdccf07\" y=\"159.090093\"/>\n     <use style=\"fill:#4c72b0;stroke:#4c72b0;\" x=\"152.123562\" xlink:href=\"#m3c5fdccf07\" y=\"159.090093\"/>\n     <use style=\"fill:#4c72b0;stroke:#4c72b0;\" x=\"152.18293\" xlink:href=\"#m3c5fdccf07\" y=\"159.090093\"/>\n     <use style=\"fill:#4c72b0;stroke:#4c72b0;\" x=\"152.242285\" xlink:href=\"#m3c5fdccf07\" y=\"159.090093\"/>\n     <use style=\"fill:#4c72b0;stroke:#4c72b0;\" x=\"152.301627\" xlink:href=\"#m3c5fdccf07\" y=\"158.890867\"/>\n     <use style=\"fill:#4c72b0;stroke:#4c72b0;\" x=\"152.360956\" xlink:href=\"#m3c5fdccf07\" y=\"158.890867\"/>\n     <use style=\"fill:#4c72b0;stroke:#4c72b0;\" x=\"152.420273\" xlink:href=\"#m3c5fdccf07\" y=\"158.890867\"/>\n     <use style=\"fill:#4c72b0;stroke:#4c72b0;\" x=\"152.479577\" xlink:href=\"#m3c5fdccf07\" y=\"158.890867\"/>\n     <use style=\"fill:#4c72b0;stroke:#4c72b0;\" x=\"152.538869\" xlink:href=\"#m3c5fdccf07\" y=\"158.890867\"/>\n     <use style=\"fill:#4c72b0;stroke:#4c72b0;\" x=\"152.59815\" xlink:href=\"#m3c5fdccf07\" y=\"158.890867\"/>\n     <use style=\"fill:#4c72b0;stroke:#4c72b0;\" x=\"152.657418\" xlink:href=\"#m3c5fdccf07\" y=\"158.890867\"/>\n     <use style=\"fill:#4c72b0;stroke:#4c72b0;\" x=\"152.716674\" xlink:href=\"#m3c5fdccf07\" y=\"158.890867\"/>\n     <use style=\"fill:#4c72b0;stroke:#4c72b0;\" x=\"152.77592\" xlink:href=\"#m3c5fdccf07\" y=\"158.69164\"/>\n     <use style=\"fill:#4c72b0;stroke:#4c72b0;\" x=\"152.835154\" xlink:href=\"#m3c5fdccf07\" y=\"158.69164\"/>\n     <use style=\"fill:#4c72b0;stroke:#4c72b0;\" x=\"152.894377\" xlink:href=\"#m3c5fdccf07\" y=\"158.69164\"/>\n     <use style=\"fill:#4c72b0;stroke:#4c72b0;\" x=\"152.953589\" xlink:href=\"#m3c5fdccf07\" y=\"158.69164\"/>\n     <use style=\"fill:#4c72b0;stroke:#4c72b0;\" x=\"153.012791\" xlink:href=\"#m3c5fdccf07\" y=\"158.492414\"/>\n     <use style=\"fill:#4c72b0;stroke:#4c72b0;\" x=\"153.071982\" xlink:href=\"#m3c5fdccf07\" y=\"158.492414\"/>\n     <use style=\"fill:#4c72b0;stroke:#4c72b0;\" x=\"153.131164\" xlink:href=\"#m3c5fdccf07\" y=\"158.492414\"/>\n     <use style=\"fill:#4c72b0;stroke:#4c72b0;\" x=\"153.190335\" xlink:href=\"#m3c5fdccf07\" y=\"158.492414\"/>\n     <use style=\"fill:#4c72b0;stroke:#4c72b0;\" x=\"153.249496\" xlink:href=\"#m3c5fdccf07\" y=\"158.293188\"/>\n     <use style=\"fill:#4c72b0;stroke:#4c72b0;\" x=\"153.308648\" xlink:href=\"#m3c5fdccf07\" y=\"158.293188\"/>\n     <use style=\"fill:#4c72b0;stroke:#4c72b0;\" x=\"153.367791\" xlink:href=\"#m3c5fdccf07\" y=\"158.293188\"/>\n     <use style=\"fill:#4c72b0;stroke:#4c72b0;\" x=\"153.426924\" xlink:href=\"#m3c5fdccf07\" y=\"158.293188\"/>\n     <use style=\"fill:#4c72b0;stroke:#4c72b0;\" x=\"153.486048\" xlink:href=\"#m3c5fdccf07\" y=\"158.293188\"/>\n     <use style=\"fill:#4c72b0;stroke:#4c72b0;\" x=\"153.545163\" xlink:href=\"#m3c5fdccf07\" y=\"158.293188\"/>\n     <use style=\"fill:#4c72b0;stroke:#4c72b0;\" x=\"153.60427\" xlink:href=\"#m3c5fdccf07\" y=\"158.293188\"/>\n     <use style=\"fill:#4c72b0;stroke:#4c72b0;\" x=\"153.663369\" xlink:href=\"#m3c5fdccf07\" y=\"158.293188\"/>\n     <use style=\"fill:#4c72b0;stroke:#4c72b0;\" x=\"153.722459\" xlink:href=\"#m3c5fdccf07\" y=\"158.293188\"/>\n     <use style=\"fill:#4c72b0;stroke:#4c72b0;\" x=\"153.781541\" xlink:href=\"#m3c5fdccf07\" y=\"158.293188\"/>\n     <use style=\"fill:#4c72b0;stroke:#4c72b0;\" x=\"153.840616\" xlink:href=\"#m3c5fdccf07\" y=\"158.093962\"/>\n     <use style=\"fill:#4c72b0;stroke:#4c72b0;\" x=\"153.899683\" xlink:href=\"#m3c5fdccf07\" y=\"158.093962\"/>\n     <use style=\"fill:#4c72b0;stroke:#4c72b0;\" x=\"153.958742\" xlink:href=\"#m3c5fdccf07\" y=\"158.093962\"/>\n     <use style=\"fill:#4c72b0;stroke:#4c72b0;\" x=\"154.017794\" xlink:href=\"#m3c5fdccf07\" y=\"158.093962\"/>\n     <use style=\"fill:#4c72b0;stroke:#4c72b0;\" x=\"154.07684\" xlink:href=\"#m3c5fdccf07\" y=\"157.894735\"/>\n     <use style=\"fill:#4c72b0;stroke:#4c72b0;\" x=\"154.135878\" xlink:href=\"#m3c5fdccf07\" y=\"157.894735\"/>\n     <use style=\"fill:#4c72b0;stroke:#4c72b0;\" x=\"154.19491\" xlink:href=\"#m3c5fdccf07\" y=\"157.894735\"/>\n     <use style=\"fill:#4c72b0;stroke:#4c72b0;\" x=\"154.253935\" xlink:href=\"#m3c5fdccf07\" y=\"157.894735\"/>\n     <use style=\"fill:#4c72b0;stroke:#4c72b0;\" x=\"154.312955\" xlink:href=\"#m3c5fdccf07\" y=\"157.894735\"/>\n     <use style=\"fill:#4c72b0;stroke:#4c72b0;\" x=\"154.371968\" xlink:href=\"#m3c5fdccf07\" y=\"157.894735\"/>\n     <use style=\"fill:#4c72b0;stroke:#4c72b0;\" x=\"154.430975\" xlink:href=\"#m3c5fdccf07\" y=\"157.695509\"/>\n     <use style=\"fill:#4c72b0;stroke:#4c72b0;\" x=\"154.489977\" xlink:href=\"#m3c5fdccf07\" y=\"157.695509\"/>\n     <use style=\"fill:#4c72b0;stroke:#4c72b0;\" x=\"154.548973\" xlink:href=\"#m3c5fdccf07\" y=\"157.695509\"/>\n     <use style=\"fill:#4c72b0;stroke:#4c72b0;\" x=\"154.607964\" xlink:href=\"#m3c5fdccf07\" y=\"157.695509\"/>\n     <use style=\"fill:#4c72b0;stroke:#4c72b0;\" x=\"154.66695\" xlink:href=\"#m3c5fdccf07\" y=\"157.695509\"/>\n     <use style=\"fill:#4c72b0;stroke:#4c72b0;\" x=\"154.725931\" xlink:href=\"#m3c5fdccf07\" y=\"157.695509\"/>\n     <use style=\"fill:#4c72b0;stroke:#4c72b0;\" x=\"154.784907\" xlink:href=\"#m3c5fdccf07\" y=\"157.496283\"/>\n     <use style=\"fill:#4c72b0;stroke:#4c72b0;\" x=\"154.843879\" xlink:href=\"#m3c5fdccf07\" y=\"157.496283\"/>\n     <use style=\"fill:#4c72b0;stroke:#4c72b0;\" x=\"154.902847\" xlink:href=\"#m3c5fdccf07\" y=\"157.297057\"/>\n     <use style=\"fill:#4c72b0;stroke:#4c72b0;\" x=\"154.96181\" xlink:href=\"#m3c5fdccf07\" y=\"157.297057\"/>\n     <use style=\"fill:#4c72b0;stroke:#4c72b0;\" x=\"155.02077\" xlink:href=\"#m3c5fdccf07\" y=\"157.297057\"/>\n     <use style=\"fill:#4c72b0;stroke:#4c72b0;\" x=\"155.079726\" xlink:href=\"#m3c5fdccf07\" y=\"157.297057\"/>\n     <use style=\"fill:#4c72b0;stroke:#4c72b0;\" x=\"155.138678\" xlink:href=\"#m3c5fdccf07\" y=\"157.09783\"/>\n     <use style=\"fill:#4c72b0;stroke:#4c72b0;\" x=\"155.197628\" xlink:href=\"#m3c5fdccf07\" y=\"157.09783\"/>\n     <use style=\"fill:#4c72b0;stroke:#4c72b0;\" x=\"155.256574\" xlink:href=\"#m3c5fdccf07\" y=\"157.09783\"/>\n     <use style=\"fill:#4c72b0;stroke:#4c72b0;\" x=\"155.315517\" xlink:href=\"#m3c5fdccf07\" y=\"157.09783\"/>\n     <use style=\"fill:#4c72b0;stroke:#4c72b0;\" x=\"155.374457\" xlink:href=\"#m3c5fdccf07\" y=\"156.898604\"/>\n     <use style=\"fill:#4c72b0;stroke:#4c72b0;\" x=\"155.433395\" xlink:href=\"#m3c5fdccf07\" y=\"156.898604\"/>\n     <use style=\"fill:#4c72b0;stroke:#4c72b0;\" x=\"155.492331\" xlink:href=\"#m3c5fdccf07\" y=\"156.898604\"/>\n     <use style=\"fill:#4c72b0;stroke:#4c72b0;\" x=\"155.551264\" xlink:href=\"#m3c5fdccf07\" y=\"156.898604\"/>\n     <use style=\"fill:#4c72b0;stroke:#4c72b0;\" x=\"155.610196\" xlink:href=\"#m3c5fdccf07\" y=\"156.898604\"/>\n     <use style=\"fill:#4c72b0;stroke:#4c72b0;\" x=\"155.669126\" xlink:href=\"#m3c5fdccf07\" y=\"156.898604\"/>\n     <use style=\"fill:#4c72b0;stroke:#4c72b0;\" x=\"155.728054\" xlink:href=\"#m3c5fdccf07\" y=\"156.898604\"/>\n     <use style=\"fill:#4c72b0;stroke:#4c72b0;\" x=\"155.786981\" xlink:href=\"#m3c5fdccf07\" y=\"156.699378\"/>\n     <use style=\"fill:#4c72b0;stroke:#4c72b0;\" x=\"155.845907\" xlink:href=\"#m3c5fdccf07\" y=\"156.699378\"/>\n     <use style=\"fill:#4c72b0;stroke:#4c72b0;\" x=\"155.904832\" xlink:href=\"#m3c5fdccf07\" y=\"156.699378\"/>\n     <use style=\"fill:#4c72b0;stroke:#4c72b0;\" x=\"155.963756\" xlink:href=\"#m3c5fdccf07\" y=\"156.699378\"/>\n     <use style=\"fill:#4c72b0;stroke:#4c72b0;\" x=\"156.022679\" xlink:href=\"#m3c5fdccf07\" y=\"156.699378\"/>\n     <use style=\"fill:#4c72b0;stroke:#4c72b0;\" x=\"156.081602\" xlink:href=\"#m3c5fdccf07\" y=\"156.500152\"/>\n     <use style=\"fill:#4c72b0;stroke:#4c72b0;\" x=\"156.140525\" xlink:href=\"#m3c5fdccf07\" y=\"156.500152\"/>\n     <use style=\"fill:#4c72b0;stroke:#4c72b0;\" x=\"156.199448\" xlink:href=\"#m3c5fdccf07\" y=\"156.500152\"/>\n     <use style=\"fill:#4c72b0;stroke:#4c72b0;\" x=\"156.258371\" xlink:href=\"#m3c5fdccf07\" y=\"156.500152\"/>\n     <use style=\"fill:#4c72b0;stroke:#4c72b0;\" x=\"156.317294\" xlink:href=\"#m3c5fdccf07\" y=\"156.500152\"/>\n     <use style=\"fill:#4c72b0;stroke:#4c72b0;\" x=\"156.376218\" xlink:href=\"#m3c5fdccf07\" y=\"156.500152\"/>\n     <use style=\"fill:#4c72b0;stroke:#4c72b0;\" x=\"156.435143\" xlink:href=\"#m3c5fdccf07\" y=\"156.300925\"/>\n     <use style=\"fill:#4c72b0;stroke:#4c72b0;\" x=\"156.494069\" xlink:href=\"#m3c5fdccf07\" y=\"156.300925\"/>\n     <use style=\"fill:#4c72b0;stroke:#4c72b0;\" x=\"156.552995\" xlink:href=\"#m3c5fdccf07\" y=\"156.300925\"/>\n     <use style=\"fill:#4c72b0;stroke:#4c72b0;\" x=\"156.611924\" xlink:href=\"#m3c5fdccf07\" y=\"156.300925\"/>\n     <use style=\"fill:#4c72b0;stroke:#4c72b0;\" x=\"156.670854\" xlink:href=\"#m3c5fdccf07\" y=\"156.101699\"/>\n     <use style=\"fill:#4c72b0;stroke:#4c72b0;\" x=\"156.729785\" xlink:href=\"#m3c5fdccf07\" y=\"156.101699\"/>\n     <use style=\"fill:#4c72b0;stroke:#4c72b0;\" x=\"156.788719\" xlink:href=\"#m3c5fdccf07\" y=\"156.101699\"/>\n     <use style=\"fill:#4c72b0;stroke:#4c72b0;\" x=\"156.847654\" xlink:href=\"#m3c5fdccf07\" y=\"156.101699\"/>\n     <use style=\"fill:#4c72b0;stroke:#4c72b0;\" x=\"156.906592\" xlink:href=\"#m3c5fdccf07\" y=\"156.101699\"/>\n     <use style=\"fill:#4c72b0;stroke:#4c72b0;\" x=\"156.965533\" xlink:href=\"#m3c5fdccf07\" y=\"155.902473\"/>\n     <use style=\"fill:#4c72b0;stroke:#4c72b0;\" x=\"157.024476\" xlink:href=\"#m3c5fdccf07\" y=\"155.902473\"/>\n     <use style=\"fill:#4c72b0;stroke:#4c72b0;\" x=\"157.083422\" xlink:href=\"#m3c5fdccf07\" y=\"155.902473\"/>\n     <use style=\"fill:#4c72b0;stroke:#4c72b0;\" x=\"157.142371\" xlink:href=\"#m3c5fdccf07\" y=\"155.902473\"/>\n     <use style=\"fill:#4c72b0;stroke:#4c72b0;\" x=\"157.201324\" xlink:href=\"#m3c5fdccf07\" y=\"155.902473\"/>\n     <use style=\"fill:#4c72b0;stroke:#4c72b0;\" x=\"157.26028\" xlink:href=\"#m3c5fdccf07\" y=\"155.902473\"/>\n     <use style=\"fill:#4c72b0;stroke:#4c72b0;\" x=\"157.319239\" xlink:href=\"#m3c5fdccf07\" y=\"155.902473\"/>\n     <use style=\"fill:#4c72b0;stroke:#4c72b0;\" x=\"157.378203\" xlink:href=\"#m3c5fdccf07\" y=\"155.902473\"/>\n     <use style=\"fill:#4c72b0;stroke:#4c72b0;\" x=\"157.437171\" xlink:href=\"#m3c5fdccf07\" y=\"155.703247\"/>\n     <use style=\"fill:#4c72b0;stroke:#4c72b0;\" x=\"157.496142\" xlink:href=\"#m3c5fdccf07\" y=\"155.703247\"/>\n     <use style=\"fill:#4c72b0;stroke:#4c72b0;\" x=\"157.555119\" xlink:href=\"#m3c5fdccf07\" y=\"155.50402\"/>\n     <use style=\"fill:#4c72b0;stroke:#4c72b0;\" x=\"157.6141\" xlink:href=\"#m3c5fdccf07\" y=\"155.50402\"/>\n     <use style=\"fill:#4c72b0;stroke:#4c72b0;\" x=\"157.673086\" xlink:href=\"#m3c5fdccf07\" y=\"155.50402\"/>\n     <use style=\"fill:#4c72b0;stroke:#4c72b0;\" x=\"157.732077\" xlink:href=\"#m3c5fdccf07\" y=\"155.50402\"/>\n     <use style=\"fill:#4c72b0;stroke:#4c72b0;\" x=\"157.791073\" xlink:href=\"#m3c5fdccf07\" y=\"155.50402\"/>\n     <use style=\"fill:#4c72b0;stroke:#4c72b0;\" x=\"157.850075\" xlink:href=\"#m3c5fdccf07\" y=\"155.50402\"/>\n     <use style=\"fill:#4c72b0;stroke:#4c72b0;\" x=\"157.909082\" xlink:href=\"#m3c5fdccf07\" y=\"155.304794\"/>\n     <use style=\"fill:#4c72b0;stroke:#4c72b0;\" x=\"157.968095\" xlink:href=\"#m3c5fdccf07\" y=\"155.304794\"/>\n     <use style=\"fill:#4c72b0;stroke:#4c72b0;\" x=\"158.027114\" xlink:href=\"#m3c5fdccf07\" y=\"155.304794\"/>\n     <use style=\"fill:#4c72b0;stroke:#4c72b0;\" x=\"158.08614\" xlink:href=\"#m3c5fdccf07\" y=\"155.304794\"/>\n     <use style=\"fill:#4c72b0;stroke:#4c72b0;\" x=\"158.145171\" xlink:href=\"#m3c5fdccf07\" y=\"155.304794\"/>\n     <use style=\"fill:#4c72b0;stroke:#4c72b0;\" x=\"158.20421\" xlink:href=\"#m3c5fdccf07\" y=\"155.304794\"/>\n     <use style=\"fill:#4c72b0;stroke:#4c72b0;\" x=\"158.263255\" xlink:href=\"#m3c5fdccf07\" y=\"155.304794\"/>\n     <use style=\"fill:#4c72b0;stroke:#4c72b0;\" x=\"158.322307\" xlink:href=\"#m3c5fdccf07\" y=\"155.304794\"/>\n     <use style=\"fill:#4c72b0;stroke:#4c72b0;\" x=\"158.381367\" xlink:href=\"#m3c5fdccf07\" y=\"155.304794\"/>\n     <use style=\"fill:#4c72b0;stroke:#4c72b0;\" x=\"158.440434\" xlink:href=\"#m3c5fdccf07\" y=\"155.304794\"/>\n     <use style=\"fill:#4c72b0;stroke:#4c72b0;\" x=\"158.499508\" xlink:href=\"#m3c5fdccf07\" y=\"155.105568\"/>\n     <use style=\"fill:#4c72b0;stroke:#4c72b0;\" x=\"158.55859\" xlink:href=\"#m3c5fdccf07\" y=\"155.105568\"/>\n     <use style=\"fill:#4c72b0;stroke:#4c72b0;\" x=\"158.617681\" xlink:href=\"#m3c5fdccf07\" y=\"155.105568\"/>\n     <use style=\"fill:#4c72b0;stroke:#4c72b0;\" x=\"158.676779\" xlink:href=\"#m3c5fdccf07\" y=\"155.105568\"/>\n     <use style=\"fill:#4c72b0;stroke:#4c72b0;\" x=\"158.735886\" xlink:href=\"#m3c5fdccf07\" y=\"155.105568\"/>\n     <use style=\"fill:#4c72b0;stroke:#4c72b0;\" x=\"158.795002\" xlink:href=\"#m3c5fdccf07\" y=\"155.105568\"/>\n     <use style=\"fill:#4c72b0;stroke:#4c72b0;\" x=\"158.854126\" xlink:href=\"#m3c5fdccf07\" y=\"154.906342\"/>\n     <use style=\"fill:#4c72b0;stroke:#4c72b0;\" x=\"158.913259\" xlink:href=\"#m3c5fdccf07\" y=\"154.906342\"/>\n     <use style=\"fill:#4c72b0;stroke:#4c72b0;\" x=\"158.972401\" xlink:href=\"#m3c5fdccf07\" y=\"154.906342\"/>\n     <use style=\"fill:#4c72b0;stroke:#4c72b0;\" x=\"159.031553\" xlink:href=\"#m3c5fdccf07\" y=\"154.906342\"/>\n     <use style=\"fill:#4c72b0;stroke:#4c72b0;\" x=\"159.090715\" xlink:href=\"#m3c5fdccf07\" y=\"154.906342\"/>\n     <use style=\"fill:#4c72b0;stroke:#4c72b0;\" x=\"159.149886\" xlink:href=\"#m3c5fdccf07\" y=\"154.906342\"/>\n     <use style=\"fill:#4c72b0;stroke:#4c72b0;\" x=\"159.209067\" xlink:href=\"#m3c5fdccf07\" y=\"154.707115\"/>\n     <use style=\"fill:#4c72b0;stroke:#4c72b0;\" x=\"159.268258\" xlink:href=\"#m3c5fdccf07\" y=\"154.707115\"/>\n     <use style=\"fill:#4c72b0;stroke:#4c72b0;\" x=\"159.32746\" xlink:href=\"#m3c5fdccf07\" y=\"154.707115\"/>\n     <use style=\"fill:#4c72b0;stroke:#4c72b0;\" x=\"159.386673\" xlink:href=\"#m3c5fdccf07\" y=\"154.707115\"/>\n     <use style=\"fill:#4c72b0;stroke:#4c72b0;\" x=\"159.445896\" xlink:href=\"#m3c5fdccf07\" y=\"154.707115\"/>\n     <use style=\"fill:#4c72b0;stroke:#4c72b0;\" x=\"159.50513\" xlink:href=\"#m3c5fdccf07\" y=\"154.707115\"/>\n     <use style=\"fill:#4c72b0;stroke:#4c72b0;\" x=\"159.564375\" xlink:href=\"#m3c5fdccf07\" y=\"154.707115\"/>\n     <use style=\"fill:#4c72b0;stroke:#4c72b0;\" x=\"159.623632\" xlink:href=\"#m3c5fdccf07\" y=\"154.707115\"/>\n     <use style=\"fill:#4c72b0;stroke:#4c72b0;\" x=\"159.6829\" xlink:href=\"#m3c5fdccf07\" y=\"154.507889\"/>\n     <use style=\"fill:#4c72b0;stroke:#4c72b0;\" x=\"159.74218\" xlink:href=\"#m3c5fdccf07\" y=\"154.507889\"/>\n     <use style=\"fill:#4c72b0;stroke:#4c72b0;\" x=\"159.801472\" xlink:href=\"#m3c5fdccf07\" y=\"154.507889\"/>\n     <use style=\"fill:#4c72b0;stroke:#4c72b0;\" x=\"159.860776\" xlink:href=\"#m3c5fdccf07\" y=\"154.507889\"/>\n     <use style=\"fill:#4c72b0;stroke:#4c72b0;\" x=\"159.920093\" xlink:href=\"#m3c5fdccf07\" y=\"154.507889\"/>\n     <use style=\"fill:#4c72b0;stroke:#4c72b0;\" x=\"159.979422\" xlink:href=\"#m3c5fdccf07\" y=\"154.507889\"/>\n     <use style=\"fill:#4c72b0;stroke:#4c72b0;\" x=\"160.038764\" xlink:href=\"#m3c5fdccf07\" y=\"154.507889\"/>\n     <use style=\"fill:#4c72b0;stroke:#4c72b0;\" x=\"160.09812\" xlink:href=\"#m3c5fdccf07\" y=\"154.507889\"/>\n     <use style=\"fill:#4c72b0;stroke:#4c72b0;\" x=\"160.157488\" xlink:href=\"#m3c5fdccf07\" y=\"154.507889\"/>\n     <use style=\"fill:#4c72b0;stroke:#4c72b0;\" x=\"160.21687\" xlink:href=\"#m3c5fdccf07\" y=\"154.507889\"/>\n     <use style=\"fill:#4c72b0;stroke:#4c72b0;\" x=\"160.276265\" xlink:href=\"#m3c5fdccf07\" y=\"154.507889\"/>\n     <use style=\"fill:#4c72b0;stroke:#4c72b0;\" x=\"160.335674\" xlink:href=\"#m3c5fdccf07\" y=\"154.308663\"/>\n     <use style=\"fill:#4c72b0;stroke:#4c72b0;\" x=\"160.395097\" xlink:href=\"#m3c5fdccf07\" y=\"154.308663\"/>\n     <use style=\"fill:#4c72b0;stroke:#4c72b0;\" x=\"160.454535\" xlink:href=\"#m3c5fdccf07\" y=\"154.308663\"/>\n     <use style=\"fill:#4c72b0;stroke:#4c72b0;\" x=\"160.513987\" xlink:href=\"#m3c5fdccf07\" y=\"154.308663\"/>\n     <use style=\"fill:#4c72b0;stroke:#4c72b0;\" x=\"160.573453\" xlink:href=\"#m3c5fdccf07\" y=\"154.109437\"/>\n     <use style=\"fill:#4c72b0;stroke:#4c72b0;\" x=\"160.632935\" xlink:href=\"#m3c5fdccf07\" y=\"154.109437\"/>\n     <use style=\"fill:#4c72b0;stroke:#4c72b0;\" x=\"160.692431\" xlink:href=\"#m3c5fdccf07\" y=\"154.109437\"/>\n     <use style=\"fill:#4c72b0;stroke:#4c72b0;\" x=\"160.751943\" xlink:href=\"#m3c5fdccf07\" y=\"154.109437\"/>\n     <use style=\"fill:#4c72b0;stroke:#4c72b0;\" x=\"160.81147\" xlink:href=\"#m3c5fdccf07\" y=\"154.109437\"/>\n     <use style=\"fill:#4c72b0;stroke:#4c72b0;\" x=\"160.871013\" xlink:href=\"#m3c5fdccf07\" y=\"154.109437\"/>\n     <use style=\"fill:#4c72b0;stroke:#4c72b0;\" x=\"160.930572\" xlink:href=\"#m3c5fdccf07\" y=\"153.91021\"/>\n     <use style=\"fill:#4c72b0;stroke:#4c72b0;\" x=\"160.990146\" xlink:href=\"#m3c5fdccf07\" y=\"153.91021\"/>\n     <use style=\"fill:#4c72b0;stroke:#4c72b0;\" x=\"161.049738\" xlink:href=\"#m3c5fdccf07\" y=\"153.91021\"/>\n     <use style=\"fill:#4c72b0;stroke:#4c72b0;\" x=\"161.109345\" xlink:href=\"#m3c5fdccf07\" y=\"153.91021\"/>\n     <use style=\"fill:#4c72b0;stroke:#4c72b0;\" x=\"161.16897\" xlink:href=\"#m3c5fdccf07\" y=\"153.91021\"/>\n     <use style=\"fill:#4c72b0;stroke:#4c72b0;\" x=\"161.228611\" xlink:href=\"#m3c5fdccf07\" y=\"153.91021\"/>\n     <use style=\"fill:#4c72b0;stroke:#4c72b0;\" x=\"161.28827\" xlink:href=\"#m3c5fdccf07\" y=\"153.710984\"/>\n     <use style=\"fill:#4c72b0;stroke:#4c72b0;\" x=\"161.347946\" xlink:href=\"#m3c5fdccf07\" y=\"153.710984\"/>\n     <use style=\"fill:#4c72b0;stroke:#4c72b0;\" x=\"161.407639\" xlink:href=\"#m3c5fdccf07\" y=\"153.710984\"/>\n     <use style=\"fill:#4c72b0;stroke:#4c72b0;\" x=\"161.467351\" xlink:href=\"#m3c5fdccf07\" y=\"153.710984\"/>\n     <use style=\"fill:#4c72b0;stroke:#4c72b0;\" x=\"161.52708\" xlink:href=\"#m3c5fdccf07\" y=\"153.710984\"/>\n     <use style=\"fill:#4c72b0;stroke:#4c72b0;\" x=\"161.586827\" xlink:href=\"#m3c5fdccf07\" y=\"153.511758\"/>\n     <use style=\"fill:#4c72b0;stroke:#4c72b0;\" x=\"161.646593\" xlink:href=\"#m3c5fdccf07\" y=\"153.511758\"/>\n     <use style=\"fill:#4c72b0;stroke:#4c72b0;\" x=\"161.706378\" xlink:href=\"#m3c5fdccf07\" y=\"153.511758\"/>\n     <use style=\"fill:#4c72b0;stroke:#4c72b0;\" x=\"161.766181\" xlink:href=\"#m3c5fdccf07\" y=\"153.511758\"/>\n     <use style=\"fill:#4c72b0;stroke:#4c72b0;\" x=\"161.826004\" xlink:href=\"#m3c5fdccf07\" y=\"153.312532\"/>\n     <use style=\"fill:#4c72b0;stroke:#4c72b0;\" x=\"161.885846\" xlink:href=\"#m3c5fdccf07\" y=\"153.312532\"/>\n     <use style=\"fill:#4c72b0;stroke:#4c72b0;\" x=\"161.945707\" xlink:href=\"#m3c5fdccf07\" y=\"153.312532\"/>\n     <use style=\"fill:#4c72b0;stroke:#4c72b0;\" x=\"162.005588\" xlink:href=\"#m3c5fdccf07\" y=\"153.312532\"/>\n     <use style=\"fill:#4c72b0;stroke:#4c72b0;\" x=\"162.065489\" xlink:href=\"#m3c5fdccf07\" y=\"153.312532\"/>\n     <use style=\"fill:#4c72b0;stroke:#4c72b0;\" x=\"162.12541\" xlink:href=\"#m3c5fdccf07\" y=\"153.113305\"/>\n     <use style=\"fill:#4c72b0;stroke:#4c72b0;\" x=\"162.185351\" xlink:href=\"#m3c5fdccf07\" y=\"153.113305\"/>\n     <use style=\"fill:#4c72b0;stroke:#4c72b0;\" x=\"162.245314\" xlink:href=\"#m3c5fdccf07\" y=\"153.113305\"/>\n     <use style=\"fill:#4c72b0;stroke:#4c72b0;\" x=\"162.305296\" xlink:href=\"#m3c5fdccf07\" y=\"153.113305\"/>\n     <use style=\"fill:#4c72b0;stroke:#4c72b0;\" x=\"162.3653\" xlink:href=\"#m3c5fdccf07\" y=\"153.113305\"/>\n     <use style=\"fill:#4c72b0;stroke:#4c72b0;\" x=\"162.425325\" xlink:href=\"#m3c5fdccf07\" y=\"152.914079\"/>\n     <use style=\"fill:#4c72b0;stroke:#4c72b0;\" x=\"162.485372\" xlink:href=\"#m3c5fdccf07\" y=\"152.914079\"/>\n     <use style=\"fill:#4c72b0;stroke:#4c72b0;\" x=\"162.54544\" xlink:href=\"#m3c5fdccf07\" y=\"152.914079\"/>\n     <use style=\"fill:#4c72b0;stroke:#4c72b0;\" x=\"162.60553\" xlink:href=\"#m3c5fdccf07\" y=\"152.914079\"/>\n     <use style=\"fill:#4c72b0;stroke:#4c72b0;\" x=\"162.665643\" xlink:href=\"#m3c5fdccf07\" y=\"152.914079\"/>\n     <use style=\"fill:#4c72b0;stroke:#4c72b0;\" x=\"162.725777\" xlink:href=\"#m3c5fdccf07\" y=\"152.914079\"/>\n     <use style=\"fill:#4c72b0;stroke:#4c72b0;\" x=\"162.785935\" xlink:href=\"#m3c5fdccf07\" y=\"152.914079\"/>\n     <use style=\"fill:#4c72b0;stroke:#4c72b0;\" x=\"162.846115\" xlink:href=\"#m3c5fdccf07\" y=\"152.914079\"/>\n     <use style=\"fill:#4c72b0;stroke:#4c72b0;\" x=\"162.906318\" xlink:href=\"#m3c5fdccf07\" y=\"152.714853\"/>\n     <use style=\"fill:#4c72b0;stroke:#4c72b0;\" x=\"162.966544\" xlink:href=\"#m3c5fdccf07\" y=\"152.714853\"/>\n     <use style=\"fill:#4c72b0;stroke:#4c72b0;\" x=\"163.026794\" xlink:href=\"#m3c5fdccf07\" y=\"152.714853\"/>\n     <use style=\"fill:#4c72b0;stroke:#4c72b0;\" x=\"163.087067\" xlink:href=\"#m3c5fdccf07\" y=\"152.714853\"/>\n     <use style=\"fill:#4c72b0;stroke:#4c72b0;\" x=\"163.147365\" xlink:href=\"#m3c5fdccf07\" y=\"152.515627\"/>\n     <use style=\"fill:#4c72b0;stroke:#4c72b0;\" x=\"163.207686\" xlink:href=\"#m3c5fdccf07\" y=\"152.515627\"/>\n     <use style=\"fill:#4c72b0;stroke:#4c72b0;\" x=\"163.268032\" xlink:href=\"#m3c5fdccf07\" y=\"152.515627\"/>\n     <use style=\"fill:#4c72b0;stroke:#4c72b0;\" x=\"163.328402\" xlink:href=\"#m3c5fdccf07\" y=\"152.515627\"/>\n     <use style=\"fill:#4c72b0;stroke:#4c72b0;\" x=\"163.388798\" xlink:href=\"#m3c5fdccf07\" y=\"152.515627\"/>\n     <use style=\"fill:#4c72b0;stroke:#4c72b0;\" x=\"163.449218\" xlink:href=\"#m3c5fdccf07\" y=\"152.515627\"/>\n     <use style=\"fill:#4c72b0;stroke:#4c72b0;\" x=\"163.509664\" xlink:href=\"#m3c5fdccf07\" y=\"152.515627\"/>\n     <use style=\"fill:#4c72b0;stroke:#4c72b0;\" x=\"163.570135\" xlink:href=\"#m3c5fdccf07\" y=\"152.515627\"/>\n     <use style=\"fill:#4c72b0;stroke:#4c72b0;\" x=\"163.630632\" xlink:href=\"#m3c5fdccf07\" y=\"152.515627\"/>\n     <use style=\"fill:#4c72b0;stroke:#4c72b0;\" x=\"163.691155\" xlink:href=\"#m3c5fdccf07\" y=\"152.515627\"/>\n     <use style=\"fill:#4c72b0;stroke:#4c72b0;\" x=\"163.751704\" xlink:href=\"#m3c5fdccf07\" y=\"152.515627\"/>\n     <use style=\"fill:#4c72b0;stroke:#4c72b0;\" x=\"163.81228\" xlink:href=\"#m3c5fdccf07\" y=\"152.3164\"/>\n     <use style=\"fill:#4c72b0;stroke:#4c72b0;\" x=\"163.872882\" xlink:href=\"#m3c5fdccf07\" y=\"152.3164\"/>\n     <use style=\"fill:#4c72b0;stroke:#4c72b0;\" x=\"163.933511\" xlink:href=\"#m3c5fdccf07\" y=\"152.3164\"/>\n     <use style=\"fill:#4c72b0;stroke:#4c72b0;\" x=\"163.994168\" xlink:href=\"#m3c5fdccf07\" y=\"152.3164\"/>\n     <use style=\"fill:#4c72b0;stroke:#4c72b0;\" x=\"164.054852\" xlink:href=\"#m3c5fdccf07\" y=\"152.3164\"/>\n     <use style=\"fill:#4c72b0;stroke:#4c72b0;\" x=\"164.115563\" xlink:href=\"#m3c5fdccf07\" y=\"152.3164\"/>\n     <use style=\"fill:#4c72b0;stroke:#4c72b0;\" x=\"164.176302\" xlink:href=\"#m3c5fdccf07\" y=\"152.3164\"/>\n     <use style=\"fill:#4c72b0;stroke:#4c72b0;\" x=\"164.23707\" xlink:href=\"#m3c5fdccf07\" y=\"152.117174\"/>\n     <use style=\"fill:#4c72b0;stroke:#4c72b0;\" x=\"164.297865\" xlink:href=\"#m3c5fdccf07\" y=\"152.117174\"/>\n     <use style=\"fill:#4c72b0;stroke:#4c72b0;\" x=\"164.35869\" xlink:href=\"#m3c5fdccf07\" y=\"152.117174\"/>\n     <use style=\"fill:#4c72b0;stroke:#4c72b0;\" x=\"164.419543\" xlink:href=\"#m3c5fdccf07\" y=\"152.117174\"/>\n     <use style=\"fill:#4c72b0;stroke:#4c72b0;\" x=\"164.480425\" xlink:href=\"#m3c5fdccf07\" y=\"152.117174\"/>\n     <use style=\"fill:#4c72b0;stroke:#4c72b0;\" x=\"164.541336\" xlink:href=\"#m3c5fdccf07\" y=\"152.117174\"/>\n     <use style=\"fill:#4c72b0;stroke:#4c72b0;\" x=\"164.602277\" xlink:href=\"#m3c5fdccf07\" y=\"152.117174\"/>\n     <use style=\"fill:#4c72b0;stroke:#4c72b0;\" x=\"164.663248\" xlink:href=\"#m3c5fdccf07\" y=\"151.917948\"/>\n     <use style=\"fill:#4c72b0;stroke:#4c72b0;\" x=\"164.724249\" xlink:href=\"#m3c5fdccf07\" y=\"151.917948\"/>\n     <use style=\"fill:#4c72b0;stroke:#4c72b0;\" x=\"164.78528\" xlink:href=\"#m3c5fdccf07\" y=\"151.917948\"/>\n     <use style=\"fill:#4c72b0;stroke:#4c72b0;\" x=\"164.846342\" xlink:href=\"#m3c5fdccf07\" y=\"151.917948\"/>\n     <use style=\"fill:#4c72b0;stroke:#4c72b0;\" x=\"164.907434\" xlink:href=\"#m3c5fdccf07\" y=\"151.917948\"/>\n     <use style=\"fill:#4c72b0;stroke:#4c72b0;\" x=\"164.968558\" xlink:href=\"#m3c5fdccf07\" y=\"151.917948\"/>\n     <use style=\"fill:#4c72b0;stroke:#4c72b0;\" x=\"165.029713\" xlink:href=\"#m3c5fdccf07\" y=\"151.917948\"/>\n     <use style=\"fill:#4c72b0;stroke:#4c72b0;\" x=\"165.090899\" xlink:href=\"#m3c5fdccf07\" y=\"151.917948\"/>\n     <use style=\"fill:#4c72b0;stroke:#4c72b0;\" x=\"165.152117\" xlink:href=\"#m3c5fdccf07\" y=\"151.718722\"/>\n     <use style=\"fill:#4c72b0;stroke:#4c72b0;\" x=\"165.213367\" xlink:href=\"#m3c5fdccf07\" y=\"151.718722\"/>\n     <use style=\"fill:#4c72b0;stroke:#4c72b0;\" x=\"165.274649\" xlink:href=\"#m3c5fdccf07\" y=\"151.718722\"/>\n     <use style=\"fill:#4c72b0;stroke:#4c72b0;\" x=\"165.335964\" xlink:href=\"#m3c5fdccf07\" y=\"151.718722\"/>\n     <use style=\"fill:#4c72b0;stroke:#4c72b0;\" x=\"165.397312\" xlink:href=\"#m3c5fdccf07\" y=\"151.718722\"/>\n     <use style=\"fill:#4c72b0;stroke:#4c72b0;\" x=\"165.458692\" xlink:href=\"#m3c5fdccf07\" y=\"151.718722\"/>\n     <use style=\"fill:#4c72b0;stroke:#4c72b0;\" x=\"165.520106\" xlink:href=\"#m3c5fdccf07\" y=\"151.718722\"/>\n     <use style=\"fill:#4c72b0;stroke:#4c72b0;\" x=\"165.581554\" xlink:href=\"#m3c5fdccf07\" y=\"151.718722\"/>\n     <use style=\"fill:#4c72b0;stroke:#4c72b0;\" x=\"165.643035\" xlink:href=\"#m3c5fdccf07\" y=\"151.519495\"/>\n     <use style=\"fill:#4c72b0;stroke:#4c72b0;\" x=\"165.70455\" xlink:href=\"#m3c5fdccf07\" y=\"151.519495\"/>\n     <use style=\"fill:#4c72b0;stroke:#4c72b0;\" x=\"165.7661\" xlink:href=\"#m3c5fdccf07\" y=\"151.519495\"/>\n     <use style=\"fill:#4c72b0;stroke:#4c72b0;\" x=\"165.827684\" xlink:href=\"#m3c5fdccf07\" y=\"151.519495\"/>\n     <use style=\"fill:#4c72b0;stroke:#4c72b0;\" x=\"165.889303\" xlink:href=\"#m3c5fdccf07\" y=\"151.320269\"/>\n     <use style=\"fill:#4c72b0;stroke:#4c72b0;\" x=\"165.950957\" xlink:href=\"#m3c5fdccf07\" y=\"151.320269\"/>\n     <use style=\"fill:#4c72b0;stroke:#4c72b0;\" x=\"166.012647\" xlink:href=\"#m3c5fdccf07\" y=\"151.320269\"/>\n     <use style=\"fill:#4c72b0;stroke:#4c72b0;\" x=\"166.074372\" xlink:href=\"#m3c5fdccf07\" y=\"151.320269\"/>\n     <use style=\"fill:#4c72b0;stroke:#4c72b0;\" x=\"166.136133\" xlink:href=\"#m3c5fdccf07\" y=\"151.320269\"/>\n     <use style=\"fill:#4c72b0;stroke:#4c72b0;\" x=\"166.19793\" xlink:href=\"#m3c5fdccf07\" y=\"151.320269\"/>\n     <use style=\"fill:#4c72b0;stroke:#4c72b0;\" x=\"166.259763\" xlink:href=\"#m3c5fdccf07\" y=\"151.121043\"/>\n     <use style=\"fill:#4c72b0;stroke:#4c72b0;\" x=\"166.321633\" xlink:href=\"#m3c5fdccf07\" y=\"151.121043\"/>\n     <use style=\"fill:#4c72b0;stroke:#4c72b0;\" x=\"166.383541\" xlink:href=\"#m3c5fdccf07\" y=\"151.121043\"/>\n     <use style=\"fill:#4c72b0;stroke:#4c72b0;\" x=\"166.445485\" xlink:href=\"#m3c5fdccf07\" y=\"151.121043\"/>\n     <use style=\"fill:#4c72b0;stroke:#4c72b0;\" x=\"166.507467\" xlink:href=\"#m3c5fdccf07\" y=\"151.121043\"/>\n     <use style=\"fill:#4c72b0;stroke:#4c72b0;\" x=\"166.569486\" xlink:href=\"#m3c5fdccf07\" y=\"151.121043\"/>\n     <use style=\"fill:#4c72b0;stroke:#4c72b0;\" x=\"166.631544\" xlink:href=\"#m3c5fdccf07\" y=\"151.121043\"/>\n     <use style=\"fill:#4c72b0;stroke:#4c72b0;\" x=\"166.69364\" xlink:href=\"#m3c5fdccf07\" y=\"151.121043\"/>\n     <use style=\"fill:#4c72b0;stroke:#4c72b0;\" x=\"166.755775\" xlink:href=\"#m3c5fdccf07\" y=\"151.121043\"/>\n     <use style=\"fill:#4c72b0;stroke:#4c72b0;\" x=\"166.817948\" xlink:href=\"#m3c5fdccf07\" y=\"150.921817\"/>\n     <use style=\"fill:#4c72b0;stroke:#4c72b0;\" x=\"166.880161\" xlink:href=\"#m3c5fdccf07\" y=\"150.921817\"/>\n     <use style=\"fill:#4c72b0;stroke:#4c72b0;\" x=\"166.942413\" xlink:href=\"#m3c5fdccf07\" y=\"150.921817\"/>\n     <use style=\"fill:#4c72b0;stroke:#4c72b0;\" x=\"167.004704\" xlink:href=\"#m3c5fdccf07\" y=\"150.72259\"/>\n     <use style=\"fill:#4c72b0;stroke:#4c72b0;\" x=\"167.067036\" xlink:href=\"#m3c5fdccf07\" y=\"150.523364\"/>\n     <use style=\"fill:#4c72b0;stroke:#4c72b0;\" x=\"167.129408\" xlink:href=\"#m3c5fdccf07\" y=\"150.523364\"/>\n     <use style=\"fill:#4c72b0;stroke:#4c72b0;\" x=\"167.19182\" xlink:href=\"#m3c5fdccf07\" y=\"150.523364\"/>\n     <use style=\"fill:#4c72b0;stroke:#4c72b0;\" x=\"167.254273\" xlink:href=\"#m3c5fdccf07\" y=\"150.523364\"/>\n     <use style=\"fill:#4c72b0;stroke:#4c72b0;\" x=\"167.316768\" xlink:href=\"#m3c5fdccf07\" y=\"150.523364\"/>\n     <use style=\"fill:#4c72b0;stroke:#4c72b0;\" x=\"167.379303\" xlink:href=\"#m3c5fdccf07\" y=\"150.523364\"/>\n     <use style=\"fill:#4c72b0;stroke:#4c72b0;\" x=\"167.441881\" xlink:href=\"#m3c5fdccf07\" y=\"150.324138\"/>\n     <use style=\"fill:#4c72b0;stroke:#4c72b0;\" x=\"167.5045\" xlink:href=\"#m3c5fdccf07\" y=\"150.324138\"/>\n     <use style=\"fill:#4c72b0;stroke:#4c72b0;\" x=\"167.567162\" xlink:href=\"#m3c5fdccf07\" y=\"150.324138\"/>\n     <use style=\"fill:#4c72b0;stroke:#4c72b0;\" x=\"167.629866\" xlink:href=\"#m3c5fdccf07\" y=\"150.324138\"/>\n     <use style=\"fill:#4c72b0;stroke:#4c72b0;\" x=\"167.692613\" xlink:href=\"#m3c5fdccf07\" y=\"150.324138\"/>\n     <use style=\"fill:#4c72b0;stroke:#4c72b0;\" x=\"167.755403\" xlink:href=\"#m3c5fdccf07\" y=\"150.124912\"/>\n     <use style=\"fill:#4c72b0;stroke:#4c72b0;\" x=\"167.818236\" xlink:href=\"#m3c5fdccf07\" y=\"150.124912\"/>\n     <use style=\"fill:#4c72b0;stroke:#4c72b0;\" x=\"167.881114\" xlink:href=\"#m3c5fdccf07\" y=\"150.124912\"/>\n     <use style=\"fill:#4c72b0;stroke:#4c72b0;\" x=\"167.944035\" xlink:href=\"#m3c5fdccf07\" y=\"150.124912\"/>\n     <use style=\"fill:#4c72b0;stroke:#4c72b0;\" x=\"168.007\" xlink:href=\"#m3c5fdccf07\" y=\"149.925685\"/>\n     <use style=\"fill:#4c72b0;stroke:#4c72b0;\" x=\"168.07001\" xlink:href=\"#m3c5fdccf07\" y=\"149.925685\"/>\n     <use style=\"fill:#4c72b0;stroke:#4c72b0;\" x=\"168.133066\" xlink:href=\"#m3c5fdccf07\" y=\"149.925685\"/>\n     <use style=\"fill:#4c72b0;stroke:#4c72b0;\" x=\"168.196166\" xlink:href=\"#m3c5fdccf07\" y=\"149.925685\"/>\n     <use style=\"fill:#4c72b0;stroke:#4c72b0;\" x=\"168.259312\" xlink:href=\"#m3c5fdccf07\" y=\"149.925685\"/>\n     <use style=\"fill:#4c72b0;stroke:#4c72b0;\" x=\"168.322503\" xlink:href=\"#m3c5fdccf07\" y=\"149.925685\"/>\n     <use style=\"fill:#4c72b0;stroke:#4c72b0;\" x=\"168.385741\" xlink:href=\"#m3c5fdccf07\" y=\"149.925685\"/>\n     <use style=\"fill:#4c72b0;stroke:#4c72b0;\" x=\"168.449025\" xlink:href=\"#m3c5fdccf07\" y=\"149.726459\"/>\n     <use style=\"fill:#4c72b0;stroke:#4c72b0;\" x=\"168.512356\" xlink:href=\"#m3c5fdccf07\" y=\"149.726459\"/>\n     <use style=\"fill:#4c72b0;stroke:#4c72b0;\" x=\"168.575734\" xlink:href=\"#m3c5fdccf07\" y=\"149.726459\"/>\n     <use style=\"fill:#4c72b0;stroke:#4c72b0;\" x=\"168.639159\" xlink:href=\"#m3c5fdccf07\" y=\"149.726459\"/>\n     <use style=\"fill:#4c72b0;stroke:#4c72b0;\" x=\"168.702632\" xlink:href=\"#m3c5fdccf07\" y=\"149.726459\"/>\n     <use style=\"fill:#4c72b0;stroke:#4c72b0;\" x=\"168.766153\" xlink:href=\"#m3c5fdccf07\" y=\"149.527233\"/>\n     <use style=\"fill:#4c72b0;stroke:#4c72b0;\" x=\"168.829723\" xlink:href=\"#m3c5fdccf07\" y=\"149.527233\"/>\n     <use style=\"fill:#4c72b0;stroke:#4c72b0;\" x=\"168.893341\" xlink:href=\"#m3c5fdccf07\" y=\"149.527233\"/>\n     <use style=\"fill:#4c72b0;stroke:#4c72b0;\" x=\"168.957008\" xlink:href=\"#m3c5fdccf07\" y=\"149.527233\"/>\n     <use style=\"fill:#4c72b0;stroke:#4c72b0;\" x=\"169.020724\" xlink:href=\"#m3c5fdccf07\" y=\"149.527233\"/>\n     <use style=\"fill:#4c72b0;stroke:#4c72b0;\" x=\"169.084489\" xlink:href=\"#m3c5fdccf07\" y=\"149.328007\"/>\n     <use style=\"fill:#4c72b0;stroke:#4c72b0;\" x=\"169.148305\" xlink:href=\"#m3c5fdccf07\" y=\"149.328007\"/>\n     <use style=\"fill:#4c72b0;stroke:#4c72b0;\" x=\"169.212171\" xlink:href=\"#m3c5fdccf07\" y=\"149.12878\"/>\n     <use style=\"fill:#4c72b0;stroke:#4c72b0;\" x=\"169.276087\" xlink:href=\"#m3c5fdccf07\" y=\"149.12878\"/>\n     <use style=\"fill:#4c72b0;stroke:#4c72b0;\" x=\"169.340055\" xlink:href=\"#m3c5fdccf07\" y=\"148.929554\"/>\n     <use style=\"fill:#4c72b0;stroke:#4c72b0;\" x=\"169.404073\" xlink:href=\"#m3c5fdccf07\" y=\"148.929554\"/>\n     <use style=\"fill:#4c72b0;stroke:#4c72b0;\" x=\"169.468143\" xlink:href=\"#m3c5fdccf07\" y=\"148.929554\"/>\n     <use style=\"fill:#4c72b0;stroke:#4c72b0;\" x=\"169.532265\" xlink:href=\"#m3c5fdccf07\" y=\"148.929554\"/>\n     <use style=\"fill:#4c72b0;stroke:#4c72b0;\" x=\"169.596439\" xlink:href=\"#m3c5fdccf07\" y=\"148.929554\"/>\n     <use style=\"fill:#4c72b0;stroke:#4c72b0;\" x=\"169.660666\" xlink:href=\"#m3c5fdccf07\" y=\"148.730328\"/>\n     <use style=\"fill:#4c72b0;stroke:#4c72b0;\" x=\"169.724946\" xlink:href=\"#m3c5fdccf07\" y=\"148.730328\"/>\n     <use style=\"fill:#4c72b0;stroke:#4c72b0;\" x=\"169.789279\" xlink:href=\"#m3c5fdccf07\" y=\"148.730328\"/>\n     <use style=\"fill:#4c72b0;stroke:#4c72b0;\" x=\"169.853665\" xlink:href=\"#m3c5fdccf07\" y=\"148.730328\"/>\n     <use style=\"fill:#4c72b0;stroke:#4c72b0;\" x=\"169.918105\" xlink:href=\"#m3c5fdccf07\" y=\"148.730328\"/>\n     <use style=\"fill:#4c72b0;stroke:#4c72b0;\" x=\"169.9826\" xlink:href=\"#m3c5fdccf07\" y=\"148.531102\"/>\n     <use style=\"fill:#4c72b0;stroke:#4c72b0;\" x=\"170.047149\" xlink:href=\"#m3c5fdccf07\" y=\"148.531102\"/>\n     <use style=\"fill:#4c72b0;stroke:#4c72b0;\" x=\"170.111753\" xlink:href=\"#m3c5fdccf07\" y=\"148.531102\"/>\n     <use style=\"fill:#4c72b0;stroke:#4c72b0;\" x=\"170.176413\" xlink:href=\"#m3c5fdccf07\" y=\"148.531102\"/>\n     <use style=\"fill:#4c72b0;stroke:#4c72b0;\" x=\"170.241128\" xlink:href=\"#m3c5fdccf07\" y=\"148.531102\"/>\n     <use style=\"fill:#4c72b0;stroke:#4c72b0;\" x=\"170.305899\" xlink:href=\"#m3c5fdccf07\" y=\"148.531102\"/>\n     <use style=\"fill:#4c72b0;stroke:#4c72b0;\" x=\"170.370727\" xlink:href=\"#m3c5fdccf07\" y=\"148.531102\"/>\n     <use style=\"fill:#4c72b0;stroke:#4c72b0;\" x=\"170.435611\" xlink:href=\"#m3c5fdccf07\" y=\"148.531102\"/>\n     <use style=\"fill:#4c72b0;stroke:#4c72b0;\" x=\"170.500552\" xlink:href=\"#m3c5fdccf07\" y=\"148.331875\"/>\n     <use style=\"fill:#4c72b0;stroke:#4c72b0;\" x=\"170.565551\" xlink:href=\"#m3c5fdccf07\" y=\"148.331875\"/>\n     <use style=\"fill:#4c72b0;stroke:#4c72b0;\" x=\"170.630607\" xlink:href=\"#m3c5fdccf07\" y=\"148.331875\"/>\n     <use style=\"fill:#4c72b0;stroke:#4c72b0;\" x=\"170.695722\" xlink:href=\"#m3c5fdccf07\" y=\"148.331875\"/>\n     <use style=\"fill:#4c72b0;stroke:#4c72b0;\" x=\"170.760895\" xlink:href=\"#m3c5fdccf07\" y=\"148.331875\"/>\n     <use style=\"fill:#4c72b0;stroke:#4c72b0;\" x=\"170.826127\" xlink:href=\"#m3c5fdccf07\" y=\"148.132649\"/>\n     <use style=\"fill:#4c72b0;stroke:#4c72b0;\" x=\"170.891418\" xlink:href=\"#m3c5fdccf07\" y=\"148.132649\"/>\n     <use style=\"fill:#4c72b0;stroke:#4c72b0;\" x=\"170.956769\" xlink:href=\"#m3c5fdccf07\" y=\"148.132649\"/>\n     <use style=\"fill:#4c72b0;stroke:#4c72b0;\" x=\"171.02218\" xlink:href=\"#m3c5fdccf07\" y=\"148.132649\"/>\n     <use style=\"fill:#4c72b0;stroke:#4c72b0;\" x=\"171.087652\" xlink:href=\"#m3c5fdccf07\" y=\"148.132649\"/>\n     <use style=\"fill:#4c72b0;stroke:#4c72b0;\" x=\"171.153184\" xlink:href=\"#m3c5fdccf07\" y=\"148.132649\"/>\n     <use style=\"fill:#4c72b0;stroke:#4c72b0;\" x=\"171.218777\" xlink:href=\"#m3c5fdccf07\" y=\"148.132649\"/>\n     <use style=\"fill:#4c72b0;stroke:#4c72b0;\" x=\"171.284432\" xlink:href=\"#m3c5fdccf07\" y=\"147.933423\"/>\n     <use style=\"fill:#4c72b0;stroke:#4c72b0;\" x=\"171.350149\" xlink:href=\"#m3c5fdccf07\" y=\"147.933423\"/>\n     <use style=\"fill:#4c72b0;stroke:#4c72b0;\" x=\"171.415928\" xlink:href=\"#m3c5fdccf07\" y=\"147.933423\"/>\n     <use style=\"fill:#4c72b0;stroke:#4c72b0;\" x=\"171.481769\" xlink:href=\"#m3c5fdccf07\" y=\"147.933423\"/>\n     <use style=\"fill:#4c72b0;stroke:#4c72b0;\" x=\"171.547674\" xlink:href=\"#m3c5fdccf07\" y=\"147.933423\"/>\n     <use style=\"fill:#4c72b0;stroke:#4c72b0;\" x=\"171.613642\" xlink:href=\"#m3c5fdccf07\" y=\"147.933423\"/>\n     <use style=\"fill:#4c72b0;stroke:#4c72b0;\" x=\"171.679675\" xlink:href=\"#m3c5fdccf07\" y=\"147.53497\"/>\n     <use style=\"fill:#4c72b0;stroke:#4c72b0;\" x=\"171.745771\" xlink:href=\"#m3c5fdccf07\" y=\"147.53497\"/>\n     <use style=\"fill:#4c72b0;stroke:#4c72b0;\" x=\"171.811932\" xlink:href=\"#m3c5fdccf07\" y=\"147.53497\"/>\n     <use style=\"fill:#4c72b0;stroke:#4c72b0;\" x=\"171.878158\" xlink:href=\"#m3c5fdccf07\" y=\"147.53497\"/>\n     <use style=\"fill:#4c72b0;stroke:#4c72b0;\" x=\"171.94445\" xlink:href=\"#m3c5fdccf07\" y=\"147.53497\"/>\n     <use style=\"fill:#4c72b0;stroke:#4c72b0;\" x=\"172.010807\" xlink:href=\"#m3c5fdccf07\" y=\"147.53497\"/>\n     <use style=\"fill:#4c72b0;stroke:#4c72b0;\" x=\"172.077231\" xlink:href=\"#m3c5fdccf07\" y=\"147.335744\"/>\n     <use style=\"fill:#4c72b0;stroke:#4c72b0;\" x=\"172.143721\" xlink:href=\"#m3c5fdccf07\" y=\"147.335744\"/>\n     <use style=\"fill:#4c72b0;stroke:#4c72b0;\" x=\"172.210279\" xlink:href=\"#m3c5fdccf07\" y=\"147.335744\"/>\n     <use style=\"fill:#4c72b0;stroke:#4c72b0;\" x=\"172.276904\" xlink:href=\"#m3c5fdccf07\" y=\"147.335744\"/>\n     <use style=\"fill:#4c72b0;stroke:#4c72b0;\" x=\"172.343597\" xlink:href=\"#m3c5fdccf07\" y=\"147.335744\"/>\n     <use style=\"fill:#4c72b0;stroke:#4c72b0;\" x=\"172.410358\" xlink:href=\"#m3c5fdccf07\" y=\"147.335744\"/>\n     <use style=\"fill:#4c72b0;stroke:#4c72b0;\" x=\"172.477188\" xlink:href=\"#m3c5fdccf07\" y=\"147.335744\"/>\n     <use style=\"fill:#4c72b0;stroke:#4c72b0;\" x=\"172.544088\" xlink:href=\"#m3c5fdccf07\" y=\"147.335744\"/>\n     <use style=\"fill:#4c72b0;stroke:#4c72b0;\" x=\"172.611057\" xlink:href=\"#m3c5fdccf07\" y=\"147.335744\"/>\n     <use style=\"fill:#4c72b0;stroke:#4c72b0;\" x=\"172.678096\" xlink:href=\"#m3c5fdccf07\" y=\"147.136518\"/>\n     <use style=\"fill:#4c72b0;stroke:#4c72b0;\" x=\"172.745205\" xlink:href=\"#m3c5fdccf07\" y=\"147.136518\"/>\n     <use style=\"fill:#4c72b0;stroke:#4c72b0;\" x=\"172.812386\" xlink:href=\"#m3c5fdccf07\" y=\"147.136518\"/>\n     <use style=\"fill:#4c72b0;stroke:#4c72b0;\" x=\"172.879638\" xlink:href=\"#m3c5fdccf07\" y=\"147.136518\"/>\n     <use style=\"fill:#4c72b0;stroke:#4c72b0;\" x=\"172.946961\" xlink:href=\"#m3c5fdccf07\" y=\"147.136518\"/>\n     <use style=\"fill:#4c72b0;stroke:#4c72b0;\" x=\"173.014357\" xlink:href=\"#m3c5fdccf07\" y=\"147.136518\"/>\n     <use style=\"fill:#4c72b0;stroke:#4c72b0;\" x=\"173.081826\" xlink:href=\"#m3c5fdccf07\" y=\"147.136518\"/>\n     <use style=\"fill:#4c72b0;stroke:#4c72b0;\" x=\"173.149368\" xlink:href=\"#m3c5fdccf07\" y=\"147.136518\"/>\n     <use style=\"fill:#4c72b0;stroke:#4c72b0;\" x=\"173.216983\" xlink:href=\"#m3c5fdccf07\" y=\"147.136518\"/>\n     <use style=\"fill:#4c72b0;stroke:#4c72b0;\" x=\"173.284673\" xlink:href=\"#m3c5fdccf07\" y=\"146.937292\"/>\n     <use style=\"fill:#4c72b0;stroke:#4c72b0;\" x=\"173.352437\" xlink:href=\"#m3c5fdccf07\" y=\"146.738065\"/>\n     <use style=\"fill:#4c72b0;stroke:#4c72b0;\" x=\"173.420275\" xlink:href=\"#m3c5fdccf07\" y=\"146.738065\"/>\n     <use style=\"fill:#4c72b0;stroke:#4c72b0;\" x=\"173.48819\" xlink:href=\"#m3c5fdccf07\" y=\"146.738065\"/>\n     <use style=\"fill:#4c72b0;stroke:#4c72b0;\" x=\"173.55618\" xlink:href=\"#m3c5fdccf07\" y=\"146.738065\"/>\n     <use style=\"fill:#4c72b0;stroke:#4c72b0;\" x=\"173.624247\" xlink:href=\"#m3c5fdccf07\" y=\"146.738065\"/>\n     <use style=\"fill:#4c72b0;stroke:#4c72b0;\" x=\"173.69239\" xlink:href=\"#m3c5fdccf07\" y=\"146.738065\"/>\n     <use style=\"fill:#4c72b0;stroke:#4c72b0;\" x=\"173.760611\" xlink:href=\"#m3c5fdccf07\" y=\"146.538839\"/>\n     <use style=\"fill:#4c72b0;stroke:#4c72b0;\" x=\"173.82891\" xlink:href=\"#m3c5fdccf07\" y=\"146.538839\"/>\n     <use style=\"fill:#4c72b0;stroke:#4c72b0;\" x=\"173.897286\" xlink:href=\"#m3c5fdccf07\" y=\"146.538839\"/>\n     <use style=\"fill:#4c72b0;stroke:#4c72b0;\" x=\"173.965742\" xlink:href=\"#m3c5fdccf07\" y=\"146.339613\"/>\n     <use style=\"fill:#4c72b0;stroke:#4c72b0;\" x=\"174.034277\" xlink:href=\"#m3c5fdccf07\" y=\"146.339613\"/>\n     <use style=\"fill:#4c72b0;stroke:#4c72b0;\" x=\"174.102891\" xlink:href=\"#m3c5fdccf07\" y=\"146.339613\"/>\n     <use style=\"fill:#4c72b0;stroke:#4c72b0;\" x=\"174.171586\" xlink:href=\"#m3c5fdccf07\" y=\"146.339613\"/>\n     <use style=\"fill:#4c72b0;stroke:#4c72b0;\" x=\"174.240362\" xlink:href=\"#m3c5fdccf07\" y=\"146.339613\"/>\n     <use style=\"fill:#4c72b0;stroke:#4c72b0;\" x=\"174.309218\" xlink:href=\"#m3c5fdccf07\" y=\"146.339613\"/>\n     <use style=\"fill:#4c72b0;stroke:#4c72b0;\" x=\"174.378157\" xlink:href=\"#m3c5fdccf07\" y=\"146.140387\"/>\n     <use style=\"fill:#4c72b0;stroke:#4c72b0;\" x=\"174.447178\" xlink:href=\"#m3c5fdccf07\" y=\"146.140387\"/>\n     <use style=\"fill:#4c72b0;stroke:#4c72b0;\" x=\"174.516281\" xlink:href=\"#m3c5fdccf07\" y=\"146.140387\"/>\n     <use style=\"fill:#4c72b0;stroke:#4c72b0;\" x=\"174.585468\" xlink:href=\"#m3c5fdccf07\" y=\"146.140387\"/>\n     <use style=\"fill:#4c72b0;stroke:#4c72b0;\" x=\"174.654738\" xlink:href=\"#m3c5fdccf07\" y=\"146.140387\"/>\n     <use style=\"fill:#4c72b0;stroke:#4c72b0;\" x=\"174.724093\" xlink:href=\"#m3c5fdccf07\" y=\"146.140387\"/>\n     <use style=\"fill:#4c72b0;stroke:#4c72b0;\" x=\"174.793532\" xlink:href=\"#m3c5fdccf07\" y=\"146.140387\"/>\n     <use style=\"fill:#4c72b0;stroke:#4c72b0;\" x=\"174.863057\" xlink:href=\"#m3c5fdccf07\" y=\"146.140387\"/>\n     <use style=\"fill:#4c72b0;stroke:#4c72b0;\" x=\"174.932668\" xlink:href=\"#m3c5fdccf07\" y=\"145.94116\"/>\n     <use style=\"fill:#4c72b0;stroke:#4c72b0;\" x=\"175.002365\" xlink:href=\"#m3c5fdccf07\" y=\"145.94116\"/>\n     <use style=\"fill:#4c72b0;stroke:#4c72b0;\" x=\"175.072149\" xlink:href=\"#m3c5fdccf07\" y=\"145.94116\"/>\n     <use style=\"fill:#4c72b0;stroke:#4c72b0;\" x=\"175.14202\" xlink:href=\"#m3c5fdccf07\" y=\"145.741934\"/>\n     <use style=\"fill:#4c72b0;stroke:#4c72b0;\" x=\"175.21198\" xlink:href=\"#m3c5fdccf07\" y=\"145.741934\"/>\n     <use style=\"fill:#4c72b0;stroke:#4c72b0;\" x=\"175.282028\" xlink:href=\"#m3c5fdccf07\" y=\"145.741934\"/>\n     <use style=\"fill:#4c72b0;stroke:#4c72b0;\" x=\"175.352165\" xlink:href=\"#m3c5fdccf07\" y=\"145.741934\"/>\n     <use style=\"fill:#4c72b0;stroke:#4c72b0;\" x=\"175.422392\" xlink:href=\"#m3c5fdccf07\" y=\"145.741934\"/>\n     <use style=\"fill:#4c72b0;stroke:#4c72b0;\" x=\"175.492709\" xlink:href=\"#m3c5fdccf07\" y=\"145.542708\"/>\n     <use style=\"fill:#4c72b0;stroke:#4c72b0;\" x=\"175.563117\" xlink:href=\"#m3c5fdccf07\" y=\"145.542708\"/>\n     <use style=\"fill:#4c72b0;stroke:#4c72b0;\" x=\"175.633616\" xlink:href=\"#m3c5fdccf07\" y=\"145.542708\"/>\n     <use style=\"fill:#4c72b0;stroke:#4c72b0;\" x=\"175.704207\" xlink:href=\"#m3c5fdccf07\" y=\"145.542708\"/>\n     <use style=\"fill:#4c72b0;stroke:#4c72b0;\" x=\"175.774891\" xlink:href=\"#m3c5fdccf07\" y=\"145.343482\"/>\n     <use style=\"fill:#4c72b0;stroke:#4c72b0;\" x=\"175.845667\" xlink:href=\"#m3c5fdccf07\" y=\"145.343482\"/>\n     <use style=\"fill:#4c72b0;stroke:#4c72b0;\" x=\"175.916538\" xlink:href=\"#m3c5fdccf07\" y=\"145.343482\"/>\n     <use style=\"fill:#4c72b0;stroke:#4c72b0;\" x=\"175.987502\" xlink:href=\"#m3c5fdccf07\" y=\"145.144255\"/>\n     <use style=\"fill:#4c72b0;stroke:#4c72b0;\" x=\"176.058561\" xlink:href=\"#m3c5fdccf07\" y=\"145.144255\"/>\n     <use style=\"fill:#4c72b0;stroke:#4c72b0;\" x=\"176.129716\" xlink:href=\"#m3c5fdccf07\" y=\"145.144255\"/>\n     <use style=\"fill:#4c72b0;stroke:#4c72b0;\" x=\"176.200967\" xlink:href=\"#m3c5fdccf07\" y=\"144.945029\"/>\n     <use style=\"fill:#4c72b0;stroke:#4c72b0;\" x=\"176.272315\" xlink:href=\"#m3c5fdccf07\" y=\"144.945029\"/>\n     <use style=\"fill:#4c72b0;stroke:#4c72b0;\" x=\"176.343759\" xlink:href=\"#m3c5fdccf07\" y=\"144.945029\"/>\n     <use style=\"fill:#4c72b0;stroke:#4c72b0;\" x=\"176.415302\" xlink:href=\"#m3c5fdccf07\" y=\"144.945029\"/>\n     <use style=\"fill:#4c72b0;stroke:#4c72b0;\" x=\"176.486943\" xlink:href=\"#m3c5fdccf07\" y=\"144.745803\"/>\n     <use style=\"fill:#4c72b0;stroke:#4c72b0;\" x=\"176.558683\" xlink:href=\"#m3c5fdccf07\" y=\"144.745803\"/>\n     <use style=\"fill:#4c72b0;stroke:#4c72b0;\" x=\"176.630523\" xlink:href=\"#m3c5fdccf07\" y=\"144.745803\"/>\n     <use style=\"fill:#4c72b0;stroke:#4c72b0;\" x=\"176.702463\" xlink:href=\"#m3c5fdccf07\" y=\"144.745803\"/>\n     <use style=\"fill:#4c72b0;stroke:#4c72b0;\" x=\"176.774504\" xlink:href=\"#m3c5fdccf07\" y=\"144.745803\"/>\n     <use style=\"fill:#4c72b0;stroke:#4c72b0;\" x=\"176.846647\" xlink:href=\"#m3c5fdccf07\" y=\"144.745803\"/>\n     <use style=\"fill:#4c72b0;stroke:#4c72b0;\" x=\"176.918892\" xlink:href=\"#m3c5fdccf07\" y=\"144.745803\"/>\n     <use style=\"fill:#4c72b0;stroke:#4c72b0;\" x=\"176.99124\" xlink:href=\"#m3c5fdccf07\" y=\"144.546577\"/>\n     <use style=\"fill:#4c72b0;stroke:#4c72b0;\" x=\"177.063691\" xlink:href=\"#m3c5fdccf07\" y=\"144.34735\"/>\n     <use style=\"fill:#4c72b0;stroke:#4c72b0;\" x=\"177.136247\" xlink:href=\"#m3c5fdccf07\" y=\"144.148124\"/>\n     <use style=\"fill:#4c72b0;stroke:#4c72b0;\" x=\"177.208907\" xlink:href=\"#m3c5fdccf07\" y=\"144.148124\"/>\n     <use style=\"fill:#4c72b0;stroke:#4c72b0;\" x=\"177.281674\" xlink:href=\"#m3c5fdccf07\" y=\"144.148124\"/>\n     <use style=\"fill:#4c72b0;stroke:#4c72b0;\" x=\"177.354546\" xlink:href=\"#m3c5fdccf07\" y=\"144.148124\"/>\n     <use style=\"fill:#4c72b0;stroke:#4c72b0;\" x=\"177.427525\" xlink:href=\"#m3c5fdccf07\" y=\"144.148124\"/>\n     <use style=\"fill:#4c72b0;stroke:#4c72b0;\" x=\"177.500612\" xlink:href=\"#m3c5fdccf07\" y=\"144.148124\"/>\n     <use style=\"fill:#4c72b0;stroke:#4c72b0;\" x=\"177.573807\" xlink:href=\"#m3c5fdccf07\" y=\"143.948898\"/>\n     <use style=\"fill:#4c72b0;stroke:#4c72b0;\" x=\"177.647111\" xlink:href=\"#m3c5fdccf07\" y=\"143.948898\"/>\n     <use style=\"fill:#4c72b0;stroke:#4c72b0;\" x=\"177.720525\" xlink:href=\"#m3c5fdccf07\" y=\"143.948898\"/>\n     <use style=\"fill:#4c72b0;stroke:#4c72b0;\" x=\"177.794049\" xlink:href=\"#m3c5fdccf07\" y=\"143.550445\"/>\n     <use style=\"fill:#4c72b0;stroke:#4c72b0;\" x=\"177.867684\" xlink:href=\"#m3c5fdccf07\" y=\"143.550445\"/>\n     <use style=\"fill:#4c72b0;stroke:#4c72b0;\" x=\"177.941431\" xlink:href=\"#m3c5fdccf07\" y=\"143.550445\"/>\n     <use style=\"fill:#4c72b0;stroke:#4c72b0;\" x=\"178.015291\" xlink:href=\"#m3c5fdccf07\" y=\"143.351219\"/>\n     <use style=\"fill:#4c72b0;stroke:#4c72b0;\" x=\"178.089263\" xlink:href=\"#m3c5fdccf07\" y=\"143.351219\"/>\n     <use style=\"fill:#4c72b0;stroke:#4c72b0;\" x=\"178.16335\" xlink:href=\"#m3c5fdccf07\" y=\"143.351219\"/>\n     <use style=\"fill:#4c72b0;stroke:#4c72b0;\" x=\"178.237551\" xlink:href=\"#m3c5fdccf07\" y=\"143.151993\"/>\n     <use style=\"fill:#4c72b0;stroke:#4c72b0;\" x=\"178.311868\" xlink:href=\"#m3c5fdccf07\" y=\"143.151993\"/>\n     <use style=\"fill:#4c72b0;stroke:#4c72b0;\" x=\"178.386301\" xlink:href=\"#m3c5fdccf07\" y=\"143.151993\"/>\n     <use style=\"fill:#4c72b0;stroke:#4c72b0;\" x=\"178.460852\" xlink:href=\"#m3c5fdccf07\" y=\"143.151993\"/>\n     <use style=\"fill:#4c72b0;stroke:#4c72b0;\" x=\"178.535519\" xlink:href=\"#m3c5fdccf07\" y=\"142.952767\"/>\n     <use style=\"fill:#4c72b0;stroke:#4c72b0;\" x=\"178.610306\" xlink:href=\"#m3c5fdccf07\" y=\"142.952767\"/>\n     <use style=\"fill:#4c72b0;stroke:#4c72b0;\" x=\"178.685211\" xlink:href=\"#m3c5fdccf07\" y=\"142.952767\"/>\n     <use style=\"fill:#4c72b0;stroke:#4c72b0;\" x=\"178.760237\" xlink:href=\"#m3c5fdccf07\" y=\"142.952767\"/>\n     <use style=\"fill:#4c72b0;stroke:#4c72b0;\" x=\"178.835383\" xlink:href=\"#m3c5fdccf07\" y=\"142.75354\"/>\n     <use style=\"fill:#4c72b0;stroke:#4c72b0;\" x=\"178.910651\" xlink:href=\"#m3c5fdccf07\" y=\"142.75354\"/>\n     <use style=\"fill:#4c72b0;stroke:#4c72b0;\" x=\"178.986042\" xlink:href=\"#m3c5fdccf07\" y=\"142.75354\"/>\n     <use style=\"fill:#4c72b0;stroke:#4c72b0;\" x=\"179.061556\" xlink:href=\"#m3c5fdccf07\" y=\"142.75354\"/>\n     <use style=\"fill:#4c72b0;stroke:#4c72b0;\" x=\"179.137193\" xlink:href=\"#m3c5fdccf07\" y=\"142.75354\"/>\n     <use style=\"fill:#4c72b0;stroke:#4c72b0;\" x=\"179.212956\" xlink:href=\"#m3c5fdccf07\" y=\"142.75354\"/>\n     <use style=\"fill:#4c72b0;stroke:#4c72b0;\" x=\"179.288845\" xlink:href=\"#m3c5fdccf07\" y=\"142.75354\"/>\n     <use style=\"fill:#4c72b0;stroke:#4c72b0;\" x=\"179.364859\" xlink:href=\"#m3c5fdccf07\" y=\"142.75354\"/>\n     <use style=\"fill:#4c72b0;stroke:#4c72b0;\" x=\"179.441002\" xlink:href=\"#m3c5fdccf07\" y=\"142.75354\"/>\n     <use style=\"fill:#4c72b0;stroke:#4c72b0;\" x=\"179.517272\" xlink:href=\"#m3c5fdccf07\" y=\"142.75354\"/>\n     <use style=\"fill:#4c72b0;stroke:#4c72b0;\" x=\"179.593672\" xlink:href=\"#m3c5fdccf07\" y=\"142.75354\"/>\n     <use style=\"fill:#4c72b0;stroke:#4c72b0;\" x=\"179.670201\" xlink:href=\"#m3c5fdccf07\" y=\"142.75354\"/>\n     <use style=\"fill:#4c72b0;stroke:#4c72b0;\" x=\"179.746862\" xlink:href=\"#m3c5fdccf07\" y=\"142.75354\"/>\n     <use style=\"fill:#4c72b0;stroke:#4c72b0;\" x=\"179.823654\" xlink:href=\"#m3c5fdccf07\" y=\"142.75354\"/>\n     <use style=\"fill:#4c72b0;stroke:#4c72b0;\" x=\"179.900578\" xlink:href=\"#m3c5fdccf07\" y=\"142.75354\"/>\n     <use style=\"fill:#4c72b0;stroke:#4c72b0;\" x=\"179.977636\" xlink:href=\"#m3c5fdccf07\" y=\"142.75354\"/>\n     <use style=\"fill:#4c72b0;stroke:#4c72b0;\" x=\"180.054828\" xlink:href=\"#m3c5fdccf07\" y=\"142.554314\"/>\n     <use style=\"fill:#4c72b0;stroke:#4c72b0;\" x=\"180.132156\" xlink:href=\"#m3c5fdccf07\" y=\"142.554314\"/>\n     <use style=\"fill:#4c72b0;stroke:#4c72b0;\" x=\"180.20962\" xlink:href=\"#m3c5fdccf07\" y=\"142.554314\"/>\n     <use style=\"fill:#4c72b0;stroke:#4c72b0;\" x=\"180.287221\" xlink:href=\"#m3c5fdccf07\" y=\"142.355088\"/>\n     <use style=\"fill:#4c72b0;stroke:#4c72b0;\" x=\"180.364959\" xlink:href=\"#m3c5fdccf07\" y=\"142.155862\"/>\n     <use style=\"fill:#4c72b0;stroke:#4c72b0;\" x=\"180.442837\" xlink:href=\"#m3c5fdccf07\" y=\"142.155862\"/>\n     <use style=\"fill:#4c72b0;stroke:#4c72b0;\" x=\"180.520855\" xlink:href=\"#m3c5fdccf07\" y=\"141.956635\"/>\n     <use style=\"fill:#4c72b0;stroke:#4c72b0;\" x=\"180.599014\" xlink:href=\"#m3c5fdccf07\" y=\"141.757409\"/>\n     <use style=\"fill:#4c72b0;stroke:#4c72b0;\" x=\"180.677314\" xlink:href=\"#m3c5fdccf07\" y=\"141.757409\"/>\n     <use style=\"fill:#4c72b0;stroke:#4c72b0;\" x=\"180.755757\" xlink:href=\"#m3c5fdccf07\" y=\"141.558183\"/>\n     <use style=\"fill:#4c72b0;stroke:#4c72b0;\" x=\"180.834344\" xlink:href=\"#m3c5fdccf07\" y=\"141.558183\"/>\n     <use style=\"fill:#4c72b0;stroke:#4c72b0;\" x=\"180.913076\" xlink:href=\"#m3c5fdccf07\" y=\"141.558183\"/>\n     <use style=\"fill:#4c72b0;stroke:#4c72b0;\" x=\"180.991954\" xlink:href=\"#m3c5fdccf07\" y=\"141.558183\"/>\n     <use style=\"fill:#4c72b0;stroke:#4c72b0;\" x=\"181.070978\" xlink:href=\"#m3c5fdccf07\" y=\"141.358957\"/>\n     <use style=\"fill:#4c72b0;stroke:#4c72b0;\" x=\"181.15015\" xlink:href=\"#m3c5fdccf07\" y=\"141.358957\"/>\n     <use style=\"fill:#4c72b0;stroke:#4c72b0;\" x=\"181.229471\" xlink:href=\"#m3c5fdccf07\" y=\"141.358957\"/>\n     <use style=\"fill:#4c72b0;stroke:#4c72b0;\" x=\"181.308942\" xlink:href=\"#m3c5fdccf07\" y=\"141.358957\"/>\n     <use style=\"fill:#4c72b0;stroke:#4c72b0;\" x=\"181.388564\" xlink:href=\"#m3c5fdccf07\" y=\"141.15973\"/>\n     <use style=\"fill:#4c72b0;stroke:#4c72b0;\" x=\"181.468338\" xlink:href=\"#m3c5fdccf07\" y=\"141.15973\"/>\n     <use style=\"fill:#4c72b0;stroke:#4c72b0;\" x=\"181.548264\" xlink:href=\"#m3c5fdccf07\" y=\"141.15973\"/>\n     <use style=\"fill:#4c72b0;stroke:#4c72b0;\" x=\"181.628345\" xlink:href=\"#m3c5fdccf07\" y=\"141.15973\"/>\n     <use style=\"fill:#4c72b0;stroke:#4c72b0;\" x=\"181.708581\" xlink:href=\"#m3c5fdccf07\" y=\"141.15973\"/>\n     <use style=\"fill:#4c72b0;stroke:#4c72b0;\" x=\"181.788974\" xlink:href=\"#m3c5fdccf07\" y=\"140.761278\"/>\n     <use style=\"fill:#4c72b0;stroke:#4c72b0;\" x=\"181.869523\" xlink:href=\"#m3c5fdccf07\" y=\"140.761278\"/>\n     <use style=\"fill:#4c72b0;stroke:#4c72b0;\" x=\"181.950231\" xlink:href=\"#m3c5fdccf07\" y=\"140.562052\"/>\n     <use style=\"fill:#4c72b0;stroke:#4c72b0;\" x=\"182.031099\" xlink:href=\"#m3c5fdccf07\" y=\"140.562052\"/>\n     <use style=\"fill:#4c72b0;stroke:#4c72b0;\" x=\"182.112128\" xlink:href=\"#m3c5fdccf07\" y=\"140.362825\"/>\n     <use style=\"fill:#4c72b0;stroke:#4c72b0;\" x=\"182.193318\" xlink:href=\"#m3c5fdccf07\" y=\"140.362825\"/>\n     <use style=\"fill:#4c72b0;stroke:#4c72b0;\" x=\"182.274671\" xlink:href=\"#m3c5fdccf07\" y=\"140.362825\"/>\n     <use style=\"fill:#4c72b0;stroke:#4c72b0;\" x=\"182.356189\" xlink:href=\"#m3c5fdccf07\" y=\"140.362825\"/>\n     <use style=\"fill:#4c72b0;stroke:#4c72b0;\" x=\"182.437872\" xlink:href=\"#m3c5fdccf07\" y=\"140.163599\"/>\n     <use style=\"fill:#4c72b0;stroke:#4c72b0;\" x=\"182.519722\" xlink:href=\"#m3c5fdccf07\" y=\"140.163599\"/>\n     <use style=\"fill:#4c72b0;stroke:#4c72b0;\" x=\"182.601739\" xlink:href=\"#m3c5fdccf07\" y=\"140.163599\"/>\n     <use style=\"fill:#4c72b0;stroke:#4c72b0;\" x=\"182.683926\" xlink:href=\"#m3c5fdccf07\" y=\"140.163599\"/>\n     <use style=\"fill:#4c72b0;stroke:#4c72b0;\" x=\"182.766282\" xlink:href=\"#m3c5fdccf07\" y=\"139.964373\"/>\n     <use style=\"fill:#4c72b0;stroke:#4c72b0;\" x=\"182.848811\" xlink:href=\"#m3c5fdccf07\" y=\"139.964373\"/>\n     <use style=\"fill:#4c72b0;stroke:#4c72b0;\" x=\"182.931512\" xlink:href=\"#m3c5fdccf07\" y=\"139.964373\"/>\n     <use style=\"fill:#4c72b0;stroke:#4c72b0;\" x=\"183.014386\" xlink:href=\"#m3c5fdccf07\" y=\"139.964373\"/>\n     <use style=\"fill:#4c72b0;stroke:#4c72b0;\" x=\"183.097437\" xlink:href=\"#m3c5fdccf07\" y=\"139.765147\"/>\n     <use style=\"fill:#4c72b0;stroke:#4c72b0;\" x=\"183.180663\" xlink:href=\"#m3c5fdccf07\" y=\"139.765147\"/>\n     <use style=\"fill:#4c72b0;stroke:#4c72b0;\" x=\"183.264068\" xlink:href=\"#m3c5fdccf07\" y=\"139.56592\"/>\n     <use style=\"fill:#4c72b0;stroke:#4c72b0;\" x=\"183.347652\" xlink:href=\"#m3c5fdccf07\" y=\"139.56592\"/>\n     <use style=\"fill:#4c72b0;stroke:#4c72b0;\" x=\"183.431416\" xlink:href=\"#m3c5fdccf07\" y=\"139.366694\"/>\n     <use style=\"fill:#4c72b0;stroke:#4c72b0;\" x=\"183.515362\" xlink:href=\"#m3c5fdccf07\" y=\"139.366694\"/>\n     <use style=\"fill:#4c72b0;stroke:#4c72b0;\" x=\"183.599491\" xlink:href=\"#m3c5fdccf07\" y=\"139.167468\"/>\n     <use style=\"fill:#4c72b0;stroke:#4c72b0;\" x=\"183.683805\" xlink:href=\"#m3c5fdccf07\" y=\"138.968242\"/>\n     <use style=\"fill:#4c72b0;stroke:#4c72b0;\" x=\"183.768305\" xlink:href=\"#m3c5fdccf07\" y=\"138.968242\"/>\n     <use style=\"fill:#4c72b0;stroke:#4c72b0;\" x=\"183.852992\" xlink:href=\"#m3c5fdccf07\" y=\"138.968242\"/>\n     <use style=\"fill:#4c72b0;stroke:#4c72b0;\" x=\"183.937868\" xlink:href=\"#m3c5fdccf07\" y=\"138.968242\"/>\n     <use style=\"fill:#4c72b0;stroke:#4c72b0;\" x=\"184.022934\" xlink:href=\"#m3c5fdccf07\" y=\"138.769015\"/>\n     <use style=\"fill:#4c72b0;stroke:#4c72b0;\" x=\"184.108191\" xlink:href=\"#m3c5fdccf07\" y=\"138.769015\"/>\n     <use style=\"fill:#4c72b0;stroke:#4c72b0;\" x=\"184.193642\" xlink:href=\"#m3c5fdccf07\" y=\"138.569789\"/>\n     <use style=\"fill:#4c72b0;stroke:#4c72b0;\" x=\"184.279287\" xlink:href=\"#m3c5fdccf07\" y=\"138.569789\"/>\n     <use style=\"fill:#4c72b0;stroke:#4c72b0;\" x=\"184.365128\" xlink:href=\"#m3c5fdccf07\" y=\"138.569789\"/>\n     <use style=\"fill:#4c72b0;stroke:#4c72b0;\" x=\"184.451167\" xlink:href=\"#m3c5fdccf07\" y=\"138.370563\"/>\n     <use style=\"fill:#4c72b0;stroke:#4c72b0;\" x=\"184.537405\" xlink:href=\"#m3c5fdccf07\" y=\"138.171337\"/>\n     <use style=\"fill:#4c72b0;stroke:#4c72b0;\" x=\"184.623843\" xlink:href=\"#m3c5fdccf07\" y=\"137.97211\"/>\n     <use style=\"fill:#4c72b0;stroke:#4c72b0;\" x=\"184.710484\" xlink:href=\"#m3c5fdccf07\" y=\"137.97211\"/>\n     <use style=\"fill:#4c72b0;stroke:#4c72b0;\" x=\"184.797328\" xlink:href=\"#m3c5fdccf07\" y=\"137.97211\"/>\n     <use style=\"fill:#4c72b0;stroke:#4c72b0;\" x=\"184.884377\" xlink:href=\"#m3c5fdccf07\" y=\"137.97211\"/>\n     <use style=\"fill:#4c72b0;stroke:#4c72b0;\" x=\"184.971633\" xlink:href=\"#m3c5fdccf07\" y=\"137.772884\"/>\n     <use style=\"fill:#4c72b0;stroke:#4c72b0;\" x=\"185.059098\" xlink:href=\"#m3c5fdccf07\" y=\"137.772884\"/>\n     <use style=\"fill:#4c72b0;stroke:#4c72b0;\" x=\"185.146773\" xlink:href=\"#m3c5fdccf07\" y=\"137.772884\"/>\n     <use style=\"fill:#4c72b0;stroke:#4c72b0;\" x=\"185.23466\" xlink:href=\"#m3c5fdccf07\" y=\"137.573658\"/>\n     <use style=\"fill:#4c72b0;stroke:#4c72b0;\" x=\"185.32276\" xlink:href=\"#m3c5fdccf07\" y=\"137.573658\"/>\n     <use style=\"fill:#4c72b0;stroke:#4c72b0;\" x=\"185.411075\" xlink:href=\"#m3c5fdccf07\" y=\"137.573658\"/>\n     <use style=\"fill:#4c72b0;stroke:#4c72b0;\" x=\"185.499608\" xlink:href=\"#m3c5fdccf07\" y=\"137.573658\"/>\n     <use style=\"fill:#4c72b0;stroke:#4c72b0;\" x=\"185.588358\" xlink:href=\"#m3c5fdccf07\" y=\"137.374432\"/>\n     <use style=\"fill:#4c72b0;stroke:#4c72b0;\" x=\"185.677329\" xlink:href=\"#m3c5fdccf07\" y=\"137.374432\"/>\n     <use style=\"fill:#4c72b0;stroke:#4c72b0;\" x=\"185.766523\" xlink:href=\"#m3c5fdccf07\" y=\"137.175205\"/>\n     <use style=\"fill:#4c72b0;stroke:#4c72b0;\" x=\"185.85594\" xlink:href=\"#m3c5fdccf07\" y=\"137.175205\"/>\n     <use style=\"fill:#4c72b0;stroke:#4c72b0;\" x=\"185.945582\" xlink:href=\"#m3c5fdccf07\" y=\"137.175205\"/>\n     <use style=\"fill:#4c72b0;stroke:#4c72b0;\" x=\"186.035453\" xlink:href=\"#m3c5fdccf07\" y=\"137.175205\"/>\n     <use style=\"fill:#4c72b0;stroke:#4c72b0;\" x=\"186.125552\" xlink:href=\"#m3c5fdccf07\" y=\"136.975979\"/>\n     <use style=\"fill:#4c72b0;stroke:#4c72b0;\" x=\"186.215883\" xlink:href=\"#m3c5fdccf07\" y=\"136.975979\"/>\n     <use style=\"fill:#4c72b0;stroke:#4c72b0;\" x=\"186.306447\" xlink:href=\"#m3c5fdccf07\" y=\"136.975979\"/>\n     <use style=\"fill:#4c72b0;stroke:#4c72b0;\" x=\"186.397246\" xlink:href=\"#m3c5fdccf07\" y=\"136.975979\"/>\n     <use style=\"fill:#4c72b0;stroke:#4c72b0;\" x=\"186.488282\" xlink:href=\"#m3c5fdccf07\" y=\"136.776753\"/>\n     <use style=\"fill:#4c72b0;stroke:#4c72b0;\" x=\"186.579557\" xlink:href=\"#m3c5fdccf07\" y=\"136.577527\"/>\n     <use style=\"fill:#4c72b0;stroke:#4c72b0;\" x=\"186.671073\" xlink:href=\"#m3c5fdccf07\" y=\"136.577527\"/>\n     <use style=\"fill:#4c72b0;stroke:#4c72b0;\" x=\"186.762832\" xlink:href=\"#m3c5fdccf07\" y=\"136.577527\"/>\n     <use style=\"fill:#4c72b0;stroke:#4c72b0;\" x=\"186.854836\" xlink:href=\"#m3c5fdccf07\" y=\"136.3783\"/>\n     <use style=\"fill:#4c72b0;stroke:#4c72b0;\" x=\"186.947087\" xlink:href=\"#m3c5fdccf07\" y=\"135.979848\"/>\n     <use style=\"fill:#4c72b0;stroke:#4c72b0;\" x=\"187.039586\" xlink:href=\"#m3c5fdccf07\" y=\"135.979848\"/>\n     <use style=\"fill:#4c72b0;stroke:#4c72b0;\" x=\"187.132337\" xlink:href=\"#m3c5fdccf07\" y=\"135.979848\"/>\n     <use style=\"fill:#4c72b0;stroke:#4c72b0;\" x=\"187.225342\" xlink:href=\"#m3c5fdccf07\" y=\"135.979848\"/>\n     <use style=\"fill:#4c72b0;stroke:#4c72b0;\" x=\"187.318602\" xlink:href=\"#m3c5fdccf07\" y=\"135.780622\"/>\n     <use style=\"fill:#4c72b0;stroke:#4c72b0;\" x=\"187.412119\" xlink:href=\"#m3c5fdccf07\" y=\"135.780622\"/>\n     <use style=\"fill:#4c72b0;stroke:#4c72b0;\" x=\"187.505897\" xlink:href=\"#m3c5fdccf07\" y=\"135.780622\"/>\n     <use style=\"fill:#4c72b0;stroke:#4c72b0;\" x=\"187.599936\" xlink:href=\"#m3c5fdccf07\" y=\"135.780622\"/>\n     <use style=\"fill:#4c72b0;stroke:#4c72b0;\" x=\"187.69424\" xlink:href=\"#m3c5fdccf07\" y=\"135.780622\"/>\n     <use style=\"fill:#4c72b0;stroke:#4c72b0;\" x=\"187.78881\" xlink:href=\"#m3c5fdccf07\" y=\"135.581395\"/>\n     <use style=\"fill:#4c72b0;stroke:#4c72b0;\" x=\"187.88365\" xlink:href=\"#m3c5fdccf07\" y=\"135.182943\"/>\n     <use style=\"fill:#4c72b0;stroke:#4c72b0;\" x=\"187.978761\" xlink:href=\"#m3c5fdccf07\" y=\"135.182943\"/>\n     <use style=\"fill:#4c72b0;stroke:#4c72b0;\" x=\"188.074145\" xlink:href=\"#m3c5fdccf07\" y=\"135.182943\"/>\n     <use style=\"fill:#4c72b0;stroke:#4c72b0;\" x=\"188.169806\" xlink:href=\"#m3c5fdccf07\" y=\"135.182943\"/>\n     <use style=\"fill:#4c72b0;stroke:#4c72b0;\" x=\"188.265745\" xlink:href=\"#m3c5fdccf07\" y=\"134.983717\"/>\n     <use style=\"fill:#4c72b0;stroke:#4c72b0;\" x=\"188.361965\" xlink:href=\"#m3c5fdccf07\" y=\"134.983717\"/>\n     <use style=\"fill:#4c72b0;stroke:#4c72b0;\" x=\"188.458468\" xlink:href=\"#m3c5fdccf07\" y=\"134.983717\"/>\n     <use style=\"fill:#4c72b0;stroke:#4c72b0;\" x=\"188.555258\" xlink:href=\"#m3c5fdccf07\" y=\"134.78449\"/>\n     <use style=\"fill:#4c72b0;stroke:#4c72b0;\" x=\"188.652336\" xlink:href=\"#m3c5fdccf07\" y=\"134.386038\"/>\n     <use style=\"fill:#4c72b0;stroke:#4c72b0;\" x=\"188.749705\" xlink:href=\"#m3c5fdccf07\" y=\"134.386038\"/>\n     <use style=\"fill:#4c72b0;stroke:#4c72b0;\" x=\"188.847369\" xlink:href=\"#m3c5fdccf07\" y=\"134.386038\"/>\n     <use style=\"fill:#4c72b0;stroke:#4c72b0;\" x=\"188.945328\" xlink:href=\"#m3c5fdccf07\" y=\"134.386038\"/>\n     <use style=\"fill:#4c72b0;stroke:#4c72b0;\" x=\"189.043587\" xlink:href=\"#m3c5fdccf07\" y=\"134.386038\"/>\n     <use style=\"fill:#4c72b0;stroke:#4c72b0;\" x=\"189.142148\" xlink:href=\"#m3c5fdccf07\" y=\"134.386038\"/>\n     <use style=\"fill:#4c72b0;stroke:#4c72b0;\" x=\"189.241014\" xlink:href=\"#m3c5fdccf07\" y=\"134.186812\"/>\n     <use style=\"fill:#4c72b0;stroke:#4c72b0;\" x=\"189.340187\" xlink:href=\"#m3c5fdccf07\" y=\"134.186812\"/>\n     <use style=\"fill:#4c72b0;stroke:#4c72b0;\" x=\"189.43967\" xlink:href=\"#m3c5fdccf07\" y=\"133.987585\"/>\n     <use style=\"fill:#4c72b0;stroke:#4c72b0;\" x=\"189.539467\" xlink:href=\"#m3c5fdccf07\" y=\"133.987585\"/>\n     <use style=\"fill:#4c72b0;stroke:#4c72b0;\" x=\"189.63958\" xlink:href=\"#m3c5fdccf07\" y=\"133.788359\"/>\n     <use style=\"fill:#4c72b0;stroke:#4c72b0;\" x=\"189.740012\" xlink:href=\"#m3c5fdccf07\" y=\"133.788359\"/>\n     <use style=\"fill:#4c72b0;stroke:#4c72b0;\" x=\"189.840766\" xlink:href=\"#m3c5fdccf07\" y=\"133.788359\"/>\n     <use style=\"fill:#4c72b0;stroke:#4c72b0;\" x=\"189.941845\" xlink:href=\"#m3c5fdccf07\" y=\"133.589133\"/>\n     <use style=\"fill:#4c72b0;stroke:#4c72b0;\" x=\"190.043253\" xlink:href=\"#m3c5fdccf07\" y=\"133.589133\"/>\n     <use style=\"fill:#4c72b0;stroke:#4c72b0;\" x=\"190.144992\" xlink:href=\"#m3c5fdccf07\" y=\"133.589133\"/>\n     <use style=\"fill:#4c72b0;stroke:#4c72b0;\" x=\"190.247066\" xlink:href=\"#m3c5fdccf07\" y=\"133.589133\"/>\n     <use style=\"fill:#4c72b0;stroke:#4c72b0;\" x=\"190.349477\" xlink:href=\"#m3c5fdccf07\" y=\"133.389907\"/>\n     <use style=\"fill:#4c72b0;stroke:#4c72b0;\" x=\"190.45223\" xlink:href=\"#m3c5fdccf07\" y=\"133.389907\"/>\n     <use style=\"fill:#4c72b0;stroke:#4c72b0;\" x=\"190.555327\" xlink:href=\"#m3c5fdccf07\" y=\"133.389907\"/>\n     <use style=\"fill:#4c72b0;stroke:#4c72b0;\" x=\"190.658772\" xlink:href=\"#m3c5fdccf07\" y=\"133.389907\"/>\n     <use style=\"fill:#4c72b0;stroke:#4c72b0;\" x=\"190.762568\" xlink:href=\"#m3c5fdccf07\" y=\"133.19068\"/>\n     <use style=\"fill:#4c72b0;stroke:#4c72b0;\" x=\"190.866718\" xlink:href=\"#m3c5fdccf07\" y=\"133.19068\"/>\n     <use style=\"fill:#4c72b0;stroke:#4c72b0;\" x=\"190.971227\" xlink:href=\"#m3c5fdccf07\" y=\"132.991454\"/>\n     <use style=\"fill:#4c72b0;stroke:#4c72b0;\" x=\"191.076098\" xlink:href=\"#m3c5fdccf07\" y=\"132.991454\"/>\n     <use style=\"fill:#4c72b0;stroke:#4c72b0;\" x=\"191.181333\" xlink:href=\"#m3c5fdccf07\" y=\"132.991454\"/>\n     <use style=\"fill:#4c72b0;stroke:#4c72b0;\" x=\"191.286938\" xlink:href=\"#m3c5fdccf07\" y=\"132.991454\"/>\n     <use style=\"fill:#4c72b0;stroke:#4c72b0;\" x=\"191.392916\" xlink:href=\"#m3c5fdccf07\" y=\"132.991454\"/>\n     <use style=\"fill:#4c72b0;stroke:#4c72b0;\" x=\"191.49927\" xlink:href=\"#m3c5fdccf07\" y=\"132.991454\"/>\n     <use style=\"fill:#4c72b0;stroke:#4c72b0;\" x=\"191.606004\" xlink:href=\"#m3c5fdccf07\" y=\"132.792228\"/>\n     <use style=\"fill:#4c72b0;stroke:#4c72b0;\" x=\"191.713123\" xlink:href=\"#m3c5fdccf07\" y=\"132.593002\"/>\n     <use style=\"fill:#4c72b0;stroke:#4c72b0;\" x=\"191.82063\" xlink:href=\"#m3c5fdccf07\" y=\"132.593002\"/>\n     <use style=\"fill:#4c72b0;stroke:#4c72b0;\" x=\"191.928529\" xlink:href=\"#m3c5fdccf07\" y=\"132.393775\"/>\n     <use style=\"fill:#4c72b0;stroke:#4c72b0;\" x=\"192.036824\" xlink:href=\"#m3c5fdccf07\" y=\"132.393775\"/>\n     <use style=\"fill:#4c72b0;stroke:#4c72b0;\" x=\"192.145519\" xlink:href=\"#m3c5fdccf07\" y=\"132.194549\"/>\n     <use style=\"fill:#4c72b0;stroke:#4c72b0;\" x=\"192.254619\" xlink:href=\"#m3c5fdccf07\" y=\"132.194549\"/>\n     <use style=\"fill:#4c72b0;stroke:#4c72b0;\" x=\"192.364128\" xlink:href=\"#m3c5fdccf07\" y=\"131.995323\"/>\n     <use style=\"fill:#4c72b0;stroke:#4c72b0;\" x=\"192.47405\" xlink:href=\"#m3c5fdccf07\" y=\"131.995323\"/>\n     <use style=\"fill:#4c72b0;stroke:#4c72b0;\" x=\"192.58439\" xlink:href=\"#m3c5fdccf07\" y=\"131.59687\"/>\n     <use style=\"fill:#4c72b0;stroke:#4c72b0;\" x=\"192.695152\" xlink:href=\"#m3c5fdccf07\" y=\"131.397644\"/>\n     <use style=\"fill:#4c72b0;stroke:#4c72b0;\" x=\"192.80634\" xlink:href=\"#m3c5fdccf07\" y=\"131.397644\"/>\n     <use style=\"fill:#4c72b0;stroke:#4c72b0;\" x=\"192.91796\" xlink:href=\"#m3c5fdccf07\" y=\"131.397644\"/>\n     <use style=\"fill:#4c72b0;stroke:#4c72b0;\" x=\"193.030015\" xlink:href=\"#m3c5fdccf07\" y=\"131.198418\"/>\n     <use style=\"fill:#4c72b0;stroke:#4c72b0;\" x=\"193.142511\" xlink:href=\"#m3c5fdccf07\" y=\"130.999192\"/>\n     <use style=\"fill:#4c72b0;stroke:#4c72b0;\" x=\"193.255452\" xlink:href=\"#m3c5fdccf07\" y=\"130.999192\"/>\n     <use style=\"fill:#4c72b0;stroke:#4c72b0;\" x=\"193.368844\" xlink:href=\"#m3c5fdccf07\" y=\"130.999192\"/>\n     <use style=\"fill:#4c72b0;stroke:#4c72b0;\" x=\"193.482691\" xlink:href=\"#m3c5fdccf07\" y=\"130.999192\"/>\n     <use style=\"fill:#4c72b0;stroke:#4c72b0;\" x=\"193.596999\" xlink:href=\"#m3c5fdccf07\" y=\"130.999192\"/>\n     <use style=\"fill:#4c72b0;stroke:#4c72b0;\" x=\"193.711772\" xlink:href=\"#m3c5fdccf07\" y=\"130.999192\"/>\n     <use style=\"fill:#4c72b0;stroke:#4c72b0;\" x=\"193.827017\" xlink:href=\"#m3c5fdccf07\" y=\"130.999192\"/>\n     <use style=\"fill:#4c72b0;stroke:#4c72b0;\" x=\"193.942737\" xlink:href=\"#m3c5fdccf07\" y=\"130.999192\"/>\n     <use style=\"fill:#4c72b0;stroke:#4c72b0;\" x=\"194.058939\" xlink:href=\"#m3c5fdccf07\" y=\"130.999192\"/>\n     <use style=\"fill:#4c72b0;stroke:#4c72b0;\" x=\"194.175628\" xlink:href=\"#m3c5fdccf07\" y=\"130.999192\"/>\n     <use style=\"fill:#4c72b0;stroke:#4c72b0;\" x=\"194.29281\" xlink:href=\"#m3c5fdccf07\" y=\"130.999192\"/>\n     <use style=\"fill:#4c72b0;stroke:#4c72b0;\" x=\"194.410491\" xlink:href=\"#m3c5fdccf07\" y=\"130.999192\"/>\n     <use style=\"fill:#4c72b0;stroke:#4c72b0;\" x=\"194.528676\" xlink:href=\"#m3c5fdccf07\" y=\"130.999192\"/>\n     <use style=\"fill:#4c72b0;stroke:#4c72b0;\" x=\"194.647371\" xlink:href=\"#m3c5fdccf07\" y=\"130.999192\"/>\n     <use style=\"fill:#4c72b0;stroke:#4c72b0;\" x=\"194.766582\" xlink:href=\"#m3c5fdccf07\" y=\"130.999192\"/>\n     <use style=\"fill:#4c72b0;stroke:#4c72b0;\" x=\"194.886316\" xlink:href=\"#m3c5fdccf07\" y=\"130.999192\"/>\n     <use style=\"fill:#4c72b0;stroke:#4c72b0;\" x=\"195.006579\" xlink:href=\"#m3c5fdccf07\" y=\"130.999192\"/>\n     <use style=\"fill:#4c72b0;stroke:#4c72b0;\" x=\"195.127376\" xlink:href=\"#m3c5fdccf07\" y=\"130.999192\"/>\n     <use style=\"fill:#4c72b0;stroke:#4c72b0;\" x=\"195.248715\" xlink:href=\"#m3c5fdccf07\" y=\"130.999192\"/>\n     <use style=\"fill:#4c72b0;stroke:#4c72b0;\" x=\"195.370602\" xlink:href=\"#m3c5fdccf07\" y=\"130.999192\"/>\n     <use style=\"fill:#4c72b0;stroke:#4c72b0;\" x=\"195.493044\" xlink:href=\"#m3c5fdccf07\" y=\"130.999192\"/>\n     <use style=\"fill:#4c72b0;stroke:#4c72b0;\" x=\"195.616048\" xlink:href=\"#m3c5fdccf07\" y=\"130.999192\"/>\n     <use style=\"fill:#4c72b0;stroke:#4c72b0;\" x=\"195.73962\" xlink:href=\"#m3c5fdccf07\" y=\"130.999192\"/>\n     <use style=\"fill:#4c72b0;stroke:#4c72b0;\" x=\"195.863767\" xlink:href=\"#m3c5fdccf07\" y=\"130.999192\"/>\n     <use style=\"fill:#4c72b0;stroke:#4c72b0;\" x=\"195.988498\" xlink:href=\"#m3c5fdccf07\" y=\"130.999192\"/>\n     <use style=\"fill:#4c72b0;stroke:#4c72b0;\" x=\"196.113818\" xlink:href=\"#m3c5fdccf07\" y=\"130.999192\"/>\n     <use style=\"fill:#4c72b0;stroke:#4c72b0;\" x=\"196.239737\" xlink:href=\"#m3c5fdccf07\" y=\"130.999192\"/>\n     <use style=\"fill:#4c72b0;stroke:#4c72b0;\" x=\"196.36626\" xlink:href=\"#m3c5fdccf07\" y=\"130.999192\"/>\n     <use style=\"fill:#4c72b0;stroke:#4c72b0;\" x=\"196.493397\" xlink:href=\"#m3c5fdccf07\" y=\"130.999192\"/>\n     <use style=\"fill:#4c72b0;stroke:#4c72b0;\" x=\"196.621155\" xlink:href=\"#m3c5fdccf07\" y=\"130.999192\"/>\n     <use style=\"fill:#4c72b0;stroke:#4c72b0;\" x=\"196.749542\" xlink:href=\"#m3c5fdccf07\" y=\"130.999192\"/>\n     <use style=\"fill:#4c72b0;stroke:#4c72b0;\" x=\"196.878566\" xlink:href=\"#m3c5fdccf07\" y=\"130.999192\"/>\n     <use style=\"fill:#4c72b0;stroke:#4c72b0;\" x=\"197.008237\" xlink:href=\"#m3c5fdccf07\" y=\"130.999192\"/>\n     <use style=\"fill:#4c72b0;stroke:#4c72b0;\" x=\"197.138561\" xlink:href=\"#m3c5fdccf07\" y=\"130.999192\"/>\n     <use style=\"fill:#4c72b0;stroke:#4c72b0;\" x=\"197.269549\" xlink:href=\"#m3c5fdccf07\" y=\"130.999192\"/>\n     <use style=\"fill:#4c72b0;stroke:#4c72b0;\" x=\"197.401209\" xlink:href=\"#m3c5fdccf07\" y=\"130.999192\"/>\n     <use style=\"fill:#4c72b0;stroke:#4c72b0;\" x=\"197.53355\" xlink:href=\"#m3c5fdccf07\" y=\"130.999192\"/>\n     <use style=\"fill:#4c72b0;stroke:#4c72b0;\" x=\"197.666582\" xlink:href=\"#m3c5fdccf07\" y=\"130.999192\"/>\n     <use style=\"fill:#4c72b0;stroke:#4c72b0;\" x=\"197.800313\" xlink:href=\"#m3c5fdccf07\" y=\"130.999192\"/>\n     <use style=\"fill:#4c72b0;stroke:#4c72b0;\" x=\"197.934755\" xlink:href=\"#m3c5fdccf07\" y=\"130.999192\"/>\n     <use style=\"fill:#4c72b0;stroke:#4c72b0;\" x=\"198.069916\" xlink:href=\"#m3c5fdccf07\" y=\"130.999192\"/>\n     <use style=\"fill:#4c72b0;stroke:#4c72b0;\" x=\"198.205806\" xlink:href=\"#m3c5fdccf07\" y=\"130.999192\"/>\n     <use style=\"fill:#4c72b0;stroke:#4c72b0;\" x=\"198.342437\" xlink:href=\"#m3c5fdccf07\" y=\"130.999192\"/>\n     <use style=\"fill:#4c72b0;stroke:#4c72b0;\" x=\"198.479818\" xlink:href=\"#m3c5fdccf07\" y=\"130.999192\"/>\n     <use style=\"fill:#4c72b0;stroke:#4c72b0;\" x=\"198.617961\" xlink:href=\"#m3c5fdccf07\" y=\"130.999192\"/>\n     <use style=\"fill:#4c72b0;stroke:#4c72b0;\" x=\"198.756876\" xlink:href=\"#m3c5fdccf07\" y=\"130.999192\"/>\n     <use style=\"fill:#4c72b0;stroke:#4c72b0;\" x=\"198.896575\" xlink:href=\"#m3c5fdccf07\" y=\"130.999192\"/>\n     <use style=\"fill:#4c72b0;stroke:#4c72b0;\" x=\"199.037069\" xlink:href=\"#m3c5fdccf07\" y=\"130.999192\"/>\n     <use style=\"fill:#4c72b0;stroke:#4c72b0;\" x=\"199.17837\" xlink:href=\"#m3c5fdccf07\" y=\"130.999192\"/>\n     <use style=\"fill:#4c72b0;stroke:#4c72b0;\" x=\"199.32049\" xlink:href=\"#m3c5fdccf07\" y=\"130.999192\"/>\n     <use style=\"fill:#4c72b0;stroke:#4c72b0;\" x=\"199.46344\" xlink:href=\"#m3c5fdccf07\" y=\"130.999192\"/>\n     <use style=\"fill:#4c72b0;stroke:#4c72b0;\" x=\"199.607235\" xlink:href=\"#m3c5fdccf07\" y=\"130.799965\"/>\n     <use style=\"fill:#4c72b0;stroke:#4c72b0;\" x=\"199.751887\" xlink:href=\"#m3c5fdccf07\" y=\"130.401513\"/>\n     <use style=\"fill:#4c72b0;stroke:#4c72b0;\" x=\"199.897408\" xlink:href=\"#m3c5fdccf07\" y=\"130.401513\"/>\n     <use style=\"fill:#4c72b0;stroke:#4c72b0;\" x=\"200.043813\" xlink:href=\"#m3c5fdccf07\" y=\"130.202287\"/>\n     <use style=\"fill:#4c72b0;stroke:#4c72b0;\" x=\"200.191115\" xlink:href=\"#m3c5fdccf07\" y=\"130.202287\"/>\n     <use style=\"fill:#4c72b0;stroke:#4c72b0;\" x=\"200.339328\" xlink:href=\"#m3c5fdccf07\" y=\"130.00306\"/>\n     <use style=\"fill:#4c72b0;stroke:#4c72b0;\" x=\"200.488467\" xlink:href=\"#m3c5fdccf07\" y=\"130.00306\"/>\n     <use style=\"fill:#4c72b0;stroke:#4c72b0;\" x=\"200.638546\" xlink:href=\"#m3c5fdccf07\" y=\"130.00306\"/>\n     <use style=\"fill:#4c72b0;stroke:#4c72b0;\" x=\"200.789581\" xlink:href=\"#m3c5fdccf07\" y=\"130.00306\"/>\n     <use style=\"fill:#4c72b0;stroke:#4c72b0;\" x=\"200.941588\" xlink:href=\"#m3c5fdccf07\" y=\"129.803834\"/>\n     <use style=\"fill:#4c72b0;stroke:#4c72b0;\" x=\"201.094581\" xlink:href=\"#m3c5fdccf07\" y=\"129.604608\"/>\n     <use style=\"fill:#4c72b0;stroke:#4c72b0;\" x=\"201.248579\" xlink:href=\"#m3c5fdccf07\" y=\"129.206155\"/>\n     <use style=\"fill:#4c72b0;stroke:#4c72b0;\" x=\"201.403596\" xlink:href=\"#m3c5fdccf07\" y=\"129.206155\"/>\n     <use style=\"fill:#4c72b0;stroke:#4c72b0;\" x=\"201.559652\" xlink:href=\"#m3c5fdccf07\" y=\"129.206155\"/>\n     <use style=\"fill:#4c72b0;stroke:#4c72b0;\" x=\"201.716762\" xlink:href=\"#m3c5fdccf07\" y=\"129.206155\"/>\n     <use style=\"fill:#4c72b0;stroke:#4c72b0;\" x=\"201.874945\" xlink:href=\"#m3c5fdccf07\" y=\"128.608477\"/>\n     <use style=\"fill:#4c72b0;stroke:#4c72b0;\" x=\"202.034221\" xlink:href=\"#m3c5fdccf07\" y=\"128.608477\"/>\n     <use style=\"fill:#4c72b0;stroke:#4c72b0;\" x=\"202.194607\" xlink:href=\"#m3c5fdccf07\" y=\"128.608477\"/>\n     <use style=\"fill:#4c72b0;stroke:#4c72b0;\" x=\"202.356124\" xlink:href=\"#m3c5fdccf07\" y=\"128.210024\"/>\n     <use style=\"fill:#4c72b0;stroke:#4c72b0;\" x=\"202.518791\" xlink:href=\"#m3c5fdccf07\" y=\"128.210024\"/>\n     <use style=\"fill:#4c72b0;stroke:#4c72b0;\" x=\"202.68263\" xlink:href=\"#m3c5fdccf07\" y=\"128.210024\"/>\n     <use style=\"fill:#4c72b0;stroke:#4c72b0;\" x=\"202.847661\" xlink:href=\"#m3c5fdccf07\" y=\"128.210024\"/>\n     <use style=\"fill:#4c72b0;stroke:#4c72b0;\" x=\"203.013906\" xlink:href=\"#m3c5fdccf07\" y=\"128.010798\"/>\n     <use style=\"fill:#4c72b0;stroke:#4c72b0;\" x=\"203.181388\" xlink:href=\"#m3c5fdccf07\" y=\"127.612345\"/>\n     <use style=\"fill:#4c72b0;stroke:#4c72b0;\" x=\"203.35013\" xlink:href=\"#m3c5fdccf07\" y=\"127.413119\"/>\n     <use style=\"fill:#4c72b0;stroke:#4c72b0;\" x=\"203.520154\" xlink:href=\"#m3c5fdccf07\" y=\"127.413119\"/>\n     <use style=\"fill:#4c72b0;stroke:#4c72b0;\" x=\"203.691487\" xlink:href=\"#m3c5fdccf07\" y=\"127.213893\"/>\n     <use style=\"fill:#4c72b0;stroke:#4c72b0;\" x=\"203.864153\" xlink:href=\"#m3c5fdccf07\" y=\"127.014667\"/>\n     <use style=\"fill:#4c72b0;stroke:#4c72b0;\" x=\"204.038177\" xlink:href=\"#m3c5fdccf07\" y=\"127.014667\"/>\n     <use style=\"fill:#4c72b0;stroke:#4c72b0;\" x=\"204.213587\" xlink:href=\"#m3c5fdccf07\" y=\"126.81544\"/>\n     <use style=\"fill:#4c72b0;stroke:#4c72b0;\" x=\"204.39041\" xlink:href=\"#m3c5fdccf07\" y=\"126.81544\"/>\n     <use style=\"fill:#4c72b0;stroke:#4c72b0;\" x=\"204.568674\" xlink:href=\"#m3c5fdccf07\" y=\"126.616214\"/>\n     <use style=\"fill:#4c72b0;stroke:#4c72b0;\" x=\"204.748408\" xlink:href=\"#m3c5fdccf07\" y=\"126.616214\"/>\n     <use style=\"fill:#4c72b0;stroke:#4c72b0;\" x=\"204.929643\" xlink:href=\"#m3c5fdccf07\" y=\"126.616214\"/>\n     <use style=\"fill:#4c72b0;stroke:#4c72b0;\" x=\"205.112408\" xlink:href=\"#m3c5fdccf07\" y=\"126.616214\"/>\n     <use style=\"fill:#4c72b0;stroke:#4c72b0;\" x=\"205.296737\" xlink:href=\"#m3c5fdccf07\" y=\"126.416988\"/>\n     <use style=\"fill:#4c72b0;stroke:#4c72b0;\" x=\"205.482663\" xlink:href=\"#m3c5fdccf07\" y=\"126.217762\"/>\n     <use style=\"fill:#4c72b0;stroke:#4c72b0;\" x=\"205.670219\" xlink:href=\"#m3c5fdccf07\" y=\"126.018535\"/>\n     <use style=\"fill:#4c72b0;stroke:#4c72b0;\" x=\"205.85944\" xlink:href=\"#m3c5fdccf07\" y=\"126.018535\"/>\n     <use style=\"fill:#4c72b0;stroke:#4c72b0;\" x=\"206.050363\" xlink:href=\"#m3c5fdccf07\" y=\"125.819309\"/>\n     <use style=\"fill:#4c72b0;stroke:#4c72b0;\" x=\"206.243026\" xlink:href=\"#m3c5fdccf07\" y=\"125.819309\"/>\n     <use style=\"fill:#4c72b0;stroke:#4c72b0;\" x=\"206.437467\" xlink:href=\"#m3c5fdccf07\" y=\"125.620083\"/>\n     <use style=\"fill:#4c72b0;stroke:#4c72b0;\" x=\"206.633728\" xlink:href=\"#m3c5fdccf07\" y=\"125.22163\"/>\n     <use style=\"fill:#4c72b0;stroke:#4c72b0;\" x=\"206.831848\" xlink:href=\"#m3c5fdccf07\" y=\"125.022404\"/>\n     <use style=\"fill:#4c72b0;stroke:#4c72b0;\" x=\"207.031872\" xlink:href=\"#m3c5fdccf07\" y=\"125.022404\"/>\n     <use style=\"fill:#4c72b0;stroke:#4c72b0;\" x=\"207.233844\" xlink:href=\"#m3c5fdccf07\" y=\"124.623952\"/>\n     <use style=\"fill:#4c72b0;stroke:#4c72b0;\" x=\"207.437811\" xlink:href=\"#m3c5fdccf07\" y=\"124.623952\"/>\n     <use style=\"fill:#4c72b0;stroke:#4c72b0;\" x=\"207.64382\" xlink:href=\"#m3c5fdccf07\" y=\"124.623952\"/>\n     <use style=\"fill:#4c72b0;stroke:#4c72b0;\" x=\"207.851921\" xlink:href=\"#m3c5fdccf07\" y=\"124.225499\"/>\n     <use style=\"fill:#4c72b0;stroke:#4c72b0;\" x=\"208.062166\" xlink:href=\"#m3c5fdccf07\" y=\"124.225499\"/>\n     <use style=\"fill:#4c72b0;stroke:#4c72b0;\" x=\"208.274608\" xlink:href=\"#m3c5fdccf07\" y=\"123.030142\"/>\n     <use style=\"fill:#4c72b0;stroke:#4c72b0;\" x=\"208.489304\" xlink:href=\"#m3c5fdccf07\" y=\"123.030142\"/>\n     <use style=\"fill:#4c72b0;stroke:#4c72b0;\" x=\"208.70631\" xlink:href=\"#m3c5fdccf07\" y=\"122.830915\"/>\n     <use style=\"fill:#4c72b0;stroke:#4c72b0;\" x=\"208.925688\" xlink:href=\"#m3c5fdccf07\" y=\"122.432463\"/>\n     <use style=\"fill:#4c72b0;stroke:#4c72b0;\" x=\"209.1475\" xlink:href=\"#m3c5fdccf07\" y=\"122.233237\"/>\n     <use style=\"fill:#4c72b0;stroke:#4c72b0;\" x=\"209.371811\" xlink:href=\"#m3c5fdccf07\" y=\"122.03401\"/>\n     <use style=\"fill:#4c72b0;stroke:#4c72b0;\" x=\"209.598689\" xlink:href=\"#m3c5fdccf07\" y=\"122.03401\"/>\n     <use style=\"fill:#4c72b0;stroke:#4c72b0;\" x=\"209.828204\" xlink:href=\"#m3c5fdccf07\" y=\"121.834784\"/>\n     <use style=\"fill:#4c72b0;stroke:#4c72b0;\" x=\"210.060431\" xlink:href=\"#m3c5fdccf07\" y=\"121.635558\"/>\n     <use style=\"fill:#4c72b0;stroke:#4c72b0;\" x=\"210.295446\" xlink:href=\"#m3c5fdccf07\" y=\"121.037879\"/>\n     <use style=\"fill:#4c72b0;stroke:#4c72b0;\" x=\"210.533331\" xlink:href=\"#m3c5fdccf07\" y=\"120.838653\"/>\n     <use style=\"fill:#4c72b0;stroke:#4c72b0;\" x=\"210.774168\" xlink:href=\"#m3c5fdccf07\" y=\"120.838653\"/>\n     <use style=\"fill:#4c72b0;stroke:#4c72b0;\" x=\"211.018045\" xlink:href=\"#m3c5fdccf07\" y=\"120.240974\"/>\n     <use style=\"fill:#4c72b0;stroke:#4c72b0;\" x=\"211.265056\" xlink:href=\"#m3c5fdccf07\" y=\"120.240974\"/>\n     <use style=\"fill:#4c72b0;stroke:#4c72b0;\" x=\"211.515295\" xlink:href=\"#m3c5fdccf07\" y=\"120.240974\"/>\n     <use style=\"fill:#4c72b0;stroke:#4c72b0;\" x=\"211.768863\" xlink:href=\"#m3c5fdccf07\" y=\"120.041748\"/>\n     <use style=\"fill:#4c72b0;stroke:#4c72b0;\" x=\"212.025866\" xlink:href=\"#m3c5fdccf07\" y=\"119.842522\"/>\n     <use style=\"fill:#4c72b0;stroke:#4c72b0;\" x=\"212.286416\" xlink:href=\"#m3c5fdccf07\" y=\"119.444069\"/>\n     <use style=\"fill:#4c72b0;stroke:#4c72b0;\" x=\"212.550628\" xlink:href=\"#m3c5fdccf07\" y=\"118.447938\"/>\n     <use style=\"fill:#4c72b0;stroke:#4c72b0;\" x=\"212.818624\" xlink:href=\"#m3c5fdccf07\" y=\"118.049485\"/>\n     <use style=\"fill:#4c72b0;stroke:#4c72b0;\" x=\"213.090535\" xlink:href=\"#m3c5fdccf07\" y=\"117.651033\"/>\n     <use style=\"fill:#4c72b0;stroke:#4c72b0;\" x=\"213.366494\" xlink:href=\"#m3c5fdccf07\" y=\"116.654902\"/>\n     <use style=\"fill:#4c72b0;stroke:#4c72b0;\" x=\"213.646646\" xlink:href=\"#m3c5fdccf07\" y=\"116.256449\"/>\n     <use style=\"fill:#4c72b0;stroke:#4c72b0;\" x=\"213.931141\" xlink:href=\"#m3c5fdccf07\" y=\"116.057223\"/>\n     <use style=\"fill:#4c72b0;stroke:#4c72b0;\" x=\"214.220139\" xlink:href=\"#m3c5fdccf07\" y=\"116.057223\"/>\n     <use style=\"fill:#4c72b0;stroke:#4c72b0;\" x=\"214.513807\" xlink:href=\"#m3c5fdccf07\" y=\"116.057223\"/>\n     <use style=\"fill:#4c72b0;stroke:#4c72b0;\" x=\"214.812324\" xlink:href=\"#m3c5fdccf07\" y=\"116.057223\"/>\n     <use style=\"fill:#4c72b0;stroke:#4c72b0;\" x=\"215.115879\" xlink:href=\"#m3c5fdccf07\" y=\"115.857997\"/>\n     <use style=\"fill:#4c72b0;stroke:#4c72b0;\" x=\"215.424672\" xlink:href=\"#m3c5fdccf07\" y=\"115.857997\"/>\n     <use style=\"fill:#4c72b0;stroke:#4c72b0;\" x=\"215.738917\" xlink:href=\"#m3c5fdccf07\" y=\"115.061092\"/>\n     <use style=\"fill:#4c72b0;stroke:#4c72b0;\" x=\"216.058839\" xlink:href=\"#m3c5fdccf07\" y=\"114.861865\"/>\n     <use style=\"fill:#4c72b0;stroke:#4c72b0;\" x=\"216.38468\" xlink:href=\"#m3c5fdccf07\" y=\"114.264187\"/>\n     <use style=\"fill:#4c72b0;stroke:#4c72b0;\" x=\"216.716697\" xlink:href=\"#m3c5fdccf07\" y=\"113.666508\"/>\n     <use style=\"fill:#4c72b0;stroke:#4c72b0;\" x=\"217.055165\" xlink:href=\"#m3c5fdccf07\" y=\"112.47115\"/>\n     <use style=\"fill:#4c72b0;stroke:#4c72b0;\" x=\"217.400377\" xlink:href=\"#m3c5fdccf07\" y=\"112.271924\"/>\n     <use style=\"fill:#4c72b0;stroke:#4c72b0;\" x=\"217.752648\" xlink:href=\"#m3c5fdccf07\" y=\"110.678114\"/>\n     <use style=\"fill:#4c72b0;stroke:#4c72b0;\" x=\"218.112317\" xlink:href=\"#m3c5fdccf07\" y=\"110.478888\"/>\n     <use style=\"fill:#4c72b0;stroke:#4c72b0;\" x=\"218.479746\" xlink:href=\"#m3c5fdccf07\" y=\"109.681983\"/>\n     <use style=\"fill:#4c72b0;stroke:#4c72b0;\" x=\"218.855327\" xlink:href=\"#m3c5fdccf07\" y=\"107.291268\"/>\n     <use style=\"fill:#4c72b0;stroke:#4c72b0;\" x=\"219.239483\" xlink:href=\"#m3c5fdccf07\" y=\"106.494363\"/>\n     <use style=\"fill:#4c72b0;stroke:#4c72b0;\" x=\"219.63267\" xlink:href=\"#m3c5fdccf07\" y=\"105.697458\"/>\n     <use style=\"fill:#4c72b0;stroke:#4c72b0;\" x=\"220.035385\" xlink:href=\"#m3c5fdccf07\" y=\"103.904422\"/>\n     <use style=\"fill:#4c72b0;stroke:#4c72b0;\" x=\"220.448164\" xlink:href=\"#m3c5fdccf07\" y=\"103.904422\"/>\n     <use style=\"fill:#4c72b0;stroke:#4c72b0;\" x=\"220.871595\" xlink:href=\"#m3c5fdccf07\" y=\"103.705195\"/>\n     <use style=\"fill:#4c72b0;stroke:#4c72b0;\" x=\"221.306317\" xlink:href=\"#m3c5fdccf07\" y=\"102.509838\"/>\n     <use style=\"fill:#4c72b0;stroke:#4c72b0;\" x=\"221.753031\" xlink:href=\"#m3c5fdccf07\" y=\"102.310612\"/>\n     <use style=\"fill:#4c72b0;stroke:#4c72b0;\" x=\"222.212508\" xlink:href=\"#m3c5fdccf07\" y=\"101.513707\"/>\n     <use style=\"fill:#4c72b0;stroke:#4c72b0;\" x=\"222.685595\" xlink:href=\"#m3c5fdccf07\" y=\"100.318349\"/>\n     <use style=\"fill:#4c72b0;stroke:#4c72b0;\" x=\"223.17323\" xlink:href=\"#m3c5fdccf07\" y=\"99.919897\"/>\n     <use style=\"fill:#4c72b0;stroke:#4c72b0;\" x=\"223.676454\" xlink:href=\"#m3c5fdccf07\" y=\"99.122992\"/>\n     <use style=\"fill:#4c72b0;stroke:#4c72b0;\" x=\"224.196424\" xlink:href=\"#m3c5fdccf07\" y=\"98.326087\"/>\n     <use style=\"fill:#4c72b0;stroke:#4c72b0;\" x=\"224.734438\" xlink:href=\"#m3c5fdccf07\" y=\"96.134598\"/>\n     <use style=\"fill:#4c72b0;stroke:#4c72b0;\" x=\"225.29195\" xlink:href=\"#m3c5fdccf07\" y=\"93.943109\"/>\n     <use style=\"fill:#4c72b0;stroke:#4c72b0;\" x=\"225.870604\" xlink:href=\"#m3c5fdccf07\" y=\"90.954715\"/>\n     <use style=\"fill:#4c72b0;stroke:#4c72b0;\" x=\"226.472267\" xlink:href=\"#m3c5fdccf07\" y=\"90.357037\"/>\n     <use style=\"fill:#4c72b0;stroke:#4c72b0;\" x=\"227.099068\" xlink:href=\"#m3c5fdccf07\" y=\"89.958584\"/>\n     <use style=\"fill:#4c72b0;stroke:#4c72b0;\" x=\"227.753454\" xlink:href=\"#m3c5fdccf07\" y=\"88.165548\"/>\n     <use style=\"fill:#4c72b0;stroke:#4c72b0;\" x=\"228.438256\" xlink:href=\"#m3c5fdccf07\" y=\"84.579475\"/>\n     <use style=\"fill:#4c72b0;stroke:#4c72b0;\" x=\"229.156776\" xlink:href=\"#m3c5fdccf07\" y=\"83.384118\"/>\n     <use style=\"fill:#4c72b0;stroke:#4c72b0;\" x=\"229.912897\" xlink:href=\"#m3c5fdccf07\" y=\"82.786439\"/>\n     <use style=\"fill:#4c72b0;stroke:#4c72b0;\" x=\"230.711229\" xlink:href=\"#m3c5fdccf07\" y=\"82.786439\"/>\n     <use style=\"fill:#4c72b0;stroke:#4c72b0;\" x=\"231.55731\" xlink:href=\"#m3c5fdccf07\" y=\"81.989534\"/>\n     <use style=\"fill:#4c72b0;stroke:#4c72b0;\" x=\"232.457867\" xlink:href=\"#m3c5fdccf07\" y=\"81.591082\"/>\n     <use style=\"fill:#4c72b0;stroke:#4c72b0;\" x=\"233.421194\" xlink:href=\"#m3c5fdccf07\" y=\"80.794177\"/>\n     <use style=\"fill:#4c72b0;stroke:#4c72b0;\" x=\"234.457687\" xlink:href=\"#m3c5fdccf07\" y=\"80.196498\"/>\n     <use style=\"fill:#4c72b0;stroke:#4c72b0;\" x=\"235.580622\" xlink:href=\"#m3c5fdccf07\" y=\"79.00114\"/>\n     <use style=\"fill:#4c72b0;stroke:#4c72b0;\" x=\"236.80735\" xlink:href=\"#m3c5fdccf07\" y=\"76.211973\"/>\n     <use style=\"fill:#4c72b0;stroke:#4c72b0;\" x=\"238.161171\" xlink:href=\"#m3c5fdccf07\" y=\"75.81352\"/>\n     <use style=\"fill:#4c72b0;stroke:#4c72b0;\" x=\"239.674455\" xlink:href=\"#m3c5fdccf07\" y=\"74.618163\"/>\n     <use style=\"fill:#4c72b0;stroke:#4c72b0;\" x=\"241.394127\" xlink:href=\"#m3c5fdccf07\" y=\"72.426674\"/>\n     <use style=\"fill:#4c72b0;stroke:#4c72b0;\" x=\"243.392097\" xlink:href=\"#m3c5fdccf07\" y=\"71.430543\"/>\n     <use style=\"fill:#4c72b0;stroke:#4c72b0;\" x=\"245.787229\" xlink:href=\"#m3c5fdccf07\" y=\"66.449887\"/>\n     <use style=\"fill:#4c72b0;stroke:#4c72b0;\" x=\"248.798789\" xlink:href=\"#m3c5fdccf07\" y=\"63.660719\"/>\n     <use style=\"fill:#4c72b0;stroke:#4c72b0;\" x=\"252.909061\" xlink:href=\"#m3c5fdccf07\" y=\"54.894764\"/>\n     <use style=\"fill:#4c72b0;stroke:#4c72b0;\" x=\"259.612033\" xlink:href=\"#m3c5fdccf07\" y=\"17.041777\"/>\n    </g>\n   </g>\n   <g id=\"line2d_12\">\n    <path clip-path=\"url(#p858c0417aa)\" d=\"M 48.530156 224.64 \nL 383.330156 7.2 \n\" style=\"fill:none;stroke:#c44e52;stroke-linecap:round;stroke-width:1.5;\"/>\n   </g>\n   <g id=\"patch_3\">\n    <path d=\"M 48.530156 224.64 \nL 48.530156 7.2 \n\" style=\"fill:none;stroke:#ffffff;stroke-linecap:square;stroke-linejoin:miter;stroke-width:1.25;\"/>\n   </g>\n   <g id=\"patch_4\">\n    <path d=\"M 383.330156 224.64 \nL 383.330156 7.2 \n\" style=\"fill:none;stroke:#ffffff;stroke-linecap:square;stroke-linejoin:miter;stroke-width:1.25;\"/>\n   </g>\n   <g id=\"patch_5\">\n    <path d=\"M 48.530156 224.64 \nL 383.330156 224.64 \n\" style=\"fill:none;stroke:#ffffff;stroke-linecap:square;stroke-linejoin:miter;stroke-width:1.25;\"/>\n   </g>\n   <g id=\"patch_6\">\n    <path d=\"M 48.530156 7.2 \nL 383.330156 7.2 \n\" style=\"fill:none;stroke:#ffffff;stroke-linecap:square;stroke-linejoin:miter;stroke-width:1.25;\"/>\n   </g>\n  </g>\n </g>\n <defs>\n  <clipPath id=\"p858c0417aa\">\n   <rect height=\"217.44\" width=\"334.8\" x=\"48.530156\" y=\"7.2\"/>\n  </clipPath>\n </defs>\n</svg>\n"
          },
          "metadata": {}
        }
      ]
    },
    {
      "cell_type": "code",
      "source": [
        "## test normality\n",
        "import statsmodels.stats.api as sms\n",
        "print(sms.diagnostic.kstest_normal(dataset))"
      ],
      "metadata": {
        "colab": {
          "base_uri": "https://localhost:8080/"
        },
        "id": "wbuLFuNO5Xv3",
        "outputId": "91fb340b-fedb-43aa-9773-b568f477ed49"
      },
      "execution_count": null,
      "outputs": [
        {
          "output_type": "stream",
          "name": "stdout",
          "text": [
            "(0.06025284796347252, 9.612695166855956e-13)\n"
          ]
        }
      ]
    },
    {
      "cell_type": "markdown",
      "source": [
        "##### Conclusion on Normality Test\n",
        "\n",
        "Since the data points on the QQ plot deviate from the red line and in the KS test we have a small p-value we reject the Ho hypothesis that the distribution from which this data came from is normal"
      ],
      "metadata": {
        "id": "XtbTAD3n6g4v"
      }
    },
    {
      "cell_type": "markdown",
      "source": [
        "#### (e) Choose a reasonable binary treatment variable. \n",
        "\n",
        "We want to study its effect on the continuous outcome variable. What is the mean outcome when the binary treatment variable is 0 and 1,\n",
        "respectively? Use the Student’s t-test to give a 95% confidence interval for the difference in\n",
        "these mean outcomes. Choose a test statistic and use a permutation test to report a p-value\n",
        "for the hypothesis that this binary treatment variable has a non-zero effect on the outcome.\n",
        "Explain how you chose the test statistic. What can you conclude based on the obtained p-value?\n",
        "Note: If you do not have a suitable choice of a binary treatment variable in your dataset, create\n",
        "your own from a continuous treatment variable (for example, 1 if your continuous treatment\n",
        "variable exceeds a fixed threshold, and 0 otherwise)."
      ],
      "metadata": {
        "id": "DKb6xzes7Q1Z"
      }
    },
    {
      "cell_type": "markdown",
      "source": [
        "##### Choosing a Binary Treatment Variable\n",
        "\n",
        "We decided to partition the data based on if the school is Private (True-1) or Public (False-0)"
      ],
      "metadata": {
        "id": "ZhVWvCDP8Pfw"
      }
    },
    {
      "cell_type": "code",
      "source": [
        "X_train['School Type'] = X_train.CONTROL > 1\n",
        "X_train['School Type'].astype('int')\n",
        "df = pd.concat([X_train, y_train], axis=1)\n",
        "priv_mean = df['Median Salary 1+'][df['School Type']==1].mean()\n",
        "pub_mean = df['Median Salary 1+'][df['School Type']==0].mean()\n",
        "print('Private School Average Median Earnings', df['Median Salary 1+'][df['School Type']==1].mean())\n",
        "print('Public School Average Medain Earnings', df['Median Salary 1+'][df['School Type']==0].mean())"
      ],
      "metadata": {
        "colab": {
          "base_uri": "https://localhost:8080/"
        },
        "id": "N-V3apoL5oHy",
        "outputId": "0b668e25-c855-4a9b-f920-acd4035bb47f"
      },
      "execution_count": null,
      "outputs": [
        {
          "output_type": "stream",
          "name": "stdout",
          "text": [
            "Private School Average Median Earnings 41620.29136316337\n",
            "Public School Average Medain Earnings 41152.142857142855\n"
          ]
        }
      ]
    },
    {
      "cell_type": "markdown",
      "source": [
        "##### Perform Student T Test on Difference of Means for this Binary Treatment"
      ],
      "metadata": {
        "id": "vJueAGv48Wn0"
      }
    },
    {
      "cell_type": "code",
      "source": [
        "# T test (assume equal variance)\n",
        "# T test\n",
        "cm = sms.CompareMeans(\n",
        "    sms.DescrStatsW(df['Median Salary 1+'][df['School Type']==1]),\n",
        "    sms.DescrStatsW(df['Median Salary 1+'][df['School Type']==0])\n",
        ")\n",
        "print('95pct t-test CI (equal vars):', cm.tconfint_diff())\n",
        "print('95pct t-test CI (Welch\\'s):', cm.tconfint_diff(usevar='unequal'))\n",
        "cm.summary()"
      ],
      "metadata": {
        "colab": {
          "base_uri": "https://localhost:8080/",
          "height": 114
        },
        "id": "kICJp9RE8T0M",
        "outputId": "6058f60d-9888-4c2e-d40f-5f680906f975"
      },
      "execution_count": null,
      "outputs": [
        {
          "output_type": "stream",
          "name": "stdout",
          "text": [
            "95pct t-test CI (equal vars): (-747.6839277627469, 1683.9809398037787)\n",
            "95pct t-test CI (Welch's): (-595.9837765966345, 1532.2807886376663)\n"
          ]
        },
        {
          "output_type": "execute_result",
          "data": {
            "text/html": [
              "<table class=\"simpletable\">\n",
              "<caption>Test for equality of means</caption>\n",
              "<tr>\n",
              "      <td></td>         <th>coef</th>     <th>std err</th>      <th>t</th>      <th>P>|t|</th>  <th>[0.025</th>    <th>0.975]</th>  \n",
              "</tr>\n",
              "<tr>\n",
              "  <th>subset #1</th> <td>  468.1485</td> <td>  619.790</td> <td>    0.755</td> <td> 0.450</td> <td> -747.684</td> <td> 1683.981</td>\n",
              "</tr>\n",
              "</table>"
            ],
            "text/plain": [
              "<class 'statsmodels.iolib.table.SimpleTable'>"
            ]
          },
          "metadata": {},
          "execution_count": 12
        }
      ]
    },
    {
      "cell_type": "markdown",
      "source": [
        "##### Perform Permutation Test on Difference of Means for this Binary Treatment"
      ],
      "metadata": {
        "id": "2sAIMLzY8gnc"
      }
    },
    {
      "cell_type": "code",
      "source": [
        "y = np.array(df['Median Salary 1+'])\n",
        "t = np.array(df['School Type']).astype('bool')\n",
        "np.random.shuffle(t)\n",
        "delta = y.dot(t)/t.sum() - y.dot(~t)/(~t).sum()\n",
        "thetahat_fn = lambda y,t: np.mean(y[t==1])-np.mean(y[t==0])\n",
        "thetahat = thetahat_fn(y,t)\n",
        "B = 10000\n",
        "permutations = np.zeros(B)\n",
        "for i in range(B):\n",
        "    np.random.shuffle(t)\n",
        "    permutations[i] = thetahat_fn(y,t)\n",
        "hist(permutations)\n",
        "axvline(x=thetahat)\n",
        "print('permutation pval =',(1.+(np.abs(permutations)>=np.abs(thetahat)).sum())/(B+1.))"
      ],
      "metadata": {
        "colab": {
          "base_uri": "https://localhost:8080/",
          "height": 374
        },
        "id": "4YZGoC877b9S",
        "outputId": "51e57392-ae21-4b9e-b251-f99e25258c4d"
      },
      "execution_count": null,
      "outputs": [
        {
          "output_type": "stream",
          "name": "stdout",
          "text": [
            "permutation pval = 0.27747225277472254\n"
          ]
        },
        {
          "output_type": "display_data",
          "data": {
            "text/plain": [
              "<Figure size 432x288 with 1 Axes>"
            ],
            "image/svg+xml": "<?xml version=\"1.0\" encoding=\"utf-8\" standalone=\"no\"?>\n<!DOCTYPE svg PUBLIC \"-//W3C//DTD SVG 1.1//EN\"\n  \"http://www.w3.org/Graphics/SVG/1.1/DTD/svg11.dtd\">\n<!-- Created with matplotlib (https://matplotlib.org/) -->\n<svg height=\"251.985937pt\" version=\"1.1\" viewBox=\"0 0 386.695 251.985937\" width=\"386.695pt\" xmlns=\"http://www.w3.org/2000/svg\" xmlns:xlink=\"http://www.w3.org/1999/xlink\">\n <defs>\n  <style type=\"text/css\">\n*{stroke-linecap:butt;stroke-linejoin:round;}\n  </style>\n </defs>\n <g id=\"figure_1\">\n  <g id=\"patch_1\">\n   <path d=\"M 0 251.985937 \nL 386.695 251.985937 \nL 386.695 0 \nL 0 0 \nz\n\" style=\"fill:#ffffff;\"/>\n  </g>\n  <g id=\"axes_1\">\n   <g id=\"patch_2\">\n    <path d=\"M 44.695 224.64 \nL 379.495 224.64 \nL 379.495 7.2 \nL 44.695 7.2 \nz\n\" style=\"fill:#eaeaf2;\"/>\n   </g>\n   <g id=\"matplotlib.axis_1\">\n    <g id=\"xtick_1\">\n     <g id=\"line2d_1\">\n      <path clip-path=\"url(#p15424e68ce)\" d=\"M 87.236277 224.64 \nL 87.236277 7.2 \n\" style=\"fill:none;stroke:#ffffff;stroke-linecap:round;\"/>\n     </g>\n     <g id=\"text_1\">\n      <!-- −2000 -->\n      <defs>\n       <path d=\"M 10.59375 35.5 \nL 73.1875 35.5 \nL 73.1875 27.203125 \nL 10.59375 27.203125 \nz\n\" id=\"DejaVuSans-8722\"/>\n       <path d=\"M 19.1875 8.296875 \nL 53.609375 8.296875 \nL 53.609375 0 \nL 7.328125 0 \nL 7.328125 8.296875 \nQ 12.9375 14.109375 22.625 23.890625 \nQ 32.328125 33.6875 34.8125 36.53125 \nQ 39.546875 41.84375 41.421875 45.53125 \nQ 43.3125 49.21875 43.3125 52.78125 \nQ 43.3125 58.59375 39.234375 62.25 \nQ 35.15625 65.921875 28.609375 65.921875 \nQ 23.96875 65.921875 18.8125 64.3125 \nQ 13.671875 62.703125 7.8125 59.421875 \nL 7.8125 69.390625 \nQ 13.765625 71.78125 18.9375 73 \nQ 24.125 74.21875 28.421875 74.21875 \nQ 39.75 74.21875 46.484375 68.546875 \nQ 53.21875 62.890625 53.21875 53.421875 \nQ 53.21875 48.921875 51.53125 44.890625 \nQ 49.859375 40.875 45.40625 35.40625 \nQ 44.1875 33.984375 37.640625 27.21875 \nQ 31.109375 20.453125 19.1875 8.296875 \nz\n\" id=\"DejaVuSans-50\"/>\n       <path d=\"M 31.78125 66.40625 \nQ 24.171875 66.40625 20.328125 58.90625 \nQ 16.5 51.421875 16.5 36.375 \nQ 16.5 21.390625 20.328125 13.890625 \nQ 24.171875 6.390625 31.78125 6.390625 \nQ 39.453125 6.390625 43.28125 13.890625 \nQ 47.125 21.390625 47.125 36.375 \nQ 47.125 51.421875 43.28125 58.90625 \nQ 39.453125 66.40625 31.78125 66.40625 \nz\nM 31.78125 74.21875 \nQ 44.046875 74.21875 50.515625 64.515625 \nQ 56.984375 54.828125 56.984375 36.375 \nQ 56.984375 17.96875 50.515625 8.265625 \nQ 44.046875 -1.421875 31.78125 -1.421875 \nQ 19.53125 -1.421875 13.0625 8.265625 \nQ 6.59375 17.96875 6.59375 36.375 \nQ 6.59375 54.828125 13.0625 64.515625 \nQ 19.53125 74.21875 31.78125 74.21875 \nz\n\" id=\"DejaVuSans-48\"/>\n      </defs>\n      <g style=\"fill:#262626;\" transform=\"translate(68.629949 242.498281)scale(0.11 -0.11)\">\n       <use xlink:href=\"#DejaVuSans-8722\"/>\n       <use x=\"83.789062\" xlink:href=\"#DejaVuSans-50\"/>\n       <use x=\"147.412109\" xlink:href=\"#DejaVuSans-48\"/>\n       <use x=\"211.035156\" xlink:href=\"#DejaVuSans-48\"/>\n       <use x=\"274.658203\" xlink:href=\"#DejaVuSans-48\"/>\n      </g>\n     </g>\n    </g>\n    <g id=\"xtick_2\">\n     <g id=\"line2d_2\">\n      <path clip-path=\"url(#p15424e68ce)\" d=\"M 152.243064 224.64 \nL 152.243064 7.2 \n\" style=\"fill:none;stroke:#ffffff;stroke-linecap:round;\"/>\n     </g>\n     <g id=\"text_2\">\n      <!-- −1000 -->\n      <defs>\n       <path d=\"M 12.40625 8.296875 \nL 28.515625 8.296875 \nL 28.515625 63.921875 \nL 10.984375 60.40625 \nL 10.984375 69.390625 \nL 28.421875 72.90625 \nL 38.28125 72.90625 \nL 38.28125 8.296875 \nL 54.390625 8.296875 \nL 54.390625 0 \nL 12.40625 0 \nz\n\" id=\"DejaVuSans-49\"/>\n      </defs>\n      <g style=\"fill:#262626;\" transform=\"translate(133.636736 242.498281)scale(0.11 -0.11)\">\n       <use xlink:href=\"#DejaVuSans-8722\"/>\n       <use x=\"83.789062\" xlink:href=\"#DejaVuSans-49\"/>\n       <use x=\"147.412109\" xlink:href=\"#DejaVuSans-48\"/>\n       <use x=\"211.035156\" xlink:href=\"#DejaVuSans-48\"/>\n       <use x=\"274.658203\" xlink:href=\"#DejaVuSans-48\"/>\n      </g>\n     </g>\n    </g>\n    <g id=\"xtick_3\">\n     <g id=\"line2d_3\">\n      <path clip-path=\"url(#p15424e68ce)\" d=\"M 217.24985 224.64 \nL 217.24985 7.2 \n\" style=\"fill:none;stroke:#ffffff;stroke-linecap:round;\"/>\n     </g>\n     <g id=\"text_3\">\n      <!-- 0 -->\n      <g style=\"fill:#262626;\" transform=\"translate(213.750475 242.498281)scale(0.11 -0.11)\">\n       <use xlink:href=\"#DejaVuSans-48\"/>\n      </g>\n     </g>\n    </g>\n    <g id=\"xtick_4\">\n     <g id=\"line2d_4\">\n      <path clip-path=\"url(#p15424e68ce)\" d=\"M 282.256637 224.64 \nL 282.256637 7.2 \n\" style=\"fill:none;stroke:#ffffff;stroke-linecap:round;\"/>\n     </g>\n     <g id=\"text_4\">\n      <!-- 1000 -->\n      <g style=\"fill:#262626;\" transform=\"translate(268.259137 242.498281)scale(0.11 -0.11)\">\n       <use xlink:href=\"#DejaVuSans-49\"/>\n       <use x=\"63.623047\" xlink:href=\"#DejaVuSans-48\"/>\n       <use x=\"127.246094\" xlink:href=\"#DejaVuSans-48\"/>\n       <use x=\"190.869141\" xlink:href=\"#DejaVuSans-48\"/>\n      </g>\n     </g>\n    </g>\n    <g id=\"xtick_5\">\n     <g id=\"line2d_5\">\n      <path clip-path=\"url(#p15424e68ce)\" d=\"M 347.263423 224.64 \nL 347.263423 7.2 \n\" style=\"fill:none;stroke:#ffffff;stroke-linecap:round;\"/>\n     </g>\n     <g id=\"text_5\">\n      <!-- 2000 -->\n      <g style=\"fill:#262626;\" transform=\"translate(333.265923 242.498281)scale(0.11 -0.11)\">\n       <use xlink:href=\"#DejaVuSans-50\"/>\n       <use x=\"63.623047\" xlink:href=\"#DejaVuSans-48\"/>\n       <use x=\"127.246094\" xlink:href=\"#DejaVuSans-48\"/>\n       <use x=\"190.869141\" xlink:href=\"#DejaVuSans-48\"/>\n      </g>\n     </g>\n    </g>\n   </g>\n   <g id=\"matplotlib.axis_2\">\n    <g id=\"ytick_1\">\n     <g id=\"line2d_6\">\n      <path clip-path=\"url(#p15424e68ce)\" d=\"M 44.695 224.64 \nL 379.495 224.64 \n\" style=\"fill:none;stroke:#ffffff;stroke-linecap:round;\"/>\n     </g>\n     <g id=\"text_6\">\n      <!-- 0 -->\n      <g style=\"fill:#262626;\" transform=\"translate(28.19625 228.819141)scale(0.11 -0.11)\">\n       <use xlink:href=\"#DejaVuSans-48\"/>\n      </g>\n     </g>\n    </g>\n    <g id=\"ytick_2\">\n     <g id=\"line2d_7\">\n      <path clip-path=\"url(#p15424e68ce)\" d=\"M 44.695 187.514558 \nL 379.495 187.514558 \n\" style=\"fill:none;stroke:#ffffff;stroke-linecap:round;\"/>\n     </g>\n     <g id=\"text_7\">\n      <!-- 500 -->\n      <defs>\n       <path d=\"M 10.796875 72.90625 \nL 49.515625 72.90625 \nL 49.515625 64.59375 \nL 19.828125 64.59375 \nL 19.828125 46.734375 \nQ 21.96875 47.46875 24.109375 47.828125 \nQ 26.265625 48.1875 28.421875 48.1875 \nQ 40.625 48.1875 47.75 41.5 \nQ 54.890625 34.8125 54.890625 23.390625 \nQ 54.890625 11.625 47.5625 5.09375 \nQ 40.234375 -1.421875 26.90625 -1.421875 \nQ 22.3125 -1.421875 17.546875 -0.640625 \nQ 12.796875 0.140625 7.71875 1.703125 \nL 7.71875 11.625 \nQ 12.109375 9.234375 16.796875 8.0625 \nQ 21.484375 6.890625 26.703125 6.890625 \nQ 35.15625 6.890625 40.078125 11.328125 \nQ 45.015625 15.765625 45.015625 23.390625 \nQ 45.015625 31 40.078125 35.4375 \nQ 35.15625 39.890625 26.703125 39.890625 \nQ 22.75 39.890625 18.8125 39.015625 \nQ 14.890625 38.140625 10.796875 36.28125 \nz\n\" id=\"DejaVuSans-53\"/>\n      </defs>\n      <g style=\"fill:#262626;\" transform=\"translate(14.19875 191.693699)scale(0.11 -0.11)\">\n       <use xlink:href=\"#DejaVuSans-53\"/>\n       <use x=\"63.623047\" xlink:href=\"#DejaVuSans-48\"/>\n       <use x=\"127.246094\" xlink:href=\"#DejaVuSans-48\"/>\n      </g>\n     </g>\n    </g>\n    <g id=\"ytick_3\">\n     <g id=\"line2d_8\">\n      <path clip-path=\"url(#p15424e68ce)\" d=\"M 44.695 150.389116 \nL 379.495 150.389116 \n\" style=\"fill:none;stroke:#ffffff;stroke-linecap:round;\"/>\n     </g>\n     <g id=\"text_8\">\n      <!-- 1000 -->\n      <g style=\"fill:#262626;\" transform=\"translate(7.2 154.568257)scale(0.11 -0.11)\">\n       <use xlink:href=\"#DejaVuSans-49\"/>\n       <use x=\"63.623047\" xlink:href=\"#DejaVuSans-48\"/>\n       <use x=\"127.246094\" xlink:href=\"#DejaVuSans-48\"/>\n       <use x=\"190.869141\" xlink:href=\"#DejaVuSans-48\"/>\n      </g>\n     </g>\n    </g>\n    <g id=\"ytick_4\">\n     <g id=\"line2d_9\">\n      <path clip-path=\"url(#p15424e68ce)\" d=\"M 44.695 113.263675 \nL 379.495 113.263675 \n\" style=\"fill:none;stroke:#ffffff;stroke-linecap:round;\"/>\n     </g>\n     <g id=\"text_9\">\n      <!-- 1500 -->\n      <g style=\"fill:#262626;\" transform=\"translate(7.2 117.442815)scale(0.11 -0.11)\">\n       <use xlink:href=\"#DejaVuSans-49\"/>\n       <use x=\"63.623047\" xlink:href=\"#DejaVuSans-53\"/>\n       <use x=\"127.246094\" xlink:href=\"#DejaVuSans-48\"/>\n       <use x=\"190.869141\" xlink:href=\"#DejaVuSans-48\"/>\n      </g>\n     </g>\n    </g>\n    <g id=\"ytick_5\">\n     <g id=\"line2d_10\">\n      <path clip-path=\"url(#p15424e68ce)\" d=\"M 44.695 76.138233 \nL 379.495 76.138233 \n\" style=\"fill:none;stroke:#ffffff;stroke-linecap:round;\"/>\n     </g>\n     <g id=\"text_10\">\n      <!-- 2000 -->\n      <g style=\"fill:#262626;\" transform=\"translate(7.2 80.317373)scale(0.11 -0.11)\">\n       <use xlink:href=\"#DejaVuSans-50\"/>\n       <use x=\"63.623047\" xlink:href=\"#DejaVuSans-48\"/>\n       <use x=\"127.246094\" xlink:href=\"#DejaVuSans-48\"/>\n       <use x=\"190.869141\" xlink:href=\"#DejaVuSans-48\"/>\n      </g>\n     </g>\n    </g>\n    <g id=\"ytick_6\">\n     <g id=\"line2d_11\">\n      <path clip-path=\"url(#p15424e68ce)\" d=\"M 44.695 39.012791 \nL 379.495 39.012791 \n\" style=\"fill:none;stroke:#ffffff;stroke-linecap:round;\"/>\n     </g>\n     <g id=\"text_11\">\n      <!-- 2500 -->\n      <g style=\"fill:#262626;\" transform=\"translate(7.2 43.191932)scale(0.11 -0.11)\">\n       <use xlink:href=\"#DejaVuSans-50\"/>\n       <use x=\"63.623047\" xlink:href=\"#DejaVuSans-53\"/>\n       <use x=\"127.246094\" xlink:href=\"#DejaVuSans-48\"/>\n       <use x=\"190.869141\" xlink:href=\"#DejaVuSans-48\"/>\n      </g>\n     </g>\n    </g>\n   </g>\n   <g id=\"patch_3\">\n    <path clip-path=\"url(#p15424e68ce)\" d=\"M 59.913182 224.64 \nL 90.349545 224.64 \nL 90.349545 223.82324 \nL 59.913182 223.82324 \nz\n\" style=\"fill:#4c72b0;stroke:#ffffff;stroke-linejoin:miter;\"/>\n   </g>\n   <g id=\"patch_4\">\n    <path clip-path=\"url(#p15424e68ce)\" d=\"M 90.349545 224.64 \nL 120.785909 224.64 \nL 120.785909 219.219685 \nL 90.349545 219.219685 \nz\n\" style=\"fill:#4c72b0;stroke:#ffffff;stroke-linejoin:miter;\"/>\n   </g>\n   <g id=\"patch_5\">\n    <path clip-path=\"url(#p15424e68ce)\" d=\"M 120.785909 224.64 \nL 151.222273 224.64 \nL 151.222273 191.89536 \nL 120.785909 191.89536 \nz\n\" style=\"fill:#4c72b0;stroke:#ffffff;stroke-linejoin:miter;\"/>\n   </g>\n   <g id=\"patch_6\">\n    <path clip-path=\"url(#p15424e68ce)\" d=\"M 151.222273 224.64 \nL 181.658636 224.64 \nL 181.658636 120.614512 \nL 151.222273 120.614512 \nz\n\" style=\"fill:#4c72b0;stroke:#ffffff;stroke-linejoin:miter;\"/>\n   </g>\n   <g id=\"patch_7\">\n    <path clip-path=\"url(#p15424e68ce)\" d=\"M 181.658636 224.64 \nL 212.095 224.64 \nL 212.095 32.701466 \nL 181.658636 32.701466 \nz\n\" style=\"fill:#4c72b0;stroke:#ffffff;stroke-linejoin:miter;\"/>\n   </g>\n   <g id=\"patch_8\">\n    <path clip-path=\"url(#p15424e68ce)\" d=\"M 212.095 224.64 \nL 242.531364 224.64 \nL 242.531364 17.554286 \nL 212.095 17.554286 \nz\n\" style=\"fill:#4c72b0;stroke:#ffffff;stroke-linejoin:miter;\"/>\n   </g>\n   <g id=\"patch_9\">\n    <path clip-path=\"url(#p15424e68ce)\" d=\"M 242.531364 224.64 \nL 272.967727 224.64 \nL 272.967727 86.384855 \nL 242.531364 86.384855 \nz\n\" style=\"fill:#4c72b0;stroke:#ffffff;stroke-linejoin:miter;\"/>\n   </g>\n   <g id=\"patch_10\">\n    <path clip-path=\"url(#p15424e68ce)\" d=\"M 272.967727 224.64 \nL 303.404091 224.64 \nL 303.404091 176.154173 \nL 272.967727 176.154173 \nz\n\" style=\"fill:#4c72b0;stroke:#ffffff;stroke-linejoin:miter;\"/>\n   </g>\n   <g id=\"patch_11\">\n    <path clip-path=\"url(#p15424e68ce)\" d=\"M 303.404091 224.64 \nL 333.840455 224.64 \nL 333.840455 211.794597 \nL 303.404091 211.794597 \nz\n\" style=\"fill:#4c72b0;stroke:#ffffff;stroke-linejoin:miter;\"/>\n   </g>\n   <g id=\"patch_12\">\n    <path clip-path=\"url(#p15424e68ce)\" d=\"M 333.840455 224.64 \nL 364.276818 224.64 \nL 364.276818 223.748989 \nL 333.840455 223.748989 \nz\n\" style=\"fill:#4c72b0;stroke:#ffffff;stroke-linejoin:miter;\"/>\n   </g>\n   <g id=\"line2d_12\">\n    <path clip-path=\"url(#p15424e68ce)\" d=\"M 173.215459 224.64 \nL 173.215459 7.2 \n\" style=\"fill:none;stroke:#4c72b0;stroke-linecap:round;stroke-width:1.5;\"/>\n   </g>\n   <g id=\"patch_13\">\n    <path d=\"M 44.695 224.64 \nL 44.695 7.2 \n\" style=\"fill:none;stroke:#ffffff;stroke-linecap:square;stroke-linejoin:miter;stroke-width:1.25;\"/>\n   </g>\n   <g id=\"patch_14\">\n    <path d=\"M 379.495 224.64 \nL 379.495 7.2 \n\" style=\"fill:none;stroke:#ffffff;stroke-linecap:square;stroke-linejoin:miter;stroke-width:1.25;\"/>\n   </g>\n   <g id=\"patch_15\">\n    <path d=\"M 44.695 224.64 \nL 379.495 224.64 \n\" style=\"fill:none;stroke:#ffffff;stroke-linecap:square;stroke-linejoin:miter;stroke-width:1.25;\"/>\n   </g>\n   <g id=\"patch_16\">\n    <path d=\"M 44.695 7.2 \nL 379.495 7.2 \n\" style=\"fill:none;stroke:#ffffff;stroke-linecap:square;stroke-linejoin:miter;stroke-width:1.25;\"/>\n   </g>\n  </g>\n </g>\n <defs>\n  <clipPath id=\"p15424e68ce\">\n   <rect height=\"217.44\" width=\"334.8\" x=\"44.695\" y=\"7.2\"/>\n  </clipPath>\n </defs>\n</svg>\n"
          },
          "metadata": {}
        }
      ]
    },
    {
      "cell_type": "markdown",
      "source": [
        "##### What can you conclude based on the obtained p-value?\n",
        "\n",
        "Based on the student t-test we obtained a p-value of 0.450 which is larger than our alpha 0.05 indicating that the mean difference (Private - Public Earnings) between private and public median earnings is not significant. We fail to reject the null hypothesis that the median earning difference is 0. Our CI for the t-test is (-747.68, 1683.98) saying that 95% of time the median earning difference is -$747 to $1683 and the interval also contains 0 reinforcing our hypothesis test. When assuming non-equal variance we get a similar CI (-595.98, 1532.28) by the Welches t-test.\n",
        "\n",
        "Based on the permutation test we shuffled the public private treatment and measure the difference in median earnings. Since the p-value for our experiment is 0.2 which is greater than 0.05 we fail to reject the null hypothesis that the public and private earnings come from the same distribution. We do not have sufficient evidence that they come from different distributions (see histogram above). "
      ],
      "metadata": {
        "id": "-okDsrDlAmfa"
      }
    },
    {
      "cell_type": "markdown",
      "source": [
        "#### (f) Can you interpret your answer to part (e) causally? Why or why not?\n",
        "\n",
        "No because we didnt assume ignorability in the dataset. There could be unexplained reasons why median earnings are the same between public and private schools in the US.\n"
      ],
      "metadata": {
        "id": "wLQjtqcU7x61"
      }
    },
    {
      "cell_type": "markdown",
      "source": [
        "# 2 Investigating relationships"
      ],
      "metadata": {
        "id": "pllMm-a5DdY0"
      }
    },
    {
      "cell_type": "markdown",
      "source": [
        "#### (a) For each treatment variable, run a simple regression against your outcome variables and report p-values for the slopes. What do you observe? Compare your results to question 2(g) from mini-project: part 1. Do higher estimated correlations always correspond to smaller p-values?\n"
      ],
      "metadata": {
        "id": "UzffTM0uoBXH"
      }
    },
    {
      "cell_type": "code",
      "source": [
        "import statsmodels.stats.api as sms\n",
        "import statsmodels.api as sm\n",
        "import statsmodels.formula.api as smf"
      ],
      "metadata": {
        "id": "5J4-fjF771nH"
      },
      "execution_count": null,
      "outputs": []
    },
    {
      "cell_type": "code",
      "source": [
        "features = \"+\".join(X_train.columns[1:16])\n",
        "topfeatures = ['SAT_AVG', 'UGDS_ASIAN', 'RET_FT4', 'Tuition', 'UGDS_2MOR']\n",
        "df = df.rename(columns={\"Median Salary 1+\": 'Salary', 'Graduation Rate Over 50%':'GraduationRate'})"
      ],
      "metadata": {
        "id": "uHn0Okh_owW1"
      },
      "execution_count": null,
      "outputs": []
    },
    {
      "cell_type": "code",
      "source": [
        "pvals = []\n",
        "for feature in topfeatures:\n",
        "  formula =  'Salary ~ ' + feature \n",
        "  lm = smf.ols(formula, data=df).fit()\n",
        "  print(feature, 'pvalue', lm.pvalues[1])\n",
        "  pvals.append([feature, lm.pvalues[1]])\n",
        "\n",
        "pvals.sort(key=lambda x:x[1])"
      ],
      "metadata": {
        "colab": {
          "base_uri": "https://localhost:8080/"
        },
        "id": "ezX8tOqGoa4l",
        "outputId": "5c290cda-85a2-4aa2-a7f0-27744ec892f0"
      },
      "execution_count": null,
      "outputs": [
        {
          "output_type": "stream",
          "name": "stdout",
          "text": [
            "SAT_AVG pvalue 2.336278151351579e-90\n",
            "UGDS_ASIAN pvalue 4.546258422106183e-71\n",
            "RET_FT4 pvalue 6.077665228951527e-50\n",
            "Tuition pvalue 1.3564360867430298e-33\n",
            "UGDS_2MOR pvalue 6.831902577305637e-12\n"
          ]
        }
      ]
    },
    {
      "cell_type": "markdown",
      "source": [
        "#### Do higher estimated correlations always correspond to smaller p-values?\n",
        "\n",
        "Yes from part 2G we had the top 5 correlated covariates as 'SAT_AVG', 'UGDS_ASIAN', 'RET_FT4', 'Tuition', 'UGDS_2MOR'. When finding the p-value, the order stays the same in lowest p-value and significance."
      ],
      "metadata": {
        "id": "J2Ac2ZJmtzyq"
      }
    },
    {
      "cell_type": "markdown",
      "source": [
        "#### (b) Fit a linear regression model with all treatment variables against your continuous outcome variable. \n"
      ],
      "metadata": {
        "id": "rytE6IVHuM2E"
      }
    },
    {
      "cell_type": "code",
      "source": [
        "topfeatures = ['SAT_AVG', 'UGDS_ASIAN', 'RET_FT4', 'Tuition', 'UGDS_2MOR', 'PCTPELL', 'UGDS_BLACK','PCTFLOAN','UGDS_HISP','UGDS_AIAN']\n",
        "formula = 'Salary ~' + \"+\".join(topfeatures)\n",
        "lm = smf.ols(formula, data=df).fit()\n",
        "lm.pvalues = lm.pvalues[lm.pvalues < 0.05]\n",
        "sigOLS = list(lm.pvalues.index)\n",
        "lm.summary()"
      ],
      "metadata": {
        "colab": {
          "base_uri": "https://localhost:8080/",
          "height": 678
        },
        "id": "YX0RktX5uaCR",
        "outputId": "27282897-e5c5-4c14-a5e9-37c84c8ea766"
      },
      "execution_count": null,
      "outputs": [
        {
          "output_type": "execute_result",
          "data": {
            "text/plain": [
              "<class 'statsmodels.iolib.summary.Summary'>\n",
              "\"\"\"\n",
              "                            OLS Regression Results                            \n",
              "==============================================================================\n",
              "Dep. Variable:                 Salary   R-squared:                       0.482\n",
              "Model:                            OLS   Adj. R-squared:                  0.479\n",
              "Method:                 Least Squares   F-statistic:                     127.6\n",
              "Date:                Thu, 17 Mar 2022   Prob (F-statistic):          7.24e-188\n",
              "Time:                        15:51:02   Log-Likelihood:                -14304.\n",
              "No. Observations:                1381   AIC:                         2.863e+04\n",
              "Df Residuals:                    1370   BIC:                         2.869e+04\n",
              "Df Model:                          10                                         \n",
              "Covariance Type:            nonrobust                                         \n",
              "==============================================================================\n",
              "                 coef    std err          t      P>|t|      [0.025      0.975]\n",
              "------------------------------------------------------------------------------\n",
              "Intercept   2.727e+04   3175.276      8.590      0.000     2.1e+04    3.35e+04\n",
              "SAT_AVG       24.6568      2.439     10.109      0.000      19.872      29.442\n",
              "UGDS_ASIAN  6.354e+04   4429.004     14.346      0.000    5.48e+04    7.22e+04\n",
              "RET_FT4    -9057.2612   1992.767     -4.545      0.000    -1.3e+04   -5148.055\n",
              "Tuition       -0.0069      0.037     -0.190      0.849      -0.079       0.065\n",
              "UGDS_2MOR  -1.928e+04   9987.602     -1.930      0.054   -3.89e+04     314.577\n",
              "PCTPELL    -3.506e+04   2110.760    -16.610      0.000   -3.92e+04   -3.09e+04\n",
              "UGDS_BLACK  8856.9704   1402.541      6.315      0.000    6105.609    1.16e+04\n",
              "PCTFLOAN    8618.3923   1581.864      5.448      0.000    5515.254    1.17e+04\n",
              "UGDS_HISP   5506.3415   1653.432      3.330      0.001    2262.808    8749.875\n",
              "UGDS_AIAN  -3943.8268   5490.186     -0.718      0.473   -1.47e+04    6826.254\n",
              "==============================================================================\n",
              "Omnibus:                      280.865   Durbin-Watson:                   1.987\n",
              "Prob(Omnibus):                  0.000   Jarque-Bera (JB):             1007.346\n",
              "Skew:                           0.962   Prob(JB):                    1.81e-219\n",
              "Kurtosis:                       6.716   Cond. No.                     9.94e+05\n",
              "==============================================================================\n",
              "\n",
              "Warnings:\n",
              "[1] Standard Errors assume that the covariance matrix of the errors is correctly specified.\n",
              "[2] The condition number is large, 9.94e+05. This might indicate that there are\n",
              "strong multicollinearity or other numerical problems.\n",
              "\"\"\""
            ],
            "text/html": [
              "<table class=\"simpletable\">\n",
              "<caption>OLS Regression Results</caption>\n",
              "<tr>\n",
              "  <th>Dep. Variable:</th>         <td>Salary</td>      <th>  R-squared:         </th> <td>   0.482</td> \n",
              "</tr>\n",
              "<tr>\n",
              "  <th>Model:</th>                   <td>OLS</td>       <th>  Adj. R-squared:    </th> <td>   0.479</td> \n",
              "</tr>\n",
              "<tr>\n",
              "  <th>Method:</th>             <td>Least Squares</td>  <th>  F-statistic:       </th> <td>   127.6</td> \n",
              "</tr>\n",
              "<tr>\n",
              "  <th>Date:</th>             <td>Thu, 17 Mar 2022</td> <th>  Prob (F-statistic):</th> <td>7.24e-188</td>\n",
              "</tr>\n",
              "<tr>\n",
              "  <th>Time:</th>                 <td>15:51:02</td>     <th>  Log-Likelihood:    </th> <td> -14304.</td> \n",
              "</tr>\n",
              "<tr>\n",
              "  <th>No. Observations:</th>      <td>  1381</td>      <th>  AIC:               </th> <td>2.863e+04</td>\n",
              "</tr>\n",
              "<tr>\n",
              "  <th>Df Residuals:</th>          <td>  1370</td>      <th>  BIC:               </th> <td>2.869e+04</td>\n",
              "</tr>\n",
              "<tr>\n",
              "  <th>Df Model:</th>              <td>    10</td>      <th>                     </th>     <td> </td>    \n",
              "</tr>\n",
              "<tr>\n",
              "  <th>Covariance Type:</th>      <td>nonrobust</td>    <th>                     </th>     <td> </td>    \n",
              "</tr>\n",
              "</table>\n",
              "<table class=\"simpletable\">\n",
              "<tr>\n",
              "       <td></td>         <th>coef</th>     <th>std err</th>      <th>t</th>      <th>P>|t|</th>  <th>[0.025</th>    <th>0.975]</th>  \n",
              "</tr>\n",
              "<tr>\n",
              "  <th>Intercept</th>  <td> 2.727e+04</td> <td> 3175.276</td> <td>    8.590</td> <td> 0.000</td> <td>  2.1e+04</td> <td> 3.35e+04</td>\n",
              "</tr>\n",
              "<tr>\n",
              "  <th>SAT_AVG</th>    <td>   24.6568</td> <td>    2.439</td> <td>   10.109</td> <td> 0.000</td> <td>   19.872</td> <td>   29.442</td>\n",
              "</tr>\n",
              "<tr>\n",
              "  <th>UGDS_ASIAN</th> <td> 6.354e+04</td> <td> 4429.004</td> <td>   14.346</td> <td> 0.000</td> <td> 5.48e+04</td> <td> 7.22e+04</td>\n",
              "</tr>\n",
              "<tr>\n",
              "  <th>RET_FT4</th>    <td>-9057.2612</td> <td> 1992.767</td> <td>   -4.545</td> <td> 0.000</td> <td> -1.3e+04</td> <td>-5148.055</td>\n",
              "</tr>\n",
              "<tr>\n",
              "  <th>Tuition</th>    <td>   -0.0069</td> <td>    0.037</td> <td>   -0.190</td> <td> 0.849</td> <td>   -0.079</td> <td>    0.065</td>\n",
              "</tr>\n",
              "<tr>\n",
              "  <th>UGDS_2MOR</th>  <td>-1.928e+04</td> <td> 9987.602</td> <td>   -1.930</td> <td> 0.054</td> <td>-3.89e+04</td> <td>  314.577</td>\n",
              "</tr>\n",
              "<tr>\n",
              "  <th>PCTPELL</th>    <td>-3.506e+04</td> <td> 2110.760</td> <td>  -16.610</td> <td> 0.000</td> <td>-3.92e+04</td> <td>-3.09e+04</td>\n",
              "</tr>\n",
              "<tr>\n",
              "  <th>UGDS_BLACK</th> <td> 8856.9704</td> <td> 1402.541</td> <td>    6.315</td> <td> 0.000</td> <td> 6105.609</td> <td> 1.16e+04</td>\n",
              "</tr>\n",
              "<tr>\n",
              "  <th>PCTFLOAN</th>   <td> 8618.3923</td> <td> 1581.864</td> <td>    5.448</td> <td> 0.000</td> <td> 5515.254</td> <td> 1.17e+04</td>\n",
              "</tr>\n",
              "<tr>\n",
              "  <th>UGDS_HISP</th>  <td> 5506.3415</td> <td> 1653.432</td> <td>    3.330</td> <td> 0.001</td> <td> 2262.808</td> <td> 8749.875</td>\n",
              "</tr>\n",
              "<tr>\n",
              "  <th>UGDS_AIAN</th>  <td>-3943.8268</td> <td> 5490.186</td> <td>   -0.718</td> <td> 0.473</td> <td>-1.47e+04</td> <td> 6826.254</td>\n",
              "</tr>\n",
              "</table>\n",
              "<table class=\"simpletable\">\n",
              "<tr>\n",
              "  <th>Omnibus:</th>       <td>280.865</td> <th>  Durbin-Watson:     </th> <td>   1.987</td> \n",
              "</tr>\n",
              "<tr>\n",
              "  <th>Prob(Omnibus):</th> <td> 0.000</td>  <th>  Jarque-Bera (JB):  </th> <td>1007.346</td> \n",
              "</tr>\n",
              "<tr>\n",
              "  <th>Skew:</th>          <td> 0.962</td>  <th>  Prob(JB):          </th> <td>1.81e-219</td>\n",
              "</tr>\n",
              "<tr>\n",
              "  <th>Kurtosis:</th>      <td> 6.716</td>  <th>  Cond. No.          </th> <td>9.94e+05</td> \n",
              "</tr>\n",
              "</table><br/><br/>Warnings:<br/>[1] Standard Errors assume that the covariance matrix of the errors is correctly specified.<br/>[2] The condition number is large, 9.94e+05. This might indicate that there are<br/>strong multicollinearity or other numerical problems."
            ]
          },
          "metadata": {},
          "execution_count": 8
        }
      ]
    },
    {
      "cell_type": "markdown",
      "source": [
        "#### (b) Fit a logistic regression model with all treatment variables against your binary outcome variable."
      ],
      "metadata": {
        "id": "gGqbwSXnuUun"
      }
    },
    {
      "cell_type": "code",
      "source": [
        "topfeatures = ['SAT_AVG', 'UGDS_ASIAN', 'RET_FT4', 'Tuition', 'UGDS_2MOR', 'PCTPELL', 'UGDS_BLACK','PCTFLOAN','UGDS_HISP','UGDS_AIAN']\n",
        "formula = 'GraduationRate~' + \"+\".join(topfeatures)\n",
        "lm_logistic = smf.logit(formula, data=df).fit()\n",
        "lm_logistic.pvalues = lm_logistic.pvalues[lm_logistic.pvalues < 0.05]\n",
        "sigLog = list(lm_logistic.pvalues.index)\n",
        "lm_logistic.summary()"
      ],
      "metadata": {
        "colab": {
          "base_uri": "https://localhost:8080/",
          "height": 496
        },
        "id": "DhyI6lxQuTmj",
        "outputId": "e3da102a-d3d3-472b-ed98-734794271bb9"
      },
      "execution_count": null,
      "outputs": [
        {
          "output_type": "stream",
          "name": "stdout",
          "text": [
            "Optimization terminated successfully.\n",
            "         Current function value: 0.314476\n",
            "         Iterations 8\n"
          ]
        },
        {
          "output_type": "execute_result",
          "data": {
            "text/plain": [
              "<class 'statsmodels.iolib.summary.Summary'>\n",
              "\"\"\"\n",
              "                           Logit Regression Results                           \n",
              "==============================================================================\n",
              "Dep. Variable:         GraduationRate   No. Observations:                 1381\n",
              "Model:                          Logit   Df Residuals:                     1370\n",
              "Method:                           MLE   Df Model:                           10\n",
              "Date:                Thu, 17 Mar 2022   Pseudo R-squ.:                  0.5463\n",
              "Time:                        15:51:10   Log-Likelihood:                -434.29\n",
              "converged:                       True   LL-Null:                       -957.23\n",
              "Covariance Type:            nonrobust   LLR p-value:                2.433e-218\n",
              "==============================================================================\n",
              "                 coef    std err          z      P>|z|      [0.025      0.975]\n",
              "------------------------------------------------------------------------------\n",
              "Intercept    -19.2186      1.742    -11.030      0.000     -22.634     -15.804\n",
              "SAT_AVG        0.0078      0.001      5.459      0.000       0.005       0.011\n",
              "UGDS_ASIAN     0.5519      1.960      0.282      0.778      -3.290       4.394\n",
              "RET_FT4       15.1648      1.309     11.585      0.000      12.599      17.730\n",
              "Tuition     5.839e-05   1.61e-05      3.621      0.000    2.68e-05       9e-05\n",
              "UGDS_2MOR    -14.0397      4.678     -3.001      0.003     -23.209      -4.871\n",
              "PCTPELL       -4.9628      0.884     -5.611      0.000      -6.696      -3.229\n",
              "UGDS_BLACK    -1.4259      0.772     -1.846      0.065      -2.940       0.088\n",
              "PCTFLOAN       2.7849      0.687      4.054      0.000       1.439       4.131\n",
              "UGDS_HISP     -2.2521      0.878     -2.566      0.010      -3.973      -0.532\n",
              "UGDS_AIAN    -20.2007      9.765     -2.069      0.039     -39.339      -1.062\n",
              "==============================================================================\n",
              "\"\"\""
            ],
            "text/html": [
              "<table class=\"simpletable\">\n",
              "<caption>Logit Regression Results</caption>\n",
              "<tr>\n",
              "  <th>Dep. Variable:</th>    <td>GraduationRate</td>  <th>  No. Observations:  </th>   <td>  1381</td>  \n",
              "</tr>\n",
              "<tr>\n",
              "  <th>Model:</th>                 <td>Logit</td>      <th>  Df Residuals:      </th>   <td>  1370</td>  \n",
              "</tr>\n",
              "<tr>\n",
              "  <th>Method:</th>                 <td>MLE</td>       <th>  Df Model:          </th>   <td>    10</td>  \n",
              "</tr>\n",
              "<tr>\n",
              "  <th>Date:</th>            <td>Thu, 17 Mar 2022</td> <th>  Pseudo R-squ.:     </th>   <td>0.5463</td>  \n",
              "</tr>\n",
              "<tr>\n",
              "  <th>Time:</th>                <td>15:51:10</td>     <th>  Log-Likelihood:    </th>  <td> -434.29</td> \n",
              "</tr>\n",
              "<tr>\n",
              "  <th>converged:</th>             <td>True</td>       <th>  LL-Null:           </th>  <td> -957.23</td> \n",
              "</tr>\n",
              "<tr>\n",
              "  <th>Covariance Type:</th>     <td>nonrobust</td>    <th>  LLR p-value:       </th> <td>2.433e-218</td>\n",
              "</tr>\n",
              "</table>\n",
              "<table class=\"simpletable\">\n",
              "<tr>\n",
              "       <td></td>         <th>coef</th>     <th>std err</th>      <th>z</th>      <th>P>|z|</th>  <th>[0.025</th>    <th>0.975]</th>  \n",
              "</tr>\n",
              "<tr>\n",
              "  <th>Intercept</th>  <td>  -19.2186</td> <td>    1.742</td> <td>  -11.030</td> <td> 0.000</td> <td>  -22.634</td> <td>  -15.804</td>\n",
              "</tr>\n",
              "<tr>\n",
              "  <th>SAT_AVG</th>    <td>    0.0078</td> <td>    0.001</td> <td>    5.459</td> <td> 0.000</td> <td>    0.005</td> <td>    0.011</td>\n",
              "</tr>\n",
              "<tr>\n",
              "  <th>UGDS_ASIAN</th> <td>    0.5519</td> <td>    1.960</td> <td>    0.282</td> <td> 0.778</td> <td>   -3.290</td> <td>    4.394</td>\n",
              "</tr>\n",
              "<tr>\n",
              "  <th>RET_FT4</th>    <td>   15.1648</td> <td>    1.309</td> <td>   11.585</td> <td> 0.000</td> <td>   12.599</td> <td>   17.730</td>\n",
              "</tr>\n",
              "<tr>\n",
              "  <th>Tuition</th>    <td> 5.839e-05</td> <td> 1.61e-05</td> <td>    3.621</td> <td> 0.000</td> <td> 2.68e-05</td> <td>    9e-05</td>\n",
              "</tr>\n",
              "<tr>\n",
              "  <th>UGDS_2MOR</th>  <td>  -14.0397</td> <td>    4.678</td> <td>   -3.001</td> <td> 0.003</td> <td>  -23.209</td> <td>   -4.871</td>\n",
              "</tr>\n",
              "<tr>\n",
              "  <th>PCTPELL</th>    <td>   -4.9628</td> <td>    0.884</td> <td>   -5.611</td> <td> 0.000</td> <td>   -6.696</td> <td>   -3.229</td>\n",
              "</tr>\n",
              "<tr>\n",
              "  <th>UGDS_BLACK</th> <td>   -1.4259</td> <td>    0.772</td> <td>   -1.846</td> <td> 0.065</td> <td>   -2.940</td> <td>    0.088</td>\n",
              "</tr>\n",
              "<tr>\n",
              "  <th>PCTFLOAN</th>   <td>    2.7849</td> <td>    0.687</td> <td>    4.054</td> <td> 0.000</td> <td>    1.439</td> <td>    4.131</td>\n",
              "</tr>\n",
              "<tr>\n",
              "  <th>UGDS_HISP</th>  <td>   -2.2521</td> <td>    0.878</td> <td>   -2.566</td> <td> 0.010</td> <td>   -3.973</td> <td>   -0.532</td>\n",
              "</tr>\n",
              "<tr>\n",
              "  <th>UGDS_AIAN</th>  <td>  -20.2007</td> <td>    9.765</td> <td>   -2.069</td> <td> 0.039</td> <td>  -39.339</td> <td>   -1.062</td>\n",
              "</tr>\n",
              "</table>"
            ]
          },
          "metadata": {},
          "execution_count": 9
        }
      ]
    },
    {
      "cell_type": "markdown",
      "source": [
        "#### (c) For your linear regression model, look at which coefficients are significant in the output accordingto StatsModels. Describe what statistical significance means for these coefficients. Do you believe the results? Why or why not? Compare your results to part (a). Are there variables that now appear more or less relevant?\n"
      ],
      "metadata": {
        "id": "ItjNJFYsvj-J"
      }
    },
    {
      "cell_type": "code",
      "source": [
        "print('Significant Covariates from OLS', sigOLS)\n",
        "print('Significant Covariates from Logistic', sigLog)"
      ],
      "metadata": {
        "colab": {
          "base_uri": "https://localhost:8080/"
        },
        "id": "7nCBOC-SpNZu",
        "outputId": "fdd6077e-b14c-45fb-ca9a-771bcb95d2b2"
      },
      "execution_count": null,
      "outputs": [
        {
          "output_type": "stream",
          "name": "stdout",
          "text": [
            "Significant Covariates from OLS ['Intercept', 'SAT_AVG', 'UGDS_ASIAN', 'RET_FT4', 'PCTPELL', 'UGDS_BLACK', 'PCTFLOAN', 'UGDS_HISP']\n",
            "Significant Covariates from Logistic ['Intercept', 'SAT_AVG', 'RET_FT4', 'Tuition', 'UGDS_2MOR', 'PCTPELL', 'PCTFLOAN', 'UGDS_HISP', 'UGDS_AIAN']\n"
          ]
        }
      ]
    },
    {
      "cell_type": "markdown",
      "source": [
        "##### Explanation\n",
        "For the linear regression model SAT_AVG, UGDS_ASIAN, RET_FT4, UGDS_BLACK, PCTFLOAN, UGDS_HISP, and PCTPELL are significant because their p-values are less than 0.05 indicating that they did not come from the distribution of the null hypothesis. This means that one unit change in the variable will yield the coefficient value change in median earnings. For example, a one unit increase in SAT_AVG will increase median earnings by 24 dollars. We do not believe all of these results make sense. For example, a one unit change in retention percentage decreases the median earnings by about 9000 dollars. Comparing our results to part a, tuition and undergrad percentage of 2 or more races was not found significant this time when adding more covariates. SAT average and undergrad asian percentage were still the most relevant variables while retention rate is not relevant anymore because it's coefficient is abnormal.\n",
        "\n"
      ],
      "metadata": {
        "id": "VWpKXXqxvqVq"
      }
    },
    {
      "cell_type": "markdown",
      "source": [
        "#### (d) Comment on potential problems with your analysis on multiple hypothesis testing. Suggest how applying the Bonferroni correction would change your interpretation of significant coefficients.\n",
        "\n",
        "Since we are doing multiple hypothesis testing simultaneously, the more likely erroneous inferences become. Typically we would need a stricter significance level. The Holm-Bonferroni correction controls the family-wise error rate by adjusting the rejection criteria for each of the individual hypotheses. \n"
      ],
      "metadata": {
        "id": "vv-X6yrZxg3Y"
      }
    },
    {
      "cell_type": "markdown",
      "source": [
        "#### (e) For the relationships that you found significant in part (c), would you be willing to interpret them as causal relationships? If not, why not? What other covariates do you think might be confounding your ability to infer causal relationships? Are there variables you would like to remove from the regression, e.g., post-treatment variables? Do your best in including or excluding variables to arrive at the most causally sound conclusions. Explain your thought process – what did you do and why?\n",
        "\n",
        "For the relationships we found significant we would not interpret them as casual because we are not comparing like to like schools based on the difficulty to get in. SAT average and percentage of asian students are confounding variables that are colinear to median earings. To combat this collinearity, we stratified schools by their sat average and then ran the OLS with asian percentage to get the true causal relatinships between asian percentage and median earnings (about 8000 dollars). We excluded the other variables because they were erroneous. "
      ],
      "metadata": {
        "id": "YhhtPZtexm5G"
      }
    },
    {
      "cell_type": "code",
      "source": [
        "%pylab\n",
        "%matplotlib inline\n",
        "%config InlineBackend.figure_format = 'svg'\n",
        "import seaborn as sns\n",
        "\n",
        "# Stratifying data into high and low sat avg\n",
        "high_sat = df[df.SAT_AVG > 1100]\n",
        "low_sat = df[df.SAT_AVG <= 1100]\n",
        "\n",
        "# running ols with high sat avg \n",
        "topfeatures = ['UGDS_ASIAN']\n",
        "formula = 'Salary ~' + \"+\".join(topfeatures)\n",
        "lm = smf.ols(formula, data=high_sat).fit()\n",
        "lm.pvalues = lm.pvalues[lm.pvalues < 0.05]\n",
        "sigOLS = list(lm.pvalues.index)\n",
        "lm.summary()"
      ],
      "metadata": {
        "colab": {
          "base_uri": "https://localhost:8080/",
          "height": 486
        },
        "id": "CjwNAvvPk5wH",
        "outputId": "6987947e-943e-4762-f683-622c17986cc5"
      },
      "execution_count": null,
      "outputs": [
        {
          "output_type": "stream",
          "name": "stdout",
          "text": [
            "Using matplotlib backend: agg\n",
            "Populating the interactive namespace from numpy and matplotlib\n"
          ]
        },
        {
          "output_type": "execute_result",
          "data": {
            "text/plain": [
              "<class 'statsmodels.iolib.summary.Summary'>\n",
              "\"\"\"\n",
              "                            OLS Regression Results                            \n",
              "==============================================================================\n",
              "Dep. Variable:                 Salary   R-squared:                       0.248\n",
              "Model:                            OLS   Adj. R-squared:                  0.246\n",
              "Method:                 Least Squares   F-statistic:                     116.4\n",
              "Date:                Thu, 17 Mar 2022   Prob (F-statistic):           1.20e-23\n",
              "Time:                        16:06:53   Log-Likelihood:                -3774.7\n",
              "No. Observations:                 355   AIC:                             7553.\n",
              "Df Residuals:                     353   BIC:                             7561.\n",
              "Df Model:                           1                                         \n",
              "Covariance Type:            nonrobust                                         \n",
              "==============================================================================\n",
              "                 coef    std err          t      P>|t|      [0.025      0.975]\n",
              "------------------------------------------------------------------------------\n",
              "Intercept   4.365e+04    734.415     59.439      0.000    4.22e+04    4.51e+04\n",
              "UGDS_ASIAN  7.945e+04   7363.658     10.790      0.000     6.5e+04    9.39e+04\n",
              "==============================================================================\n",
              "Omnibus:                       73.216   Durbin-Watson:                   2.145\n",
              "Prob(Omnibus):                  0.000   Jarque-Bera (JB):              232.279\n",
              "Skew:                           0.908   Prob(JB):                     3.64e-51\n",
              "Kurtosis:                       6.522   Cond. No.                         13.8\n",
              "==============================================================================\n",
              "\n",
              "Warnings:\n",
              "[1] Standard Errors assume that the covariance matrix of the errors is correctly specified.\n",
              "\"\"\""
            ],
            "text/html": [
              "<table class=\"simpletable\">\n",
              "<caption>OLS Regression Results</caption>\n",
              "<tr>\n",
              "  <th>Dep. Variable:</th>         <td>Salary</td>      <th>  R-squared:         </th> <td>   0.248</td>\n",
              "</tr>\n",
              "<tr>\n",
              "  <th>Model:</th>                   <td>OLS</td>       <th>  Adj. R-squared:    </th> <td>   0.246</td>\n",
              "</tr>\n",
              "<tr>\n",
              "  <th>Method:</th>             <td>Least Squares</td>  <th>  F-statistic:       </th> <td>   116.4</td>\n",
              "</tr>\n",
              "<tr>\n",
              "  <th>Date:</th>             <td>Thu, 17 Mar 2022</td> <th>  Prob (F-statistic):</th> <td>1.20e-23</td>\n",
              "</tr>\n",
              "<tr>\n",
              "  <th>Time:</th>                 <td>16:06:53</td>     <th>  Log-Likelihood:    </th> <td> -3774.7</td>\n",
              "</tr>\n",
              "<tr>\n",
              "  <th>No. Observations:</th>      <td>   355</td>      <th>  AIC:               </th> <td>   7553.</td>\n",
              "</tr>\n",
              "<tr>\n",
              "  <th>Df Residuals:</th>          <td>   353</td>      <th>  BIC:               </th> <td>   7561.</td>\n",
              "</tr>\n",
              "<tr>\n",
              "  <th>Df Model:</th>              <td>     1</td>      <th>                     </th>     <td> </td>   \n",
              "</tr>\n",
              "<tr>\n",
              "  <th>Covariance Type:</th>      <td>nonrobust</td>    <th>                     </th>     <td> </td>   \n",
              "</tr>\n",
              "</table>\n",
              "<table class=\"simpletable\">\n",
              "<tr>\n",
              "       <td></td>         <th>coef</th>     <th>std err</th>      <th>t</th>      <th>P>|t|</th>  <th>[0.025</th>    <th>0.975]</th>  \n",
              "</tr>\n",
              "<tr>\n",
              "  <th>Intercept</th>  <td> 4.365e+04</td> <td>  734.415</td> <td>   59.439</td> <td> 0.000</td> <td> 4.22e+04</td> <td> 4.51e+04</td>\n",
              "</tr>\n",
              "<tr>\n",
              "  <th>UGDS_ASIAN</th> <td> 7.945e+04</td> <td> 7363.658</td> <td>   10.790</td> <td> 0.000</td> <td>  6.5e+04</td> <td> 9.39e+04</td>\n",
              "</tr>\n",
              "</table>\n",
              "<table class=\"simpletable\">\n",
              "<tr>\n",
              "  <th>Omnibus:</th>       <td>73.216</td> <th>  Durbin-Watson:     </th> <td>   2.145</td>\n",
              "</tr>\n",
              "<tr>\n",
              "  <th>Prob(Omnibus):</th> <td> 0.000</td> <th>  Jarque-Bera (JB):  </th> <td> 232.279</td>\n",
              "</tr>\n",
              "<tr>\n",
              "  <th>Skew:</th>          <td> 0.908</td> <th>  Prob(JB):          </th> <td>3.64e-51</td>\n",
              "</tr>\n",
              "<tr>\n",
              "  <th>Kurtosis:</th>      <td> 6.522</td> <th>  Cond. No.          </th> <td>    13.8</td>\n",
              "</tr>\n",
              "</table><br/><br/>Warnings:<br/>[1] Standard Errors assume that the covariance matrix of the errors is correctly specified."
            ]
          },
          "metadata": {},
          "execution_count": 22
        }
      ]
    },
    {
      "cell_type": "markdown",
      "source": [
        "#### (f) Repeat parts (c) and (e) for your logistic regression model."
      ],
      "metadata": {
        "id": "MHGm_1_jxsWD"
      }
    },
    {
      "cell_type": "markdown",
      "source": [
        "### For your logistic regression model, look at which coefficients are significant in the output accordingto StatsModels. Describe what statistical significance means for these coefficients. Do you believe the results? Why or why not? Compare your results to part (a). Are there variables that now appear more or less relevant?\n",
        "\n",
        "\n",
        "For the logit regression model 'SAT_AVG', 'RET_FT4', 'Tuition', 'UGDS_2MOR', 'PCTPELL', 'PCTFLOAN', 'UGDS_HISP', 'UGDS_AIAN are significant because their p-values are less than 0.05 indicating that they did not come from the distribution of the null hypothesis. This means that one unit change in the variable will yield the log odds ratio of graduation rate. For example, a one unit increase in SAT_AVG will increase coefficient for graduation rate by e^(.0078) 1.0 which indicates a 0% increase in odds of higher graduation rate. We do not believe all of these results make sense. Comparing our results to part a, undergraduate asian percentage was not found significant. Undergraduate black percentage was one of the most relevant variables because the odds ratio suggest the graduation rate is decreased by 80% while retention rate is not relevant anymore because it's odds ratio is 3,269,017 and abnormal. \n"
      ],
      "metadata": {
        "id": "Z-jkyuTHyBuA"
      }
    },
    {
      "cell_type": "markdown",
      "source": [
        "#### For the relationships that you found significant in part (c), would you be willing to interpret them as causal relationships? If not, why not? What other covariates do you think might be confounding your ability to infer causal relationships? Are there variables you would like to remove from the regression, e.g., post-treatment variables? Do your best in including or excluding variables to arrive at the most causally sound conclusions. Explain your thought process – what did you do and why?\n",
        "\n",
        "For the relationships we found significant we would not interpret them as casual because we are not comparing like to like school demographics. Student Loan percentage and percentage of black students are confounding variables that are colinear to graduation rate. To combat this collinearity, we stratified schools by their percentage of black of students and then ran the logistic regression with percentage of student loans to get the true causal relatinships between percentage of student loans and the odds graduation rate decreased by 78%. This causal relationship shows systemic bias in the education system.\n",
        "\n"
      ],
      "metadata": {
        "id": "lnASOVrEyItW"
      }
    },
    {
      "cell_type": "code",
      "source": [
        "# Stratifying data into high and low sat avg\n",
        "high_blackPct = df[df.UGDS_BLACK > 0.5]\n",
        "low_blackPct = df[df.UGDS_BLACK <= 0.5]\n",
        "topfeatures = ['PCTFLOAN']\n",
        "formula = 'GraduationRate~' + \"+\".join(topfeatures)\n",
        "lm_logistic = smf.logit(formula, data=df).fit()\n",
        "lm_logistic.pvalues = lm_logistic.pvalues[lm_logistic.pvalues < 0.05]\n",
        "sigLog = list(lm_logistic.pvalues.index)\n",
        "lm_logistic.summary()"
      ],
      "metadata": {
        "colab": {
          "base_uri": "https://localhost:8080/",
          "height": 304
        },
        "id": "HxqNwCENt4WM",
        "outputId": "63919db3-3aa3-49e7-9faa-94d16f356a55"
      },
      "execution_count": null,
      "outputs": [
        {
          "output_type": "stream",
          "name": "stdout",
          "text": [
            "Optimization terminated successfully.\n",
            "         Current function value: 0.683995\n",
            "         Iterations 4\n"
          ]
        },
        {
          "output_type": "execute_result",
          "data": {
            "text/plain": [
              "<class 'statsmodels.iolib.summary.Summary'>\n",
              "\"\"\"\n",
              "                           Logit Regression Results                           \n",
              "==============================================================================\n",
              "Dep. Variable:         GraduationRate   No. Observations:                 1381\n",
              "Model:                          Logit   Df Residuals:                     1379\n",
              "Method:                           MLE   Df Model:                            1\n",
              "Date:                Thu, 17 Mar 2022   Pseudo R-squ.:                 0.01320\n",
              "Time:                        16:35:02   Log-Likelihood:                -944.60\n",
              "converged:                       True   LL-Null:                       -957.23\n",
              "Covariance Type:            nonrobust   LLR p-value:                 4.982e-07\n",
              "==============================================================================\n",
              "                 coef    std err          z      P>|z|      [0.025      0.975]\n",
              "------------------------------------------------------------------------------\n",
              "Intercept      0.9374      0.198      4.723      0.000       0.548       1.326\n",
              "PCTFLOAN      -1.5414      0.312     -4.945      0.000      -2.152      -0.930\n",
              "==============================================================================\n",
              "\"\"\""
            ],
            "text/html": [
              "<table class=\"simpletable\">\n",
              "<caption>Logit Regression Results</caption>\n",
              "<tr>\n",
              "  <th>Dep. Variable:</th>    <td>GraduationRate</td>  <th>  No. Observations:  </th>  <td>  1381</td>  \n",
              "</tr>\n",
              "<tr>\n",
              "  <th>Model:</th>                 <td>Logit</td>      <th>  Df Residuals:      </th>  <td>  1379</td>  \n",
              "</tr>\n",
              "<tr>\n",
              "  <th>Method:</th>                 <td>MLE</td>       <th>  Df Model:          </th>  <td>     1</td>  \n",
              "</tr>\n",
              "<tr>\n",
              "  <th>Date:</th>            <td>Thu, 17 Mar 2022</td> <th>  Pseudo R-squ.:     </th>  <td>0.01320</td> \n",
              "</tr>\n",
              "<tr>\n",
              "  <th>Time:</th>                <td>16:35:02</td>     <th>  Log-Likelihood:    </th> <td> -944.60</td> \n",
              "</tr>\n",
              "<tr>\n",
              "  <th>converged:</th>             <td>True</td>       <th>  LL-Null:           </th> <td> -957.23</td> \n",
              "</tr>\n",
              "<tr>\n",
              "  <th>Covariance Type:</th>     <td>nonrobust</td>    <th>  LLR p-value:       </th> <td>4.982e-07</td>\n",
              "</tr>\n",
              "</table>\n",
              "<table class=\"simpletable\">\n",
              "<tr>\n",
              "      <td></td>         <th>coef</th>     <th>std err</th>      <th>z</th>      <th>P>|z|</th>  <th>[0.025</th>    <th>0.975]</th>  \n",
              "</tr>\n",
              "<tr>\n",
              "  <th>Intercept</th> <td>    0.9374</td> <td>    0.198</td> <td>    4.723</td> <td> 0.000</td> <td>    0.548</td> <td>    1.326</td>\n",
              "</tr>\n",
              "<tr>\n",
              "  <th>PCTFLOAN</th>  <td>   -1.5414</td> <td>    0.312</td> <td>   -4.945</td> <td> 0.000</td> <td>   -2.152</td> <td>   -0.930</td>\n",
              "</tr>\n",
              "</table>"
            ]
          },
          "metadata": {},
          "execution_count": 28
        }
      ]
    }
  ]
}